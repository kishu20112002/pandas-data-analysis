{
 "cells": [
  {
   "cell_type": "markdown",
   "id": "c8674b31-4246-48af-91f2-3fd1bd7181fa",
   "metadata": {},
   "source": [
    "# Pandas- Handling missing or NaN values"
   ]
  },
  {
   "cell_type": "markdown",
   "id": "bb3725ec-fb8a-4101-97bc-ed24258fcad9",
   "metadata": {},
   "source": [
    "# 1.NaN value\n",
    "- The full form of NaN is Not a Number\n",
    "- The purpose of NaN represent the missing values in Data\n",
    "- The Data type of NaN is float\n",
    "- While loading csv file if file having missing values then it will be considered  as NaN values.\n",
    "- During data Analysis we need to handle these NaN values\n",
    "      1. For example , suppose different users being surveyed may choose not to share their income some user may choose not to share the address in this way amny datasets went missing."
   ]
  },
  {
   "cell_type": "markdown",
   "id": "1186854a-ca79-442d-ac8d-70dc8510595c",
   "metadata": {},
   "source": [
    "# None and NaN\n",
    "- None : None is a python object which is holding nothing\n",
    "- NaN : NaN is a pandas related object which represents missing data"
   ]
  },
  {
   "cell_type": "markdown",
   "id": "18057ba5-b441-48e5-9f12-0e962ee450b6",
   "metadata": {},
   "source": [
    "## => Missing values\n",
    "- During Data Collection Data can be miss\n",
    "- This is very common Scenario\n",
    "- NaN\n",
    "- float"
   ]
  },
  {
   "cell_type": "markdown",
   "id": "b8033739-afc7-403b-b4e7-dcc2127dbb10",
   "metadata": {},
   "source": [
    "- python => Emptyvalue => None => Nonetype\n",
    "- pandas => missing values => NaN => float"
   ]
  },
  {
   "cell_type": "markdown",
   "id": "f5925905-995c-4789-810a-bfe947208f5a",
   "metadata": {},
   "source": [
    "# 2. Creating a DataFrame by loading csv    file\n",
    "- We can create DataFrame by loading csv file.\n",
    "- The given file.csv file having missing values\n",
    "- Kindly observe the missing / NaN values in DataFrame."
   ]
  },
  {
   "cell_type": "code",
   "execution_count": 24,
   "id": "879e01bc-7874-4681-a154-556df70958b5",
   "metadata": {},
   "outputs": [
    {
     "name": "stdout",
     "output_type": "stream",
     "text": [
      "<class 'pandas.core.frame.DataFrame'>\n",
      "RangeIndex: 50000 entries, 0 to 49999\n",
      "Data columns (total 5 columns):\n",
      " #   Column        Non-Null Count  Dtype  \n",
      "---  ------        --------------  -----  \n",
      " 0   Manufacturer  49955 non-null  object \n",
      " 1   Model         49940 non-null  object \n",
      " 2   Engine size   49960 non-null  float64\n",
      " 3   Fuel type     49919 non-null  object \n",
      " 4   Price         49950 non-null  float64\n",
      "dtypes: float64(2), object(3)\n",
      "memory usage: 1.9+ MB\n",
      "(50000, 5)\n",
      "**************************************************\n",
      "  Manufacturer Model  Engine size Fuel type    Price\n",
      "0         Ford   NaN          1.0    Petrol      NaN\n",
      "1          NaN   NaN          4.0    Petrol      NaN\n",
      "2          NaN   NaN          1.6       NaN  24072.0\n",
      "3       Toyota  RAV4          1.8       NaN   1705.0\n",
      "4           VW  Polo          1.0    Petrol   4101.0\n",
      "**************************************************\n",
      "      Manufacturer   Model  Engine size Fuel type     Price\n",
      "49995          BMW      M5          5.0       NaN  113006.0\n",
      "49996       Toyota   Prius          1.8       NaN    9430.0\n",
      "49997         Ford  Mondeo          1.6       NaN   49852.0\n",
      "49998         Ford   Focus          1.0    Diesel   23630.0\n",
      "49999           VW    Golf          1.4    Diesel   10400.0\n"
     ]
    }
   ],
   "source": [
    "import pandas as pd\n",
    "df=pd.read_csv(\"/Users/apple/Downloads/car_sales_data copy.csv\")\n",
    "df.info()\n",
    "print(df.shape)\n",
    "print(\"*\"*50)\n",
    "print(df.head())\n",
    "print(\"*\"*50)\n",
    "print(df.tail())"
   ]
  },
  {
   "cell_type": "markdown",
   "id": "cea507f6-8be2-4186-be38-eaa505d8d5d7",
   "metadata": {},
   "source": [
    "### 3. isna() and isnull() method - checkinhg NaN values\n",
    "- isna() and isnull() are a predefined methods in DataFrame\n",
    "- We can access these methods by using DataFrame object\n",
    "- By using these methods we can check missing values exist in DataFrame or not\n",
    "- if missing values are available then it returns as True , otherwise False"
   ]
  },
  {
   "cell_type": "code",
   "execution_count": 27,
   "id": "6a576637-b963-4d0e-8e2e-976a0b39d3fa",
   "metadata": {},
   "outputs": [
    {
     "name": "stdout",
     "output_type": "stream",
     "text": [
      "      Manufacturer   Model  Engine size Fuel type     Price\n",
      "0             Ford     NaN          1.0    Petrol       NaN\n",
      "1              NaN     NaN          4.0    Petrol       NaN\n",
      "2              NaN     NaN          1.6       NaN   24072.0\n",
      "3           Toyota    RAV4          1.8       NaN    1705.0\n",
      "4               VW    Polo          1.0    Petrol    4101.0\n",
      "...            ...     ...          ...       ...       ...\n",
      "49995          BMW      M5          5.0       NaN  113006.0\n",
      "49996       Toyota   Prius          1.8       NaN    9430.0\n",
      "49997         Ford  Mondeo          1.6       NaN   49852.0\n",
      "49998         Ford   Focus          1.0    Diesel   23630.0\n",
      "49999           VW    Golf          1.4    Diesel   10400.0\n",
      "\n",
      "[50000 rows x 5 columns]\n",
      "**************************************************\n",
      "       Manufacturer  Model  Engine size  Fuel type  Price\n",
      "0             False   True        False      False   True\n",
      "1              True   True        False      False   True\n",
      "2              True   True        False       True  False\n",
      "3             False  False        False       True  False\n",
      "4             False  False        False      False  False\n",
      "...             ...    ...          ...        ...    ...\n",
      "49995         False  False        False       True  False\n",
      "49996         False  False        False       True  False\n",
      "49997         False  False        False       True  False\n",
      "49998         False  False        False      False  False\n",
      "49999         False  False        False      False  False\n",
      "\n",
      "[50000 rows x 5 columns]\n",
      "**************************************************\n",
      "       Manufacturer  Model  Engine size  Fuel type  Price\n",
      "0             False   True        False      False   True\n",
      "1              True   True        False      False   True\n",
      "2              True   True        False       True  False\n",
      "3             False  False        False       True  False\n",
      "4             False  False        False      False  False\n",
      "...             ...    ...          ...        ...    ...\n",
      "49995         False  False        False       True  False\n",
      "49996         False  False        False       True  False\n",
      "49997         False  False        False       True  False\n",
      "49998         False  False        False      False  False\n",
      "49999         False  False        False      False  False\n",
      "\n",
      "[50000 rows x 5 columns]\n"
     ]
    }
   ],
   "source": [
    "import pandas as pd\n",
    "df=pd.read_csv(\"/Users/apple/Downloads/car_sales_data copy.csv\")\n",
    "print(df)\n",
    "print(\"*\"*50)\n",
    "print(df.isnull())\n",
    "print(\"*\"*50)\n",
    "print(df.isna())"
   ]
  },
  {
   "cell_type": "markdown",
   "id": "49f4b131-8179-4c14-88e8-47301bf5aa52",
   "metadata": {},
   "source": [
    "# Missing value\n",
    "- load the Dataset => DataFrame\n",
    "- Checking the misssing values => by using isna(),isnull()\n",
    "- handle missing values =>\n",
    "\n",
    "- ### df.isna() => if missing value => True\n",
    "-           =>  if Value existing => False"
   ]
  },
  {
   "cell_type": "code",
   "execution_count": 3,
   "id": "3ced0229-f011-4061-9592-dab7a4143962",
   "metadata": {},
   "outputs": [
    {
     "name": "stdout",
     "output_type": "stream",
     "text": [
      "<class 'pandas.core.frame.DataFrame'>\n",
      "RangeIndex: 50000 entries, 0 to 49999\n",
      "Data columns (total 5 columns):\n",
      " #   Column        Non-Null Count  Dtype  \n",
      "---  ------        --------------  -----  \n",
      " 0   Manufacturer  49955 non-null  object \n",
      " 1   Model         49940 non-null  object \n",
      " 2   Engine size   49960 non-null  float64\n",
      " 3   Fuel type     49919 non-null  object \n",
      " 4   Price         49950 non-null  float64\n",
      "dtypes: float64(2), object(3)\n",
      "memory usage: 1.9+ MB\n",
      "None\n",
      "**************************************************\n",
      "\n",
      "       Manufacturer  Model  Engine size  Fuel type  Price\n",
      "0             False   True        False      False   True\n",
      "1              True   True        False      False   True\n",
      "2              True   True        False       True  False\n",
      "3             False  False        False       True  False\n",
      "4             False  False        False      False  False\n",
      "...             ...    ...          ...        ...    ...\n",
      "49995         False  False        False       True  False\n",
      "49996         False  False        False       True  False\n",
      "49997         False  False        False       True  False\n",
      "49998         False  False        False      False  False\n",
      "49999         False  False        False      False  False\n",
      "\n",
      "[50000 rows x 5 columns]\n",
      "**************************************************\n",
      "=> if you want know number of missing values number  \n",
      "\n",
      "Manufacturer    45\n",
      "Model           60\n",
      "Engine size     40\n",
      "Fuel type       81\n",
      "Price           50\n",
      "dtype: int64\n"
     ]
    }
   ],
   "source": [
    "import pandas as pd\n",
    "df=pd.read_csv(\"/Users/apple/Downloads/car_sales_data copy.csv\")\n",
    "print(df.info())\n",
    "print(\"*\"*50)\n",
    "print()\n",
    "print(df.isna())\n",
    "print(\"*\"*50)\n",
    "print(\"=> if you want know number of missing values number  \")\n",
    "print()\n",
    "print(df.isna().sum())"
   ]
  },
  {
   "cell_type": "code",
   "execution_count": 110,
   "id": "dc10c25c-da0e-4cdf-bd73-eabd9535cb97",
   "metadata": {},
   "outputs": [
    {
     "name": "stdout",
     "output_type": "stream",
     "text": [
      "<class 'pandas.core.frame.DataFrame'>\n",
      "RangeIndex: 50000 entries, 0 to 49999\n",
      "Data columns (total 5 columns):\n",
      " #   Column        Non-Null Count  Dtype  \n",
      "---  ------        --------------  -----  \n",
      " 0   Manufacturer  49955 non-null  object \n",
      " 1   Model         49940 non-null  object \n",
      " 2   Engine size   49960 non-null  float64\n",
      " 3   Fuel type     49919 non-null  object \n",
      " 4   Price         49950 non-null  float64\n",
      "dtypes: float64(2), object(3)\n",
      "memory usage: 1.9+ MB\n",
      "None\n",
      "**************************************************\n",
      "Manufacturer    45\n",
      "Model           60\n",
      "Engine size     40\n",
      "Fuel type       81\n",
      "Price           50\n",
      "dtype: int64\n"
     ]
    }
   ],
   "source": [
    "import pandas as pd \n",
    "df=pd.read_csv(\"/Users/apple/Downloads/car_sales_data copy.csv\")\n",
    "print(df.info())\n",
    "print(\"*\"*50)\n",
    "df1=df.isna()\n",
    "print(df1.sum())"
   ]
  },
  {
   "cell_type": "markdown",
   "id": "593b5d90-c60e-4f95-98dd-b701423d981e",
   "metadata": {},
   "source": [
    "### 4. notnull() method - checking NaN values\n",
    "- notnull() is apredefined method in DataFrame\n",
    "- We can access this method by using DataFrame object\n",
    "- By using this method we can check missing Values exist in DataFrame or not\n",
    "- if missing Values are available then it return as False otherwise True"
   ]
  },
  {
   "cell_type": "code",
   "execution_count": 2,
   "id": "f4101434-d680-468b-be81-8004287bce19",
   "metadata": {},
   "outputs": [
    {
     "name": "stdout",
     "output_type": "stream",
     "text": [
      "  Manufacturer Model  Engine size Fuel type    Price\n",
      "0         Ford   NaN          1.0    Petrol      NaN\n",
      "1          NaN   NaN          4.0    Petrol      NaN\n",
      "2          NaN   NaN          1.6       NaN  24072.0\n",
      "3       Toyota  RAV4          1.8       NaN   1705.0\n",
      "4           VW  Polo          1.0    Petrol   4101.0\n",
      "       Manufacturer  Model  Engine size  Fuel type  Price\n",
      "0              True  False         True       True  False\n",
      "1             False  False         True       True  False\n",
      "2             False  False         True      False   True\n",
      "3              True   True         True      False   True\n",
      "4              True   True         True       True   True\n",
      "...             ...    ...          ...        ...    ...\n",
      "49995          True   True         True      False   True\n",
      "49996          True   True         True      False   True\n",
      "49997          True   True         True      False   True\n",
      "49998          True   True         True       True   True\n",
      "49999          True   True         True       True   True\n",
      "\n",
      "[50000 rows x 5 columns]\n"
     ]
    }
   ],
   "source": [
    "import pandas as pd\n",
    "df=pd.read_csv(\"/Users/apple/Downloads/car_sales_data copy.csv\")\n",
    "print(df.head())\n",
    "print(df.notnull())"
   ]
  },
  {
   "cell_type": "code",
   "execution_count": 4,
   "id": "6b0b77fe-ec48-4f52-8304-d69204b1a8ef",
   "metadata": {},
   "outputs": [
    {
     "name": "stdout",
     "output_type": "stream",
     "text": [
      "Manufacturer    0.090\n",
      "Model           0.120\n",
      "Engine size     0.080\n",
      "Fuel type       0.162\n",
      "Price           0.100\n",
      "dtype: float64\n"
     ]
    }
   ],
   "source": [
    "# counting the missing values in each column with percentage\n",
    "import pandas as pd\n",
    "df=pd.read_csv(\"/Users/apple/Downloads/car_sales_data copy.csv\")\n",
    "s=df.isna().sum()\n",
    "per=(s*100) / len(df)\n",
    "print(per)"
   ]
  },
  {
   "cell_type": "markdown",
   "id": "cd768043-d2b0-4fb4-be41-c438cedb4dbe",
   "metadata": {},
   "source": [
    "### 5. Counting NaN values in column wise\n",
    "- We can count number of missing values in DataFrame\n",
    "- by using isna() and sum() method we can count the number of missing values in each column "
   ]
  },
  {
   "cell_type": "code",
   "execution_count": 3,
   "id": "c4958c32-dd0e-4649-b4b0-6cf32dc8182b",
   "metadata": {},
   "outputs": [
    {
     "name": "stdout",
     "output_type": "stream",
     "text": [
      "Manufacturer    45\n",
      "Model           60\n",
      "Engine size     40\n",
      "Fuel type       81\n",
      "Price           50\n",
      "dtype: int64\n",
      "**************************************************\n",
      "Manufacturer    0\n",
      "Model           0\n",
      "Engine size     0\n",
      "Fuel type       0\n",
      "Price           0\n",
      "dtype: int64\n"
     ]
    }
   ],
   "source": [
    "import pandas as pd\n",
    "df=pd.read_csv(\"/Users/apple/Downloads/car_sales_data copy.csv\")\n",
    "print(df.isna().sum())\n",
    "print(\"*\"*50)\n",
    "df1=df.dropna()\n",
    "print(df1.isna().sum())"
   ]
  },
  {
   "cell_type": "code",
   "execution_count": 4,
   "id": "05cb86e9-6141-4eb8-a7ea-c43e2fc0c0ed",
   "metadata": {},
   "outputs": [
    {
     "name": "stdout",
     "output_type": "stream",
     "text": [
      "Manufacturer    0.090\n",
      "Model           0.120\n",
      "Engine size     0.080\n",
      "Fuel type       0.162\n",
      "Price           0.100\n",
      "dtype: float64\n"
     ]
    }
   ],
   "source": [
    "# counting the missing values in each column with percentage\n",
    "import pandas as pd\n",
    "df=pd.read_csv(\"/Users/apple/Downloads/car_sales_data copy.csv\")\n",
    "s=df.isna().sum()\n",
    "per=(s*100) / len(df)\n",
    "print(per)"
   ]
  },
  {
   "cell_type": "markdown",
   "id": "eaafc6f7-29ab-4808-8cdd-e355dc1514b2",
   "metadata": {},
   "source": [
    "## Realtime project\n",
    "1. load the DataFrame\n",
    "2. checking the missing values\n",
    "   - column wise count\n",
    "   - per wise\n",
    "3. if conditon\n",
    "   - no missing values in dataset\n",
    "   - lise is happy]\n",
    "   - we no need to handle\n",
    "-   else\n",
    "   - having missing values\n",
    "   - we need to lean\n",
    "   - how to handle missng...\n",
    "3. a) no missing values => no need to handle\n",
    "b) having missing values => learn how to handle"
   ]
  },
  {
   "cell_type": "markdown",
   "id": "2dc1c473-1bca-44e4-828f-a99273f4795e",
   "metadata": {},
   "source": [
    "# df methods\n",
    "- df.head()\n",
    "- df.tail()\n",
    "- df.info()\n",
    "- df.count()\n",
    "- df.describe()\n",
    "- df.nuniue()\n",
    "- df.rename()\n",
    "- df.isna()\n",
    "- df.isna().sum\n",
    "# handling missing value\n",
    "- df.dropna()  ---- imp 5*\n",
    "- df.fillna()  ---- imp 3*\n",
    "- df.replace()  ---- not imp"
   ]
  },
  {
   "cell_type": "markdown",
   "id": "0ee21e9b-22be-47cd-8a31-b1d61bbf5890",
   "metadata": {},
   "source": [
    "### 6.dropna() method - handling missing values\n",
    "- dropna() is a predefined method in DataFrame\n",
    "- We can access dropna() method by using DataFrame object\n",
    "- This method drops the rows where at least one value is missing "
   ]
  },
  {
   "cell_type": "code",
   "execution_count": 6,
   "id": "93b735bf-b4a4-44c9-88aa-9bd0d446029b",
   "metadata": {},
   "outputs": [
    {
     "name": "stdout",
     "output_type": "stream",
     "text": [
      "      Manufacturer   Model  Engine size Fuel type     Price\n",
      "0             Ford     NaN          1.0    Petrol       NaN\n",
      "1              NaN     NaN          4.0    Petrol       NaN\n",
      "2              NaN     NaN          1.6       NaN   24072.0\n",
      "3           Toyota    RAV4          1.8       NaN    1705.0\n",
      "4               VW    Polo          1.0    Petrol    4101.0\n",
      "...            ...     ...          ...       ...       ...\n",
      "49995          BMW      M5          5.0       NaN  113006.0\n",
      "49996       Toyota   Prius          1.8       NaN    9430.0\n",
      "49997         Ford  Mondeo          1.6       NaN   49852.0\n",
      "49998         Ford   Focus          1.0    Diesel   23630.0\n",
      "49999           VW    Golf          1.4    Diesel   10400.0\n",
      "\n",
      "[50000 rows x 5 columns]\n",
      "**************************************************\n",
      "<class 'pandas.core.frame.DataFrame'>\n",
      "RangeIndex: 50000 entries, 0 to 49999\n",
      "Data columns (total 5 columns):\n",
      " #   Column        Non-Null Count  Dtype  \n",
      "---  ------        --------------  -----  \n",
      " 0   Manufacturer  49955 non-null  object \n",
      " 1   Model         49940 non-null  object \n",
      " 2   Engine size   49960 non-null  float64\n",
      " 3   Fuel type     49919 non-null  object \n",
      " 4   Price         49950 non-null  float64\n",
      "dtypes: float64(2), object(3)\n",
      "memory usage: 1.9+ MB\n",
      "None\n",
      "**********************************************************************\n",
      "Manufacturer    45\n",
      "Model           60\n",
      "Engine size     40\n",
      "Fuel type       81\n",
      "Price           50\n",
      "dtype: int64\n",
      "______________________________________________________________________\n",
      "  Manufacturer  Model  Engine size Fuel type    Price\n",
      "0         Ford    NaN          1.0    Petrol      NaN\n",
      "1          NaN    NaN          4.0    Petrol      NaN\n",
      "2          NaN    NaN          1.6       NaN  24072.0\n",
      "3       Toyota   RAV4          1.8       NaN   1705.0\n",
      "4           VW   Polo          1.0    Petrol   4101.0\n",
      "5         Ford  Focus          1.4    Petrol  29204.0\n",
      "6         Ford    NaN          1.8    Diesel  14350.0\n",
      "7       Toyota  Prius          1.4    Hybrid  30297.0\n",
      "8           VW   Polo          1.2    Petrol   9977.0\n",
      "9         Ford  Focus          2.0    Diesel   1049.0\n",
      "\n",
      "**********************************************************************\n",
      " => dropna\n",
      "**********************************************************************\n",
      "      Manufacturer   Model  Engine size Fuel type    Price\n",
      "4               VW    Polo          1.0    Petrol   4101.0\n",
      "5             Ford   Focus          1.4    Petrol  29204.0\n",
      "7           Toyota   Prius          1.4    Hybrid  30297.0\n",
      "8               VW    Polo          1.2    Petrol   9977.0\n",
      "9             Ford   Focus          2.0    Diesel   1049.0\n",
      "...            ...     ...          ...       ...      ...\n",
      "49977           VW    Golf          1.4    Petrol  14083.0\n",
      "49982         Ford  Mondeo          2.0    Hybrid   6407.0\n",
      "49983           VW  Passat          1.8    Diesel   3987.0\n",
      "49998         Ford   Focus          1.0    Diesel  23630.0\n",
      "49999           VW    Golf          1.4    Diesel  10400.0\n",
      "\n",
      "[49787 rows x 5 columns]\n",
      "**********************************************************************\n",
      "<class 'pandas.core.frame.DataFrame'>\n",
      "Index: 49787 entries, 4 to 49999\n",
      "Data columns (total 5 columns):\n",
      " #   Column        Non-Null Count  Dtype  \n",
      "---  ------        --------------  -----  \n",
      " 0   Manufacturer  49787 non-null  object \n",
      " 1   Model         49787 non-null  object \n",
      " 2   Engine size   49787 non-null  float64\n",
      " 3   Fuel type     49787 non-null  object \n",
      " 4   Price         49787 non-null  float64\n",
      "dtypes: float64(2), object(3)\n",
      "memory usage: 2.3+ MB\n",
      "None\n",
      "----------------------------------------------------------------------\n",
      "Manufacturer    0\n",
      "Model           0\n",
      "Engine size     0\n",
      "Fuel type       0\n",
      "Price           0\n",
      "dtype: int64\n",
      "----------------------------------------------------------------------\n"
     ]
    }
   ],
   "source": [
    "# Dropping rows where NaN values existing \n",
    "import pandas as  pd\n",
    "df=pd.read_csv(\"/Users/apple/Downloads/car_sales_data copy.csv\")\n",
    "print(df)\n",
    "print(\"*\"*50)\n",
    "print(df.info())\n",
    "print(\"*\"*70)\n",
    "print(df.isna().sum())\n",
    "print(\"_\"*70)\n",
    "print(df.head(10))\n",
    "print()\n",
    "print(\"*\"*70)\n",
    "print(\" => dropna\")\n",
    "df=df.dropna()\n",
    "print(\"*\"*70)\n",
    "print(df)\n",
    "print(\"*\"*70)\n",
    "print(df.info())\n",
    "print(\"-\"*70)\n",
    "print(df.isna().sum())\n",
    "print(\"-\"*70)\n"
   ]
  },
  {
   "cell_type": "markdown",
   "id": "54a7e0a9-ae5d-4845-b1a7-5cd29753d182",
   "metadata": {},
   "source": [
    "# to check missing values\n",
    "- 3 type of methods\n",
    "  1. df.isna() => using in realtime\n",
    "  2. df.isnull() => not using in realtime\n",
    "  3. df.notnull() => not using in realtime "
   ]
  },
  {
   "cell_type": "code",
   "execution_count": null,
   "id": "7998c472-4dc3-4da1-ab3f-d62915f9082d",
   "metadata": {},
   "outputs": [],
   "source": [
    "import pandas as pd\n",
    "df=pd.read_csv(\"/Users/apple/Downloads/car_sales_data copy.csv\")\n",
    "print(df.isna().sum())\n",
    "print(\"*\"*50)\n",
    "df1=df.dropna()\n",
    "print(df1.isna().sum())"
   ]
  },
  {
   "cell_type": "code",
   "execution_count": 8,
   "id": "5143347c-b9b7-4dcc-80ce-fb32477e391f",
   "metadata": {},
   "outputs": [
    {
     "name": "stdout",
     "output_type": "stream",
     "text": [
      "Manufacturer    45\n",
      "Model           60\n",
      "Engine size     40\n",
      "Fuel type       81\n",
      "Price           50\n",
      "dtype: int64\n",
      "**************************************************\n",
      "Manufacturer    0\n",
      "Model           0\n",
      "Engine size     0\n",
      "Fuel type       0\n",
      "Price           0\n",
      "dtype: int64\n",
      "--------------------------------------------------\n",
      "      Manufacturer   Model  Engine size Fuel type    Price\n",
      "4               VW    Polo          1.0    Petrol   4101.0\n",
      "5             Ford   Focus          1.4    Petrol  29204.0\n",
      "7           Toyota   Prius          1.4    Hybrid  30297.0\n",
      "8               VW    Polo          1.2    Petrol   9977.0\n",
      "9             Ford   Focus          2.0    Diesel   1049.0\n",
      "...            ...     ...          ...       ...      ...\n",
      "49977           VW    Golf          1.4    Petrol  14083.0\n",
      "49982         Ford  Mondeo          2.0    Hybrid   6407.0\n",
      "49983           VW  Passat          1.8    Diesel   3987.0\n",
      "49998         Ford   Focus          1.0    Diesel  23630.0\n",
      "49999           VW    Golf          1.4    Diesel  10400.0\n",
      "\n",
      "[49787 rows x 5 columns]\n"
     ]
    }
   ],
   "source": [
    "import pandas as pd\n",
    "df=pd.read_csv(\"/Users/apple/Downloads/car_sales_data copy.csv\")\n",
    "print(df.isna().sum())\n",
    "print(\"*\"*50)\n",
    "df1=df.dropna()\n",
    "print(df1.isna().sum())\n",
    "print(\"-\"*50)\n",
    "print(df1)"
   ]
  },
  {
   "cell_type": "code",
   "execution_count": 11,
   "id": "7ae443b3-46b9-4187-9499-65bbecf67707",
   "metadata": {},
   "outputs": [
    {
     "name": "stdout",
     "output_type": "stream",
     "text": [
      "Manufacturer    0\n",
      "Model           0\n",
      "Engine size     0\n",
      "Fuel type       0\n",
      "Price           0\n",
      "dtype: int64\n"
     ]
    }
   ],
   "source": [
    "# Dropping rows where NaN values exiting and counting \n",
    "import pandas as pd\n",
    "df=pd.read_csv(\"/Users/apple/Downloads/car_sales_data copy.csv\")\n",
    "df1=df.dropna()\n",
    "print(df1.isna().sum())\n"
   ]
  },
  {
   "cell_type": "code",
   "execution_count": 19,
   "id": "ce825001-001a-4f89-8efa-6a5c4620c089",
   "metadata": {},
   "outputs": [
    {
     "name": "stdout",
     "output_type": "stream",
     "text": [
      "  Manufacturer  Model  Engine size Fuel type    Price\n",
      "0         Ford    NaN          1.0    Petrol      NaN\n",
      "1          NaN    NaN          4.0    Petrol      NaN\n",
      "2          NaN    NaN          1.6       NaN  24072.0\n",
      "3       Toyota   RAV4          1.8       NaN   1705.0\n",
      "4           VW   Polo          1.0    Petrol   4101.0\n",
      "5         Ford  Focus          1.4    Petrol  29204.0\n",
      "6         Ford    NaN          1.8    Diesel  14350.0\n",
      "7       Toyota  Prius          1.4    Hybrid  30297.0\n",
      "8           VW   Polo          1.2    Petrol   9977.0\n",
      "9         Ford  Focus          2.0    Diesel   1049.0\n",
      "**************************************************\n",
      "   Manufacturer  Model  Engine size Fuel type    Price\n",
      "4            VW   Polo          1.0    Petrol   4101.0\n",
      "5          Ford  Focus          1.4    Petrol  29204.0\n",
      "7        Toyota  Prius          1.4    Hybrid  30297.0\n",
      "8            VW   Polo          1.2    Petrol   9977.0\n",
      "9          Ford  Focus          2.0    Diesel   1049.0\n",
      "10           VW   Golf          2.0    Diesel  17173.0\n",
      "11          BMW     Z4          2.0    Petrol    719.0\n",
      "12           VW   Golf          1.2    Diesel   7792.0\n",
      "13       Toyota   RAV4          2.2    Petrol  16026.0\n",
      "14       Toyota  Yaris          1.4    Petrol   4046.0\n",
      "<class 'pandas.core.frame.DataFrame'>\n"
     ]
    }
   ],
   "source": [
    "# Converting float column type int datatype\n",
    "import pandas as pd\n",
    "df=pd.read_csv(\"/Users/apple/Downloads/car_sales_data copy.csv\")\n",
    "print(df.head(10))\n",
    "df1=df.dropna()\n",
    "print(\"*\"*50)\n",
    "print(df.head(10))\n",
    "\n"
   ]
  },
  {
   "cell_type": "code",
   "execution_count": 46,
   "id": "0be78a78-48dc-4501-9915-69a12dcec4d9",
   "metadata": {},
   "outputs": [
    {
     "name": "stdout",
     "output_type": "stream",
     "text": [
      "  Manufacturer  Model  Engine size Fuel type    Price\n",
      "0         Ford    NaN          1.0    Petrol      NaN\n",
      "1          NaN    NaN          4.0    Petrol      NaN\n",
      "2          NaN    NaN          1.6       NaN  24072.0\n",
      "3       Toyota   RAV4          1.8       NaN   1705.0\n",
      "4           VW   Polo          1.0    Petrol   4101.0\n",
      "5         Ford  Focus          1.4    Petrol  29204.0\n",
      "6         Ford    NaN          1.8    Diesel  14350.0\n",
      "7       Toyota  Prius          1.4    Hybrid  30297.0\n",
      "8           VW   Polo          1.2    Petrol   9977.0\n",
      "9         Ford  Focus          2.0    Diesel   1049.0\n",
      "_______________________________________________________\n",
      "   Manufacturer  Model  Engine size Fuel type    Price\n",
      "4            VW   Polo          1.0    Petrol   4101.0\n",
      "5          Ford  Focus          1.4    Petrol  29204.0\n",
      "7        Toyota  Prius          1.4    Hybrid  30297.0\n",
      "8            VW   Polo          1.2    Petrol   9977.0\n",
      "9          Ford  Focus          2.0    Diesel   1049.0\n",
      "10           VW   Golf          2.0    Diesel  17173.0\n",
      "11          BMW     Z4          2.0    Petrol    719.0\n",
      "12           VW   Golf          1.2    Diesel   7792.0\n",
      "13       Toyota   RAV4          2.2    Petrol  16026.0\n",
      "14       Toyota  Yaris          1.4    Petrol   4046.0\n",
      "**************************************************\n",
      "**************************************************\n",
      "      Manufacturer   Model  Engine size Fuel type    Price\n",
      "4               VW    Polo          1.0    Petrol   4101.0\n",
      "5             Ford   Focus          1.4    Petrol  29204.0\n",
      "7           Toyota   Prius          1.4    Hybrid  30297.0\n",
      "8               VW    Polo          1.2    Petrol   9977.0\n",
      "9             Ford   Focus          2.0    Diesel   1049.0\n",
      "...            ...     ...          ...       ...      ...\n",
      "49977           VW    Golf          1.4    Petrol  14083.0\n",
      "49982         Ford  Mondeo          2.0    Hybrid   6407.0\n",
      "49983           VW  Passat          1.8    Diesel   3987.0\n",
      "49998         Ford   Focus          1.0    Diesel  23630.0\n",
      "49999           VW    Golf          1.4    Diesel  10400.0\n",
      "\n",
      "[49787 rows x 5 columns]\n",
      "**************************************************\n",
      "Converting float column type to  int datatype \n",
      "         Price  Engine size\n",
      "4       4101.0          1.0\n",
      "5      29204.0          1.4\n",
      "7      30297.0          1.4\n",
      "8       9977.0          1.2\n",
      "9       1049.0          2.0\n",
      "...        ...          ...\n",
      "49977  14083.0          1.4\n",
      "49982   6407.0          2.0\n",
      "49983   3987.0          1.8\n",
      "49998  23630.0          1.0\n",
      "49999  10400.0          1.4\n",
      "\n",
      "[49787 rows x 2 columns]\n",
      "________________________________________\n",
      "       Price  Engine size\n",
      "4       4101            1\n",
      "5      29204            1\n",
      "7      30297            1\n",
      "8       9977            1\n",
      "9       1049            2\n",
      "...      ...          ...\n",
      "49977  14083            1\n",
      "49982   6407            2\n",
      "49983   3987            1\n",
      "49998  23630            1\n",
      "49999  10400            1\n",
      "\n",
      "[49787 rows x 2 columns]\n"
     ]
    }
   ],
   "source": [
    "#### Converting float column type int datatype\n",
    "import pandas as pd\n",
    "df=pd.read_csv('/Users/apple/Downloads/car_sales_data copy.csv')\n",
    "print(df.head(10))\n",
    "print(\"_\"*55)\n",
    "df1=df.dropna()\n",
    "df5=df1[[\"Price\",\"Engine size\"]]\n",
    "print(df1.head(10))\n",
    "print(\"*\"*50)\n",
    "print(\"*\"*50)\n",
    "print(df1)\n",
    "print(\"*\"*50)\n",
    "print(\"Converting float column type to  int datatype \")\n",
    "print(df5)\n",
    "print(\"_\"*40)\n",
    "df3=df1[[\"Price\",\"Engine size\"]]\n",
    "df4=df3.astype(int)\n",
    "print(df4)"
   ]
  },
  {
   "cell_type": "markdown",
   "id": "20fd605e-8c58-4f4a-b3c0-9ec3a8f163f8",
   "metadata": {},
   "source": [
    "# Handling missing values\n",
    "1. Get Dataset from client\n",
    "2. load the Dataset\n",
    "    - DataFrame\n",
    "    - apply method\n",
    "- loading the dataset\n",
    "- checking the missing values\n",
    "  - df.isna()\n",
    "  - df.isna().sum()\n",
    "- How to handle\n",
    "  - df.dropna()\n"
   ]
  },
  {
   "cell_type": "code",
   "execution_count": 50,
   "id": "8e3c2ffe-0bd9-459f-afa6-033153f1ad8f",
   "metadata": {},
   "outputs": [
    {
     "name": "stdout",
     "output_type": "stream",
     "text": [
      "  Manufacturer  Model  Engine size Fuel type    Price\n",
      "0         Ford    NaN          1.0    Petrol      NaN\n",
      "1          NaN    NaN          4.0    Petrol      NaN\n",
      "2          NaN    NaN          1.6       NaN  24072.0\n",
      "3       Toyota   RAV4          1.8       NaN   1705.0\n",
      "4           VW   Polo          1.0    Petrol   4101.0\n",
      "5         Ford  Focus          1.4    Petrol  29204.0\n",
      "6         Ford    NaN          1.8    Diesel  14350.0\n",
      "7       Toyota  Prius          1.4    Hybrid  30297.0\n",
      "8           VW   Polo          1.2    Petrol   9977.0\n",
      "9         Ford  Focus          2.0    Diesel   1049.0\n",
      "________________________________________\n",
      "Converting float column type to  int datatype \n",
      "________________________________________\n",
      "       Price  Engine size\n",
      "4       4101            1\n",
      "5      29204            1\n",
      "7      30297            1\n",
      "8       9977            1\n",
      "9       1049            2\n",
      "...      ...          ...\n",
      "49977  14083            1\n",
      "49982   6407            2\n",
      "49983   3987            1\n",
      "49998  23630            1\n",
      "49999  10400            1\n",
      "\n",
      "[49787 rows x 2 columns]\n"
     ]
    }
   ],
   "source": [
    "#### Converting float column type int datatype\n",
    "import pandas as pd\n",
    "df=pd.read_csv('/Users/apple/Downloads/car_sales_data copy.csv')\n",
    "print(df.head(10))\n",
    "print(\"_\"*40)\n",
    "print(\"Converting float column type to  int datatype \")\n",
    "print(\"_\"*40)\n",
    "df=df.dropna()\n",
    "df3=df[[\"Price\",\"Engine size\"]]\n",
    "df4=df3.astype(int)\n",
    "print(df4)"
   ]
  },
  {
   "cell_type": "markdown",
   "id": "54c390d6-8161-4e73-9f53-4470a3e08aa3",
   "metadata": {},
   "source": [
    "### 7. dropna(inplace = True) method handling missing vales\n",
    "- dropna(inplce = True ) is a predefined method in DataFrame\n",
    "- We can access this method by using DataFrame object\n",
    "- This method drop the rows and perform changes on existing DataFrame."
   ]
  },
  {
   "cell_type": "code",
   "execution_count": 59,
   "id": "c64e8a4c-8157-4f43-a3ba-217243a8c7c2",
   "metadata": {},
   "outputs": [
    {
     "name": "stdout",
     "output_type": "stream",
     "text": [
      "       Engine size   Price\n",
      "0              1.0    3074\n",
      "1              4.0   49704\n",
      "2              1.6   24072\n",
      "3              1.8    1705\n",
      "4              1.0    4101\n",
      "...            ...     ...\n",
      "49995          5.0  113006\n",
      "49996          1.8    9430\n",
      "49997          1.6   49852\n",
      "49998          1.0   23630\n",
      "49999          1.4   10400\n",
      "\n",
      "[50000 rows x 2 columns]\n"
     ]
    },
    {
     "name": "stderr",
     "output_type": "stream",
     "text": [
      "/var/folders/49/yg3wsvdd3f58h2tww9p8yrn80000gn/T/ipykernel_23238/2747709341.py:5: SettingWithCopyWarning: \n",
      "A value is trying to be set on a copy of a slice from a DataFrame\n",
      "\n",
      "See the caveats in the documentation: https://pandas.pydata.org/pandas-docs/stable/user_guide/indexing.html#returning-a-view-versus-a-copy\n",
      "  df1.dropna(inplace=True)\n"
     ]
    }
   ],
   "source": [
    "#(dropna() with inplace parameter)\n",
    "import pandas as pd\n",
    "df=pd.read_csv('/Users/apple/Downloads/car_sales_data.csv')\n",
    "df1=df[[\"Engine size\",\"Price\"]]\n",
    "df1.dropna(inplace=True)\n",
    "print(df1)"
   ]
  },
  {
   "cell_type": "markdown",
   "id": "5858d29c-4809-45c9-9868-48ee3ba92825",
   "metadata": {},
   "source": [
    "### 8.fillna() method - handling missing valuaes\n",
    "- fillna() is a predefined method in DataFrame\n",
    "- We can access this method by using DataFrame object\n",
    "- by using this method we can fill missing/NaN values with specific value.\n",
    "  1. fillna(0)=> This method fill NaN with Zero values\n",
    "  2. fillna(number)=> This method fill NaN with number"
   ]
  },
  {
   "cell_type": "code",
   "execution_count": 66,
   "id": "976cf562-a10d-45c9-a8c0-b09dd930faaf",
   "metadata": {},
   "outputs": [
    {
     "name": "stdout",
     "output_type": "stream",
     "text": [
      "      Manufacturer   Model  Engine size Fuel type     Price\n",
      "0             Ford     NaN          1.0    Petrol       NaN\n",
      "1              NaN     NaN          4.0    Petrol       NaN\n",
      "2              NaN     NaN          1.6       NaN   24072.0\n",
      "3           Toyota    RAV4          1.8       NaN    1705.0\n",
      "4               VW    Polo          1.0    Petrol    4101.0\n",
      "...            ...     ...          ...       ...       ...\n",
      "49995          BMW      M5          5.0       NaN  113006.0\n",
      "49996       Toyota   Prius          1.8       NaN    9430.0\n",
      "49997         Ford  Mondeo          1.6       NaN   49852.0\n",
      "49998         Ford   Focus          1.0    Diesel   23630.0\n",
      "49999           VW    Golf          1.4    Diesel   10400.0\n",
      "\n",
      "[50000 rows x 5 columns]\n",
      "**********************************************************************\n",
      "      Manufacturer   Model  Engine size Fuel type     Price\n",
      "0             Ford       0          1.0    Petrol       0.0\n",
      "1                0       0          4.0    Petrol       0.0\n",
      "2                0       0          1.6         0   24072.0\n",
      "3           Toyota    RAV4          1.8         0    1705.0\n",
      "4               VW    Polo          1.0    Petrol    4101.0\n",
      "...            ...     ...          ...       ...       ...\n",
      "49995          BMW      M5          5.0         0  113006.0\n",
      "49996       Toyota   Prius          1.8         0    9430.0\n",
      "49997         Ford  Mondeo          1.6         0   49852.0\n",
      "49998         Ford   Focus          1.0    Diesel   23630.0\n",
      "49999           VW    Golf          1.4    Diesel   10400.0\n",
      "\n",
      "[50000 rows x 5 columns]\n"
     ]
    }
   ],
   "source": [
    "import pandas as pd\n",
    "df=pd.read_csv('/Users/apple/Downloads/car_sales_data copy.csv')\n",
    "print(df)\n",
    "print(\"*\"*70)\n",
    "df1=df.fillna(0)\n",
    "print(df1)"
   ]
  },
  {
   "cell_type": "markdown",
   "id": "306da75e-365e-4ff5-a03f-6978823d4e26",
   "metadata": {},
   "source": [
    "# =>handling missing values        => we are taking help from methods\n",
    "1. df.isna()\n",
    "2. df.isna().sum()\n",
    "3. df.dropna()\n",
    "4. df.dropna(inplace=True)"
   ]
  },
  {
   "cell_type": "code",
   "execution_count": 71,
   "id": "10759519-da6e-4c5a-84a6-7e210bfec054",
   "metadata": {},
   "outputs": [
    {
     "name": "stdout",
     "output_type": "stream",
     "text": [
      "Manufacturer    45\n",
      "Model           60\n",
      "Engine size     40\n",
      "Fuel type       81\n",
      "Price           50\n",
      "dtype: int64\n",
      "**************************************************\n",
      "Manufacturer    0\n",
      "Model           0\n",
      "Engine size     0\n",
      "Fuel type       0\n",
      "Price           0\n",
      "dtype: int64\n"
     ]
    }
   ],
   "source": [
    "import pandas as pd\n",
    "df=pd.read_csv('/Users/apple/Downloads/car_sales_data copy.csv')\n",
    "print(df.isna().sum())\n",
    "df1=df\n",
    "df2=df1.fillna(0)\n",
    "print(\"*\"*50)\n",
    "print(df2.isna().sum())"
   ]
  },
  {
   "cell_type": "code",
   "execution_count": 83,
   "id": "550689ed-c835-49f2-a259-07a3a7d65b43",
   "metadata": {},
   "outputs": [
    {
     "name": "stdout",
     "output_type": "stream",
     "text": [
      "      Name   Age  Salary\n",
      "0    Rajan  26.0   40000\n",
      "1   Daniel  16.0   20000\n",
      "2    Veeru  45.0  900000\n",
      "3   Venkat   NaN  450000\n",
      "4  Sumanth  20.0  950000\n",
      "5    Shafi   NaN   97000\n",
      "**************************************************\n",
      "      Name   Age  Salary\n",
      "0    Rajan  26.0   40000\n",
      "1   Daniel  16.0   20000\n",
      "2    Veeru  45.0  900000\n",
      "3   Venkat  28.0  450000\n",
      "4  Sumanth  20.0  950000\n",
      "5    Shafi  28.0   97000\n"
     ]
    }
   ],
   "source": [
    "# Filling NAN values with specific Values\n",
    "import pandas as pd\n",
    "import numpy  as np\n",
    "data=[\n",
    "    [\"Rajan\",26,40000],\n",
    "    [\"Daniel\",16,20000],\n",
    "    [\"Veeru\",45,900000],\n",
    "    [\"Venkat\",None,450000],\n",
    "    [\"Sumanth\",20,950000],\n",
    "    [\"Shafi\",None,97000]\n",
    "]\n",
    "c=[\"Name\",\"Age\",\"Salary\"]\n",
    "df=pd.DataFrame(data,columns=c)\n",
    "print(df)\n",
    "print(\"*\"*50)\n",
    "df1=df.fillna(28)\n",
    "print(df1)"
   ]
  },
  {
   "cell_type": "code",
   "execution_count": 100,
   "id": "5cac6691-d412-4ffa-8f55-8b555bc8faf8",
   "metadata": {},
   "outputs": [
    {
     "name": "stdout",
     "output_type": "stream",
     "text": [
      "0    26.0\n",
      "1    16.0\n",
      "2    45.0\n",
      "3     NaN\n",
      "4    20.0\n",
      "5     NaN\n",
      "Name: Age, dtype: float64\n",
      "****************************************\n",
      "=> Sum =  107.0\n",
      "****************************************\n",
      "=> mean =  26.75\n",
      "****************************************\n",
      "=> median = 23.0\n",
      "****************************************\n",
      "      Name   Age  Salary\n",
      "0    Rajan  26.0   40000\n",
      "1   Daniel  16.0   20000\n",
      "2    Veeru  45.0  900000\n",
      "3   Venkat   NaN  450000\n",
      "4  Sumanth  20.0  950000\n",
      "5    Shafi   NaN   97000\n",
      "****************************************\n",
      "      Name   Age  Salary\n",
      "0    Rajan  26.0   40000\n",
      "1   Daniel  16.0   20000\n",
      "2    Veeru  45.0  900000\n",
      "3   Venkat  23.0  450000\n",
      "4  Sumanth  20.0  950000\n",
      "5    Shafi  23.0   97000\n"
     ]
    }
   ],
   "source": [
    "# Filling NAN values with specific Values\n",
    "import pandas as pd\n",
    "import numpy  as np\n",
    "data=[\n",
    "    [\"Rajan\",26,40000],\n",
    "    [\"Daniel\",16,20000],\n",
    "    [\"Veeru\",45,900000],\n",
    "    [\"Venkat\",None,450000],\n",
    "    [\"Sumanth\",20,950000],\n",
    "    [\"Shafi\",None,97000]\n",
    "]\n",
    "c=[\"Name\",\"Age\",\"Salary\"]\n",
    "df=pd.DataFrame(data,columns=c)\n",
    "df1=df\n",
    "print(df1[\"Age\"])\n",
    "print(\"*\"*40)\n",
    "print(\"=> Sum = \",df1[\"Age\"].sum())\n",
    "print(\"*\"*40)\n",
    "print(\"=> mean = \",df1[\"Age\"].mean())\n",
    "print(\"*\"*40)\n",
    "print(\"=> median =\",df1[\"Age\"].median())\n",
    "print(\"*\"*40)\n",
    "m=df1[\"Age\"].median()\n",
    "df2=df1.fillna(m)\n",
    "print(df1)\n",
    "print(\"*\"*40)\n",
    "print(df2)\n"
   ]
  },
  {
   "cell_type": "code",
   "execution_count": 106,
   "id": "727f28e5-2bbc-407e-bda5-9cacc3f0c27e",
   "metadata": {},
   "outputs": [
    {
     "name": "stdout",
     "output_type": "stream",
     "text": [
      "      Name  Age  Salary\n",
      "0    Rajan   26   40000\n",
      "1   Daniel   16   20000\n",
      "2    Veeru   45  900000\n",
      "3      NaN   23  450000\n",
      "4  Sumanth   20  950000\n",
      "5      NaN   23   97000\n",
      "****************************************\n",
      "      Name  Age  Salary\n",
      "0    Rajan   26   40000\n",
      "1   Daniel   16   20000\n",
      "2    Veeru   45  900000\n",
      "3  unknown   23  450000\n",
      "4  Sumanth   20  950000\n",
      "5  unknown   23   97000\n"
     ]
    }
   ],
   "source": [
    "# Filling NAN values with specific sstring \n",
    "import pandas as pd\n",
    "import numpy  as np\n",
    "data=[\n",
    "    [\"Rajan\",26,40000],\n",
    "    [\"Daniel\",16,20000],\n",
    "    [\"Veeru\",45,900000],\n",
    "    [np.nan,23,450000],\n",
    "    [\"Sumanth\",20,950000],\n",
    "    [np.nan,23,97000]\n",
    "]\n",
    "c=[\"Name\",\"Age\",\"Salary\"]\n",
    "df=pd.DataFrame(data,columns=c)\n",
    "print(df)\n",
    "df2=df.fillna(\"unknown\")\n",
    "print(\"*\"*40)\n",
    "print(df2)"
   ]
  },
  {
   "cell_type": "markdown",
   "id": "47c2888e-1aac-47bc-b016-4696dd4f4a06",
   "metadata": {},
   "source": [
    "# =>handling missing values        => we are taking help from methods\n",
    "1. df.isna()\n",
    "2. df.isna().sum()\n",
    "3. df.dropna()\n",
    "4. df.dropna(inplace=True)\n",
    "5. df.[\"Age\"].mean(),median(),sum========df.Age.mean()====df.Age.median\n",
    "6. df.fillna()"
   ]
  },
  {
   "cell_type": "code",
   "execution_count": 109,
   "id": "2b9118e1-9f18-4d89-931b-83bb67babfe2",
   "metadata": {},
   "outputs": [
    {
     "name": "stdout",
     "output_type": "stream",
     "text": [
      "      Name   Age  Salary\n",
      "0    Rajan   NaN   40000\n",
      "1   Daniel  16.0   20000\n",
      "2    Veeru  45.0  900000\n",
      "3   Venkat   NaN  450000\n",
      "4  Sumanth  20.0  950000\n",
      "5    Shafi   NaN   97000\n",
      "******************************\n",
      "      Name   Age  Salary\n",
      "0    Rajan   0.0   40000\n",
      "1   Daniel  16.0   20000\n",
      "2    Veeru  45.0  900000\n",
      "3   Venkat   0.0  450000\n",
      "4  Sumanth  20.0  950000\n",
      "5    Shafi   0.0   97000\n"
     ]
    }
   ],
   "source": [
    "import pandas as pd\n",
    "import numpy  as np\n",
    "data=[\n",
    "    [\"Rajan\",np.nan,40000],\n",
    "    [\"Daniel\",16,20000],\n",
    "    [\"Veeru\",45,900000],\n",
    "    [\"Venkat\",np.nan,450000],\n",
    "    [\"Sumanth\",20,950000],\n",
    "    [\"Shafi\",np.nan,97000]\n",
    "]\n",
    "c=[\"Name\",\"Age\",\"Salary\"]\n",
    "df=pd.DataFrame(data,columns=c)\n",
    "df1=df\n",
    "df2=df.replace(np.nan,0)\n",
    "print(df1)\n",
    "print(\"*\"*30)\n",
    "print(df2)"
   ]
  },
  {
   "cell_type": "markdown",
   "id": "1cae8d25-6495-47fa-8ae3-2d22d256d9df",
   "metadata": {},
   "source": [
    "# summary\n",
    "- df => name of the dataFrame\n",
    "- df.drop()\n",
    "- df.fillna()\n",
    "- df.replace(p1,p2)"
   ]
  },
  {
   "cell_type": "code",
   "execution_count": null,
   "id": "0b23ebfa-28ab-430d-9f18-4b0e1f08b568",
   "metadata": {},
   "outputs": [],
   "source": []
  }
 ],
 "metadata": {
  "kernelspec": {
   "display_name": "Python [conda env:base] *",
   "language": "python",
   "name": "conda-base-py"
  },
  "language_info": {
   "codemirror_mode": {
    "name": "ipython",
    "version": 3
   },
   "file_extension": ".py",
   "mimetype": "text/x-python",
   "name": "python",
   "nbconvert_exporter": "python",
   "pygments_lexer": "ipython3",
   "version": "3.13.5"
  }
 },
 "nbformat": 4,
 "nbformat_minor": 5
}
