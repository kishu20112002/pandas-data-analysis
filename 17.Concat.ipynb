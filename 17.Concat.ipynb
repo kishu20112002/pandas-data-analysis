{
 "cells": [
  {
   "cell_type": "markdown",
   "id": "7980e971-e48c-4aba-ac82-2bd300802089",
   "metadata": {},
   "source": [
    "# DataFrame - Concat"
   ]
  },
  {
   "cell_type": "code",
   "execution_count": 1,
   "id": "4b6b47da-d369-4acb-b842-1c1ea06c8d17",
   "metadata": {},
   "outputs": [
    {
     "name": "stdout",
     "output_type": "stream",
     "text": [
      "Kishan kumar gouda \n"
     ]
    }
   ],
   "source": [
    "# menas\n",
    "first_name=\"Kishan kumar\"\n",
    "last_name=\" gouda \"\n",
    "full_name=first_name+last_name\n",
    "print(full_name)"
   ]
  },
  {
   "cell_type": "markdown",
   "id": "6c8b99c2-698a-457b-a451-3e37316a6434",
   "metadata": {},
   "source": [
    "### 1. Introduction\n",
    "- Based on Requirement we can add/ concatenate onr DataFrame with another DataFrame "
   ]
  },
  {
   "cell_type": "markdown",
   "id": "263bfd2c-36a5-40ad-a52e-08586a3615da",
   "metadata": {},
   "source": [
    "### 2. Concat(p)\n",
    "- Concat(p) is predefined Function in pandas package\n",
    "- We should access this function by using pandas library name\n",
    "- Ths function concatenate on DataFrame to another DataFrame "
   ]
  },
  {
   "cell_type": "code",
   "execution_count": 21,
   "id": "194195a7-fe5a-452b-b145-a2a2eeceb5d0",
   "metadata": {},
   "outputs": [
    {
     "name": "stdout",
     "output_type": "stream",
     "text": [
      "    A   B\n",
      "0  11  12\n",
      "1  21  22\n",
      "     A    B\n",
      "0   51   52\n",
      "1  101  102\n"
     ]
    }
   ],
   "source": [
    "# Creating DataFrame\n",
    "import pandas as pd\n",
    "d1=[[11,12],[21,22]]\n",
    "d2=[[51,52],[101,102]]\n",
    "cols=[\"A\",\"B\"]\n",
    "df1=pd.DataFrame(d1 ,columns=cols)\n",
    "df2=pd.DataFrame(d2, columns=cols)\n",
    "print(df1)\n",
    "print(df2)"
   ]
  },
  {
   "cell_type": "code",
   "execution_count": 20,
   "id": "b89fcd8c-31a1-4a17-abb8-3b16b98fc341",
   "metadata": {},
   "outputs": [
    {
     "name": "stdout",
     "output_type": "stream",
     "text": [
      "[    A   B\n",
      "0  11  12\n",
      "1  21  22,      A    B\n",
      "0   51   52\n",
      "1  101  102]\n"
     ]
    }
   ],
   "source": [
    "# using list\n",
    "import pandas as pd\n",
    "d1=[[11,12],[21,22]]\n",
    "d2=[[51,52],[101,102]]\n",
    "cols=[\"A\",\"B\"]\n",
    "df1=pd.DataFrame(d1 ,columns=cols)\n",
    "df2=pd.DataFrame(d2, columns=cols)\n",
    "list=[df1,df2]\n",
    "print(list)"
   ]
  },
  {
   "cell_type": "code",
   "execution_count": 29,
   "id": "509c152d-c2f4-4f81-8b13-692a92b8c784",
   "metadata": {},
   "outputs": [
    {
     "name": "stdout",
     "output_type": "stream",
     "text": [
      "    A   B\n",
      "0  11  12\n",
      "1  21  22\n",
      "\n",
      "     A    B\n",
      "0   51   52\n",
      "1  101  102\n",
      "\n",
      "     A    B\n",
      "0   11   12\n",
      "1   21   22\n",
      "0   51   52\n",
      "1  101  102\n"
     ]
    }
   ],
   "source": [
    "# using concat , concatenating one DataFrame to another DataFrame\n",
    "import pandas as pd\n",
    "d1=[[11,12],[21,22]]\n",
    "d2=[[51,52],[101,102]]\n",
    "cols=[\"A\",\"B\"]\n",
    "df1=pd.DataFrame(d1 ,columns=cols)\n",
    "df2=pd.DataFrame(d2, columns=cols)\n",
    "list=[df1,df2]\n",
    "r=pd.concat(list)\n",
    "print(df1)\n",
    "print()\n",
    "print(df2)\n",
    "print()\n",
    "print(r)"
   ]
  },
  {
   "cell_type": "code",
   "execution_count": 27,
   "id": "11d8e62e-318e-475d-a0c2-03d0e3e003ef",
   "metadata": {},
   "outputs": [
    {
     "name": "stdout",
     "output_type": "stream",
     "text": [
      "    A   B\n",
      "0  11  12\n",
      "1  21  22\n",
      "\n",
      "     A    B\n",
      "0   51   52\n",
      "1  101  102\n",
      "\n",
      "     A    B\n",
      "0   11   12\n",
      "1   21   22\n",
      "2   51   52\n",
      "3  101  102\n"
     ]
    }
   ],
   "source": [
    "# using concat  and ignore index\n",
    "import pandas as pd\n",
    "d1=[[11,12],[21,22]]\n",
    "d2=[[51,52],[101,102]]\n",
    "cols=[\"A\",\"B\"]\n",
    "df1=pd.DataFrame(d1 ,columns=cols)\n",
    "df2=pd.DataFrame(d2, columns=cols)\n",
    "list=[df1,df2]\n",
    "r=pd.concat(list,ignore_index=True ) #   => concat function take list as a perameter\n",
    "print(df1)\n",
    "print()\n",
    "print(df2)\n",
    "print()\n",
    "print(r)"
   ]
  },
  {
   "cell_type": "code",
   "execution_count": 32,
   "id": "013708b9-1145-4e7c-8918-ef846cb98fec",
   "metadata": {},
   "outputs": [
    {
     "name": "stdout",
     "output_type": "stream",
     "text": [
      "    A   B\n",
      "0  11  12\n",
      "1  21  22\n",
      "\n",
      "    A   B\n",
      "0  31  32\n",
      "1  41  42\n",
      "2  51  52\n",
      "\n",
      "    A   B\n",
      "0  11  12\n",
      "1  21  22\n",
      "0  31  32\n",
      "1  41  42\n",
      "2  51  52\n"
     ]
    }
   ],
   "source": [
    "import pandas as pd\n",
    "d1=[[11,12],[21,22]]\n",
    "d2=[[31,32],[41,42],[51,52]]\n",
    "cols=[\"A\",\"B\"]\n",
    "df1=pd.DataFrame(d1,columns=cols)\n",
    "df2=pd.DataFrame(d2,columns=cols)\n",
    "print(df1)\n",
    "print()\n",
    "print(df2)\n",
    "list=[df1,df2]\n",
    "r=pd.concat(list)\n",
    "print()\n",
    "print(r)"
   ]
  },
  {
   "cell_type": "code",
   "execution_count": 33,
   "id": "fb38506a-c1b2-4f3a-be78-e39916e2b108",
   "metadata": {},
   "outputs": [
    {
     "name": "stdout",
     "output_type": "stream",
     "text": [
      "    A   B\n",
      "0  11  12\n",
      "1  21  22\n",
      "\n",
      "    A   B\n",
      "0  31  32\n",
      "1  41  42\n",
      "2  51  52\n",
      "\n",
      "    A   B\n",
      "0  11  12\n",
      "1  21  22\n",
      "2  31  32\n",
      "3  41  42\n",
      "4  51  52\n"
     ]
    }
   ],
   "source": [
    "# ignore index\n",
    "import pandas as pd\n",
    "d1=[[11,12],[21,22]]\n",
    "d2=[[31,32],[41,42],[51,52]]\n",
    "cols=[\"A\",\"B\"]\n",
    "df1=pd.DataFrame(d1,columns=cols)\n",
    "df2=pd.DataFrame(d2,columns=cols)\n",
    "print(df1)\n",
    "print()\n",
    "print(df2)\n",
    "list=[df1,df2]\n",
    "r=pd.concat(list,ignore_index=True)\n",
    "print()\n",
    "print(r)"
   ]
  },
  {
   "cell_type": "code",
   "execution_count": 37,
   "id": "b60125f6-e984-4997-baab-16b25e8c7473",
   "metadata": {},
   "outputs": [
    {
     "name": "stdout",
     "output_type": "stream",
     "text": [
      "    A   B\n",
      "0  11  12\n",
      "1  21  22\n",
      "\n",
      "    X   Y\n",
      "0  31  32\n",
      "1  41  42\n",
      "2  51  52\n",
      "\n",
      "      A     B     X     Y\n",
      "0  11.0  12.0   NaN   NaN\n",
      "1  21.0  22.0   NaN   NaN\n",
      "2   NaN   NaN  31.0  32.0\n",
      "3   NaN   NaN  41.0  42.0\n",
      "4   NaN   NaN  51.0  52.0\n"
     ]
    }
   ],
   "source": [
    "# concatenating one DataFrame to another DataFrame with two column names\n",
    "import pandas as pd\n",
    "d1=[[11,12],[21,22]]\n",
    "d2=[[31,32],[41,42],[51,52]]\n",
    "c1=[\"A\",\"B\"]\n",
    "c2=[\"X\",\"Y\"]\n",
    "df1=pd.DataFrame(d1,columns=c1)\n",
    "df2=pd.DataFrame(d2,columns=c2)\n",
    "print(df1)\n",
    "print()\n",
    "print(df2)\n",
    "print()\n",
    "list=[df1,df2]\n",
    "df3=pd.concat(list , ignore_index=True)\n",
    "print(df3)"
   ]
  },
  {
   "cell_type": "markdown",
   "id": "8af584d2-4f9e-4555-be82-794a97b3a57d",
   "metadata": {},
   "source": [
    "# axis = takes two values\n",
    "- 1 => coloumn\n",
    "- 0 => rows"
   ]
  },
  {
   "cell_type": "code",
   "execution_count": 41,
   "id": "0a938d92-0024-47ee-8406-8d6a8c5b3160",
   "metadata": {},
   "outputs": [
    {
     "name": "stdout",
     "output_type": "stream",
     "text": [
      "    A   B\n",
      "0  11  12\n",
      "1  21  22\n",
      "\n",
      "    X   Y\n",
      "0  31  32\n",
      "1  41  42\n",
      "2  51  52\n",
      "\n",
      "      A     B   X   Y\n",
      "0  11.0  12.0  31  32\n",
      "1  21.0  22.0  41  42\n",
      "2   NaN   NaN  51  52\n"
     ]
    }
   ],
   "source": [
    "# axis\n",
    "import pandas as pd\n",
    "d1=[[11,12],[21,22]]\n",
    "d2=[[31,32],[41,42],[51,52]]\n",
    "c1=[\"A\",\"B\"]\n",
    "c2=[\"X\",\"Y\"]\n",
    "df1=pd.DataFrame(d1,columns=c1)\n",
    "df2=pd.DataFrame(d2,columns=c2)\n",
    "print(df1)\n",
    "print()\n",
    "print(df2)\n",
    "print()\n",
    "list=[df1,df2]\n",
    "df3=pd.concat(list , axis=1)   \n",
    "print(df3)"
   ]
  },
  {
   "cell_type": "code",
   "execution_count": 43,
   "id": "d2ec315b-28d1-4bd1-a27a-e367de9b045f",
   "metadata": {},
   "outputs": [
    {
     "name": "stdout",
     "output_type": "stream",
     "text": [
      "    A   B\n",
      "0  11  12\n",
      "1  21  22\n",
      "\n",
      "    X   Y\n",
      "0  31  32\n",
      "1  41  42\n",
      "2  51  52\n",
      "\n",
      "      A     B   X   Y\n",
      "0  11.0  12.0  31  32\n",
      "1  21.0  22.0  41  42\n",
      "2   NaN   NaN  51  52\n"
     ]
    }
   ],
   "source": [
    "# axis\n",
    "import pandas as pd\n",
    "d1=[[11,12],[21,22]]\n",
    "d2=[[31,32],[41,42],[51,52]]\n",
    "c1=[\"A\",\"B\"]\n",
    "c2=[\"X\",\"Y\"]\n",
    "df1=pd.DataFrame(d1,columns=c1)\n",
    "df2=pd.DataFrame(d2,columns=c2)\n",
    "print(df1)\n",
    "print()\n",
    "print(df2)\n",
    "print()\n",
    "list=[df1,df2]\n",
    "df3=pd.concat(list , axis=1)   \n",
    "print(df3)"
   ]
  },
  {
   "cell_type": "code",
   "execution_count": null,
   "id": "4588829f-3535-47a6-b87a-6bb47b4d58bc",
   "metadata": {},
   "outputs": [],
   "source": []
  }
 ],
 "metadata": {
  "kernelspec": {
   "display_name": "Python [conda env:base] *",
   "language": "python",
   "name": "conda-base-py"
  },
  "language_info": {
   "codemirror_mode": {
    "name": "ipython",
    "version": 3
   },
   "file_extension": ".py",
   "mimetype": "text/x-python",
   "name": "python",
   "nbconvert_exporter": "python",
   "pygments_lexer": "ipython3",
   "version": "3.13.5"
  }
 },
 "nbformat": 4,
 "nbformat_minor": 5
}
