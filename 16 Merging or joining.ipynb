{
 "cells": [
  {
   "cell_type": "markdown",
   "id": "6a853201-71d9-42e5-a53c-07a042439dc5",
   "metadata": {},
   "source": [
    "# Dataframe - Merging or Joining"
   ]
  },
  {
   "cell_type": "raw",
   "id": "3f42b0c2-6729-4653-8283-375aab57bee1",
   "metadata": {},
   "source": [
    "- Joining/Merging => Belong =>  - Database(query)\n",
    "- software\n",
    "- to store the data\n",
    "- tables\n",
    "\n",
    "- Joining/Merging => belong => Pandas\n",
    "- two DataFrames"
   ]
  },
  {
   "cell_type": "markdown",
   "id": "aa4e7b88-bc00-4bf0-bea8-17121d6b934e",
   "metadata": {},
   "source": [
    "### 1. Introduction \n",
    "- By using pandas we can perform join operations as well\n",
    "- This is same as join operations in database.\n",
    "- Here we are preforming join in between the dataframes\n",
    "- joining is the process of brining two DataFrame into one DataFrame based on common attributes in columns "
   ]
  },
  {
   "cell_type": "markdown",
   "id": "06e8a5d4-87cc-480d-a81e-15fc13372fd8",
   "metadata": {},
   "source": [
    "### 2.Merge(p1,p2,p3,p4) Function\n",
    "- Merge(p1,p2,p3,p4) is a predefined function in pandas.\n",
    "  1. pd.merge(df1,df2 on =\"column\", how = \"type of join\")\n",
    "- We should access this function by using pandas libary\n",
    "- By using this function we can perform join operations over DataFrames"
   ]
  },
  {
   "cell_type": "markdown",
   "id": "f9992981-7fbd-49f4-8363-cf88f1c9e6cf",
   "metadata": {},
   "source": [
    "## 'how' Argument\n",
    "- The how argument helps to specify then type of join\n",
    "  "
   ]
  },
  {
   "cell_type": "markdown",
   "id": "59e9f7c4-9181-4346-a62b-2b49b08b3ba7",
   "metadata": {},
   "source": [
    "### 3. Type of joins\n",
    "- Inner Merge / Inner join\n",
    "- Left Merge / Left outer join\n",
    "- Right Merge / Right outer join\n",
    "- Outer Merge / Full outer join "
   ]
  },
  {
   "cell_type": "markdown",
   "id": "3d050db6-21b2-4603-b001-467efafcd0f4",
   "metadata": {},
   "source": [
    "### 3.1 Inner join \n",
    "- We can perform inner join on DataFrame\n",
    "- This inner join is a kind of  intersection means,it keeps the common data"
   ]
  },
  {
   "cell_type": "code",
   "execution_count": 3,
   "id": "1af1db98-8a79-4a66-a074-b24cc451b2a4",
   "metadata": {},
   "outputs": [
    {
     "name": "stdout",
     "output_type": "stream",
     "text": [
      "a,b = 5,6\n"
     ]
    }
   ],
   "source": [
    "a=[2,3,4,5,6,77,8]\n",
    "b=[90,5,6,23,21,43,67]\n",
    "# intersection means common value or common data   are inner join\n",
    "print(\"a,b = 5,6\")"
   ]
  },
  {
   "cell_type": "markdown",
   "id": "c727714a-54cb-4570-86c2-e57fdd380309",
   "metadata": {},
   "source": [
    "### Merge(df1,df2 on =\"column\",how=\"type\")\n",
    "- merge(df1,df2,on=\"coloumn\",how=\"type\") is predefined function in pandas\n",
    "- To perform inner join , we need to pass how values as \"ineer\" as per the syntax"
   ]
  },
  {
   "cell_type": "code",
   "execution_count": null,
   "id": "6bab9f89-a3a5-4318-b9af-45f2929a9053",
   "metadata": {},
   "outputs": [],
   "source": [
    "# syntax \n",
    "pd.merge(df1,df2, on=\"column_name\",how=\"inner\")"
   ]
  },
  {
   "cell_type": "code",
   "execution_count": 6,
   "id": "80cbade1-1e4a-42fe-bc47-92955a256e8b",
   "metadata": {},
   "outputs": [
    {
     "name": "stdout",
     "output_type": "stream",
     "text": [
      "     name  age\n",
      "0  kishan   22\n",
      "1    pika   43\n",
      "2   firoj   54\n",
      "**************************************************\n",
      "     name  age  rollno\n",
      "0  kishan   22    1233\n",
      "1    raja   54     543\n",
      "2   firoj   54     565\n",
      "********************\n",
      "     name  age_x  age_y  rollno\n",
      "0  kishan     22     22    1233\n",
      "1   firoj     54     54     565\n"
     ]
    }
   ],
   "source": [
    "#inner join => getting commom in two DataFrame\n",
    "import pandas as pd\n",
    "b={\n",
    "    \"name\":[\"kishan\",\"pika\",\"firoj\"],\n",
    "    \"age\":[22,43,54]\n",
    "}\n",
    "df1=pd.DataFrame(b)\n",
    "print(df1)\n",
    "d={\n",
    "    \"name\":[\"kishan\",\"raja\",\"firoj\"],\n",
    "    \"age\":[22,54,54],\n",
    "    \"rollno\":[1233,543,565]\n",
    "}\n",
    "df2=pd.DataFrame(d)\n",
    "print(\"*\"*50)\n",
    "print(df2)\n",
    "\n",
    "df3=pd.merge(df1, df2, on=\"name\",how=\"inner\")\n",
    "print(\"*\"*20)\n",
    "print(df3)"
   ]
  },
  {
   "cell_type": "code",
   "execution_count": 15,
   "id": "677c9af9-0c3d-4aaf-a05c-1bb84b7a6ce3",
   "metadata": {},
   "outputs": [
    {
     "name": "stdout",
     "output_type": "stream",
     "text": [
      "     name  age\n",
      "0  kishan   22\n",
      "1    pika   43\n",
      "2   firoj   54\n",
      "**************************************************\n",
      "     name  age  rollno\n",
      "0  kishan   22    1233\n",
      "1    raja   54     543\n",
      "2   firoj   54     565\n",
      "**************************************************\n",
      "     name  age_x  age_y  rollno\n",
      "0  kishan     22     22    1233\n",
      "1   firoj     54     54     565\n"
     ]
    }
   ],
   "source": [
    "#inner join\n",
    "\n",
    "import pandas as pd\n",
    "\n",
    "# First DataFrame\n",
    "b = {\n",
    "    \"name\": [\"kishan\", \"pika\", \"firoj\"],\n",
    "    \"age\": [22, 43, 54]\n",
    "}\n",
    "df1 = pd.DataFrame(b)\n",
    "print(df1)\n",
    "\n",
    "# Second DataFrame\n",
    "d = {\n",
    "    \"name\": [\"kishan\", \"raja\", \"firoj\"],\n",
    "    \"age\": [22, 54, 54],\n",
    "    \"rollno\": [1233, 543, 565]\n",
    "}\n",
    "df2 = pd.DataFrame(d)\n",
    "print(\"*\" * 50)\n",
    "print(df2)\n",
    "\n",
    "# Merge on the 'name' column using inner join\n",
    "df3 = pd.merge(df1, df2, on=\"name\", how=\"inner\")\n",
    "print(\"*\" * 50)\n",
    "print(df3)\n"
   ]
  },
  {
   "cell_type": "code",
   "execution_count": 21,
   "id": "adce6cbe-4e88-476a-bab8-ed9eefa18813",
   "metadata": {},
   "outputs": [
    {
     "name": "stdout",
     "output_type": "stream",
     "text": [
      "     name  age\n",
      "0  kishan   22\n",
      "1    pika   43\n",
      "2   firoj   54\n",
      "**************************************************\n",
      "     name  age  rollno\n",
      "0  kishan   22    1233\n",
      "1    raja   54     543\n",
      "2   firoj   54     565\n",
      "**************************************************\n",
      "     name  age_x  age_y  rollno\n",
      "0  kishan     22     22    1233\n",
      "1   firoj     54     54     565\n"
     ]
    }
   ],
   "source": [
    "#inner join\n",
    "\n",
    "b = {\n",
    "    \"name\": [\"kishan\", \"pika\", \"firoj\"],\n",
    "    \"age\": [22, 43, 54]\n",
    "}\n",
    "df1 = pd.DataFrame(b)\n",
    "print(df1)\n",
    "\n",
    "# Second DataFrame\n",
    "d = {\n",
    "    \"name\": [\"kishan\", \"raja\", \"firoj\"],\n",
    "    \"age\": [22, 54, 54],\n",
    "    \"rollno\": [1233, 543, 565]\n",
    "}\n",
    "df2 = pd.DataFrame(d)\n",
    "print(\"*\" * 50)\n",
    "print(df2)\n",
    "df3=pd.merge(df1,df2,on=\"name\",how=\"inner\")\n",
    "print(\"*\" * 50)\n",
    "print(df3)"
   ]
  },
  {
   "cell_type": "code",
   "execution_count": 32,
   "id": "eb187c58-5783-4bb1-99f3-3e4dc8391c6a",
   "metadata": {},
   "outputs": [
    {
     "name": "stdout",
     "output_type": "stream",
     "text": [
      "   id        name  subject\n",
      "0   1     pradhan  english\n",
      "1   2        venu     java\n",
      "2   3   madhurima     html\n",
      "3   4  nireekshan   python\n",
      "4   5       shafi        c\n",
      "5   6       veeru  dot net\n",
      "**************************************************\n",
      "   id     name  subject\n",
      "0  11    srinu     java\n",
      "1  12  sumanth     html\n",
      "2  13  neelima      cpp\n",
      "3  14   daniel   python\n",
      "4  15    srjun        c\n",
      "5  16    veeru  dot not\n",
      "**************************************************\n",
      "   id_x      name_x subject  id_y   name_y\n",
      "0     2        venu    java    11    srinu\n",
      "1     3   madhurima    html    12  sumanth\n",
      "2     4  nireekshan  python    14   daniel\n",
      "3     5       shafi       c    15    srjun\n"
     ]
    }
   ],
   "source": [
    "#inner join\n",
    "\n",
    "import pandas as pd\n",
    "b = {\n",
    "    \"id\": [ 1, 2, 3, 4, 5, 6],\n",
    "    \"name\": [\"pradhan\",\"venu\",\"madhurima\",\"nireekshan\",\"shafi\",\"veeru\",],\n",
    "    \"subject\": [\"english\",\"java\",\"html\",\"python\",\"c\",\"dot net\"],\n",
    "    \n",
    "}\n",
    "df1 = pd.DataFrame(b)\n",
    "print(df1)\n",
    "\n",
    "# Second DataFrame\n",
    "d = {\n",
    "    \"id\": [11,12,13,14,15,16],\n",
    "    \"name\": [\"srinu\",\"sumanth\",\"neelima\",\"daniel\",\"srjun\",\"veeru\"],\n",
    "    \"subject\": [\"java\",\"html\",\"cpp\",\"python\",\"c\",\"dot not\"]\n",
    "    \n",
    "}\n",
    "df2 = pd.DataFrame(d)\n",
    "print(\"*\" * 50)\n",
    "print(df2)\n",
    "print(\"*\" * 50)\n",
    "\n",
    "df3=pd.merge(\n",
    "    df1,\n",
    "    df2,\n",
    "    on=\"subject\",\n",
    "    how=\"inner\"\n",
    ")\n",
    "print(df3)"
   ]
  },
  {
   "cell_type": "code",
   "execution_count": 5,
   "id": "400c3df1-e99a-4f53-b7f4-fa866f391fea",
   "metadata": {},
   "outputs": [
    {
     "name": "stdout",
     "output_type": "stream",
     "text": [
      "first DataFrame\n",
      "   id        name  subject\n",
      "0   1     pradhan  english\n",
      "1   2        venu     java\n",
      "2   3   madhurima     html\n",
      "3   4  nireekshan   python\n",
      "4   5       shafi        c\n",
      "5   6       veeru  dot net\n",
      "**************************************************\n",
      "second DataFrame\n",
      "   id     name  subject\n",
      "0  11    srinu     java\n",
      "1  12  sumanth     html\n",
      "2  13  neelima      cpp\n",
      "3  14   daniel   python\n",
      "4  15    srjun        c\n",
      "5  16    veeru  dot not\n",
      "**************************************************\n",
      "thie DataFrame\n",
      "   id_x   name subject_x  id_y subject_y\n",
      "0     6  veeru   dot net    16   dot not\n"
     ]
    }
   ],
   "source": [
    "#inner join\n",
    "\n",
    "import pandas as pd\n",
    "\n",
    "# First DataFrame\n",
    "b = {\n",
    "    \"id\": [1, 2, 3, 4, 5, 6],\n",
    "    \"name\": [\"pradhan\", \"venu\", \"madhurima\", \"nireekshan\", \"shafi\", \"veeru\"],\n",
    "    \"subject\": [\"english\", \"java\", \"html\", \"python\", \"c\", \"dot net\"]\n",
    "}\n",
    "df1 = pd.DataFrame(b)\n",
    "print(\"first DataFrame\")\n",
    "print(df1)\n",
    "\n",
    "print(\"*\" * 50)\n",
    "\n",
    "# Second DataFrame\n",
    "d = {\n",
    "    \"id\": [11, 12, 13, 14, 15, 16],\n",
    "    \"name\": [\"srinu\", \"sumanth\", \"neelima\", \"daniel\", \"srjun\", \"veeru\"],\n",
    "    \"subject\": [\"java\", \"html\", \"cpp\", \"python\", \"c\", \"dot not\"]\n",
    "}\n",
    "df2 = pd.DataFrame(d)\n",
    "print(\"second DataFrame\")\n",
    "print(df2)\n",
    "\n",
    "print(\"*\" * 50)\n",
    "\n",
    "# Merging DataFrames on 'subject'\n",
    "df3 = pd.merge(df1, df2, on=\"name\", how=\"inner\")\n",
    "print(\"thie DataFrame\")\n",
    "print(df3)\n",
    "\n"
   ]
  },
  {
   "cell_type": "markdown",
   "id": "ef9560b9-9183-44c0-9008-b87ace32125b",
   "metadata": {},
   "source": [
    "### 3.2 left join\n",
    "- Keep every row in left DataFramed\n",
    "- Where there are missing values of the \"on\"  Variable in the right DataFrame filled with NaN values in the result"
   ]
  },
  {
   "cell_type": "code",
   "execution_count": 10,
   "id": "ecd97e59-f2ac-4807-8782-c9045c683689",
   "metadata": {},
   "outputs": [
    {
     "name": "stdout",
     "output_type": "stream",
     "text": [
      "first DataFrame\n",
      "   id        name  subject\n",
      "0   1     pradhan  english\n",
      "1   2        venu     java\n",
      "2   3   madhurima     html\n",
      "3   4  nireekshan   python\n",
      "4   5       shafi        c\n",
      "5   6       veeru  dot net\n",
      "**************************************************\n",
      "second DataFrame\n",
      "   id     name  subject\n",
      "0  11    srinu     java\n",
      "1  12  sumanth     html\n",
      "2  13  neelima      cpp\n",
      "3  14   daniel   python\n",
      "4  15    srjun        c\n",
      "5  16    veeru  dot net\n",
      "**************************************************\n",
      "   id_x      name_x  subject  id_y   name_y\n",
      "0     1     pradhan  english   NaN      NaN\n",
      "1     2        venu     java  11.0    srinu\n",
      "2     3   madhurima     html  12.0  sumanth\n",
      "3     4  nireekshan   python  14.0   daniel\n",
      "4     5       shafi        c  15.0    srjun\n",
      "5     6       veeru  dot net  16.0    veeru\n"
     ]
    }
   ],
   "source": [
    "#left join\n",
    "import pandas as pd\n",
    "\n",
    "# First DataFrame\n",
    "b = {\n",
    "    \"id\": [1, 2, 3, 4, 5, 6],\n",
    "    \"name\": [\"pradhan\", \"venu\", \"madhurima\", \"nireekshan\", \"shafi\", \"veeru\"],\n",
    "    \"subject\": [\"english\", \"java\", \"html\", \"python\", \"c\", \"dot net\"]\n",
    "}\n",
    "df1 = pd.DataFrame(b)\n",
    "print(\"first DataFrame\")\n",
    "print(df1)\n",
    "\n",
    "print(\"*\" * 50)\n",
    "\n",
    "# Second DataFrame\n",
    "d = {\n",
    "    \"id\": [11, 12, 13, 14, 15, 16],\n",
    "    \"name\": [\"srinu\", \"sumanth\", \"neelima\", \"daniel\", \"srjun\", \"veeru\"],\n",
    "    \"subject\": [\"java\", \"html\", \"cpp\", \"python\", \"c\", \"dot net\"]\n",
    "}\n",
    "df2 = pd.DataFrame(d)\n",
    "print(\"second DataFrame\")\n",
    "print(df2)\n",
    "\n",
    "print(\"*\" * 50)\n",
    "\n",
    "# Merging DataFrames on 'subject'\n",
    "df3=pd.merge(df1,df2, on=\"subject\",how=\"left\")\n",
    "print(df3)"
   ]
  },
  {
   "cell_type": "code",
   "execution_count": 11,
   "id": "edb09406-2b2e-41af-9480-afeeed616818",
   "metadata": {},
   "outputs": [
    {
     "name": "stdout",
     "output_type": "stream",
     "text": [
      "first DataFrame\n",
      "   id        name  subject\n",
      "0   1     pradhan  english\n",
      "1   2        venu     java\n",
      "2   3   madhurima     html\n",
      "3   4  nireekshan   python\n",
      "4   5       shafi        c\n",
      "5   6       veeru  dot net\n",
      "**************************************************\n",
      "second DataFrame\n",
      "   id     name  subject\n",
      "0  11    srinu     java\n",
      "1  12  sumanth     html\n",
      "2  13  neelima      cpp\n",
      "3  14   daniel   python\n",
      "4  15    srjun        c\n",
      "5  16    veeru  dot net\n",
      "**************************************************\n",
      "   id_x        name subject_x  id_y subject_y\n",
      "0     1     pradhan   english   NaN       NaN\n",
      "1     2        venu      java   NaN       NaN\n",
      "2     3   madhurima      html   NaN       NaN\n",
      "3     4  nireekshan    python   NaN       NaN\n",
      "4     5       shafi         c   NaN       NaN\n",
      "5     6       veeru   dot net  16.0   dot net\n"
     ]
    }
   ],
   "source": [
    "\n",
    "import pandas as pd\n",
    "\n",
    "# First DataFrame\n",
    "b = {\n",
    "    \"id\": [1, 2, 3, 4, 5, 6],\n",
    "    \"name\": [\"pradhan\", \"venu\", \"madhurima\", \"nireekshan\", \"shafi\", \"veeru\"],\n",
    "    \"subject\": [\"english\", \"java\", \"html\", \"python\", \"c\", \"dot net\"]\n",
    "}\n",
    "df1 = pd.DataFrame(b)\n",
    "print(\"first DataFrame\")\n",
    "print(df1)\n",
    "\n",
    "print(\"*\" * 50)\n",
    "\n",
    "# Second DataFrame\n",
    "d = {\n",
    "    \"id\": [11, 12, 13, 14, 15, 16],\n",
    "    \"name\": [\"srinu\", \"sumanth\", \"neelima\", \"daniel\", \"srjun\", \"veeru\"],\n",
    "    \"subject\": [\"java\", \"html\", \"cpp\", \"python\", \"c\", \"dot net\"]\n",
    "}\n",
    "df2 = pd.DataFrame(d)\n",
    "print(\"second DataFrame\")\n",
    "print(df2)\n",
    "\n",
    "print(\"*\" * 50)\n",
    "\n",
    "# Merging DataFrames on 'subject'\n",
    "df3=pd.merge(df1,df2, on=\"name\",how=\"left\")\n",
    "print(df3)"
   ]
  },
  {
   "cell_type": "markdown",
   "id": "a55c0839-4801-4a62-a869-53f331a8a05e",
   "metadata": {},
   "source": [
    "### 3.3 Right join\n",
    "- keep every row in the right DataFrame\n",
    "- Where there are missing values of the \"on \" variable in the left column filled with NaN values in the result"
   ]
  },
  {
   "cell_type": "code",
   "execution_count": 16,
   "id": "965fe7aa-be53-4bd2-a113-fc3592505739",
   "metadata": {},
   "outputs": [
    {
     "name": "stdout",
     "output_type": "stream",
     "text": [
      "first DataFrame\n",
      "   id        name  subject\n",
      "0   1     pradhan  english\n",
      "1   2        venu     java\n",
      "2   3   madhurima     html\n",
      "3   4  nireekshan   python\n",
      "4   5       shafi        c\n",
      "5   6       veeru  dot net\n",
      "**************************************************\n",
      "second DataFrame\n",
      "   id     name  subject\n",
      "0  11    srinu     java\n",
      "1  12  sumanth     html\n",
      "2  13  neelima      cpp\n",
      "3  14   daniel   python\n",
      "4  15    srjun        c\n",
      "5  16    veeru  dot net\n",
      "**************************************************\n",
      "   id_x      name_x  subject  id_y   name_y\n",
      "0   2.0        venu     java    11    srinu\n",
      "1   3.0   madhurima     html    12  sumanth\n",
      "2   NaN         NaN      cpp    13  neelima\n",
      "3   4.0  nireekshan   python    14   daniel\n",
      "4   5.0       shafi        c    15    srjun\n",
      "5   6.0       veeru  dot net    16    veeru\n"
     ]
    }
   ],
   "source": [
    "# right join\n",
    "import pandas as pd\n",
    "\n",
    "# First DataFrame\n",
    "b = {\n",
    "    \"id\": [1, 2, 3, 4, 5, 6],\n",
    "    \"name\": [\"pradhan\", \"venu\", \"madhurima\", \"nireekshan\", \"shafi\", \"veeru\"],\n",
    "    \"subject\": [\"english\", \"java\", \"html\", \"python\", \"c\", \"dot net\"]\n",
    "}\n",
    "df1 = pd.DataFrame(b)\n",
    "print(\"first DataFrame\")\n",
    "print(df1)\n",
    "\n",
    "print(\"*\" * 50)\n",
    "\n",
    "# Second DataFrame\n",
    "d = {\n",
    "    \"id\": [11, 12, 13, 14, 15, 16],\n",
    "    \"name\": [\"srinu\", \"sumanth\", \"neelima\", \"daniel\", \"srjun\", \"veeru\"],\n",
    "    \"subject\": [\"java\", \"html\", \"cpp\", \"python\", \"c\", \"dot net\"]\n",
    "}\n",
    "df2 = pd.DataFrame(d)\n",
    "print(\"second DataFrame\")\n",
    "print(df2)\n",
    "\n",
    "print(\"*\" * 50)\n",
    "\n",
    "# Merging DataFrames on 'subject'\n",
    "df3=pd.merge( df1, df2, on=\"subject\" ,how=\"right\")\n",
    "print(df3)"
   ]
  },
  {
   "cell_type": "markdown",
   "id": "bcb3098d-fde2-451e-8ea6-b16270554613",
   "metadata": {},
   "source": [
    "### 3.4 Outer Merge / Full outer join \n",
    "- A full outer join returns all rows from the left and right DataFrame\n",
    "- Where there is no common Data there it well be fills with NaN values\n",
    "  "
   ]
  },
  {
   "cell_type": "code",
   "execution_count": 21,
   "id": "f5a50373-f261-49b2-8af4-31e71e520f96",
   "metadata": {},
   "outputs": [
    {
     "name": "stdout",
     "output_type": "stream",
     "text": [
      "first DataFrame\n",
      "   id        name  subject\n",
      "0   1     pradhan  english\n",
      "1   2        venu     java\n",
      "2   3   madhurima     html\n",
      "3   4  nireekshan   python\n",
      "4   5       shafi        c\n",
      "5   6       veeru  dot net\n",
      "**************************************************\n",
      "second DataFrame\n",
      "   id     name  subject\n",
      "0  11    srinu     java\n",
      "1  12  sumanth     html\n",
      "2  13  neelima      cpp\n",
      "3  14   daniel   python\n",
      "4  15    srjun        c\n",
      "5  16    veeru  dot net\n",
      "**************************************************\n",
      "   id_x      name_x  subject  id_y   name_y\n",
      "0   5.0       shafi        c  15.0    srjun\n",
      "1   NaN         NaN      cpp  13.0  neelima\n",
      "2   6.0       veeru  dot net  16.0    veeru\n",
      "3   1.0     pradhan  english   NaN      NaN\n",
      "4   3.0   madhurima     html  12.0  sumanth\n",
      "5   2.0        venu     java  11.0    srinu\n",
      "6   4.0  nireekshan   python  14.0   daniel\n"
     ]
    }
   ],
   "source": [
    "# Oter merge\n",
    "import pandas as pd\n",
    "\n",
    "# First DataFrame\n",
    "b = {\n",
    "    \"id\": [1, 2, 3, 4, 5, 6],\n",
    "    \"name\": [\"pradhan\", \"venu\", \"madhurima\", \"nireekshan\", \"shafi\", \"veeru\"],\n",
    "    \"subject\": [\"english\", \"java\", \"html\", \"python\", \"c\", \"dot net\"]\n",
    "}\n",
    "df1 = pd.DataFrame(b)\n",
    "print(\"first DataFrame\")\n",
    "print(df1)\n",
    "\n",
    "print(\"*\" * 50)\n",
    "\n",
    "# Second DataFrame\n",
    "d = {\n",
    "    \"id\": [11, 12, 13, 14, 15, 16],\n",
    "    \"name\": [\"srinu\", \"sumanth\", \"neelima\", \"daniel\", \"srjun\", \"veeru\"],\n",
    "    \"subject\": [\"java\", \"html\", \"cpp\", \"python\", \"c\", \"dot net\"]\n",
    "}\n",
    "df2 = pd.DataFrame(d)\n",
    "print(\"second DataFrame\")\n",
    "print(df2)\n",
    "\n",
    "print(\"*\" * 50)\n",
    "\n",
    "# Merging DataFrames on 'subject'\n",
    "df3=pd.merge(df1,df2, on=\"subject\",how=\"outer\")\n",
    "print(df3)"
   ]
  },
  {
   "cell_type": "markdown",
   "id": "22bc6af8-0938-40f4-b03c-4b3486828d42",
   "metadata": {},
   "source": [
    "### 4 Other type of joins\n",
    "- One to One\n",
    "- many to one\n",
    "- many to many"
   ]
  },
  {
   "cell_type": "code",
   "execution_count": null,
   "id": "f4f4b945-bfd1-48a9-bd7f-6596d7a48dff",
   "metadata": {},
   "outputs": [],
   "source": []
  }
 ],
 "metadata": {
  "kernelspec": {
   "display_name": "Python [conda env:base] *",
   "language": "python",
   "name": "conda-base-py"
  },
  "language_info": {
   "codemirror_mode": {
    "name": "ipython",
    "version": 3
   },
   "file_extension": ".py",
   "mimetype": "text/x-python",
   "name": "python",
   "nbconvert_exporter": "python",
   "pygments_lexer": "ipython3",
   "version": "3.13.5"
  }
 },
 "nbformat": 4,
 "nbformat_minor": 5
}
