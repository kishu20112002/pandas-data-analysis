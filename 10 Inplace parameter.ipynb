{
 "cells": [
  {
   "cell_type": "markdown",
   "id": "f18c1083-9ce0-463d-b04d-b3db184dc28a",
   "metadata": {},
   "source": [
    "# DataFrame  -  INPLACE - PARAMETER"
   ]
  },
  {
   "cell_type": "code",
   "execution_count": 10,
   "id": "c85f73de-369d-43fd-ab96-b4124d8c46c7",
   "metadata": {},
   "outputs": [
    {
     "name": "stdout",
     "output_type": "stream",
     "text": [
      "           ddt  weekly_sales  tempercher  fule_price\n",
      "0     05/02/10    1223434.45       42.31       2.572\n",
      "1     12/02/10    1641957.44       38.51       2.548\n",
      "2     19/02/10    1611968.17       39.93       2.514\n",
      "3     26/02/10    1409727.59       46.63       2.561\n",
      "4     05/03/10    1554806.68       46.50       2.625\n",
      "...        ...           ...         ...         ...\n",
      "6430  28/09/12     713173.95       64.88       3.997\n",
      "6431  05/10/12     733455.07       64.89       3.985\n",
      "6432  12/10/12     734464.36       54.47       4.000\n",
      "6433  19/10/12     718125.53       56.47       3.969\n",
      "6434  26/10/12     760281.43       58.85       3.882\n",
      "\n",
      "[6435 rows x 4 columns]\n",
      "**************************************************\n",
      "       Date  Weekly_Sales  Tempercher  Fule_price\n",
      "0  05/02/10    1223434.45       42.31       2.572\n",
      "1  12/02/10    1641957.44       38.51       2.548\n",
      "2  19/02/10    1611968.17       39.93       2.514\n",
      "3  26/02/10    1409727.59       46.63       2.561\n",
      "4  05/03/10    1554806.68       46.50       2.625\n",
      "**************************************************\n",
      "<class 'pandas.core.frame.DataFrame'>\n",
      "RangeIndex: 6435 entries, 0 to 6434\n",
      "Data columns (total 4 columns):\n",
      " #   Column        Non-Null Count  Dtype  \n",
      "---  ------        --------------  -----  \n",
      " 0   ddt           6435 non-null   object \n",
      " 1   weekly_sales  6435 non-null   float64\n",
      " 2   tempercher    6434 non-null   float64\n",
      " 3   fule_price    6434 non-null   float64\n",
      "dtypes: float64(3), object(1)\n",
      "memory usage: 201.2+ KB\n",
      "None\n"
     ]
    }
   ],
   "source": [
    "import pandas as pd\n",
    "df=pd.read_csv('/Users/apple/Downloads/Walmart_Sales copy.csv')\n",
    "print(df)\n",
    "d={\n",
    "    \"ddt\":\"Date\",\n",
    "    \"weekly_sales\":\"Weekly_Sales\",\n",
    "    \"tempercher\":\"Tempercher\",\n",
    "    \"fule_price\":\"Fule_price\"\n",
    "}\n",
    "print(\"*\"*50)\n",
    "df1=df.rename(columns=d)\n",
    "print(df1.head())\n",
    "df1.shape\n",
    "print(\"*\"*50)\n",
    "print(df.info())    # check the memory use"
   ]
  },
  {
   "cell_type": "markdown",
   "id": "bb3547ec-234b-4b98-8637-36d5f316fd89",
   "metadata": {},
   "source": [
    "### 1. The inplace parameter\n",
    "- inplace is a parameter for DataFrame method like\n",
    "   1. rename(p,inplace)\n",
    "   2. drop(p,inplce)\n",
    "   3. sort_values(p,inplace)\n",
    "   4. set_index(p,inplace)etc\n",
    "- This inplace parameter accepets two values\n",
    "  1. inplace = False means it cannot overwise the exisiting DataFrame\n",
    "  2. inplace = True means it can overwise the exisiting DataFrame\n",
    "     "
   ]
  },
  {
   "cell_type": "markdown",
   "id": "c21d1ef4-9a7d-4555-a0ed-c841ba2afcdd",
   "metadata": {},
   "source": [
    "### => simple words\n",
    "- In-place means that you should update the original instead of creating new object"
   ]
  },
  {
   "cell_type": "markdown",
   "id": "3564b44e-529d-4b1e-8229-dac1e386176d",
   "metadata": {},
   "source": [
    "### 2. rename(p) method - without inplace parameter\n",
    "- rename(p) is predefined method in DataFrame\n",
    "- We can access rename() method by using DataFrame objet\n",
    "- We can even change multiple column names by using rename(p) method"
   ]
  },
  {
   "cell_type": "code",
   "execution_count": 15,
   "id": "549dca21-c498-4240-8d90-1f070c87cbf0",
   "metadata": {},
   "outputs": [
    {
     "name": "stdout",
     "output_type": "stream",
     "text": [
      "           ddt  weekly_sales  tempercher  fule_price\n",
      "0     05/02/10    1223434.45       42.31       2.572\n",
      "1     12/02/10    1641957.44       38.51       2.548\n",
      "2     19/02/10    1611968.17       39.93       2.514\n",
      "3     26/02/10    1409727.59       46.63       2.561\n",
      "4     05/03/10    1554806.68       46.50       2.625\n",
      "...        ...           ...         ...         ...\n",
      "6430  28/09/12     713173.95       64.88       3.997\n",
      "6431  05/10/12     733455.07       64.89       3.985\n",
      "6432  12/10/12     734464.36       54.47       4.000\n",
      "6433  19/10/12     718125.53       56.47       3.969\n",
      "6434  26/10/12     760281.43       58.85       3.882\n",
      "\n",
      "[6435 rows x 4 columns]\n",
      "**************************************************\n",
      "       Date  Weekly_Sales  Tempercher  Fule_price\n",
      "0  05/02/10    1223434.45       42.31       2.572\n",
      "1  12/02/10    1641957.44       38.51       2.548\n",
      "2  19/02/10    1611968.17       39.93       2.514\n",
      "3  26/02/10    1409727.59       46.63       2.561\n",
      "4  05/03/10    1554806.68       46.50       2.625\n"
     ]
    }
   ],
   "source": [
    "# rename(p) method - without inplace parameter\n",
    "import pandas as pd\n",
    "df=pd.read_csv('/Users/apple/Downloads/Walmart_Sales copy.csv')\n",
    "print(df)\n",
    "d={\n",
    "    \"ddt\":\"Date\",\n",
    "    \"weekly_sales\":\"Weekly_Sales\",\n",
    "    \"tempercher\":\"Tempercher\",\n",
    "    \"fule_price\":\"Fule_price\"\n",
    "}\n",
    "print(\"*\"*50)\n",
    "df1=df.rename(columns=d)\n",
    "print(df1.head())"
   ]
  },
  {
   "cell_type": "markdown",
   "id": "914c9b25-7e3c-4dee-9006-92627dd6d060",
   "metadata": {},
   "source": [
    "### 3. rename(p) method - with inplace parameter \n",
    "- rename(p , inplace = True) is a predefind method in DataFrame.\n",
    "- We can provide inplace parameter to rename(p,inplace = True) method\n",
    "-   # imp if same one ask what is inplace parameter then you should ans this \n",
    "- If we provide inplace parameter then directly changes will be apply on original DataFrame\n",
    "- whenever if we apply inplace = True then it should update the original DataFrame instead of creating new DataFrame "
   ]
  },
  {
   "cell_type": "code",
   "execution_count": 3,
   "id": "9082a58e-973f-479c-87ec-ad61c0a98d5a",
   "metadata": {},
   "outputs": [
    {
     "name": "stdout",
     "output_type": "stream",
     "text": [
      "           ddt  weekly_sales  tempercher  fule_price\n",
      "0     05/02/10    1223434.45       42.31       2.572\n",
      "1     12/02/10    1641957.44       38.51       2.548\n",
      "2     19/02/10    1611968.17       39.93       2.514\n",
      "3     26/02/10    1409727.59       46.63       2.561\n",
      "4     05/03/10    1554806.68       46.50       2.625\n",
      "...        ...           ...         ...         ...\n",
      "6430  28/09/12     713173.95       64.88       3.997\n",
      "6431  05/10/12     733455.07       64.89       3.985\n",
      "6432  12/10/12     734464.36       54.47       4.000\n",
      "6433  19/10/12     718125.53       56.47       3.969\n",
      "6434  26/10/12     760281.43       58.85       3.882\n",
      "\n",
      "[6435 rows x 4 columns]\n",
      "**************************************************\n",
      "       Date  Weekly_Sales  Tempercher  Fule_price\n",
      "0  05/02/10    1223434.45       42.31       2.572\n",
      "1  12/02/10    1641957.44       38.51       2.548\n",
      "2  19/02/10    1611968.17       39.93       2.514\n",
      "3  26/02/10    1409727.59       46.63       2.561\n",
      "4  05/03/10    1554806.68       46.50       2.625\n"
     ]
    }
   ],
   "source": [
    "import pandas as pd\n",
    "df=pd.read_csv('/Users/apple/Downloads/Walmart_Sales copy.csv')\n",
    "print(df)\n",
    "d={\n",
    "    \"ddt\":\"Date\",\n",
    "    \"weekly_sales\":\"Weekly_Sales\",\n",
    "    \"tempercher\":\"Tempercher\",\n",
    "    \"fule_price\":\"Fule_price\"\n",
    "}\n",
    "print(\"*\"*50)\n",
    "df.rename(columns=d,inplace=True)\n",
    "print(df.head())"
   ]
  },
  {
   "cell_type": "code",
   "execution_count": null,
   "id": "9741d266-1b9c-4498-afda-367a6c75c275",
   "metadata": {},
   "outputs": [],
   "source": []
  }
 ],
 "metadata": {
  "kernelspec": {
   "display_name": "Python [conda env:base] *",
   "language": "python",
   "name": "conda-base-py"
  },
  "language_info": {
   "codemirror_mode": {
    "name": "ipython",
    "version": 3
   },
   "file_extension": ".py",
   "mimetype": "text/x-python",
   "name": "python",
   "nbconvert_exporter": "python",
   "pygments_lexer": "ipython3",
   "version": "3.13.5"
  }
 },
 "nbformat": 4,
 "nbformat_minor": 5
}
