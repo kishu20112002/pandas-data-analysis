{
 "cells": [
  {
   "cell_type": "markdown",
   "id": "d420d64a-58a6-4682-abd4-f0706ff36890",
   "metadata": {},
   "source": [
    "# Pandas - DataFrame - Sorting"
   ]
  },
  {
   "cell_type": "markdown",
   "id": "32d9873c-d76f-48fc-9478-cc77e58994e5",
   "metadata": {},
   "source": [
    "### Sorting => keeping the values in an order\n",
    "### Number  => ascending => small to big \n",
    "### .......... .......       => descending => big to small\n",
    "### alphabets => alphabatical"
   ]
  },
  {
   "cell_type": "code",
   "execution_count": 26,
   "id": "ae09f89f-de7b-45ad-af29-85c1736dc38f",
   "metadata": {},
   "outputs": [
    {
     "name": "stdout",
     "output_type": "stream",
     "text": [
      "        TransactionID CustomerID CustomerDOB CustGender   CustLocation  \\\n",
      "0                  T1   C5841053     10/1/94          F     JAMSHEDPUR   \n",
      "1                  T2   C2142763      4/4/57          M        JHAJJAR   \n",
      "2                  T3   C4417068    26/11/96          F         MUMBAI   \n",
      "3                  T4   C5342380     14/9/73          F         MUMBAI   \n",
      "4                  T5   C9031234     24/3/88          F    NAVI MUMBAI   \n",
      "...               ...        ...         ...        ...            ...   \n",
      "1048562      T1048563   C8020229      8/4/90          M      NEW DELHI   \n",
      "1048563      T1048564   C6459278     20/2/92          M         NASHIK   \n",
      "1048564      T1048565   C6412354     18/5/89          M      HYDERABAD   \n",
      "1048565      T1048566   C6420483     30/8/78          M  VISAKHAPATNAM   \n",
      "1048566      T1048567   C8337524      5/3/84          M           PUNE   \n",
      "\n",
      "         CustAccountBalance TransactionDate  TransactionTime  \\\n",
      "0                  17819.05          2/8/16           143207   \n",
      "1                   2270.69          2/8/16           141858   \n",
      "2                  17874.44          2/8/16           142712   \n",
      "3                 866503.21          2/8/16           142714   \n",
      "4                   6714.43          2/8/16           181156   \n",
      "...                     ...             ...              ...   \n",
      "1048562             7635.19         18/9/16           184824   \n",
      "1048563            27311.42         18/9/16           183734   \n",
      "1048564           221757.06         18/9/16           183313   \n",
      "1048565            10117.87         18/9/16           184706   \n",
      "1048566            75734.42         18/9/16           181222   \n",
      "\n",
      "         TransactionAmount (INR)  \n",
      "0                           25.0  \n",
      "1                        27999.0  \n",
      "2                          459.0  \n",
      "3                         2060.0  \n",
      "4                         1762.5  \n",
      "...                          ...  \n",
      "1048562                    799.0  \n",
      "1048563                    460.0  \n",
      "1048564                    770.0  \n",
      "1048565                   1000.0  \n",
      "1048566                   1166.0  \n",
      "\n",
      "[1048567 rows x 9 columns]\n"
     ]
    }
   ],
   "source": [
    "# realtime programe\n",
    "import pandas as pd\n",
    "def load_file(p):\n",
    "    dataframe=pd.read_csv(p)\n",
    "    return dataframe\n",
    "df=load_file(\"/Users/apple/Downloads/bank_transactions.csv\")\n",
    "print(df)"
   ]
  },
  {
   "cell_type": "code",
   "execution_count": 2,
   "id": "6106f0f3-834b-4370-b585-613f5f1e9156",
   "metadata": {},
   "outputs": [
    {
     "name": "stdout",
     "output_type": "stream",
     "text": [
      "[40, 30, 34, 20]\n"
     ]
    }
   ],
   "source": [
    "values=[40,30,34,20]\n",
    "print(values)"
   ]
  },
  {
   "cell_type": "code",
   "execution_count": 7,
   "id": "c0f11b3a-0830-4c8d-bc10-0f0ee76996af",
   "metadata": {},
   "outputs": [
    {
     "name": "stdout",
     "output_type": "stream",
     "text": [
      "\n",
      "[10, 20, 30, 40]\n"
     ]
    }
   ],
   "source": [
    "# Ascending order\n",
    "values=[40,30,20,10]\n",
    "print()\n",
    "values.sort()\n",
    "print(values)"
   ]
  },
  {
   "cell_type": "code",
   "execution_count": 8,
   "id": "fc8389ed-5b57-4788-9cac-da24e55b337e",
   "metadata": {},
   "outputs": [
    {
     "name": "stdout",
     "output_type": "stream",
     "text": [
      "\n",
      "[10, 20, 30, 40, 1, 0, -1]\n"
     ]
    }
   ],
   "source": [
    "# Descending order\n",
    "values=[-1,0,1,40,30,20,10]\n",
    "print()\n",
    "values.reverse()\n",
    "print(values)"
   ]
  },
  {
   "cell_type": "markdown",
   "id": "d5a06515-4cbc-4025-bd65-98d6daf20c51",
   "metadata": {},
   "source": [
    "### 1. Sorting\n",
    "- DataFrame contains group of rows , column , index , values\n",
    "- Based on requirment we can applying sorting on cloumn name,index,etc"
   ]
  },
  {
   "cell_type": "markdown",
   "id": "b2869021-7e45-45dd-82a3-db56d099aa92",
   "metadata": {},
   "source": [
    "### Creating a DataFrmame:\n",
    "- If we load a csv file in pandas then it returns dataframe\n",
    "  "
   ]
  },
  {
   "cell_type": "code",
   "execution_count": 9,
   "id": "d52c5348-5893-4fd9-9daf-71a2a6add760",
   "metadata": {},
   "outputs": [
    {
     "name": "stdout",
     "output_type": "stream",
     "text": [
      "        TransactionID CustomerID CustomerDOB CustGender   CustLocation  \\\n",
      "0                  T1   C5841053     10/1/94          F     JAMSHEDPUR   \n",
      "1                  T2   C2142763      4/4/57          M        JHAJJAR   \n",
      "2                  T3   C4417068    26/11/96          F         MUMBAI   \n",
      "3                  T4   C5342380     14/9/73          F         MUMBAI   \n",
      "4                  T5   C9031234     24/3/88          F    NAVI MUMBAI   \n",
      "...               ...        ...         ...        ...            ...   \n",
      "1048562      T1048563   C8020229      8/4/90          M      NEW DELHI   \n",
      "1048563      T1048564   C6459278     20/2/92          M         NASHIK   \n",
      "1048564      T1048565   C6412354     18/5/89          M      HYDERABAD   \n",
      "1048565      T1048566   C6420483     30/8/78          M  VISAKHAPATNAM   \n",
      "1048566      T1048567   C8337524      5/3/84          M           PUNE   \n",
      "\n",
      "         CustAccountBalance TransactionDate  TransactionTime  \\\n",
      "0                  17819.05          2/8/16           143207   \n",
      "1                   2270.69          2/8/16           141858   \n",
      "2                  17874.44          2/8/16           142712   \n",
      "3                 866503.21          2/8/16           142714   \n",
      "4                   6714.43          2/8/16           181156   \n",
      "...                     ...             ...              ...   \n",
      "1048562             7635.19         18/9/16           184824   \n",
      "1048563            27311.42         18/9/16           183734   \n",
      "1048564           221757.06         18/9/16           183313   \n",
      "1048565            10117.87         18/9/16           184706   \n",
      "1048566            75734.42         18/9/16           181222   \n",
      "\n",
      "         TransactionAmount (INR)  \n",
      "0                           25.0  \n",
      "1                        27999.0  \n",
      "2                          459.0  \n",
      "3                         2060.0  \n",
      "4                         1762.5  \n",
      "...                          ...  \n",
      "1048562                    799.0  \n",
      "1048563                    460.0  \n",
      "1048564                    770.0  \n",
      "1048565                   1000.0  \n",
      "1048566                   1166.0  \n",
      "\n",
      "[1048567 rows x 9 columns]\n"
     ]
    }
   ],
   "source": [
    "import pandas as pd\n",
    "df=pd.read_csv('/Users/apple/Downloads/bank_transactions.csv')\n",
    "print(df)"
   ]
  },
  {
   "cell_type": "markdown",
   "id": "653d26dc-7bd0-4a5b-949e-d29df61bafe0",
   "metadata": {},
   "source": [
    "### 1.1 sort_values(by=\"column name\")\n",
    "- sort_values(p) is predefind method in DataFrme class.\n",
    "- We should access this method by using DataFrame object\n",
    "- This method sort the values based on cloumn which we specified\n",
    "  1. Number default sorting is ascending order\n",
    "  2. String default sorting is alphabetical order"
   ]
  },
  {
   "cell_type": "code",
   "execution_count": 15,
   "id": "7861d807-e9d8-4f3d-aa6f-145291bd78fe",
   "metadata": {},
   "outputs": [
    {
     "name": "stdout",
     "output_type": "stream",
     "text": [
      "<bound method DataFrame.info of         TransactionID CustomerID CustomerDOB CustGender CustLocation  \\\n",
      "590894        T590895   C5332082      2/2/86          M      BHOJPUR   \n",
      "568102        T568103   C8240155    16/11/72          M  NAVI MUMBAI   \n",
      "208430        T208431   C9070851    1/1/1800          M       MUMBAI   \n",
      "340447        T340448   C6532081      2/2/86          M      BHOJPUR   \n",
      "325408        T325409   C1738072     16/5/74          M      ASANSOL   \n",
      "...               ...        ...         ...        ...          ...   \n",
      "1045875      T1045876   C4427246     25/4/80          M        SALEM   \n",
      "1046193      T1046194   C4813286    29/11/95          F       INDORE   \n",
      "1046726      T1046727   C1035768      9/6/91          M        DELHI   \n",
      "1046825      T1046826   C6231941      8/8/83          F  NAVI MUMBAI   \n",
      "1048048      T1048049   C1927213     25/4/80          M        SALEM   \n",
      "\n",
      "         CustAccountBalance TransactionDate  TransactionTime  \\\n",
      "590894                  0.0         26/8/16             4454   \n",
      "568102                  0.0         27/8/16           155713   \n",
      "208430                  0.0          3/9/16           124443   \n",
      "340447                  0.0         14/8/16           111345   \n",
      "325408                  0.0         15/8/16            85220   \n",
      "...                     ...             ...              ...   \n",
      "1045875                 NaN         18/9/16           131053   \n",
      "1046193                 NaN         18/9/16            20752   \n",
      "1046726                 NaN         18/9/16           200816   \n",
      "1046825                 NaN         18/9/16           190130   \n",
      "1048048                 NaN         18/9/16            82422   \n",
      "\n",
      "         TransactionAmount (INR)  \n",
      "590894                     27.00  \n",
      "568102                     73.87  \n",
      "208430                     50.00  \n",
      "340447                     60.00  \n",
      "325408                    550.00  \n",
      "...                          ...  \n",
      "1045875                  2363.00  \n",
      "1046193                   326.00  \n",
      "1046726                  7500.00  \n",
      "1046825                  9092.00  \n",
      "1048048                  2200.00  \n",
      "\n",
      "[1048567 rows x 9 columns]>\n",
      "<class 'pandas.core.frame.DataFrame'>\n",
      "Index: 1041614 entries, 0 to 1048566\n",
      "Data columns (total 9 columns):\n",
      " #   Column                   Non-Null Count    Dtype  \n",
      "---  ------                   --------------    -----  \n",
      " 0   TransactionID            1041614 non-null  object \n",
      " 1   CustomerID               1041614 non-null  object \n",
      " 2   CustomerDOB              1041614 non-null  object \n",
      " 3   CustGender               1041614 non-null  object \n",
      " 4   CustLocation             1041614 non-null  object \n",
      " 5   CustAccountBalance       1041614 non-null  float64\n",
      " 6   TransactionDate          1041614 non-null  object \n",
      " 7   TransactionTime          1041614 non-null  int64  \n",
      " 8   TransactionAmount (INR)  1041614 non-null  float64\n",
      "dtypes: float64(2), int64(1), object(6)\n",
      "memory usage: 79.5+ MB\n",
      "None\n"
     ]
    }
   ],
   "source": [
    "import pandas as pd\n",
    "df=pd.read_csv('/Users/apple/Downloads/bank_transactions.csv')\n",
    "df1=df.sort_values(by=\"CustAccountBalance\")\n",
    "print(df1.info)\n",
    "df2=df.dropna()\n",
    "print(df2.info())"
   ]
  },
  {
   "cell_type": "code",
   "execution_count": 20,
   "id": "4b9b41b2-002a-4989-af92-eda7600a5c20",
   "metadata": {},
   "outputs": [
    {
     "name": "stdout",
     "output_type": "stream",
     "text": [
      "        TransactionID CustomerID CustomerDOB CustGender CustLocation  \\\n",
      "590894        T590895   C5332082      2/2/86          M      BHOJPUR   \n",
      "568102        T568103   C8240155    16/11/72          M  NAVI MUMBAI   \n",
      "208430        T208431   C9070851    1/1/1800          M       MUMBAI   \n",
      "340447        T340448   C6532081      2/2/86          M      BHOJPUR   \n",
      "325408        T325409   C1738072     16/5/74          M      ASANSOL   \n",
      "...               ...        ...         ...        ...          ...   \n",
      "1045875      T1045876   C4427246     25/4/80          M        SALEM   \n",
      "1046193      T1046194   C4813286    29/11/95          F       INDORE   \n",
      "1046726      T1046727   C1035768      9/6/91          M        DELHI   \n",
      "1046825      T1046826   C6231941      8/8/83          F  NAVI MUMBAI   \n",
      "1048048      T1048049   C1927213     25/4/80          M        SALEM   \n",
      "\n",
      "         CustAccountBalance TransactionDate  TransactionTime  \\\n",
      "590894                  0.0         26/8/16             4454   \n",
      "568102                  0.0         27/8/16           155713   \n",
      "208430                  0.0          3/9/16           124443   \n",
      "340447                  0.0         14/8/16           111345   \n",
      "325408                  0.0         15/8/16            85220   \n",
      "...                     ...             ...              ...   \n",
      "1045875                 NaN         18/9/16           131053   \n",
      "1046193                 NaN         18/9/16            20752   \n",
      "1046726                 NaN         18/9/16           200816   \n",
      "1046825                 NaN         18/9/16           190130   \n",
      "1048048                 NaN         18/9/16            82422   \n",
      "\n",
      "         TransactionAmount (INR)  \n",
      "590894                     27.00  \n",
      "568102                     73.87  \n",
      "208430                     50.00  \n",
      "340447                     60.00  \n",
      "325408                    550.00  \n",
      "...                          ...  \n",
      "1045875                  2363.00  \n",
      "1046193                   326.00  \n",
      "1046726                  7500.00  \n",
      "1046825                  9092.00  \n",
      "1048048                  2200.00  \n",
      "\n",
      "[1048567 rows x 9 columns]\n",
      "\n",
      "590894     0.0\n",
      "568102     0.0\n",
      "208430     0.0\n",
      "340447     0.0\n",
      "325408     0.0\n",
      "          ... \n",
      "1045875    NaN\n",
      "1046193    NaN\n",
      "1046726    NaN\n",
      "1046825    NaN\n",
      "1048048    NaN\n",
      "Name: CustAccountBalance, Length: 1048567, dtype: float64\n"
     ]
    }
   ],
   "source": [
    "import pandas as pd\n",
    "df=pd.read_csv('/Users/apple/Downloads/bank_transactions.csv')\n",
    "df1=df.sort_values(by=\"CustAccountBalance\")\n",
    "print(df1)\n",
    "print()\n",
    "df2=df1[\"CustAccountBalance\"]\n",
    "print(df2)"
   ]
  },
  {
   "cell_type": "code",
   "execution_count": 21,
   "id": "433bdf7c-5410-4182-8e7b-334d6943dce5",
   "metadata": {},
   "outputs": [
    {
     "name": "stdout",
     "output_type": "stream",
     "text": [
      "       TransactionID CustomerID CustomerDOB CustGender           CustLocation  \\\n",
      "99643         T99644   C8237076     25/1/85          M             SAHARANPUR   \n",
      "99816         T99817   C2515216      8/9/88          M                 JAIPUR   \n",
      "99815         T99816   C7727271      5/8/86          M                  DELHI   \n",
      "99814         T99815   C1525115      7/7/77          F               KOLHAPUR   \n",
      "99813         T99814   C3413838    1/1/1800          M                 JAIPUR   \n",
      "...              ...        ...         ...        ...                    ...   \n",
      "844294       T844295   C4540724     13/8/73          M                CHENNAI   \n",
      "844293       T844294   C1642771    1/1/1800          M              NEW DELHI   \n",
      "844292       T844293   C3221437      8/4/92          F              NEW DELHI   \n",
      "844300       T844301   C4263485     15/7/88          M  BAHADURGARH (HARYANA)   \n",
      "847961       T847962   C2218084     16/1/82          F              BANGALORE   \n",
      "\n",
      "        CustAccountBalance TransactionDate  TransactionTime  \\\n",
      "99643             14210.74          1/8/16           201245   \n",
      "99816            174907.56          1/8/16           183927   \n",
      "99815            400230.28          1/8/16           183735   \n",
      "99814             30679.16          1/8/16           182230   \n",
      "99813            440463.42          1/8/16           184939   \n",
      "...                    ...             ...              ...   \n",
      "844294            57806.21          9/9/16           133230   \n",
      "844293            10208.69          9/9/16           133142   \n",
      "844292             9187.90          9/9/16           133047   \n",
      "844300             7593.41          9/9/16           130050   \n",
      "847961            18824.71          9/9/16           105902   \n",
      "\n",
      "        TransactionAmount (INR)  \n",
      "99643                   1512.75  \n",
      "99816                    480.00  \n",
      "99815                   1000.00  \n",
      "99814                     30.00  \n",
      "99813                   5000.00  \n",
      "...                         ...  \n",
      "844294                  4563.00  \n",
      "844293                 10000.00  \n",
      "844292                   528.00  \n",
      "844300                   200.00  \n",
      "847961                   151.06  \n",
      "\n",
      "[1048567 rows x 9 columns]\n"
     ]
    }
   ],
   "source": [
    "import pandas as pd\n",
    "df=pd.read_csv('/Users/apple/Downloads/bank_transactions.csv')\n",
    "a=df.sort_values(by=\"TransactionDate\")\n",
    "print(a)"
   ]
  },
  {
   "cell_type": "code",
   "execution_count": 22,
   "id": "8a339e2d-05a0-464b-8652-ca819f798860",
   "metadata": {},
   "outputs": [
    {
     "name": "stdout",
     "output_type": "stream",
     "text": [
      "        TransactionID CustomerID CustomerDOB CustGender  \\\n",
      "517352        T517353   C5328845      2/2/93          F   \n",
      "1031215      T1031216   C6528833      2/2/93          F   \n",
      "969199        T969200   C6428880      2/2/93          F   \n",
      "760879        T760880   C4128823      2/2/93          F   \n",
      "656156        T656157   C4728819      2/2/93          F   \n",
      "...               ...        ...         ...        ...   \n",
      "998657        T998658   C4514385     17/8/80          M   \n",
      "1008646      T1008647   C7210667     14/4/81          M   \n",
      "1034147      T1034148   C5933513      9/3/73          M   \n",
      "1035525      T1035526   C4672357     28/5/82          M   \n",
      "1036142      T1036143   C5326786      8/4/85          M   \n",
      "\n",
      "                     CustLocation  CustAccountBalance TransactionDate  \\\n",
      "517352   (154) BHASKOLA FARIDABAD            49388.09         19/8/16   \n",
      "1031215  (154) BHASKOLA FARIDABAD            49388.09         13/9/16   \n",
      "969199   (154) BHASKOLA FARIDABAD            49388.09         10/9/16   \n",
      "760879   (154) BHASKOLA FARIDABAD            49388.09          1/9/16   \n",
      "656156   (154) BHASKOLA FARIDABAD            49388.09         31/8/16   \n",
      "...                           ...                 ...             ...   \n",
      "998657                        NaN            16426.68         14/9/16   \n",
      "1008646                       NaN           345829.09         14/9/16   \n",
      "1034147                       NaN             2780.38         18/9/16   \n",
      "1035525                       NaN           299489.63         18/9/16   \n",
      "1036142                       NaN            14126.65         18/9/16   \n",
      "\n",
      "         TransactionTime  TransactionAmount (INR)  \n",
      "517352            222042                    50.00  \n",
      "1031215           103152                    30.00  \n",
      "969199            103338                    45.00  \n",
      "760879            153118                    50.00  \n",
      "656156            192551                   939.50  \n",
      "...                  ...                      ...  \n",
      "998657             85202                  1900.00  \n",
      "1008646           213230                  2046.00  \n",
      "1034147           180334                 25000.00  \n",
      "1035525           155141                   729.72  \n",
      "1036142           134550                  3000.00  \n",
      "\n",
      "[1048567 rows x 9 columns]\n"
     ]
    }
   ],
   "source": [
    "a=df.sort_values(by=\"CustLocation\")\n",
    "print(a)"
   ]
  },
  {
   "cell_type": "code",
   "execution_count": 23,
   "id": "f30062b5-cefd-4171-8c24-659fd56cde0f",
   "metadata": {},
   "outputs": [
    {
     "name": "stdout",
     "output_type": "stream",
     "text": [
      "        TransactionID CustomerID CustomerDOB CustGender       CustLocation  \\\n",
      "621870        T621871   C8930977      9/9/97          F             DASUYA   \n",
      "522533        T522534   C2430927      9/9/97          F             DASUYA   \n",
      "383780        T383781   C2130972      9/9/97          F             DASUYA   \n",
      "56242          T56243   C6730991      9/9/97          F             DASUYA   \n",
      "727709        T727710   C6630931      9/9/97          F             DASUYA   \n",
      "...               ...        ...         ...        ...                ...   \n",
      "1047248      T1047249   C8510525         NaN          M           ZIRAKPUR   \n",
      "1047762      T1047763   C3827041         NaN          M               PUNE   \n",
      "1047919      T1047920   C2427054         NaN          M               PUNE   \n",
      "1048152      T1048153   C8138543         NaN          F  REIS MAGOS BARDEZ   \n",
      "1048472      T1048473   C1242585         NaN          M          NEW DELHI   \n",
      "\n",
      "         CustAccountBalance TransactionDate  TransactionTime  \\\n",
      "621870            404836.36         25/8/16           173908   \n",
      "522533            404836.36         24/8/16           155516   \n",
      "383780            404836.36         13/8/16           154528   \n",
      "56242             404836.36          3/8/16           183904   \n",
      "727709            404836.36          2/9/16           141233   \n",
      "...                     ...             ...              ...   \n",
      "1047248            98896.96         18/9/16             5852   \n",
      "1047762               91.36         18/9/16           193122   \n",
      "1047919               91.36         18/9/16           201925   \n",
      "1048152             2630.67         18/9/16           181307   \n",
      "1048472          1290777.41         18/9/16           175303   \n",
      "\n",
      "         TransactionAmount (INR)  \n",
      "621870                    3295.0  \n",
      "522533                      50.0  \n",
      "383780                    4600.0  \n",
      "56242                      285.0  \n",
      "727709                     155.0  \n",
      "...                          ...  \n",
      "1047248                   3000.0  \n",
      "1047762                    284.0  \n",
      "1047919                    365.0  \n",
      "1048152                    252.0  \n",
      "1048472                   8921.0  \n",
      "\n",
      "[1048567 rows x 9 columns]\n"
     ]
    }
   ],
   "source": [
    "# Sorting dataframe by using sort_values(p)method\n",
    "import pandas as pd\n",
    "df=pd.read_csv('/Users/apple/Downloads/bank_transactions.csv')\n",
    "a=df.sort_values(by=\"CustomerDOB\",ascending=False)\n",
    "print(a)"
   ]
  },
  {
   "cell_type": "code",
   "execution_count": 27,
   "id": "42687619-06c7-4e67-8055-76d323adce69",
   "metadata": {},
   "outputs": [
    {
     "name": "stdout",
     "output_type": "stream",
     "text": [
      "        TransactionID CustomerID CustomerDOB CustGender       CustLocation  \\\n",
      "621870        T621871   C8930977      9/9/97          F             DASUYA   \n",
      "522533        T522534   C2430927      9/9/97          F             DASUYA   \n",
      "383780        T383781   C2130972      9/9/97          F             DASUYA   \n",
      "56242          T56243   C6730991      9/9/97          F             DASUYA   \n",
      "727709        T727710   C6630931      9/9/97          F             DASUYA   \n",
      "...               ...        ...         ...        ...                ...   \n",
      "1047248      T1047249   C8510525         NaN          M           ZIRAKPUR   \n",
      "1047762      T1047763   C3827041         NaN          M               PUNE   \n",
      "1047919      T1047920   C2427054         NaN          M               PUNE   \n",
      "1048152      T1048153   C8138543         NaN          F  REIS MAGOS BARDEZ   \n",
      "1048472      T1048473   C1242585         NaN          M          NEW DELHI   \n",
      "\n",
      "         CustAccountBalance TransactionDate  TransactionTime  \\\n",
      "621870            404836.36         25/8/16           173908   \n",
      "522533            404836.36         24/8/16           155516   \n",
      "383780            404836.36         13/8/16           154528   \n",
      "56242             404836.36          3/8/16           183904   \n",
      "727709            404836.36          2/9/16           141233   \n",
      "...                     ...             ...              ...   \n",
      "1047248            98896.96         18/9/16             5852   \n",
      "1047762               91.36         18/9/16           193122   \n",
      "1047919               91.36         18/9/16           201925   \n",
      "1048152             2630.67         18/9/16           181307   \n",
      "1048472          1290777.41         18/9/16           175303   \n",
      "\n",
      "         TransactionAmount (INR)  \n",
      "621870                    3295.0  \n",
      "522533                      50.0  \n",
      "383780                    4600.0  \n",
      "56242                      285.0  \n",
      "727709                     155.0  \n",
      "...                          ...  \n",
      "1047248                   3000.0  \n",
      "1047762                    284.0  \n",
      "1047919                    365.0  \n",
      "1048152                    252.0  \n",
      "1048472                   8921.0  \n",
      "\n",
      "[1048567 rows x 9 columns]\n"
     ]
    }
   ],
   "source": [
    "# Sorting dataframe by using sort_values(p)method\n",
    "import pandas as pd\n",
    "df=pd.read_csv('/Users/apple/Downloads/bank_transactions.csv')\n",
    "a=df.sort_values(by=\"CustomerDOB\",ascending=0)\n",
    "print(a)"
   ]
  },
  {
   "cell_type": "markdown",
   "id": "f3d53085-8447-484c-b2d1-170656d7ced5",
   "metadata": {},
   "source": [
    "### 1.2 sort_index()\n",
    "- sort_index() is predefined method in DataFrame in DataFrame class.\n",
    "- We should access this method by using DataFrame object\n",
    "- This method sort the indexes in DataFrme"
   ]
  },
  {
   "cell_type": "code",
   "execution_count": 38,
   "id": "c0dd740b-c439-4e9c-9ac9-bbe0a066b7f8",
   "metadata": {},
   "outputs": [
    {
     "name": "stdout",
     "output_type": "stream",
     "text": [
      "   order id  id Customer name    Product\n",
      "0       555  11        kishan  iphone 11\n",
      "1       444  21         firoj        htc\n",
      "2       333  31          pika   macebook\n",
      "\n",
      "    order id  id Customer name    Product\n",
      "90       555  11        kishan  iphone 11\n",
      "11       444  21         firoj        htc\n",
      "12       333  31          pika   macebook\n",
      "\n",
      "    order id  id Customer name    Product\n",
      "11       444  21         firoj        htc\n",
      "12       333  31          pika   macebook\n",
      "90       555  11        kishan  iphone 11\n"
     ]
    }
   ],
   "source": [
    "import pandas as pd\n",
    "df=pd.DataFrame\n",
    "d={\n",
    "    \"order id\":[555,444,333],\n",
    "    \"id\":[11,21,31],\n",
    "    \"Customer name\":[\"kishan\",\"firoj\",\"pika\"],\n",
    "    \"Product\":[\"iphone 11\",\"htc\",\"macebook\"]\n",
    "    \n",
    "}\n",
    "i=[90,11,12]\n",
    "df1=pd.DataFrame(d,index=i)\n",
    "df2=df1.sort_index()\n",
    "print(df(d))\n",
    "print()\n",
    "print(df1)\n",
    "print()\n",
    "print(df2)"
   ]
  },
  {
   "cell_type": "code",
   "execution_count": null,
   "id": "c77e2806-963f-4127-88a7-3762b2a68e44",
   "metadata": {},
   "outputs": [],
   "source": []
  }
 ],
 "metadata": {
  "kernelspec": {
   "display_name": "Python [conda env:base] *",
   "language": "python",
   "name": "conda-base-py"
  },
  "language_info": {
   "codemirror_mode": {
    "name": "ipython",
    "version": 3
   },
   "file_extension": ".py",
   "mimetype": "text/x-python",
   "name": "python",
   "nbconvert_exporter": "python",
   "pygments_lexer": "ipython3",
   "version": "3.13.5"
  }
 },
 "nbformat": 4,
 "nbformat_minor": 5
}
