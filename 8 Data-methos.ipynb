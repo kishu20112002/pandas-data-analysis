{
 "cells": [
  {
   "cell_type": "markdown",
   "id": "18268d15-22cf-4a6e-9df4-709e2770d08b",
   "metadata": {},
   "source": [
    "# DataFrame methods"
   ]
  },
  {
   "cell_type": "markdown",
   "id": "51311e2d-cad8-435e-8d9d-47eaaf2c4a2b",
   "metadata": {},
   "source": [
    "### 1.1 head()\n",
    "- head() is predefined methods in DataFrame in DataFrame class\n",
    "- We can access head() method by using DataFrame object only\n",
    "- This method returns first five rows from the DataFrame"
   ]
  },
  {
   "cell_type": "code",
   "execution_count": 8,
   "id": "dc152663-45aa-4927-82a9-8f9a6132768a",
   "metadata": {},
   "outputs": [
    {
     "name": "stdout",
     "output_type": "stream",
     "text": [
      "how to acess the top five 5\n",
      "   Store        Date  Weekly_Sales  Holiday_Flag  Temperature  Fuel_Price  \\\n",
      "0      1  05-02-2010    1643690.90             0        42.31       2.572   \n",
      "1      1  12-02-2010    1641957.44             1        38.51       2.548   \n",
      "2      1  19-02-2010    1611968.17             0        39.93       2.514   \n",
      "3      1  26-02-2010    1409727.59             0        46.63       2.561   \n",
      "4      1  05-03-2010    1554806.68             0        46.50       2.625   \n",
      "\n",
      "          CPI  Unemployment  \n",
      "0  211.096358         8.106  \n",
      "1  211.242170         8.106  \n",
      "2  211.289143         8.106  \n",
      "3  211.319643         8.106  \n",
      "4  211.350143         8.106  \n",
      "\n",
      "\n",
      "                    0           1           2           3           4     \\\n",
      "Store                  1           1           1           1           1   \n",
      "Date          05-02-2010  12-02-2010  19-02-2010  26-02-2010  05-03-2010   \n",
      "Weekly_Sales   1643690.9  1641957.44  1611968.17  1409727.59  1554806.68   \n",
      "Holiday_Flag           0           1           0           0           0   \n",
      "Temperature        42.31       38.51       39.93       46.63        46.5   \n",
      "Fuel_Price         2.572       2.548       2.514       2.561       2.625   \n",
      "CPI           211.096358   211.24217  211.289143  211.319643  211.350143   \n",
      "Unemployment       8.106       8.106       8.106       8.106       8.106   \n",
      "\n",
      "                    5           6           7           8           9     ...  \\\n",
      "Store                  1           1           1           1           1  ...   \n",
      "Date          12-03-2010  19-03-2010  26-03-2010  02-04-2010  09-04-2010  ...   \n",
      "Weekly_Sales  1439541.59  1472515.79  1404429.92  1594968.28  1545418.53  ...   \n",
      "Holiday_Flag           0           0           0           0           0  ...   \n",
      "Temperature        57.79       54.58       51.45       62.27       65.86  ...   \n",
      "Fuel_Price         2.667        2.72       2.732       2.719        2.77  ...   \n",
      "CPI           211.380643  211.215635  211.018042   210.82045  210.622857  ...   \n",
      "Unemployment       8.106       8.106       8.106       7.808       7.808  ...   \n",
      "\n",
      "                    6425        6426        6427        6428        6429  \\\n",
      "Store                 45          45          45          45          45   \n",
      "Date          24-08-2012  31-08-2012  07-09-2012  14-09-2012  21-09-2012   \n",
      "Weekly_Sales   718232.26   734297.87   766512.66   702238.27    723086.2   \n",
      "Holiday_Flag           0           0           1           0           0   \n",
      "Temperature        72.62       75.09        75.7       67.87       65.32   \n",
      "Fuel_Price         3.834       3.867       3.911       3.948       4.038   \n",
      "CPI           191.344887  191.461281  191.577676   191.69985  191.856704   \n",
      "Unemployment       8.684       8.684       8.684       8.684       8.684   \n",
      "\n",
      "                    6430        6431        6432        6433        6434  \n",
      "Store                 45          45          45          45          45  \n",
      "Date          28-09-2012  05-10-2012  12-10-2012  19-10-2012  26-10-2012  \n",
      "Weekly_Sales   713173.95   733455.07   734464.36   718125.53   760281.43  \n",
      "Holiday_Flag           0           0           0           0           0  \n",
      "Temperature        64.88       64.89       54.47       56.47       58.85  \n",
      "Fuel_Price         3.997       3.985         4.0       3.969       3.882  \n",
      "CPI           192.013558  192.170412  192.327265  192.330854  192.308899  \n",
      "Unemployment       8.684       8.667       8.667       8.667       8.667  \n",
      "\n",
      "[8 rows x 6435 columns]\n",
      "\n",
      "(6435, 8)\n"
     ]
    }
   ],
   "source": [
    "import pandas as pd\n",
    "df=pd.read_csv(\"/Users/apple/Downloads/Walmart_Sales.csv\")\n",
    "print(\"how to acess the top five 5\")\n",
    "print(df.head())\n",
    "print()\n",
    "print()\n",
    "print(df.T)\n",
    "print()\n",
    "print(df.shape)"
   ]
  },
  {
   "cell_type": "markdown",
   "id": "eeb16eee-521b-4a1c-a076-004b479cafe4",
   "metadata": {},
   "source": [
    "### 1.2 tail()\n",
    "- tail() is predefined method in DataFrame class\n",
    "- We can access tail() method by using DataFrame object only\n",
    "- This method returns last five rowns from the DataFrame"
   ]
  },
  {
   "cell_type": "code",
   "execution_count": 11,
   "id": "3b4ccfdb-9009-4528-84e2-2dfdbdb85de4",
   "metadata": {},
   "outputs": [
    {
     "name": "stdout",
     "output_type": "stream",
     "text": [
      "=> last 5 rows \n",
      "      Store        Date  Weekly_Sales  Holiday_Flag  Temperature  Fuel_Price  \\\n",
      "6430     45  28-09-2012     713173.95             0        64.88       3.997   \n",
      "6431     45  05-10-2012     733455.07             0        64.89       3.985   \n",
      "6432     45  12-10-2012     734464.36             0        54.47       4.000   \n",
      "6433     45  19-10-2012     718125.53             0        56.47       3.969   \n",
      "6434     45  26-10-2012     760281.43             0        58.85       3.882   \n",
      "\n",
      "             CPI  Unemployment  \n",
      "6430  192.013558         8.684  \n",
      "6431  192.170412         8.667  \n",
      "6432  192.327265         8.667  \n",
      "6433  192.330854         8.667  \n",
      "6434  192.308899         8.667  \n"
     ]
    }
   ],
   "source": [
    "import pandas as pd\n",
    "df2=pd.read_csv(\"/Users/apple/Downloads/Walmart_Sales.csv\")\n",
    "print(\"=> last 5 rows \")\n",
    "print(df2.tail())"
   ]
  },
  {
   "cell_type": "code",
   "execution_count": 13,
   "id": "f7cfcad5-2c16-4db8-bdd1-1aa978226e5e",
   "metadata": {},
   "outputs": [
    {
     "name": "stdout",
     "output_type": "stream",
     "text": [
      "   Store        Date  Weekly_Sales  Holiday_Flag  Temperature  Fuel_Price  \\\n",
      "0      1  05-02-2010    1643690.90             0        42.31       2.572   \n",
      "1      1  12-02-2010    1641957.44             1        38.51       2.548   \n",
      "2      1  19-02-2010    1611968.17             0        39.93       2.514   \n",
      "3      1  26-02-2010    1409727.59             0        46.63       2.561   \n",
      "4      1  05-03-2010    1554806.68             0        46.50       2.625   \n",
      "\n",
      "          CPI  Unemployment  \n",
      "0  211.096358         8.106  \n",
      "1  211.242170         8.106  \n",
      "2  211.289143         8.106  \n",
      "3  211.319643         8.106  \n",
      "4  211.350143         8.106  \n"
     ]
    }
   ],
   "source": [
    "import pandas as pd\n",
    "df1=pd.read_csv(\"/Users/apple/Downloads/Walmart_Sales.csv\")\n",
    "df2=df1.head()\n",
    "print(df2)"
   ]
  },
  {
   "cell_type": "markdown",
   "id": "60895049-11e5-43f1-812b-a3545de848c4",
   "metadata": {},
   "source": [
    "### 1.3 info()\n",
    "- info() is predefined method in DataFrame class\n",
    "- We can acess info() metods by using DataFrame object only\n",
    "- This methods returns below information about DataFrame,\n",
    "  1. type of object\n",
    "  2. Range of object\n",
    "  3. Number of columns\n",
    "  4. Number of rowe\n",
    "  5. The data type of each column\n",
    "  6. Number of data type\n",
    "  7. total memory usage"
   ]
  },
  {
   "cell_type": "code",
   "execution_count": 14,
   "id": "873883d0-f560-416f-a282-9dc8b67f22cd",
   "metadata": {},
   "outputs": [
    {
     "name": "stdout",
     "output_type": "stream",
     "text": [
      "<class 'pandas.core.frame.DataFrame'>\n",
      "RangeIndex: 6435 entries, 0 to 6434\n",
      "Data columns (total 8 columns):\n",
      " #   Column        Non-Null Count  Dtype  \n",
      "---  ------        --------------  -----  \n",
      " 0   Store         6435 non-null   int64  \n",
      " 1   Date          6435 non-null   object \n",
      " 2   Weekly_Sales  6435 non-null   float64\n",
      " 3   Holiday_Flag  6435 non-null   int64  \n",
      " 4   Temperature   6435 non-null   float64\n",
      " 5   Fuel_Price    6435 non-null   float64\n",
      " 6   CPI           6435 non-null   float64\n",
      " 7   Unemployment  6435 non-null   float64\n",
      "dtypes: float64(5), int64(2), object(1)\n",
      "memory usage: 402.3+ KB\n",
      "None\n"
     ]
    }
   ],
   "source": [
    "import pandas as pd\n",
    "df1=pd.read_csv(\"/Users/apple/Downloads/Walmart_Sales.csv\")\n",
    "print(df1.info())"
   ]
  },
  {
   "cell_type": "code",
   "execution_count": 18,
   "id": "83c7b811-ea84-4979-911e-917b9f0d6bce",
   "metadata": {},
   "outputs": [
    {
     "name": "stdout",
     "output_type": "stream",
     "text": [
      "<class 'pandas.core.frame.DataFrame'>\n",
      "RangeIndex: 1465 entries, 0 to 1464\n",
      "Data columns (total 12 columns):\n",
      " #   Column               Non-Null Count  Dtype \n",
      "---  ------               --------------  ----- \n",
      " 0   product_id           1465 non-null   object\n",
      " 1   product_name         1465 non-null   object\n",
      " 2   category             1465 non-null   object\n",
      " 3   discounted_price     1465 non-null   object\n",
      " 4   actual_price         1465 non-null   object\n",
      " 5   discount_percentage  1465 non-null   object\n",
      " 6   rating               1465 non-null   object\n",
      " 7   rating_count         1463 non-null   object\n",
      " 8   about_product        1465 non-null   object\n",
      " 9   user_id              1465 non-null   object\n",
      " 10  user_name            1465 non-null   object\n",
      " 11  review_id            1465 non-null   object\n",
      "dtypes: object(12)\n",
      "memory usage: 137.5+ KB\n"
     ]
    }
   ],
   "source": [
    "import pandas as pd \n",
    "df=pd.read_csv('/Users/apple/Downloads/amazon.csv')\n",
    "df.info()"
   ]
  },
  {
   "cell_type": "code",
   "execution_count": 20,
   "id": "48169023-ac47-41d6-bc2d-96e50768187b",
   "metadata": {},
   "outputs": [
    {
     "name": "stdout",
     "output_type": "stream",
     "text": [
      "<class 'pandas.core.frame.DataFrame'>\n",
      "RangeIndex: 6435 entries, 0 to 6434\n",
      "Data columns (total 8 columns):\n",
      " #   Column        Non-Null Count  Dtype  \n",
      "---  ------        --------------  -----  \n",
      " 0   Store         6435 non-null   int64  \n",
      " 1   Date          6435 non-null   object \n",
      " 2   Weekly_Sales  6434 non-null   float64\n",
      " 3   Holiday_Flag  6435 non-null   int64  \n",
      " 4   Temperature   6435 non-null   float64\n",
      " 5   Fuel_Price    6435 non-null   float64\n",
      " 6   CPI           6435 non-null   float64\n",
      " 7   Unemployment  6435 non-null   float64\n",
      "dtypes: float64(5), int64(2), object(1)\n",
      "memory usage: 402.3+ KB\n"
     ]
    }
   ],
   "source": [
    "import pandas as pd\n",
    "df=pd.read_csv('/Users/apple/Downloads/Walmart_Sales copy.csv')\n",
    "df.info()"
   ]
  },
  {
   "cell_type": "markdown",
   "id": "7188ec8a-5730-4a3e-8871-834b381b8802",
   "metadata": {},
   "source": [
    "### 1.4 count()\n",
    "- count() is predefined method in DataFrame class.\n",
    "- We can access count() method by using DataFrame object only.\n",
    "- This method returns number of non-null values from each column."
   ]
  },
  {
   "cell_type": "code",
   "execution_count": 21,
   "id": "6a96f6f9-9c0f-4a01-88a8-0bd736d90c93",
   "metadata": {},
   "outputs": [
    {
     "name": "stdout",
     "output_type": "stream",
     "text": [
      "Store           6435\n",
      "Date            6435\n",
      "Weekly_Sales    6435\n",
      "Holiday_Flag    6435\n",
      "Temperature     6435\n",
      "Fuel_Price      6435\n",
      "CPI             6435\n",
      "Unemployment    6435\n",
      "dtype: int64\n"
     ]
    }
   ],
   "source": [
    "import pandas as pd\n",
    "df=pd.read_csv(\"/Users/apple/Downloads/Walmart_Sales.csv\")\n",
    "print(df.count())"
   ]
  },
  {
   "cell_type": "code",
   "execution_count": 29,
   "id": "cf08ade5-ccc3-4805-b7fd-d4e37ea9b346",
   "metadata": {},
   "outputs": [
    {
     "name": "stdout",
     "output_type": "stream",
     "text": [
      "Store           6434\n",
      "Date            6434\n",
      "Weekly_Sales    6432\n",
      "Holiday_Flag    6434\n",
      "Temperature     6434\n",
      "Fuel_Price      6434\n",
      "CPI             6434\n",
      "Unemployment    6434\n",
      "dtype: int64\n",
      "\n",
      "=> total of row and colomn\n",
      "(6435, 8)\n"
     ]
    }
   ],
   "source": [
    "import pandas as pd\n",
    "df=pd.read_csv('/Users/apple/Downloads/Walmart_Sales copy.csv')\n",
    "print(df.count())\n",
    "print()\n",
    "print(\"=> total of row and colomn\")\n",
    "print(df.shape)\n"
   ]
  },
  {
   "cell_type": "markdown",
   "id": "9b12741d-2630-464e-9c68-d6ac4c590aff",
   "metadata": {},
   "source": [
    "### 1.5 describe()\n",
    "- decribe() is predrfined method in DataFrame class.\n",
    "- We can access describe() method by using DataFrame object.\n",
    "- This method returns the below values\n",
    "  1. count\n",
    "  2. mean\n",
    "  3. std\n",
    "  4. min\n",
    "  5. 25%\n",
    "  6. 50%\n",
    "  7. 75%\n",
    "  8. max"
   ]
  },
  {
   "cell_type": "code",
   "execution_count": 30,
   "id": "625a9af7-9b86-476e-acb3-605a00953ea4",
   "metadata": {},
   "outputs": [
    {
     "name": "stdout",
     "output_type": "stream",
     "text": [
      "             Store  Weekly_Sales  Holiday_Flag  Temperature   Fuel_Price  \\\n",
      "count  6435.000000  6.435000e+03   6435.000000  6435.000000  6435.000000   \n",
      "mean     23.000000  1.046965e+06      0.069930    60.663782     3.358607   \n",
      "std      12.988182  5.643666e+05      0.255049    18.444933     0.459020   \n",
      "min       1.000000  2.099862e+05      0.000000    -2.060000     2.472000   \n",
      "25%      12.000000  5.533501e+05      0.000000    47.460000     2.933000   \n",
      "50%      23.000000  9.607460e+05      0.000000    62.670000     3.445000   \n",
      "75%      34.000000  1.420159e+06      0.000000    74.940000     3.735000   \n",
      "max      45.000000  3.818686e+06      1.000000   100.140000     4.468000   \n",
      "\n",
      "               CPI  Unemployment  \n",
      "count  6435.000000   6435.000000  \n",
      "mean    171.578394      7.999151  \n",
      "std      39.356712      1.875885  \n",
      "min     126.064000      3.879000  \n",
      "25%     131.735000      6.891000  \n",
      "50%     182.616521      7.874000  \n",
      "75%     212.743293      8.622000  \n",
      "max     227.232807     14.313000  \n"
     ]
    }
   ],
   "source": [
    "import pandas as pd\n",
    "df=pd.read_csv(\"/Users/apple/Downloads/Walmart_Sales.csv\")\n",
    "print(df.describe())"
   ]
  },
  {
   "cell_type": "markdown",
   "id": "bd99b547-853e-40b3-904f-268e8e51bca9",
   "metadata": {},
   "source": [
    "### 1.6 nunique()\n",
    "- nunique() is predefined method in DataFrame class\n",
    "- We can access nunique() method by using DataFrame object only\n",
    "- This method returns number of unique values from the DataFrame\n",
    "  "
   ]
  },
  {
   "cell_type": "code",
   "execution_count": 31,
   "id": "c265372b-45bc-4eb2-88b5-bbe87780f81d",
   "metadata": {},
   "outputs": [
    {
     "name": "stdout",
     "output_type": "stream",
     "text": [
      "Store             45\n",
      "Date             143\n",
      "Weekly_Sales    6435\n",
      "Holiday_Flag       2\n",
      "Temperature     3528\n",
      "Fuel_Price       892\n",
      "CPI             2145\n",
      "Unemployment     349\n",
      "dtype: int64\n"
     ]
    }
   ],
   "source": [
    "import pandas as pd\n",
    "df=pd.read_csv(\"/Users/apple/Downloads/Walmart_Sales.csv\")\n",
    "print(df.nunique())"
   ]
  },
  {
   "cell_type": "markdown",
   "id": "93051ba2-a269-4878-a3ae-481022d43906",
   "metadata": {},
   "source": [
    "### 2. Accessing single column from DataFrame\n",
    "- We can access columns from the DataFrame\n",
    "  1. if we access single column then it returns the Series\n",
    "  2. if we access two column then it returns the DataFrame with two columns\n",
    "  "
   ]
  },
  {
   "cell_type": "code",
   "execution_count": 39,
   "id": "467f2cff-bd8b-4bd3-ab82-45f9524f78ce",
   "metadata": {},
   "outputs": [
    {
     "name": "stdout",
     "output_type": "stream",
     "text": [
      "Index(['product_id', 'product_name', 'category', 'discounted_price',\n",
      "       'actual_price', 'discount_percentage', 'rating', 'rating_count',\n",
      "       'about_product', 'user_id', 'user_name', 'review_id'],\n",
      "      dtype='object')\n",
      "\n",
      "0       B07JW9H4J1\n",
      "1       B098NS6PVG\n",
      "2       B096MSW6CT\n",
      "3       B08HDJ86NZ\n",
      "4       B08CF3B7N1\n",
      "           ...    \n",
      "1460    B08L7J3T31\n",
      "1461    B01M6453MB\n",
      "1462    B009P2LIL4\n",
      "1463    B00J5DYCCA\n",
      "1464    B01486F4G6\n",
      "Name: product_id, Length: 1465, dtype: object\n"
     ]
    }
   ],
   "source": [
    "# displaying only one columns\n",
    "import pandas as pd \n",
    "df=pd.read_csv('/Users/apple/Downloads/amazon.csv')\n",
    "print(df.columns)\n",
    "print()\n",
    "print(df[\"product_id\"])"
   ]
  },
  {
   "cell_type": "code",
   "execution_count": 42,
   "id": "388ccc78-dfb3-49db-9929-59c2bcee9a1e",
   "metadata": {},
   "outputs": [
    {
     "name": "stdout",
     "output_type": "stream",
     "text": [
      "0       B07JW9H4J1\n",
      "1       B098NS6PVG\n",
      "2       B096MSW6CT\n",
      "3       B08HDJ86NZ\n",
      "4       B08CF3B7N1\n",
      "           ...    \n",
      "1460    B08L7J3T31\n",
      "1461    B01M6453MB\n",
      "1462    B009P2LIL4\n",
      "1463    B00J5DYCCA\n",
      "1464    B01486F4G6\n",
      "Name: product_id, Length: 1465, dtype: object\n"
     ]
    }
   ],
   "source": [
    "# we dot not use this one in real time\n",
    "import pandas as pd\n",
    "df=pd.read_csv('/Users/apple/Downloads/amazon.csv')\n",
    "print(df.product_id)"
   ]
  },
  {
   "cell_type": "code",
   "execution_count": 38,
   "id": "7fe21ac0-a837-4427-afc3-fa3f64c0e2de",
   "metadata": {},
   "outputs": [
    {
     "name": "stdout",
     "output_type": "stream",
     "text": [
      "Index(['product_id', 'product_name', 'category', 'discounted_price',\n",
      "       'actual_price', 'discount_percentage', 'rating', 'rating_count',\n",
      "       'about_product', 'user_id', 'user_name', 'review_id'],\n",
      "      dtype='object')\n",
      "\n",
      "      product_id                                          user_name\n",
      "0     B07JW9H4J1  Manav,Adarsh gupta,Sundeep,S.Sayeed Ahmed,jasp...\n",
      "1     B098NS6PVG  ArdKn,Nirbhay kumar,Sagar Viswanathan,Asp,Plac...\n",
      "2     B096MSW6CT  Kunal,Himanshu,viswanath,sai niharka,saqib mal...\n",
      "3     B08HDJ86NZ  Omkar dhale,JD,HEMALATHA,Ajwadh a.,amar singh ...\n",
      "4     B08CF3B7N1  rahuls6099,Swasat Borah,Ajay Wadke,Pranali,RVK...\n",
      "...          ...                                                ...\n",
      "1460  B08L7J3T31  Prabha ds,Raghuram bk,Real Deal,Amazon Custome...\n",
      "1461  B01M6453MB  Manu Bhai,Naveenpittu,Evatira Sangma,JAGANNADH...\n",
      "1462  B009P2LIL4  Nehal Desai,Danish Parwez,Amazon Customer,Amaz...\n",
      "1463  B00J5DYCCA  Shubham Dubey,E.GURUBARAN,Mayank S.,eusuf khan...\n",
      "1464  B01486F4G6  Rajib,Ajay B,Vikas Kahol,PARDEEP,Anindya Prama...\n",
      "\n",
      "[1465 rows x 2 columns]\n"
     ]
    }
   ],
   "source": [
    "# displaying only in tw columns\n",
    "import pandas as pd \n",
    "df=pd.read_csv('/Users/apple/Downloads/amazon.csv')\n",
    "print(df.columns)\n",
    "print()\n",
    "print(df[[\"product_id\",\"user_name\"]])"
   ]
  },
  {
   "cell_type": "code",
   "execution_count": 4,
   "id": "3be5a2c0-99f2-4b68-ac6d-407cc65f733e",
   "metadata": {},
   "outputs": [
    {
     "name": "stdout",
     "output_type": "stream",
     "text": [
      "Index(['product_id', 'product_name', 'category', 'discounted_price',\n",
      "       'actual_price', 'discount_percentage', 'rating', 'rating_count',\n",
      "       'about_product', 'user_id', 'user_name', 'review_id'],\n",
      "      dtype='object')\n",
      "\n",
      "                                                user_id rating\n",
      "0     AG3D6O4STAQKAY2UVGEUV46KN35Q,AHMY5CWJMMK5BJRBB...    4.2\n",
      "1     AECPFYFQVRUWC3KGNLJIOREFP5LQ,AGYYVPDD7YG7FYNBX...      4\n",
      "2     AGU3BBQ2V2DDAMOAKGFAWDDQ6QHA,AESFLDV2PT363T2AQ...    3.9\n",
      "3     AEWAZDZZJLQUYVOVGBEUKSLXHQ5A,AG5HTSFRRE6NL3M5S...    4.2\n",
      "4     AE3Q6KSUK5P75D5HFYHCRAOLODSA,AFUGIFH5ZAFXRDSZH...    4.2\n",
      "...                                                 ...    ...\n",
      "1460  AHITFY6AHALOFOHOZEOC6XBP4FEA,AFRABBODZJZQB6Z4U...      4\n",
      "1461  AFG5FM3NEMOL6BNFRV2NK5FNJCHQ,AGEINTRN6Z563RMLH...    4.1\n",
      "1462  AGVPWCMAHYQWJOQKMUJN4DW3KM5Q,AF4Q3E66MY4SR7YQZ...    3.6\n",
      "1463  AF2JQCLSCY3QJATWUNNHUSVUPNQQ,AFDMLUXC5LS5RXDJS...      4\n",
      "1464  AFGW5PT3R6ZAVQR4Y5MWVAKBZAYA,AG7QNJ2SCS5VS5VYY...    4.3\n",
      "\n",
      "[1465 rows x 2 columns]\n"
     ]
    }
   ],
   "source": [
    "import pandas as pd\n",
    "df=pd.read_csv('/Users/apple/Downloads/amazon.csv')\n",
    "print(df.columns)\n",
    "print()\n",
    "col=[\"user_id\",\"rating\"]\n",
    "print(df[col])"
   ]
  },
  {
   "cell_type": "code",
   "execution_count": 8,
   "id": "1decad58-dd85-4277-8bb2-4291e05fd4ab",
   "metadata": {},
   "outputs": [
    {
     "name": "stdout",
     "output_type": "stream",
     "text": [
      "      product_id actual_price\n",
      "0     B07JW9H4J1       ₹1,099\n",
      "1     B098NS6PVG         ₹349\n",
      "2     B096MSW6CT       ₹1,899\n",
      "3     B08HDJ86NZ         ₹699\n",
      "4     B08CF3B7N1         ₹399\n",
      "...          ...          ...\n",
      "1460  B08L7J3T31         ₹919\n",
      "1461  B01M6453MB       ₹3,045\n",
      "1462  B009P2LIL4       ₹3,080\n",
      "1463  B00J5DYCCA       ₹1,890\n",
      "1464  B01486F4G6       ₹3,690\n",
      "\n",
      "[1465 rows x 2 columns]\n"
     ]
    }
   ],
   "source": [
    "# converting Dataframe to csv files\n",
    "import pandas as pd \n",
    "df=pd.read_csv('/Users/apple/Downloads/amazon.csv')\n",
    "col=[\"product_id\",\"actual_price\"]\n",
    "df1=df[col]\n",
    "df1.to_csv(\"kishanid.csv\")\n",
    "print(df1)"
   ]
  },
  {
   "cell_type": "code",
   "execution_count": 15,
   "id": "f6aa1b0f-cbb6-4123-a5c6-ecd8e64dcc3c",
   "metadata": {},
   "outputs": [
    {
     "name": "stdout",
     "output_type": "stream",
     "text": [
      "Index(['product_id', 'product_name', 'category', 'discounted_price',\n",
      "       'actual_price', 'discount_percentage', 'rating', 'rating_count',\n",
      "       'about_product', 'user_id', 'user_name', 'review_id'],\n",
      "      dtype='object')\n",
      "\n"
     ]
    }
   ],
   "source": [
    "# converting DataFrame to csv file\n",
    "import pandas as pd\n",
    "df=pd.read_csv('/Users/apple/Downloads/amazon.csv')\n",
    "print(df.columns)\n",
    "print()\n",
    "col=[\"product_id\",\"product_name\"]\n",
    "df1=df[col]\n",
    "df1.to_csv(\"kishanid2\")"
   ]
  },
  {
   "cell_type": "code",
   "execution_count": 25,
   "id": "68b928d5-bdac-485e-9580-a7bbb7bdb781",
   "metadata": {},
   "outputs": [
    {
     "name": "stdout",
     "output_type": "stream",
     "text": [
      "Index(['Store', 'Date', 'Weekly_Sales', 'Holiday_Flag', 'Temperature',\n",
      "       'Fuel_Price', 'CPI', 'Unemployment'],\n",
      "      dtype='object')\n",
      "\n",
      "0       1643690.90\n",
      "1       1641957.44\n",
      "2       1611968.17\n",
      "3       1409727.59\n",
      "4       1554806.68\n",
      "           ...    \n",
      "6430     713173.95\n",
      "6431     733455.07\n",
      "6432     734464.36\n",
      "6433     718125.53\n",
      "6434     760281.43\n",
      "Name: Weekly_Sales, Length: 6435, dtype: float64\n",
      "\n",
      "\n",
      "=> total sales sum\n",
      "6737218987.11\n"
     ]
    }
   ],
   "source": [
    "import pandas as pd\n",
    "df=pd.read_csv(\"/Users/apple/Downloads/Walmart_Sales.csv\")\n",
    "print(df.columns)\n",
    "print()\n",
    "print(df[\"Weekly_Sales\"])\n",
    "print()\n",
    "s=df[\"Weekly_Sales\"]\n",
    "print()\n",
    "print(\"=> total sales sum\")\n",
    "print(s.sum())"
   ]
  },
  {
   "cell_type": "markdown",
   "id": "9c6b8521-3dad-4f55-b321-343c83423bac",
   "metadata": {},
   "source": [
    "### 3. Rearranging columns in DataFrame\n",
    "- We can rearranging columns in DataFrame\n",
    "- We can customise the order of columns in DataFrame"
   ]
  },
  {
   "cell_type": "code",
   "execution_count": 33,
   "id": "75a314a7-cbfb-431a-a87a-dbf77ee1c9f7",
   "metadata": {},
   "outputs": [
    {
     "name": "stdout",
     "output_type": "stream",
     "text": [
      "Index(['Store', 'Date', 'Weekly_Sales', 'Holiday_Flag', 'Temperature',\n",
      "       'Fuel_Price', 'CPI', 'Unemployment'],\n",
      "      dtype='object')\n",
      "(6435, 8)\n",
      "      Store        Date  Weekly_Sales  Holiday_Flag  Temperature  Fuel_Price  \\\n",
      "0         1  05-02-2010    1643690.90             0        42.31       2.572   \n",
      "1         1  12-02-2010    1641957.44             1        38.51       2.548   \n",
      "2         1  19-02-2010    1611968.17             0        39.93       2.514   \n",
      "3         1  26-02-2010    1409727.59             0        46.63       2.561   \n",
      "4         1  05-03-2010    1554806.68             0        46.50       2.625   \n",
      "...     ...         ...           ...           ...          ...         ...   \n",
      "6430     45  28-09-2012     713173.95             0        64.88       3.997   \n",
      "6431     45  05-10-2012     733455.07             0        64.89       3.985   \n",
      "6432     45  12-10-2012     734464.36             0        54.47       4.000   \n",
      "6433     45  19-10-2012     718125.53             0        56.47       3.969   \n",
      "6434     45  26-10-2012     760281.43             0        58.85       3.882   \n",
      "\n",
      "             CPI  Unemployment  \n",
      "0     211.096358         8.106  \n",
      "1     211.242170         8.106  \n",
      "2     211.289143         8.106  \n",
      "3     211.319643         8.106  \n",
      "4     211.350143         8.106  \n",
      "...          ...           ...  \n",
      "6430  192.013558         8.684  \n",
      "6431  192.170412         8.667  \n",
      "6432  192.327265         8.667  \n",
      "6433  192.330854         8.667  \n",
      "6434  192.308899         8.667  \n",
      "\n",
      "[6435 rows x 8 columns]\n",
      "\n",
      "\n",
      "             CPI        Date  Fuel_Price  Holiday_Flag  Store  Temperature  \\\n",
      "0     211.096358  05-02-2010       2.572             0      1        42.31   \n",
      "1     211.242170  12-02-2010       2.548             1      1        38.51   \n",
      "2     211.289143  19-02-2010       2.514             0      1        39.93   \n",
      "3     211.319643  26-02-2010       2.561             0      1        46.63   \n",
      "4     211.350143  05-03-2010       2.625             0      1        46.50   \n",
      "...          ...         ...         ...           ...    ...          ...   \n",
      "6430  192.013558  28-09-2012       3.997             0     45        64.88   \n",
      "6431  192.170412  05-10-2012       3.985             0     45        64.89   \n",
      "6432  192.327265  12-10-2012       4.000             0     45        54.47   \n",
      "6433  192.330854  19-10-2012       3.969             0     45        56.47   \n",
      "6434  192.308899  26-10-2012       3.882             0     45        58.85   \n",
      "\n",
      "      Unemployment  Weekly_Sales  \n",
      "0            8.106    1643690.90  \n",
      "1            8.106    1641957.44  \n",
      "2            8.106    1611968.17  \n",
      "3            8.106    1409727.59  \n",
      "4            8.106    1554806.68  \n",
      "...            ...           ...  \n",
      "6430         8.684     713173.95  \n",
      "6431         8.667     733455.07  \n",
      "6432         8.667     734464.36  \n",
      "6433         8.667     718125.53  \n",
      "6434         8.667     760281.43  \n",
      "\n",
      "[6435 rows x 8 columns]\n"
     ]
    }
   ],
   "source": [
    "import pandas as pd\n",
    "df=pd.read_csv(\"/Users/apple/Downloads/Walmart_Sales.csv\")\n",
    "print(df.columns)\n",
    "print(df.shape)\n",
    "print(df)\n",
    "print()\n",
    "print()\n",
    "col=['CPI','Date','Fuel_Price','Holiday_Flag','Store','Temperature','Unemployment','Weekly_Sales',]\n",
    "df1=df[col]\n",
    "print(df1)"
   ]
  },
  {
   "cell_type": "code",
   "execution_count": null,
   "id": "948ad3ff-3a17-477a-87f0-90578e38a41c",
   "metadata": {},
   "outputs": [],
   "source": []
  },
  {
   "cell_type": "code",
   "execution_count": null,
   "id": "b46210f6-bca9-4ffa-88f7-e282f3c097e6",
   "metadata": {},
   "outputs": [],
   "source": []
  },
  {
   "cell_type": "code",
   "execution_count": null,
   "id": "04d5f2f5-a5a8-46ad-99ef-d44dd59c98dc",
   "metadata": {},
   "outputs": [],
   "source": []
  },
  {
   "cell_type": "markdown",
   "id": "82638abc-4438-4e91-b700-455b132b4613",
   "metadata": {},
   "source": [
    "# SUMMARY"
   ]
  },
  {
   "cell_type": "markdown",
   "id": "88998725-9ec4-4312-85f7-dcf108728845",
   "metadata": {},
   "source": [
    "1. Series methods\n",
    "   - head()\n",
    "   - tail()\n",
    "   - info()\n",
    "   - describe()\n",
    "   - count()\n",
    "   - nunique()"
   ]
  },
  {
   "cell_type": "code",
   "execution_count": null,
   "id": "48fe4be9-cd6c-4a65-aeb6-c560ed50635b",
   "metadata": {},
   "outputs": [],
   "source": []
  }
 ],
 "metadata": {
  "kernelspec": {
   "display_name": "Python [conda env:base] *",
   "language": "python",
   "name": "conda-base-py"
  },
  "language_info": {
   "codemirror_mode": {
    "name": "ipython",
    "version": 3
   },
   "file_extension": ".py",
   "mimetype": "text/x-python",
   "name": "python",
   "nbconvert_exporter": "python",
   "pygments_lexer": "ipython3",
   "version": "3.13.5"
  }
 },
 "nbformat": 4,
 "nbformat_minor": 5
}
