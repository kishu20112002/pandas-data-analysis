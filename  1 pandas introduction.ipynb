{
 "cells": [
  {
   "cell_type": "markdown",
   "id": "fd77686d",
   "metadata": {},
   "source": [
    "# 1 Panda - Introduction\n",
    "\n"
   ]
  },
  {
   "cell_type": "markdown",
   "id": "1f03cf53",
   "metadata": {},
   "source": [
    "- Pandas is an open source python library\n",
    "- Panda have powerful data structure\n",
    "- python data struture \n",
    " 1) list\n",
    " 2) tuple\n",
    " 3) set\n",
    " 4) dictionary\n",
    "- pandas data structure           (in real life we use only 2 )\n",
    " 1) Series\n",
    " 2) DataFrame\n",
    " 3) Panel"
   ]
  },
  {
   "cell_type": "markdown",
   "id": "2440310e",
   "metadata": {},
   "source": [
    "# 4 Data Analysis\n",
    "\n",
    "- coin => Head + Tail\n",
    "- Data science => Data Analsys + model creation (machine learning)\n",
    "- Is is process of cleaning , transforming and modeling data to discover \n",
    "- The purpose of Data analysis is to extract useful information from data and taking decision based upon the data analysis\n",
    "- Data analysis become very easy after pandas was introduced to this world"
   ]
  },
  {
   "cell_type": "code",
   "execution_count": 3,
   "id": "de4eedde",
   "metadata": {},
   "outputs": [
    {
     "name": "stdout",
     "output_type": "stream",
     "text": [
      "[1, 2, 3, 4, 5, 6, 7, 8, 9, 10]\n",
      "1\n",
      "10\n",
      "55\n"
     ]
    }
   ],
   "source": [
    "a=[1,2,3,4,5,6,7,8,9,10]\n",
    "print(a)\n",
    "print(min(a))\n",
    "print(max(a))\n",
    "print(sum(a))"
   ]
  },
  {
   "cell_type": "markdown",
   "id": "d8b2133a",
   "metadata": {},
   "source": [
    "## Data analysis \n",
    "- min , max sum Data analysis operations\n",
    "- above operation we can do by using pandas"
   ]
  },
  {
   "cell_type": "markdown",
   "id": "ba088fd0",
   "metadata": {},
   "source": [
    "# 3 Main using \n",
    "- main usage of pandas is analysing the data \n",
    "- by using pands we can do below things  are  \n",
    "-                   data loading \n",
    "-                   data prepation\n",
    "-                   data manipulation \n",
    "-                   data analysis & eyc"
   ]
  },
  {
   "cell_type": "markdown",
   "id": "bbe4b692",
   "metadata": {},
   "source": [
    "# 4 Creator\n",
    "- Pandans created by wes Mckinney in the year 2008"
   ]
  },
  {
   "cell_type": "markdown",
   "id": "e7abe96c",
   "metadata": {},
   "source": [
    "# 5 Key feature \n",
    "- Its very easy to load different file formats of data\n",
    "- Handling missing data \n",
    "- Reshaping the data\n",
    "- Grouping the data \n",
    "- Indexing and label - based slicing \n",
    "- Easily insert and delete columns from data \n",
    "- Operations like aggregation and transformations\n",
    "- High performance merging and joining of data and many of other boss"
   ]
  },
  {
   "cell_type": "markdown",
   "id": "de3f9d9a",
   "metadata": {},
   "source": [
    "# 6 open source \n",
    "- pandas is an open source means its free"
   ]
  },
  {
   "cell_type": "markdown",
   "id": "fe6aa01c",
   "metadata": {},
   "source": [
    "# 7 Environment setup/pandas installation \n",
    "- open command prompt and execute below command \n",
    "- pip install pandas"
   ]
  },
  {
   "cell_type": "markdown",
   "id": "404ec62a",
   "metadata": {},
   "source": [
    "# 8 pip command in python \n",
    "- pip stands for python installer package \n",
    "- pip is a package mangements system\n",
    "- it is used to install and manger software packages \n",
    "- pip install and mangage software packages \n",
    "- pip install pandas"
   ]
  },
  {
   "cell_type": "markdown",
   "id": "e224a0f8",
   "metadata": {},
   "source": [
    "# 9 Check installed python library \n",
    "- We can check installed python library by using belew command \n",
    "- pip show pandas "
   ]
  },
  {
   "cell_type": "markdown",
   "id": "66abc6b0",
   "metadata": {},
   "source": [
    "# 10 pandas data structure\n",
    "- one of the important features in pandas is data structures.\n",
    "- There are mainly 3 types of data structures in pandas \n",
    "\n",
    "Data structure  - Dimentionality  - \n",
    "- series    -    1D                 Column\n",
    "- Dataframe     - 2D                Rows & Columns\n",
    "- Panel         -  3D           Group of Dataframe\n",
    "\n",
    "- Data structure => 1.storing the data\n",
    "-               => 2> Procesing the data \n",
    "\n",
    "- Type of data structures\n",
    "- 1. series => \n",
    "- 2. DataFrame =>\n",
    "- 3. Panel =>"
   ]
  },
  {
   "cell_type": "markdown",
   "id": "a7d161cd",
   "metadata": {},
   "source": [
    "## 11 Series\n",
    "-   A series is similar to a single column of data \n",
    "- ex \n",
    "-  Series\n",
    "\n",
    "-   apples\n",
    "- 0     3\n",
    "- 1     2\n",
    "- 2     0\n",
    "- 3     1"
   ]
  },
  {
   "cell_type": "markdown",
   "id": "a80d8516",
   "metadata": {},
   "source": [
    "# 12 Dataframe \n",
    "- A Dataframe is similar to a table which contains rows and columns of data\n",
    "-  DataFrame\n",
    "-       Apples      oranges\n",
    "- 0         3           0\n",
    "- 1         2           3\n",
    "- 2         0           7\n",
    "- 3         1           0\n",
    "- 4         3           4"
   ]
  },
  {
   "cell_type": "markdown",
   "id": "f151b726",
   "metadata": {},
   "source": [
    "# 14 Panel\n",
    "- A Panel is a group of DataFrames of data \n",
    "\n",
    "## Mostly used \n",
    "- The most widely used data structures are the Series and the DataFrame>\n",
    "- Series and DataFrames deal with array data and Tabulat data respectively \n",
    "- array means Group of data\n",
    "\n",
    "## Realtionship \n",
    "- Series having single coloumn \n",
    "- DataFrame can have multiple Series \n",
    "- Panel has multiple DataFrames"
   ]
  },
  {
   "cell_type": "markdown",
   "id": "69be731b",
   "metadata": {},
   "source": [
    "# 11. Importing pandas \n",
    "- We can imports pandas package by using import keyword \n",
    "\n",
    "- Program   importing pandas \n",
    "- Name      demo1.py\n",
    "\n",
    "\n",
    "-            import pandas \n",
    "-            print(\"pandas imported successfully\")\n",
    "\n",
    "- output    \n",
    "\n",
    "-            pandas imported sucessfully \n",
    "\n"
   ]
  },
  {
   "cell_type": "code",
   "execution_count": 1,
   "id": "d7b5dc1e",
   "metadata": {},
   "outputs": [
    {
     "name": "stdout",
     "output_type": "stream",
     "text": [
      " pandas imported  successfully \n"
     ]
    }
   ],
   "source": [
    "import pandas\n",
    "print(\" pandas imported  successfully \")\n"
   ]
  },
  {
   "cell_type": "code",
   "execution_count": 1,
   "id": "aec9283a-1f4c-4e27-b654-a2dc8cb86358",
   "metadata": {},
   "outputs": [
    {
     "name": "stdout",
     "output_type": "stream",
     "text": [
      "Original DataFrame:\n",
      "      Name  Age      City\n",
      "0    Alice   25  New York\n",
      "1      Bob   30    London\n",
      "2  Charlie   35     Paris\n",
      "3    David   40     Tokyo\n"
     ]
    }
   ],
   "source": [
    "import pandas as pd\n",
    "\n",
    "# Create a dictionary to hold data\n",
    "data = {\n",
    "    'Name': ['Alice', 'Bob', 'Charlie', 'David'],\n",
    "    'Age': [25, 30, 35, 40],\n",
    "    'City': ['New York', 'London', 'Paris', 'Tokyo']\n",
    "}\n",
    "\n",
    "# Create a DataFrame from the dictionary\n",
    "df = pd.DataFrame(data)\n",
    "\n",
    "print(\"Original DataFrame:\")\n",
    "print(df)"
   ]
  },
  {
   "cell_type": "markdown",
   "id": "8fa92ca8-e764-4568-80cd-64890a0f2762",
   "metadata": {},
   "source": [
    "### 12 Aliasing or renaming pandas \n",
    "- We can allas or rename pandas name\n",
    "- As per python syntax we need to used as keyword to allas pandas name\n",
    "\n",
    "\n",
    "### 12.1 why aliasing boss?\n",
    "- let me give one best example\n",
    "- my name is kishan kumar gouda , yu can call by kishu instead of full name for simplicy\n",
    "\n",
    "\n",
    "### 12.2 Famous alias name to pandas\n",
    "- we can give alias name to pandas.\n",
    "- note this name can be any name but the famous alias name is pd\n",
    "\n",
    "\n",
    "### 12.3 Specialty of alias name as pd \n",
    "- Here in our example we have given alias name as pd\n",
    "- We can provide any name as alias name\n",
    "- Real time developers habituated to given alias name as pd\n",
    "- So , its universal alias name"
   ]
  },
  {
   "cell_type": "markdown",
   "id": "fa4fcd1b-3e00-4c3f-af2b-85d9aaccb3ad",
   "metadata": {},
   "source": [
    "# => SUMMARY\n"
   ]
  },
  {
   "cell_type": "markdown",
   "id": "a408fa71-3870-4bfe-a0c3-1fecdc95db5c",
   "metadata": {},
   "source": [
    "=> PANDAS DATA STRUCTURE \n",
    "1. Series\n",
    "2. DataFrame\n",
    "3. panel"
   ]
  },
  {
   "cell_type": "code",
   "execution_count": null,
   "id": "97c811da-b0d2-4ed5-b61b-3a53bb3ac2e6",
   "metadata": {},
   "outputs": [],
   "source": []
  }
 ],
 "metadata": {
  "kernelspec": {
   "display_name": "Python [conda env:base] *",
   "language": "python",
   "name": "conda-base-py"
  },
  "language_info": {
   "codemirror_mode": {
    "name": "ipython",
    "version": 3
   },
   "file_extension": ".py",
   "mimetype": "text/x-python",
   "name": "python",
   "nbconvert_exporter": "python",
   "pygments_lexer": "ipython3",
   "version": "3.13.5"
  }
 },
 "nbformat": 4,
 "nbformat_minor": 5
}
