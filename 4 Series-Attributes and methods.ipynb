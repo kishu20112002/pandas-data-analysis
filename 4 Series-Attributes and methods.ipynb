{
 "cells": [
  {
   "cell_type": "markdown",
   "id": "42c1376a-da8c-488e-bc57-cd7690a1c623",
   "metadata": {},
   "source": [
    "# Series - Attributes and Methods"
   ]
  },
  {
   "cell_type": "markdown",
   "id": "0c5e3ce5-ec58-4a76-8596-b0502a291ae1",
   "metadata": {},
   "source": [
    "### 1. Series Attributes\n",
    "- Series is a predefined class\n",
    "- Series having different attributes\n",
    "- These attributes returen infomation about the object "
   ]
  },
  {
   "cell_type": "markdown",
   "id": "d2a2bd0b-ad28-4933-bf9b-827018a27c3d",
   "metadata": {},
   "source": [
    "### Values\n",
    "- values is predefined attributes in Series class\n",
    "- values can acess values attribute by using series object\n",
    "- This attribute return the group of value as an array"
   ]
  },
  {
   "cell_type": "code",
   "execution_count": 3,
   "id": "71a7b49a-ceba-429b-bd4d-a40fee40bd11",
   "metadata": {},
   "outputs": [
    {
     "name": "stdout",
     "output_type": "stream",
     "text": [
      "0    10\n",
      "1    20\n",
      "2    30\n",
      "3    40\n",
      "4    50\n",
      "dtype: int64\n"
     ]
    }
   ],
   "source": [
    "import pandas as pd\n",
    "l=[10,20,30,40,50]\n",
    "s=pd.Series(l)\n",
    "print(s)\n"
   ]
  },
  {
   "cell_type": "code",
   "execution_count": 32,
   "id": "8256a844-a189-405b-953e-81128dda8558",
   "metadata": {},
   "outputs": [
    {
     "name": "stdout",
     "output_type": "stream",
     "text": [
      "kishan\n",
      "101\n",
      "benglore\n"
     ]
    }
   ],
   "source": [
    "class employee:\n",
    "    def __init__(self,name,number,location):\n",
    "        self.name=name\n",
    "        self.number=number\n",
    "        self.location=location\n",
    "d=employee(\"kishan\",101,\"benglore\")\n",
    "\n",
    "print(d.name)   # name is called as attributre/instance variable \n",
    "print(d.number) # number is called as attribute/instance variable\n",
    "print(d.location) # location is called as attribute/instance variable"
   ]
  },
  {
   "cell_type": "code",
   "execution_count": 14,
   "id": "6bcef81f-87bd-4ba3-90b8-8e5da9f1f6a0",
   "metadata": {},
   "outputs": [
    {
     "name": "stdout",
     "output_type": "stream",
     "text": [
      "Series object created and loaded with data ,object name is s\n",
      "0    10\n",
      "1    20\n",
      "2    30\n",
      "3    40\n",
      "dtype: int64\n",
      "[10 20 30 40]\n"
     ]
    }
   ],
   "source": [
    "import pandas as pd\n",
    "a=[10,20,30,40]\n",
    "s=pd.Series(a)\n",
    "print(\"Series object created and loaded with data ,object name is s\")\n",
    "print(s)\n",
    "print(s.values)  # we can check how many values are there by this functio"
   ]
  },
  {
   "cell_type": "code",
   "execution_count": 1,
   "id": "f178c531-9c64-40ab-b4b4-8bbe0e44a4e9",
   "metadata": {},
   "outputs": [
    {
     "name": "stdout",
     "output_type": "stream",
     "text": [
      "0    bharath\n",
      "1     daniel\n",
      "2     kishan\n",
      "dtype: object\n",
      "['bharath' 'daniel' 'kishan']\n",
      "\n",
      "RangeIndex(start=0, stop=3, step=1)\n"
     ]
    }
   ],
   "source": [
    " import pandas as pd \n",
    "name=[\"bharath\",\"daniel\",\"kishan\"]\n",
    "s=pd.Series(name)\n",
    "print(s)\n",
    "print(s.values)\n",
    "print()\n",
    "print(s.index)"
   ]
  },
  {
   "cell_type": "code",
   "execution_count": 17,
   "id": "83fd99e8-9223-43fd-9cd6-08933647bc7f",
   "metadata": {},
   "outputs": [
    {
     "name": "stdout",
     "output_type": "stream",
     "text": [
      "\n",
      "['T', '_AXIS_LEN', '_AXIS_ORDERS', '_AXIS_TO_AXIS_NUMBER', '_HANDLED_TYPES', '__abs__', '__add__', '__and__', '__annotations__', '__array__', '__array_priority__', '__array_ufunc__', '__bool__', '__class__', '__column_consortium_standard__', '__contains__', '__copy__', '__deepcopy__', '__delattr__', '__delitem__', '__dict__', '__dir__', '__divmod__', '__doc__', '__eq__', '__finalize__', '__firstlineno__', '__float__', '__floordiv__', '__format__', '__ge__', '__getattr__', '__getattribute__', '__getitem__', '__getstate__', '__gt__', '__hash__', '__iadd__', '__iand__', '__ifloordiv__', '__imod__', '__imul__', '__init__', '__init_subclass__', '__int__', '__invert__', '__ior__', '__ipow__', '__isub__', '__iter__', '__itruediv__', '__ixor__', '__le__', '__len__', '__lt__', '__matmul__', '__mod__', '__module__', '__mul__', '__ne__', '__neg__', '__new__', '__nonzero__', '__or__', '__pandas_priority__', '__pos__', '__pow__', '__radd__', '__rand__', '__rdivmod__', '__reduce__', '__reduce_ex__', '__repr__', '__rfloordiv__', '__rmatmul__', '__rmod__', '__rmul__', '__ror__', '__round__', '__rpow__', '__rsub__', '__rtruediv__', '__rxor__', '__setattr__', '__setitem__', '__setstate__', '__sizeof__', '__static_attributes__', '__str__', '__sub__', '__subclasshook__', '__truediv__', '__weakref__', '__xor__', '_accessors', '_accum_func', '_agg_examples_doc', '_agg_see_also_doc', '_align_for_op', '_align_frame', '_align_series', '_append', '_arith_method', '_as_manager', '_attrs', '_binop', '_can_hold_na', '_check_inplace_and_allows_duplicate_labels', '_check_is_chained_assignment_possible', '_check_label_or_level_ambiguity', '_check_setitem_copy', '_clear_item_cache', '_clip_with_one_bound', '_clip_with_scalar', '_cmp_method', '_consolidate', '_consolidate_inplace', '_construct_axes_dict', '_construct_result', '_constructor', '_constructor_expanddim', '_constructor_expanddim_from_mgr', '_constructor_from_mgr', '_data', '_deprecate_downcast', '_dir_additions', '_dir_deletions', '_drop_axis', '_drop_labels_or_levels', '_duplicated', '_find_valid_index', '_flags', '_flex_method', '_from_mgr', '_get_axis', '_get_axis_name', '_get_axis_number', '_get_axis_resolvers', '_get_block_manager_axis', '_get_bool_data', '_get_cacher', '_get_cleaned_column_resolvers', '_get_index_resolvers', '_get_label_or_level_values', '_get_numeric_data', '_get_rows_with_mask', '_get_value', '_get_values_tuple', '_get_with', '_getitem_slice', '_gotitem', '_hidden_attrs', '_indexed_same', '_info_axis', '_info_axis_name', '_info_axis_number', '_init_dict', '_init_mgr', '_inplace_method', '_internal_names', '_internal_names_set', '_is_cached', '_is_copy', '_is_label_or_level_reference', '_is_label_reference', '_is_level_reference', '_is_mixed_type', '_is_view', '_is_view_after_cow_rules', '_item_cache', '_ixs', '_logical_func', '_logical_method', '_map_values', '_maybe_update_cacher', '_memory_usage', '_metadata', '_mgr', '_min_count_stat_function', '_name', '_needs_reindex_multi', '_pad_or_backfill', '_protect_consolidate', '_reduce', '_references', '_reindex_axes', '_reindex_indexer', '_reindex_multi', '_reindex_with_indexers', '_rename', '_replace_single', '_repr_data_resource_', '_repr_latex_', '_reset_cache', '_reset_cacher', '_set_as_cached', '_set_axis', '_set_axis_name', '_set_axis_nocheck', '_set_is_copy', '_set_labels', '_set_name', '_set_value', '_set_values', '_set_with', '_set_with_engine', '_shift_with_freq', '_slice', '_stat_function', '_stat_function_ddof', '_take_with_is_copy', '_to_latex_via_styler', '_typ', '_update_inplace', '_validate_dtype', '_values', '_where', 'abs', 'add', 'add_prefix', 'add_suffix', 'agg', 'aggregate', 'align', 'all', 'any', 'apply', 'argmax', 'argmin', 'argsort', 'array', 'asfreq', 'asof', 'astype', 'at', 'at_time', 'attrs', 'autocorr', 'axes', 'backfill', 'between', 'between_time', 'bfill', 'bool', 'case_when', 'clip', 'combine', 'combine_first', 'compare', 'convert_dtypes', 'copy', 'corr', 'count', 'cov', 'cummax', 'cummin', 'cumprod', 'cumsum', 'describe', 'diff', 'div', 'divide', 'divmod', 'dot', 'drop', 'drop_duplicates', 'droplevel', 'dropna', 'dtype', 'dtypes', 'duplicated', 'empty', 'eq', 'equals', 'ewm', 'expanding', 'explode', 'factorize', 'ffill', 'fillna', 'filter', 'first', 'first_valid_index', 'flags', 'floordiv', 'ge', 'get', 'groupby', 'gt', 'hasnans', 'head', 'hist', 'iat', 'idxmax', 'idxmin', 'iloc', 'index', 'infer_objects', 'info', 'interpolate', 'is_monotonic_decreasing', 'is_monotonic_increasing', 'is_unique', 'isin', 'isna', 'isnull', 'item', 'items', 'keys', 'kurt', 'kurtosis', 'last', 'last_valid_index', 'le', 'list', 'loc', 'lt', 'map', 'mask', 'max', 'mean', 'median', 'memory_usage', 'min', 'mod', 'mode', 'mul', 'multiply', 'name', 'nbytes', 'ndim', 'ne', 'nlargest', 'notna', 'notnull', 'nsmallest', 'nunique', 'pad', 'pct_change', 'pipe', 'plot', 'pop', 'pow', 'prod', 'product', 'quantile', 'radd', 'rank', 'ravel', 'rdiv', 'rdivmod', 'reindex', 'reindex_like', 'rename', 'rename_axis', 'reorder_levels', 'repeat', 'replace', 'resample', 'reset_index', 'rfloordiv', 'rmod', 'rmul', 'rolling', 'round', 'rpow', 'rsub', 'rtruediv', 'sample', 'searchsorted', 'sem', 'set_axis', 'set_flags', 'shape', 'shift', 'size', 'skew', 'sort_index', 'sort_values', 'squeeze', 'std', 'str', 'struct', 'sub', 'subtract', 'sum', 'swapaxes', 'swaplevel', 'tail', 'take', 'to_clipboard', 'to_csv', 'to_dict', 'to_excel', 'to_frame', 'to_hdf', 'to_json', 'to_latex', 'to_list', 'to_markdown', 'to_numpy', 'to_period', 'to_pickle', 'to_sql', 'to_string', 'to_timestamp', 'to_xarray', 'transform', 'transpose', 'truediv', 'truncate', 'tz_convert', 'tz_localize', 'unique', 'unstack', 'update', 'value_counts', 'values', 'var', 'view', 'where', 'xs']\n"
     ]
    }
   ],
   "source": [
    "# Q can we prove values and index are attirbutes in \n",
    "import pandas as pd\n",
    "s=pd.Series()\n",
    "print()\n",
    "print(dir(s))\n"
   ]
  },
  {
   "cell_type": "markdown",
   "id": "63f6347c-f536-4577-b3de-abe0e2e71f8a",
   "metadata": {},
   "source": [
    "### => Q purpose of attribute\n",
    "###  Get informaion\n",
    "###  return infomation \n",
    "###  => Purpose of methods is\n",
    "### perform an opeaion "
   ]
  },
  {
   "cell_type": "code",
   "execution_count": 2,
   "id": "f8e1106c-28bd-4726-8d6e-49c497b01d2e",
   "metadata": {},
   "outputs": [
    {
     "name": "stdout",
     "output_type": "stream",
     "text": [
      "10    kishan\n",
      "20     firoj\n",
      "30      pika\n",
      "dtype: object\n"
     ]
    }
   ],
   "source": [
    "import pandas as pd\n",
    "x=[\"kishan\",\"firoj\",\"pika\"]\n",
    "i=[10,20,30]\n",
    "s=pd.Series(x,index=i)\n",
    "print(s)"
   ]
  },
  {
   "cell_type": "code",
   "execution_count": 20,
   "id": "857f7274-9765-409f-8ccc-5bb74348add0",
   "metadata": {},
   "outputs": [
    {
     "name": "stdout",
     "output_type": "stream",
     "text": [
      "RangeIndex(start=0, stop=3, step=1)\n"
     ]
    }
   ],
   "source": [
    "print(s.index)  # only index value"
   ]
  },
  {
   "cell_type": "code",
   "execution_count": 21,
   "id": "6a0b5ec3-a5eb-4507-8dd4-38839c2c6bf4",
   "metadata": {},
   "outputs": [
    {
     "name": "stdout",
     "output_type": "stream",
     "text": [
      "['kishan' 'firoj' 'pika']\n"
     ]
    }
   ],
   "source": [
    "print(s.values)  # only values"
   ]
  },
  {
   "cell_type": "markdown",
   "id": "5788ca72-2f9c-4f50-9c00-bc6f65c25b2f",
   "metadata": {},
   "source": [
    "### 1.3 dtype\n",
    "- dtype is pre defined attribute in Series class>\n",
    "- We can acess dtype attribute by using Series object\n",
    "- This attribute returns data type of series column "
   ]
  },
  {
   "cell_type": "code",
   "execution_count": 40,
   "id": "19397a9d-6093-43fc-8695-7f5e8439a7c7",
   "metadata": {},
   "outputs": [
    {
     "name": "stdout",
     "output_type": "stream",
     "text": [
      "0    10\n",
      "1    20\n",
      "2    30\n",
      "3    40\n",
      "dtype: int64\n",
      "\n",
      "=> i have created Series object name is : s\n",
      "\n",
      "=> how to get data\n",
      "[10 20 30 40]\n",
      "\n",
      "=> how to get index\n",
      "RangeIndex(start=0, stop=4, step=1)\n",
      "\n",
      "=> how to get data type\n",
      "int64\n",
      "\n",
      "=> how many values in s object\n",
      "4\n",
      "\n",
      "4\n",
      "\n",
      "<bound method NDFrame.head of 0    10\n",
      "1    20\n",
      "2    30\n",
      "3    40\n",
      "dtype: int64>\n"
     ]
    }
   ],
   "source": [
    "import pandas as pd\n",
    "a=[10,20,30,40]\n",
    "s=pd.Series(a)\n",
    "print(s)\n",
    "print()\n",
    "print(\"=> i have created Series object name is : s\")\n",
    "print()\n",
    "print(\"=> how to get data\")\n",
    "print(s.values)\n",
    "print()\n",
    "print(\"=> how to get index\")\n",
    "print(s.index)\n",
    "print()\n",
    "print(\"=> how to get data type\")\n",
    "print(s.dtype)\n",
    "print()\n",
    "print(\"=> how many values in s object\")\n",
    "print(len(s))           # len(p) is function from python\n",
    "print()\n",
    "print(s.size)    # size is an attribute from pandas\n",
    "print()\n",
    "print(s.head)"
   ]
  },
  {
   "cell_type": "code",
   "execution_count": 36,
   "id": "121743af-2108-46fe-9f44-f0ee72a1a217",
   "metadata": {},
   "outputs": [
    {
     "data": {
      "text/plain": [
       "<bound method kishan.teaching of <__main__.kishan object at 0x142c48440>>"
      ]
     },
     "execution_count": 36,
     "metadata": {},
     "output_type": "execute_result"
    }
   ],
   "source": [
    "class kishan:\n",
    "    def teaching(self):\n",
    "        print(\"i like teaching only in free time\")\n",
    "d=kishan()\n",
    "d.teaching \n"
   ]
  },
  {
   "cell_type": "markdown",
   "id": "1da98c9a-6404-46bf-afbf-4ef9d408f8e5",
   "metadata": {},
   "source": [
    "- kishan    => name of the class\n",
    "- d         => name of the object\n",
    "- teaching  => name of the method in kishan class\n",
    "- d.teaching => Accessing the method\n",
    "- purpose    => perfrom an operation"
   ]
  },
  {
   "cell_type": "code",
   "execution_count": 43,
   "id": "49fde8ac-cd0b-4037-ace3-ef240bc1460f",
   "metadata": {},
   "outputs": [
    {
     "name": "stdout",
     "output_type": "stream",
     "text": [
      "i havae created Series object name is : s\n",
      "0     10\n",
      "1     20\n",
      "2     30\n",
      "3     40\n",
      "4     50\n",
      "5     60\n",
      "6     70\n",
      "7     80\n",
      "8     90\n",
      "9    100\n",
      "dtype: int64\n",
      "hey, i want to only top 5 values,can we see\n",
      "0    10\n",
      "1    20\n",
      "2    30\n",
      "3    40\n",
      "4    50\n",
      "dtype: int64\n"
     ]
    }
   ],
   "source": [
    "import pandas as pd\n",
    "a=[10,20,30,40,50,60,70,80,90,100]\n",
    "print(\"i havae created Series object name is : s\")\n",
    "s=pd.Series(a)\n",
    "print(s)\n",
    "print(\"hey, i want to only top 5 values,can we see\")\n",
    "print(s.head())      # head() method by defeult it display only 5\n"
   ]
  },
  {
   "cell_type": "code",
   "execution_count": 44,
   "id": "85b5b137-ac8b-421a-936e-c7b1cad0a616",
   "metadata": {},
   "outputs": [
    {
     "name": "stdout",
     "output_type": "stream",
     "text": [
      "0    10\n",
      "1    20\n",
      "2    30\n",
      "3    40\n",
      "4    50\n",
      "5    60\n",
      "6    70\n",
      "dtype: int64\n"
     ]
    }
   ],
   "source": [
    "# if we want more then\n",
    "print(s.head(7))"
   ]
  },
  {
   "cell_type": "markdown",
   "id": "4975bef2-647a-415a-94c2-4f52ce16a530",
   "metadata": {},
   "source": [
    "## Pandas-Series-Methods"
   ]
  },
  {
   "cell_type": "markdown",
   "id": "09126cca-6e9e-43dc-a4eb-d569996d4a70",
   "metadata": {},
   "source": [
    "### 1. Series Methods\n",
    "- Series is a predefined class\n",
    "- Series class having different methods\n",
    "- These methods perform operations on Series of value"
   ]
  },
  {
   "cell_type": "markdown",
   "id": "9a057678-97ec-47a6-8dfe-17c72943c383",
   "metadata": {},
   "source": [
    "### 1.1 head()\n",
    "- head() is predefined method in series class.\n",
    "- we can access head() method by using series object \n",
    "- This method returns first five values from the series"
   ]
  },
  {
   "cell_type": "code",
   "execution_count": 45,
   "id": "252298f1-231e-49b1-b5fc-9a0d2a387aa7",
   "metadata": {},
   "outputs": [
    {
     "name": "stdout",
     "output_type": "stream",
     "text": [
      "i havae created Series object name is : s\n",
      "0     10\n",
      "1     20\n",
      "2     30\n",
      "3     40\n",
      "4     50\n",
      "5     60\n",
      "6     70\n",
      "7     80\n",
      "8     90\n",
      "9    100\n",
      "dtype: int64\n",
      "hey, i want to only top 5 values,can we see\n",
      "0    10\n",
      "1    20\n",
      "2    30\n",
      "3    40\n",
      "4    50\n",
      "dtype: int64\n"
     ]
    }
   ],
   "source": [
    "import pandas as pd\n",
    "a=[10,20,30,40,50,60,70,80,90,100]\n",
    "print(\"i havae created Series object name is : s\")\n",
    "s=pd.Series(a)\n",
    "print(s)\n",
    "print(\"hey, i want to only top 5 values,can we see\")\n",
    "print(s.head())      # head() method by defeult it display only 5"
   ]
  },
  {
   "cell_type": "markdown",
   "id": "5b08155b-c548-4ce0-baf5-4ad9c897a498",
   "metadata": {},
   "source": [
    "### 1.2 tail()\n",
    "- tail() is predefined method in Series class.\n",
    "- we can access tail() method by using series object>\n",
    "- This method return last five values from the Series"
   ]
  },
  {
   "cell_type": "code",
   "execution_count": 47,
   "id": "2afd147b-0e43-4072-b29b-5c908fb2bfc2",
   "metadata": {},
   "outputs": [
    {
     "name": "stdout",
     "output_type": "stream",
     "text": [
      "0     10\n",
      "1     20\n",
      "2     30\n",
      "3     40\n",
      "4     50\n",
      "5     60\n",
      "6     70\n",
      "7     80\n",
      "8     90\n",
      "9    100\n",
      "dtype: int64\n",
      "\n",
      "5     60\n",
      "6     70\n",
      "7     80\n",
      "8     90\n",
      "9    100\n",
      "dtype: int64\n"
     ]
    }
   ],
   "source": [
    "import pandas as pd \n",
    "a=[10,20,30,40,50,60,70,80,90,100]\n",
    "s=pd.Series(a)\n",
    "print(s)\n",
    "print()\n",
    "print(s.tail())"
   ]
  },
  {
   "cell_type": "code",
   "execution_count": 50,
   "id": "36155e4a-9e52-4b51-be5d-0cce44c520f8",
   "metadata": {},
   "outputs": [
    {
     "name": "stdout",
     "output_type": "stream",
     "text": [
      "5     60\n",
      "6     70\n",
      "7     80\n",
      "8     90\n",
      "9    100\n",
      "dtype: int64\n"
     ]
    }
   ],
   "source": [
    "print(s.tail())"
   ]
  },
  {
   "cell_type": "markdown",
   "id": "2cde17f7-32c7-4e38-b18e-718f2f0f9012",
   "metadata": {},
   "source": [
    "### 1.3 Sum()\n",
    "- sum() is predefined method in series class\n",
    "- we can access sum() method by using series object\n",
    "- this method returns the sum of all values.\n",
    "- "
   ]
  },
  {
   "cell_type": "code",
   "execution_count": 55,
   "id": "cbd84969-a022-4ea3-84d1-df12890fbc2a",
   "metadata": {},
   "outputs": [
    {
     "name": "stdout",
     "output_type": "stream",
     "text": [
      " => i have created series object name is s : s\n",
      "0    10\n",
      "1    20\n",
      "2    30\n",
      "3    40\n",
      "4    50\n",
      "5    60\n",
      "6    70\n",
      "7    80\n",
      "dtype: int64\n",
      "\n",
      "inside i have loaded with all monday sales info\n",
      "can i get what is total bussiness on a\n",
      "\n",
      "360\n"
     ]
    }
   ],
   "source": [
    "import pandas as pd \n",
    "a=[10,20,30,40,50,60,70,80]\n",
    "s=pd.Series(a)\n",
    "print(\" => i have created series object name is s : s\")\n",
    "print(s)\n",
    "print()\n",
    "print(\"inside i have loaded with all monday sales info\")\n",
    "print(\"can i get what is total bussiness on a\")\n",
    "print()\n",
    "print(s.sum())"
   ]
  },
  {
   "cell_type": "code",
   "execution_count": 56,
   "id": "9a8a9672-c5b7-406c-9cbe-10292939d4ca",
   "metadata": {},
   "outputs": [
    {
     "name": "stdout",
     "output_type": "stream",
     "text": [
      "360\n"
     ]
    }
   ],
   "source": [
    "print(s.sum())"
   ]
  },
  {
   "cell_type": "markdown",
   "id": "cd7c8f07-c13d-4ba7-a81e-14010c2be71c",
   "metadata": {},
   "source": [
    "## s.values  => attribute\n",
    "## s.head()    => methods"
   ]
  },
  {
   "cell_type": "code",
   "execution_count": 72,
   "id": "e598fe2d-6cab-4f20-a040-1216572079be",
   "metadata": {},
   "outputs": [
    {
     "name": "stdout",
     "output_type": "stream",
     "text": [
      "0    1000.0\n",
      "1       NaN\n",
      "2    2000.0\n",
      "3       NaN\n",
      "4    1000.0\n",
      "5    3000.0\n",
      "dtype: float64\n",
      "\n",
      "6\n",
      "\n",
      "7000.0\n",
      "\n",
      "float64\n",
      "\n",
      "2\n"
     ]
    }
   ],
   "source": [
    "import pandas as pd\n",
    "m_sales=[1000,None,2000,None,1000,3000]\n",
    "s=pd.Series(m_sales)\n",
    "print(s)\n",
    "print()\n",
    "print(s.size)\n",
    "print()\n",
    "print(s.sum())\n",
    "print()\n",
    "print(s.dtype)\n",
    "print()\n",
    "print(s.isnull().sum())"
   ]
  },
  {
   "cell_type": "markdown",
   "id": "34ff59eb-4499-441d-9aa5-5e72b17daa82",
   "metadata": {},
   "source": [
    "### 1.4 count()\n",
    "- count() is predefined method in Series class\n",
    "- We can access count() method by using series object\n",
    "- This mehod returns the number of non- NAN/null values"
   ]
  },
  {
   "cell_type": "code",
   "execution_count": 2,
   "id": "b593e2f1-9084-43c1-a8bd-8daf4dc21ad0",
   "metadata": {},
   "outputs": [
    {
     "name": "stdout",
     "output_type": "stream",
     "text": [
      "0    56.0\n",
      "1    46.0\n",
      "2    34.0\n",
      "3    41.0\n",
      "4     NaN\n",
      "5    60.0\n",
      "6     NaN\n",
      "dtype: float64\n",
      "\n",
      "count \n",
      "5\n"
     ]
    }
   ],
   "source": [
    "import pandas as pd \n",
    "a=[56,46,34,41,None,60,None]\n",
    "s=pd.Series(a)\n",
    "print(s)\n",
    "print()\n",
    "print(\"count \")\n",
    "print(s.count())"
   ]
  },
  {
   "cell_type": "markdown",
   "id": "94dec05c-e6d1-42c5-8c6f-1fbef20ffdaa",
   "metadata": {},
   "source": [
    "1. Attributes => Returns infomation\n",
    "              => we need o access by using object name\n",
    "2. Series object. a) s.value\n",
    "                   b)s.index\n",
    "                   c) s.size\n",
    "                   d) s.dtype \n",
    "\n"
   ]
  },
  {
   "cell_type": "code",
   "execution_count": 2,
   "id": "ebd92d1f-6de4-49e7-9853-96c0949ef605",
   "metadata": {},
   "outputs": [
    {
     "name": "stdout",
     "output_type": "stream",
     "text": [
      "i like to teaching only in free time\n",
      "i like to eat roti\n"
     ]
    }
   ],
   "source": [
    "class Daniel:\n",
    "    def teaching(self):\n",
    "        print(\"i like to teaching only in free time\")\n",
    "    def eating(self):\n",
    "        print(\"i like to eat roti\")\n",
    "d=Daniel()\n",
    "d.teaching()\n",
    "d.eating()"
   ]
  },
  {
   "cell_type": "markdown",
   "id": "50411f01-4188-4fa0-adc7-e372b5d9f117",
   "metadata": {},
   "source": [
    "- class , def  => keywords\n",
    "- Daniel     => name of the class\n",
    "- teaching  => name of the method\n",
    "- eating  => name of the method\n",
    "- d=Daniel() => object creation\n",
    "- d.teaching()  => calling mehods\n",
    "- d.eating()    => calling methods"
   ]
  },
  {
   "cell_type": "markdown",
   "id": "abd77bd3-e969-4512-8edf-70393a2fdb38",
   "metadata": {},
   "source": [
    "### 1.5 mean()\n",
    "- mean() is predefined method in Series class\n",
    "- We can access mean() method by using series object\n",
    "- This method returns the mean of series of values\n",
    "  "
   ]
  },
  {
   "cell_type": "code",
   "execution_count": 8,
   "id": "35b7c6de-b160-459f-8d89-1d3aacc82bd0",
   "metadata": {},
   "outputs": [
    {
     "name": "stdout",
     "output_type": "stream",
     "text": [
      "0    10\n",
      "1    20\n",
      "2    30\n",
      "3    40\n",
      "4    50\n",
      "dtype: int64\n",
      "\n",
      " => Mean of the a \n",
      "30.0\n"
     ]
    }
   ],
   "source": [
    "import  pandas as pd\n",
    "a=[10,20,30,40,50]\n",
    "s=pd.Series(a)\n",
    "print(s)\n",
    "print()\n",
    "print(\" => Mean of the a \")\n",
    "print(s.mean())"
   ]
  },
  {
   "cell_type": "code",
   "execution_count": 5,
   "id": "186c78dd-c3ed-4c15-b3a4-3c7400254871",
   "metadata": {},
   "outputs": [
    {
     "name": "stdout",
     "output_type": "stream",
     "text": [
      "0    100\n",
      "1    200\n",
      "2    300\n",
      "dtype: int64\n",
      "\n",
      "200.0\n"
     ]
    }
   ],
   "source": [
    "import pandas as pd \n",
    "a=[100,200,300]\n",
    "s=pd.Series(a)\n",
    "print(s)\n",
    "print()\n",
    "print(s.mean())\n"
   ]
  },
  {
   "cell_type": "code",
   "execution_count": 9,
   "id": "4b64991a-ab6c-4b0f-aeda-2434e8c89ae2",
   "metadata": {},
   "outputs": [
    {
     "name": "stdout",
     "output_type": "stream",
     "text": [
      "0    37\n",
      "1    40\n",
      "2    36\n",
      "dtype: int64\n",
      "\n",
      "37.666666666666664\n"
     ]
    }
   ],
   "source": [
    "import pandas as pd\n",
    "mark=[37,40,36]\n",
    "s=pd.Series(mark)\n",
    "print(s)\n",
    "print()\n",
    "print(s.mean())"
   ]
  },
  {
   "cell_type": "code",
   "execution_count": 10,
   "id": "41d9c0d4-575c-4cea-b5c8-a5bf3ab146aa",
   "metadata": {},
   "outputs": [
    {
     "name": "stdout",
     "output_type": "stream",
     "text": [
      "['T', '_AXIS_LEN', '_AXIS_ORDERS', '_AXIS_TO_AXIS_NUMBER', '_HANDLED_TYPES', '__abs__', '__add__', '__and__', '__annotations__', '__array__', '__array_priority__', '__array_ufunc__', '__bool__', '__class__', '__column_consortium_standard__', '__contains__', '__copy__', '__deepcopy__', '__delattr__', '__delitem__', '__dict__', '__dir__', '__divmod__', '__doc__', '__eq__', '__finalize__', '__firstlineno__', '__float__', '__floordiv__', '__format__', '__ge__', '__getattr__', '__getattribute__', '__getitem__', '__getstate__', '__gt__', '__hash__', '__iadd__', '__iand__', '__ifloordiv__', '__imod__', '__imul__', '__init__', '__init_subclass__', '__int__', '__invert__', '__ior__', '__ipow__', '__isub__', '__iter__', '__itruediv__', '__ixor__', '__le__', '__len__', '__lt__', '__matmul__', '__mod__', '__module__', '__mul__', '__ne__', '__neg__', '__new__', '__nonzero__', '__or__', '__pandas_priority__', '__pos__', '__pow__', '__radd__', '__rand__', '__rdivmod__', '__reduce__', '__reduce_ex__', '__repr__', '__rfloordiv__', '__rmatmul__', '__rmod__', '__rmul__', '__ror__', '__round__', '__rpow__', '__rsub__', '__rtruediv__', '__rxor__', '__setattr__', '__setitem__', '__setstate__', '__sizeof__', '__static_attributes__', '__str__', '__sub__', '__subclasshook__', '__truediv__', '__weakref__', '__xor__', '_accessors', '_accum_func', '_agg_examples_doc', '_agg_see_also_doc', '_align_for_op', '_align_frame', '_align_series', '_append', '_arith_method', '_as_manager', '_attrs', '_binop', '_can_hold_na', '_check_inplace_and_allows_duplicate_labels', '_check_is_chained_assignment_possible', '_check_label_or_level_ambiguity', '_check_setitem_copy', '_clear_item_cache', '_clip_with_one_bound', '_clip_with_scalar', '_cmp_method', '_consolidate', '_consolidate_inplace', '_construct_axes_dict', '_construct_result', '_constructor', '_constructor_expanddim', '_constructor_expanddim_from_mgr', '_constructor_from_mgr', '_data', '_deprecate_downcast', '_dir_additions', '_dir_deletions', '_drop_axis', '_drop_labels_or_levels', '_duplicated', '_find_valid_index', '_flags', '_flex_method', '_from_mgr', '_get_axis', '_get_axis_name', '_get_axis_number', '_get_axis_resolvers', '_get_block_manager_axis', '_get_bool_data', '_get_cacher', '_get_cleaned_column_resolvers', '_get_index_resolvers', '_get_label_or_level_values', '_get_numeric_data', '_get_rows_with_mask', '_get_value', '_get_values_tuple', '_get_with', '_getitem_slice', '_gotitem', '_hidden_attrs', '_indexed_same', '_info_axis', '_info_axis_name', '_info_axis_number', '_init_dict', '_init_mgr', '_inplace_method', '_internal_names', '_internal_names_set', '_is_cached', '_is_copy', '_is_label_or_level_reference', '_is_label_reference', '_is_level_reference', '_is_mixed_type', '_is_view', '_is_view_after_cow_rules', '_item_cache', '_ixs', '_logical_func', '_logical_method', '_map_values', '_maybe_update_cacher', '_memory_usage', '_metadata', '_mgr', '_min_count_stat_function', '_name', '_needs_reindex_multi', '_pad_or_backfill', '_protect_consolidate', '_reduce', '_references', '_reindex_axes', '_reindex_indexer', '_reindex_multi', '_reindex_with_indexers', '_rename', '_replace_single', '_repr_data_resource_', '_repr_latex_', '_reset_cache', '_reset_cacher', '_set_as_cached', '_set_axis', '_set_axis_name', '_set_axis_nocheck', '_set_is_copy', '_set_labels', '_set_name', '_set_value', '_set_values', '_set_with', '_set_with_engine', '_shift_with_freq', '_slice', '_stat_function', '_stat_function_ddof', '_take_with_is_copy', '_to_latex_via_styler', '_typ', '_update_inplace', '_validate_dtype', '_values', '_where', 'abs', 'add', 'add_prefix', 'add_suffix', 'agg', 'aggregate', 'align', 'all', 'any', 'apply', 'argmax', 'argmin', 'argsort', 'array', 'asfreq', 'asof', 'astype', 'at', 'at_time', 'attrs', 'autocorr', 'axes', 'backfill', 'between', 'between_time', 'bfill', 'bool', 'case_when', 'clip', 'combine', 'combine_first', 'compare', 'convert_dtypes', 'copy', 'corr', 'count', 'cov', 'cummax', 'cummin', 'cumprod', 'cumsum', 'describe', 'diff', 'div', 'divide', 'divmod', 'dot', 'drop', 'drop_duplicates', 'droplevel', 'dropna', 'dtype', 'dtypes', 'duplicated', 'empty', 'eq', 'equals', 'ewm', 'expanding', 'explode', 'factorize', 'ffill', 'fillna', 'filter', 'first', 'first_valid_index', 'flags', 'floordiv', 'ge', 'get', 'groupby', 'gt', 'hasnans', 'head', 'hist', 'iat', 'idxmax', 'idxmin', 'iloc', 'index', 'infer_objects', 'info', 'interpolate', 'is_monotonic_decreasing', 'is_monotonic_increasing', 'is_unique', 'isin', 'isna', 'isnull', 'item', 'items', 'keys', 'kurt', 'kurtosis', 'last', 'last_valid_index', 'le', 'list', 'loc', 'lt', 'map', 'mask', 'max', 'mean', 'median', 'memory_usage', 'min', 'mod', 'mode', 'mul', 'multiply', 'name', 'nbytes', 'ndim', 'ne', 'nlargest', 'notna', 'notnull', 'nsmallest', 'nunique', 'pad', 'pct_change', 'pipe', 'plot', 'pop', 'pow', 'prod', 'product', 'quantile', 'radd', 'rank', 'ravel', 'rdiv', 'rdivmod', 'reindex', 'reindex_like', 'rename', 'rename_axis', 'reorder_levels', 'repeat', 'replace', 'resample', 'reset_index', 'rfloordiv', 'rmod', 'rmul', 'rolling', 'round', 'rpow', 'rsub', 'rtruediv', 'sample', 'searchsorted', 'sem', 'set_axis', 'set_flags', 'shape', 'shift', 'size', 'skew', 'sort_index', 'sort_values', 'squeeze', 'std', 'struct', 'sub', 'subtract', 'sum', 'swapaxes', 'swaplevel', 'tail', 'take', 'to_clipboard', 'to_csv', 'to_dict', 'to_excel', 'to_frame', 'to_hdf', 'to_json', 'to_latex', 'to_list', 'to_markdown', 'to_numpy', 'to_period', 'to_pickle', 'to_sql', 'to_string', 'to_timestamp', 'to_xarray', 'transform', 'transpose', 'truediv', 'truncate', 'tz_convert', 'tz_localize', 'unique', 'unstack', 'update', 'value_counts', 'values', 'var', 'view', 'where', 'xs']\n"
     ]
    }
   ],
   "source": [
    "print(dir(s))"
   ]
  },
  {
   "cell_type": "code",
   "execution_count": 11,
   "id": "c31a22c6-e654-4c3f-b480-cea0beda6355",
   "metadata": {},
   "outputs": [
    {
     "name": "stdout",
     "output_type": "stream",
     "text": [
      "['ArithmeticError', 'AssertionError', 'AttributeError', 'BaseException', 'BaseExceptionGroup', 'BlockingIOError', 'BrokenPipeError', 'BufferError', 'BytesWarning', 'ChildProcessError', 'ConnectionAbortedError', 'ConnectionError', 'ConnectionRefusedError', 'ConnectionResetError', 'DeprecationWarning', 'EOFError', 'Ellipsis', 'EncodingWarning', 'EnvironmentError', 'Exception', 'ExceptionGroup', 'False', 'FileExistsError', 'FileNotFoundError', 'FloatingPointError', 'FutureWarning', 'GeneratorExit', 'IOError', 'ImportError', 'ImportWarning', 'IndentationError', 'IndexError', 'InterruptedError', 'IsADirectoryError', 'KeyError', 'KeyboardInterrupt', 'LookupError', 'MemoryError', 'ModuleNotFoundError', 'NameError', 'None', 'NotADirectoryError', 'NotImplemented', 'NotImplementedError', 'OSError', 'OverflowError', 'PendingDeprecationWarning', 'PermissionError', 'ProcessLookupError', 'PythonFinalizationError', 'RecursionError', 'ReferenceError', 'ResourceWarning', 'RuntimeError', 'RuntimeWarning', 'StopAsyncIteration', 'StopIteration', 'SyntaxError', 'SyntaxWarning', 'SystemError', 'SystemExit', 'TabError', 'TimeoutError', 'True', 'TypeError', 'UnboundLocalError', 'UnicodeDecodeError', 'UnicodeEncodeError', 'UnicodeError', 'UnicodeTranslateError', 'UnicodeWarning', 'UserWarning', 'ValueError', 'Warning', 'ZeroDivisionError', '_IncompleteInputError', '__IPYTHON__', '__build_class__', '__debug__', '__doc__', '__import__', '__loader__', '__name__', '__package__', '__spec__', 'abs', 'aiter', 'all', 'anext', 'any', 'ascii', 'bin', 'bool', 'breakpoint', 'bytearray', 'bytes', 'callable', 'chr', 'classmethod', 'compile', 'complex', 'copyright', 'credits', 'delattr', 'dict', 'dir', 'display', 'divmod', 'enumerate', 'eval', 'exec', 'execfile', 'filter', 'float', 'format', 'frozenset', 'get_ipython', 'getattr', 'globals', 'hasattr', 'hash', 'help', 'hex', 'id', 'input', 'int', 'isinstance', 'issubclass', 'iter', 'len', 'license', 'list', 'locals', 'map', 'max', 'memoryview', 'min', 'next', 'object', 'oct', 'open', 'ord', 'pow', 'print', 'property', 'range', 'repr', 'reversed', 'round', 'runfile', 'set', 'setattr', 'slice', 'sorted', 'staticmethod', 'str', 'sum', 'super', 'tuple', 'type', 'vars', 'zip']\n"
     ]
    }
   ],
   "source": [
    "import builtins as bd\n",
    "print(dir(bd))"
   ]
  },
  {
   "cell_type": "markdown",
   "id": "63966605-c0cf-4f81-a187-7f39b9c65046",
   "metadata": {},
   "source": [
    "### 1.6 describe()\n",
    "- describe() is pre defined method in series class\n",
    "- we can access describe() method by using series object\n",
    "- This method returns the below values\n",
    "1. count\n",
    "2. mean\n",
    "3. std\n",
    "4. min\n",
    "5. 25%\n",
    "6. 50%\n",
    "7. 75%\n",
    "8. max"
   ]
  },
  {
   "cell_type": "code",
   "execution_count": 23,
   "id": "671630b7-2e58-49f2-bb64-f54d72586c03",
   "metadata": {},
   "outputs": [
    {
     "name": "stdout",
     "output_type": "stream",
     "text": [
      "5\n",
      "30.0\n",
      "10\n",
      "50\n",
      "describe method\n"
     ]
    },
    {
     "data": {
      "text/plain": [
       "count     5.000000\n",
       "mean     30.000000\n",
       "std      15.811388\n",
       "min      10.000000\n",
       "25%      20.000000\n",
       "50%      30.000000\n",
       "75%      40.000000\n",
       "max      50.000000\n",
       "dtype: float64"
      ]
     },
     "execution_count": 23,
     "metadata": {},
     "output_type": "execute_result"
    }
   ],
   "source": [
    "import pandas as pd\n",
    "a=[10,20,30,40,50]\n",
    "s=pd.Series(a)\n",
    "print(s.count())\n",
    "print(s.mean())\n",
    "print(s.min())\n",
    "print(s.max())\n",
    "print(\"describe method\")\n",
    "s.describe()\n"
   ]
  },
  {
   "cell_type": "markdown",
   "id": "f6a88323-9da3-4336-9957-76150ea08f8b",
   "metadata": {},
   "source": [
    "### 1.7 unique()\n",
    "- unique() is predefined methods in Series class\n",
    "- We can access unique() method by using series object\n",
    "- This methods return unique value from the series"
   ]
  },
  {
   "cell_type": "code",
   "execution_count": 10,
   "id": "7ea61d21-dfea-4852-b2f0-ce24a5c59f36",
   "metadata": {},
   "outputs": [
    {
     "name": "stdout",
     "output_type": "stream",
     "text": [
      "0      10\n",
      "1      20\n",
      "2      30\n",
      "3      40\n",
      "4      50\n",
      "5      50\n",
      "6      40\n",
      "7      30\n",
      "8      20\n",
      "9      10\n",
      "10    100\n",
      "dtype: int64\n",
      "\n",
      "=>unique\n",
      "[ 10  20  30  40  50 100]\n"
     ]
    }
   ],
   "source": [
    "import pandas as pd\n",
    "marks=[10,20,30,40,50,50,40,30,20,10,100]\n",
    "s=pd.Series(marks)\n",
    "print(s)\n",
    "print()\n",
    "print(\"=>unique\")\n",
    "print(s.unique())"
   ]
  },
  {
   "cell_type": "markdown",
   "id": "42a02fb8-212c-4301-a0aa-e4c29a860b63",
   "metadata": {},
   "source": [
    "### 1.8 nunique()\n"
   ]
  },
  {
   "cell_type": "code",
   "execution_count": 6,
   "id": "7a65ee3b-2683-426b-bed4-41d42c7fac21",
   "metadata": {},
   "outputs": [
    {
     "name": "stdout",
     "output_type": "stream",
     "text": [
      "6\n"
     ]
    }
   ],
   "source": [
    "import pandas as pd \n",
    "marks=[10,20,30,40,50,50,40,30,20,10,100]\n",
    "s=pd.Series(marks)\n",
    "print(s.nunique())"
   ]
  },
  {
   "cell_type": "markdown",
   "id": "db9d2576-7ed6-470f-bf40-1d8f937cf681",
   "metadata": {},
   "source": [
    "# SUMMARY"
   ]
  },
  {
   "cell_type": "markdown",
   "id": "5fd1d1a8-fba4-4ae9-b09f-ddcbfa6bb0f8",
   "metadata": {},
   "source": [
    "1. Series attributes\n",
    " - values\n",
    " - index\n"
   ]
  },
  {
   "attachments": {},
   "cell_type": "markdown",
   "id": "55634b07-6dfb-40c2-ae9b-04ebfc2b6a59",
   "metadata": {},
   "source": [
    "\n",
    "\n",
    "1. Series methods\n",
    "   - head()\n",
    "   - tail()\n",
    "   - sum()\n",
    "   - count()\n",
    "   - mean()\n",
    "   - describe()\n",
    "   - unique()\n",
    "   - nunique()"
   ]
  }
 ],
 "metadata": {
  "kernelspec": {
   "display_name": "Python [conda env:base] *",
   "language": "python",
   "name": "conda-base-py"
  },
  "language_info": {
   "codemirror_mode": {
    "name": "ipython",
    "version": 3
   },
   "file_extension": ".py",
   "mimetype": "text/x-python",
   "name": "python",
   "nbconvert_exporter": "python",
   "pygments_lexer": "ipython3",
   "version": "3.13.5"
  }
 },
 "nbformat": 4,
 "nbformat_minor": 5
}
