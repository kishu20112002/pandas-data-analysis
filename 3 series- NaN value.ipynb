{
 "cells": [
  {
   "cell_type": "markdown",
   "id": "fc683b67-48b6-427a-85a2-5fc55893895e",
   "metadata": {},
   "source": [
    "# NaN values\n"
   ]
  },
  {
   "cell_type": "markdown",
   "id": "a175680c-3daf-43a3-a8df-e20bc09c95c9",
   "metadata": {},
   "source": [
    "### 1. NaN value \n",
    "- The full form of NaN is Not a numbet \n",
    "- The purpose of NaN is , to represent the missing values in data\n",
    "- The data type of NaN is float\n",
    "- During data analysis we need to hamdle these NaN values\n",
    "- We will Learn more about NaN in 12th chaper which is handling miss values chapter \n"
   ]
  },
  {
   "cell_type": "markdown",
   "id": "0aa6bbc4-f4ca-4d05-9cd7-294450606753",
   "metadata": {},
   "source": [
    "### 2. None ,NaN, nan,null\n",
    "- None, NaN and null , are synoyms\n",
    "- these all are repressing to empty or missing data found in a Series DataFrame\n",
    "- "
   ]
  },
  {
   "cell_type": "code",
   "execution_count": 12,
   "id": "f8e999b7-8f6f-4b92-b216-ee62779e7f5d",
   "metadata": {},
   "outputs": [
    {
     "name": "stdout",
     "output_type": "stream",
     "text": [
      "0    10\n",
      "1    20\n",
      "2    30\n",
      "3    40\n",
      "dtype: int64\n",
      "\n",
      "********************\n",
      "0    10.0\n",
      "1    20.0\n",
      "2     NaN\n",
      "3    30.0\n",
      "4    40.0\n",
      "dtype: float64 <class 'pandas.core.series.Series'>\n",
      "\n",
      "0    kishan\n",
      "1     firoj\n",
      "2      pika\n",
      "3       NaN\n",
      "4      raja\n",
      "dtype: object <class 'pandas.core.series.Series'>\n"
     ]
    }
   ],
   "source": [
    "import pandas as pd\n",
    "l=[10,20,30,40]\n",
    "s=pd.Series(l)\n",
    "print(s)\n",
    "print()\n",
    "print(\"*\"*20)\n",
    "print\n",
    "\n",
    "\n",
    "import pandas as pd \n",
    "l=[10,20,None,30,40]\n",
    "s=pd.Series(l)\n",
    "print(s,type(s))\n",
    "print()\n",
    "\n",
    "import pandas as pd\n",
    "import numpy as np\n",
    "l=[\"kishan\",\"firoj\",\"pika\",np.nan,\"raja\"]\n",
    "s=pd.Series(l)\n",
    "print(s,type(s))\n"
   ]
  },
  {
   "cell_type": "markdown",
   "id": "d70aa3bd-c3e1-486d-8fbd-8658c15a8029",
   "metadata": {},
   "source": [
    "### 3. While loading any file\n",
    "- While loading any csv/excel/json file , if columns having missing values, then pandas consider those values as \n",
    "- We wwill learn same point during loading files"
   ]
  },
  {
   "cell_type": "markdown",
   "id": "3c7cb981-14da-4679-a985-02c03fcb1c28",
   "metadata": {},
   "source": [
    "### 4 Attrubutes and methods\n",
    "python     =>  classess    => \n",
    "1. str => classes => 1.methods\n",
    "2. list => classes => 1.methods\n",
    "3. set => classes => 1.methods\n",
    "4. dict => classes => 1.methods\n",
    "\n",
    "pandas => class \n",
    "\n",
    "1. Series => class => 1.Attributes\n",
    "                   => 2.Methods\n",
    "2. DataFrame => class => 1.Attributes\n",
    "                      => 2.Methods\n",
    "\n",
    "   "
   ]
  },
  {
   "cell_type": "markdown",
   "id": "7ddb4a64-d04b-41e6-9850-664433a78bf2",
   "metadata": {},
   "source": [
    "#### Series => class => 1.Attributes \n",
    "- Series is predefined class\n",
    "- Series class contains predefines attributes (Instance variable)\n",
    "- The purpose of attributes (gives the infomations about Series object )\n",
    "- "
   ]
  },
  {
   "cell_type": "code",
   "execution_count": 20,
   "id": "7779bd2c-f92d-43ec-9687-6bcd457d5315",
   "metadata": {},
   "outputs": [
    {
     "name": "stdout",
     "output_type": "stream",
     "text": [
      "<__main__.Dog object at 0x15593b230>\n",
      "<__main__.Dog object at 0x1559882d0>\n"
     ]
    }
   ],
   "source": [
    "# Define a simple class\n",
    "\n",
    "class Dog:\n",
    "    species=\"Canis lupus familiaris\"\n",
    "\n",
    "    def __init__(self,name,age):\n",
    "        self.name=name\n",
    "        self.age=age\n",
    "dog1 = Dog(\"buddy\",3)\n",
    "dog2 = Dog(\"max\",5)\n",
    "print(dog1)\n",
    "print(dog2)"
   ]
  },
  {
   "cell_type": "code",
   "execution_count": 18,
   "id": "71880799-3c3c-412e-b0b0-a573f977528a",
   "metadata": {},
   "outputs": [
    {
     "name": "stdout",
     "output_type": "stream",
     "text": [
      "My dog's name is Buddy.\n",
      "My dog's breed is Golden Retriever.\n",
      "Dogs are part of the Canis familiaris species.\n",
      "Buddy says Woof!\n",
      "Buddy is a Golden Retriever of the Canis familiaris species.\n",
      "Lucy says Woof!\n"
     ]
    }
   ],
   "source": [
    "class Dog:\n",
    "    # Class attribute (shared by all instances of the class)\n",
    "    species = \"Canis familiaris\"\n",
    "\n",
    "    # Constructor method to initialize instance attributes\n",
    "    def __init__(self, name, breed):\n",
    "        self.name = name  # Instance attribute\n",
    "        self.breed = breed # Instance attribute\n",
    "\n",
    "    # Instance method\n",
    "    def bark(self):\n",
    "        return f\"{self.name} says Woof!\"\n",
    "\n",
    "    # Another instance method\n",
    "    def describe(self):\n",
    "        return f\"{self.name} is a {self.breed} of the {self.species} species.\"\n",
    "\n",
    "# Creating an instance (object) of the Dog class\n",
    "my_dog = Dog(\"Buddy\", \"Golden Retriever\")\n",
    "\n",
    "# Accessing instance attributes\n",
    "print(f\"My dog's name is {my_dog.name}.\")\n",
    "print(f\"My dog's breed is {my_dog.breed}.\")\n",
    "\n",
    "# Accessing a class attribute\n",
    "print(f\"Dogs are part of the {Dog.species} species.\")\n",
    "\n",
    "# Calling instance methods\n",
    "print(my_dog.bark())\n",
    "print(my_dog.describe())\n",
    "\n",
    "# Creating another instance\n",
    "another_dog = Dog(\"Lucy\", \"Labrador\")\n",
    "print(another_dog.bark())"
   ]
  },
  {
   "cell_type": "code",
   "execution_count": 30,
   "id": "100e2e51-52fe-4900-b6a4-aefd8318240e",
   "metadata": {},
   "outputs": [
    {
     "name": "stdout",
     "output_type": "stream",
     "text": [
      "kisham\n",
      "3\n",
      "benglore\n"
     ]
    }
   ],
   "source": [
    "class employee():\n",
    "    def __init__(self,name,number,location):\n",
    "        self.name=name\n",
    "        self.number=number\n",
    "        self.location=location \n",
    "d=employee(\"kisham\",3,\"benglore\")\n",
    "print(d.name)              #name is called as attribute / instance variable\n",
    "print(d.number)  #number is called as attribute / instance variable\n",
    "print(d.location)    #location is called as attribute / instance variable "
   ]
  },
  {
   "cell_type": "markdown",
   "id": "7a377964-fe70-42a9-a8a7-16e78e353bcf",
   "metadata": {},
   "source": [
    "# SUMMARY"
   ]
  },
  {
   "cell_type": "markdown",
   "id": "10101711-bdc4-4e85-b035-a6e44ff217bd",
   "metadata": {},
   "source": [
    " None ,NaN, nan,null\n",
    "\n",
    "None, NaN and null , are synoyms\n",
    "these all are repressing to empty or missing data found in a Series DataFrame"
   ]
  },
  {
   "cell_type": "code",
   "execution_count": null,
   "id": "0709f699-d153-4b91-8aeb-c641ef2a71e8",
   "metadata": {},
   "outputs": [],
   "source": []
  }
 ],
 "metadata": {
  "kernelspec": {
   "display_name": "Python [conda env:base] *",
   "language": "python",
   "name": "conda-base-py"
  },
  "language_info": {
   "codemirror_mode": {
    "name": "ipython",
    "version": 3
   },
   "file_extension": ".py",
   "mimetype": "text/x-python",
   "name": "python",
   "nbconvert_exporter": "python",
   "pygments_lexer": "ipython3",
   "version": "3.13.5"
  }
 },
 "nbformat": 4,
 "nbformat_minor": 5
}
