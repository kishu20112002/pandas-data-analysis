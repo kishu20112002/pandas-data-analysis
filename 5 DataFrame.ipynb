{
 "cells": [
  {
   "cell_type": "markdown",
   "id": "26f90a82-87e9-43b5-808c-ea4d4508a32f",
   "metadata": {},
   "source": [
    "# Datafream - Introduction"
   ]
  },
  {
   "cell_type": "markdown",
   "id": "419a8cdf-70ba-4ea6-a47b-3b24952f7796",
   "metadata": {},
   "source": [
    "### 1. DataFrame\n",
    "- A Data Frame is a two - dimensional data structure\n",
    "- Data frame is just like a table.\n",
    "- Data Frame contains rows and columns."
   ]
  },
  {
   "cell_type": "markdown",
   "id": "5d5a8646-f764-4416-b083-0f3a1fd09e6e",
   "metadata": {},
   "source": [
    "### 1.1 DataFrame is a pre-defined class\n",
    "- DataFrame is pre-defined class in pandas library"
   ]
  },
  {
   "cell_type": "code",
   "execution_count": 4,
   "id": "60986900-59e8-4e42-b6e4-3c18bfa24142",
   "metadata": {
    "scrolled": true
   },
   "outputs": [
    {
     "name": "stdout",
     "output_type": "stream",
     "text": [
      "['T', '_AXIS_LEN', '_AXIS_ORDERS', '_AXIS_TO_AXIS_NUMBER', '_HANDLED_TYPES', '__abs__', '__add__', '__and__', '__annotations__', '__array__', '__array_priority__', '__array_ufunc__', '__arrow_c_stream__', '__bool__', '__class__', '__contains__', '__copy__', '__dataframe__', '__dataframe_consortium_standard__', '__deepcopy__', '__delattr__', '__delitem__', '__dict__', '__dir__', '__divmod__', '__doc__', '__eq__', '__finalize__', '__firstlineno__', '__floordiv__', '__format__', '__ge__', '__getattr__', '__getattribute__', '__getitem__', '__getstate__', '__gt__', '__hash__', '__iadd__', '__iand__', '__ifloordiv__', '__imod__', '__imul__', '__init__', '__init_subclass__', '__invert__', '__ior__', '__ipow__', '__isub__', '__iter__', '__itruediv__', '__ixor__', '__le__', '__len__', '__lt__', '__matmul__', '__mod__', '__module__', '__mul__', '__ne__', '__neg__', '__new__', '__nonzero__', '__or__', '__pandas_priority__', '__pos__', '__pow__', '__radd__', '__rand__', '__rdivmod__', '__reduce__', '__reduce_ex__', '__repr__', '__rfloordiv__', '__rmatmul__', '__rmod__', '__rmul__', '__ror__', '__round__', '__rpow__', '__rsub__', '__rtruediv__', '__rxor__', '__setattr__', '__setitem__', '__setstate__', '__sizeof__', '__static_attributes__', '__str__', '__sub__', '__subclasshook__', '__truediv__', '__weakref__', '__xor__', '_accessors', '_accum_func', '_agg_examples_doc', '_agg_see_also_doc', '_align_for_op', '_align_frame', '_align_series', '_append', '_arith_method', '_arith_method_with_reindex', '_as_manager', '_attrs', '_box_col_values', '_can_fast_transpose', '_check_inplace_and_allows_duplicate_labels', '_check_is_chained_assignment_possible', '_check_label_or_level_ambiguity', '_check_setitem_copy', '_clear_item_cache', '_clip_with_one_bound', '_clip_with_scalar', '_cmp_method', '_combine_frame', '_consolidate', '_consolidate_inplace', '_construct_axes_dict', '_construct_result', '_constructor', '_constructor_from_mgr', '_constructor_sliced', '_constructor_sliced_from_mgr', '_create_data_for_split_and_tight_to_dict', '_data', '_deprecate_downcast', '_dir_additions', '_dir_deletions', '_dispatch_frame_op', '_drop_axis', '_drop_labels_or_levels', '_ensure_valid_index', '_find_valid_index', '_flags', '_flex_arith_method', '_flex_cmp_method', '_from_arrays', '_from_mgr', '_get_agg_axis', '_get_axis', '_get_axis_name', '_get_axis_number', '_get_axis_resolvers', '_get_block_manager_axis', '_get_bool_data', '_get_cleaned_column_resolvers', '_get_column_array', '_get_index_resolvers', '_get_item_cache', '_get_label_or_level_values', '_get_numeric_data', '_get_value', '_get_values_for_csv', '_getitem_bool_array', '_getitem_multilevel', '_getitem_nocopy', '_getitem_slice', '_gotitem', '_hidden_attrs', '_indexed_same', '_info_axis', '_info_axis_name', '_info_axis_number', '_info_repr', '_init_mgr', '_inplace_method', '_internal_names', '_internal_names_set', '_is_copy', '_is_homogeneous_type', '_is_label_or_level_reference', '_is_label_reference', '_is_level_reference', '_is_mixed_type', '_is_view', '_is_view_after_cow_rules', '_iset_item', '_iset_item_mgr', '_iset_not_inplace', '_item_cache', '_iter_column_arrays', '_ixs', '_logical_func', '_logical_method', '_maybe_align_series_as_frame', '_maybe_cache_changed', '_maybe_update_cacher', '_metadata', '_mgr', '_min_count_stat_function', '_needs_reindex_multi', '_pad_or_backfill', '_protect_consolidate', '_reduce', '_reduce_axis1', '_reindex_axes', '_reindex_multi', '_reindex_with_indexers', '_rename', '_replace_columnwise', '_repr_data_resource_', '_repr_fits_horizontal_', '_repr_fits_vertical_', '_repr_html_', '_repr_latex_', '_reset_cache', '_reset_cacher', '_sanitize_column', '_series', '_set_axis', '_set_axis_name', '_set_axis_nocheck', '_set_is_copy', '_set_item', '_set_item_frame_value', '_set_item_mgr', '_set_value', '_setitem_array', '_setitem_frame', '_setitem_slice', '_shift_with_freq', '_should_reindex_frame_op', '_slice', '_stat_function', '_stat_function_ddof', '_take_with_is_copy', '_to_dict_of_blocks', '_to_latex_via_styler', '_typ', '_update_inplace', '_validate_dtype', '_values', '_where', 'abs', 'add', 'add_prefix', 'add_suffix', 'agg', 'aggregate', 'align', 'all', 'any', 'apply', 'applymap', 'asfreq', 'asof', 'assign', 'astype', 'at', 'at_time', 'attrs', 'axes', 'backfill', 'between_time', 'bfill', 'bool', 'boxplot', 'clip', 'columns', 'combine', 'combine_first', 'compare', 'convert_dtypes', 'copy', 'corr', 'corrwith', 'count', 'cov', 'cummax', 'cummin', 'cumprod', 'cumsum', 'describe', 'diff', 'div', 'divide', 'dot', 'drop', 'drop_duplicates', 'droplevel', 'dropna', 'dtypes', 'duplicated', 'empty', 'eq', 'equals', 'eval', 'ewm', 'expanding', 'explode', 'ffill', 'fillna', 'filter', 'first', 'first_valid_index', 'flags', 'floordiv', 'from_dict', 'from_records', 'ge', 'get', 'groupby', 'gt', 'head', 'hist', 'iat', 'idxmax', 'idxmin', 'iloc', 'index', 'infer_objects', 'info', 'insert', 'interpolate', 'isetitem', 'isin', 'isna', 'isnull', 'items', 'iterrows', 'itertuples', 'join', 'keys', 'kurt', 'kurtosis', 'last', 'last_valid_index', 'le', 'loc', 'lt', 'map', 'mask', 'max', 'mean', 'median', 'melt', 'memory_usage', 'merge', 'min', 'mod', 'mode', 'mul', 'multiply', 'ndim', 'ne', 'nlargest', 'notna', 'notnull', 'nsmallest', 'nunique', 'pad', 'pct_change', 'pipe', 'pivot', 'pivot_table', 'plot', 'pop', 'pow', 'prod', 'product', 'quantile', 'query', 'radd', 'rank', 'rdiv', 'reindex', 'reindex_like', 'rename', 'rename_axis', 'reorder_levels', 'replace', 'resample', 'reset_index', 'rfloordiv', 'rmod', 'rmul', 'rolling', 'round', 'rpow', 'rsub', 'rtruediv', 'sample', 'select_dtypes', 'sem', 'set_axis', 'set_flags', 'set_index', 'shape', 'shift', 'size', 'skew', 'sort_index', 'sort_values', 'sparse', 'squeeze', 'stack', 'std', 'style', 'sub', 'subtract', 'sum', 'swapaxes', 'swaplevel', 'tail', 'take', 'to_clipboard', 'to_csv', 'to_dict', 'to_excel', 'to_feather', 'to_gbq', 'to_hdf', 'to_html', 'to_json', 'to_latex', 'to_markdown', 'to_numpy', 'to_orc', 'to_parquet', 'to_period', 'to_pickle', 'to_records', 'to_sql', 'to_stata', 'to_string', 'to_timestamp', 'to_xarray', 'to_xml', 'transform', 'transpose', 'truediv', 'truncate', 'tz_convert', 'tz_localize', 'unstack', 'update', 'value_counts', 'values', 'var', 'where', 'xs']\n"
     ]
    }
   ],
   "source": [
    "import pandas as pd\n",
    "d=pd.DataFrame()\n",
    "print(dir(d))"
   ]
  },
  {
   "cell_type": "code",
   "execution_count": 5,
   "id": "bbee7678-66a5-4d65-8320-51a43e53a95f",
   "metadata": {},
   "outputs": [
    {
     "data": {
      "text/plain": [
       "['T',\n",
       " '_AXIS_LEN',\n",
       " '_AXIS_ORDERS',\n",
       " '_AXIS_TO_AXIS_NUMBER',\n",
       " '_HANDLED_TYPES',\n",
       " '__abs__',\n",
       " '__add__',\n",
       " '__and__',\n",
       " '__annotations__',\n",
       " '__array__',\n",
       " '__array_priority__',\n",
       " '__array_ufunc__',\n",
       " '__arrow_c_stream__',\n",
       " '__bool__',\n",
       " '__class__',\n",
       " '__contains__',\n",
       " '__copy__',\n",
       " '__dataframe__',\n",
       " '__dataframe_consortium_standard__',\n",
       " '__deepcopy__',\n",
       " '__delattr__',\n",
       " '__delitem__',\n",
       " '__dict__',\n",
       " '__dir__',\n",
       " '__divmod__',\n",
       " '__doc__',\n",
       " '__eq__',\n",
       " '__finalize__',\n",
       " '__firstlineno__',\n",
       " '__floordiv__',\n",
       " '__format__',\n",
       " '__ge__',\n",
       " '__getattr__',\n",
       " '__getattribute__',\n",
       " '__getitem__',\n",
       " '__getstate__',\n",
       " '__gt__',\n",
       " '__hash__',\n",
       " '__iadd__',\n",
       " '__iand__',\n",
       " '__ifloordiv__',\n",
       " '__imod__',\n",
       " '__imul__',\n",
       " '__init__',\n",
       " '__init_subclass__',\n",
       " '__invert__',\n",
       " '__ior__',\n",
       " '__ipow__',\n",
       " '__isub__',\n",
       " '__iter__',\n",
       " '__itruediv__',\n",
       " '__ixor__',\n",
       " '__le__',\n",
       " '__len__',\n",
       " '__lt__',\n",
       " '__matmul__',\n",
       " '__mod__',\n",
       " '__module__',\n",
       " '__mul__',\n",
       " '__ne__',\n",
       " '__neg__',\n",
       " '__new__',\n",
       " '__nonzero__',\n",
       " '__or__',\n",
       " '__pandas_priority__',\n",
       " '__pos__',\n",
       " '__pow__',\n",
       " '__radd__',\n",
       " '__rand__',\n",
       " '__rdivmod__',\n",
       " '__reduce__',\n",
       " '__reduce_ex__',\n",
       " '__repr__',\n",
       " '__rfloordiv__',\n",
       " '__rmatmul__',\n",
       " '__rmod__',\n",
       " '__rmul__',\n",
       " '__ror__',\n",
       " '__round__',\n",
       " '__rpow__',\n",
       " '__rsub__',\n",
       " '__rtruediv__',\n",
       " '__rxor__',\n",
       " '__setattr__',\n",
       " '__setitem__',\n",
       " '__setstate__',\n",
       " '__sizeof__',\n",
       " '__static_attributes__',\n",
       " '__str__',\n",
       " '__sub__',\n",
       " '__subclasshook__',\n",
       " '__truediv__',\n",
       " '__weakref__',\n",
       " '__xor__',\n",
       " '_accessors',\n",
       " '_accum_func',\n",
       " '_agg_examples_doc',\n",
       " '_agg_see_also_doc',\n",
       " '_align_for_op',\n",
       " '_align_frame',\n",
       " '_align_series',\n",
       " '_append',\n",
       " '_arith_method',\n",
       " '_arith_method_with_reindex',\n",
       " '_as_manager',\n",
       " '_attrs',\n",
       " '_box_col_values',\n",
       " '_can_fast_transpose',\n",
       " '_check_inplace_and_allows_duplicate_labels',\n",
       " '_check_is_chained_assignment_possible',\n",
       " '_check_label_or_level_ambiguity',\n",
       " '_check_setitem_copy',\n",
       " '_clear_item_cache',\n",
       " '_clip_with_one_bound',\n",
       " '_clip_with_scalar',\n",
       " '_cmp_method',\n",
       " '_combine_frame',\n",
       " '_consolidate',\n",
       " '_consolidate_inplace',\n",
       " '_construct_axes_dict',\n",
       " '_construct_result',\n",
       " '_constructor',\n",
       " '_constructor_from_mgr',\n",
       " '_constructor_sliced',\n",
       " '_constructor_sliced_from_mgr',\n",
       " '_create_data_for_split_and_tight_to_dict',\n",
       " '_data',\n",
       " '_deprecate_downcast',\n",
       " '_dir_additions',\n",
       " '_dir_deletions',\n",
       " '_dispatch_frame_op',\n",
       " '_drop_axis',\n",
       " '_drop_labels_or_levels',\n",
       " '_ensure_valid_index',\n",
       " '_find_valid_index',\n",
       " '_flags',\n",
       " '_flex_arith_method',\n",
       " '_flex_cmp_method',\n",
       " '_from_arrays',\n",
       " '_from_mgr',\n",
       " '_get_agg_axis',\n",
       " '_get_axis',\n",
       " '_get_axis_name',\n",
       " '_get_axis_number',\n",
       " '_get_axis_resolvers',\n",
       " '_get_block_manager_axis',\n",
       " '_get_bool_data',\n",
       " '_get_cleaned_column_resolvers',\n",
       " '_get_column_array',\n",
       " '_get_index_resolvers',\n",
       " '_get_item_cache',\n",
       " '_get_label_or_level_values',\n",
       " '_get_numeric_data',\n",
       " '_get_value',\n",
       " '_get_values_for_csv',\n",
       " '_getitem_bool_array',\n",
       " '_getitem_multilevel',\n",
       " '_getitem_nocopy',\n",
       " '_getitem_slice',\n",
       " '_gotitem',\n",
       " '_hidden_attrs',\n",
       " '_indexed_same',\n",
       " '_info_axis',\n",
       " '_info_axis_name',\n",
       " '_info_axis_number',\n",
       " '_info_repr',\n",
       " '_init_mgr',\n",
       " '_inplace_method',\n",
       " '_internal_names',\n",
       " '_internal_names_set',\n",
       " '_is_copy',\n",
       " '_is_homogeneous_type',\n",
       " '_is_label_or_level_reference',\n",
       " '_is_label_reference',\n",
       " '_is_level_reference',\n",
       " '_is_mixed_type',\n",
       " '_is_view',\n",
       " '_is_view_after_cow_rules',\n",
       " '_iset_item',\n",
       " '_iset_item_mgr',\n",
       " '_iset_not_inplace',\n",
       " '_item_cache',\n",
       " '_iter_column_arrays',\n",
       " '_ixs',\n",
       " '_logical_func',\n",
       " '_logical_method',\n",
       " '_maybe_align_series_as_frame',\n",
       " '_maybe_cache_changed',\n",
       " '_maybe_update_cacher',\n",
       " '_metadata',\n",
       " '_mgr',\n",
       " '_min_count_stat_function',\n",
       " '_needs_reindex_multi',\n",
       " '_pad_or_backfill',\n",
       " '_protect_consolidate',\n",
       " '_reduce',\n",
       " '_reduce_axis1',\n",
       " '_reindex_axes',\n",
       " '_reindex_multi',\n",
       " '_reindex_with_indexers',\n",
       " '_rename',\n",
       " '_replace_columnwise',\n",
       " '_repr_data_resource_',\n",
       " '_repr_fits_horizontal_',\n",
       " '_repr_fits_vertical_',\n",
       " '_repr_html_',\n",
       " '_repr_latex_',\n",
       " '_reset_cache',\n",
       " '_reset_cacher',\n",
       " '_sanitize_column',\n",
       " '_series',\n",
       " '_set_axis',\n",
       " '_set_axis_name',\n",
       " '_set_axis_nocheck',\n",
       " '_set_is_copy',\n",
       " '_set_item',\n",
       " '_set_item_frame_value',\n",
       " '_set_item_mgr',\n",
       " '_set_value',\n",
       " '_setitem_array',\n",
       " '_setitem_frame',\n",
       " '_setitem_slice',\n",
       " '_shift_with_freq',\n",
       " '_should_reindex_frame_op',\n",
       " '_slice',\n",
       " '_stat_function',\n",
       " '_stat_function_ddof',\n",
       " '_take_with_is_copy',\n",
       " '_to_dict_of_blocks',\n",
       " '_to_latex_via_styler',\n",
       " '_typ',\n",
       " '_update_inplace',\n",
       " '_validate_dtype',\n",
       " '_values',\n",
       " '_where',\n",
       " 'abs',\n",
       " 'add',\n",
       " 'add_prefix',\n",
       " 'add_suffix',\n",
       " 'agg',\n",
       " 'aggregate',\n",
       " 'align',\n",
       " 'all',\n",
       " 'any',\n",
       " 'apply',\n",
       " 'applymap',\n",
       " 'asfreq',\n",
       " 'asof',\n",
       " 'assign',\n",
       " 'astype',\n",
       " 'at',\n",
       " 'at_time',\n",
       " 'attrs',\n",
       " 'axes',\n",
       " 'backfill',\n",
       " 'between_time',\n",
       " 'bfill',\n",
       " 'bool',\n",
       " 'boxplot',\n",
       " 'clip',\n",
       " 'columns',\n",
       " 'combine',\n",
       " 'combine_first',\n",
       " 'compare',\n",
       " 'convert_dtypes',\n",
       " 'copy',\n",
       " 'corr',\n",
       " 'corrwith',\n",
       " 'count',\n",
       " 'cov',\n",
       " 'cummax',\n",
       " 'cummin',\n",
       " 'cumprod',\n",
       " 'cumsum',\n",
       " 'describe',\n",
       " 'diff',\n",
       " 'div',\n",
       " 'divide',\n",
       " 'dot',\n",
       " 'drop',\n",
       " 'drop_duplicates',\n",
       " 'droplevel',\n",
       " 'dropna',\n",
       " 'dtypes',\n",
       " 'duplicated',\n",
       " 'empty',\n",
       " 'eq',\n",
       " 'equals',\n",
       " 'eval',\n",
       " 'ewm',\n",
       " 'expanding',\n",
       " 'explode',\n",
       " 'ffill',\n",
       " 'fillna',\n",
       " 'filter',\n",
       " 'first',\n",
       " 'first_valid_index',\n",
       " 'flags',\n",
       " 'floordiv',\n",
       " 'from_dict',\n",
       " 'from_records',\n",
       " 'ge',\n",
       " 'get',\n",
       " 'groupby',\n",
       " 'gt',\n",
       " 'head',\n",
       " 'hist',\n",
       " 'iat',\n",
       " 'idxmax',\n",
       " 'idxmin',\n",
       " 'iloc',\n",
       " 'index',\n",
       " 'infer_objects',\n",
       " 'info',\n",
       " 'insert',\n",
       " 'interpolate',\n",
       " 'isetitem',\n",
       " 'isin',\n",
       " 'isna',\n",
       " 'isnull',\n",
       " 'items',\n",
       " 'iterrows',\n",
       " 'itertuples',\n",
       " 'join',\n",
       " 'keys',\n",
       " 'kurt',\n",
       " 'kurtosis',\n",
       " 'last',\n",
       " 'last_valid_index',\n",
       " 'le',\n",
       " 'loc',\n",
       " 'lt',\n",
       " 'map',\n",
       " 'mask',\n",
       " 'max',\n",
       " 'mean',\n",
       " 'median',\n",
       " 'melt',\n",
       " 'memory_usage',\n",
       " 'merge',\n",
       " 'min',\n",
       " 'mod',\n",
       " 'mode',\n",
       " 'mul',\n",
       " 'multiply',\n",
       " 'ndim',\n",
       " 'ne',\n",
       " 'nlargest',\n",
       " 'notna',\n",
       " 'notnull',\n",
       " 'nsmallest',\n",
       " 'nunique',\n",
       " 'pad',\n",
       " 'pct_change',\n",
       " 'pipe',\n",
       " 'pivot',\n",
       " 'pivot_table',\n",
       " 'plot',\n",
       " 'pop',\n",
       " 'pow',\n",
       " 'prod',\n",
       " 'product',\n",
       " 'quantile',\n",
       " 'query',\n",
       " 'radd',\n",
       " 'rank',\n",
       " 'rdiv',\n",
       " 'reindex',\n",
       " 'reindex_like',\n",
       " 'rename',\n",
       " 'rename_axis',\n",
       " 'reorder_levels',\n",
       " 'replace',\n",
       " 'resample',\n",
       " 'reset_index',\n",
       " 'rfloordiv',\n",
       " 'rmod',\n",
       " 'rmul',\n",
       " 'rolling',\n",
       " 'round',\n",
       " 'rpow',\n",
       " 'rsub',\n",
       " 'rtruediv',\n",
       " 'sample',\n",
       " 'select_dtypes',\n",
       " 'sem',\n",
       " 'set_axis',\n",
       " 'set_flags',\n",
       " 'set_index',\n",
       " 'shape',\n",
       " 'shift',\n",
       " 'size',\n",
       " 'skew',\n",
       " 'sort_index',\n",
       " 'sort_values',\n",
       " 'sparse',\n",
       " 'squeeze',\n",
       " 'stack',\n",
       " 'std',\n",
       " 'style',\n",
       " 'sub',\n",
       " 'subtract',\n",
       " 'sum',\n",
       " 'swapaxes',\n",
       " 'swaplevel',\n",
       " 'tail',\n",
       " 'take',\n",
       " 'to_clipboard',\n",
       " 'to_csv',\n",
       " 'to_dict',\n",
       " 'to_excel',\n",
       " 'to_feather',\n",
       " 'to_gbq',\n",
       " 'to_hdf',\n",
       " 'to_html',\n",
       " 'to_json',\n",
       " 'to_latex',\n",
       " 'to_markdown',\n",
       " 'to_numpy',\n",
       " 'to_orc',\n",
       " 'to_parquet',\n",
       " 'to_period',\n",
       " 'to_pickle',\n",
       " 'to_records',\n",
       " 'to_sql',\n",
       " 'to_stata',\n",
       " 'to_string',\n",
       " 'to_timestamp',\n",
       " 'to_xarray',\n",
       " 'to_xml',\n",
       " 'transform',\n",
       " 'transpose',\n",
       " 'truediv',\n",
       " 'truncate',\n",
       " 'tz_convert',\n",
       " 'tz_localize',\n",
       " 'unstack',\n",
       " 'update',\n",
       " 'value_counts',\n",
       " 'values',\n",
       " 'var',\n",
       " 'where',\n",
       " 'xs']"
      ]
     },
     "execution_count": 5,
     "metadata": {},
     "output_type": "execute_result"
    }
   ],
   "source": [
    "dir(d)"
   ]
  },
  {
   "cell_type": "markdown",
   "id": "092daecc-d2bb-40c9-8ef0-bcea5a5a9859",
   "metadata": {},
   "source": [
    "### 2. Create DataFrame\n",
    "- DataFrame is predefined class in pandas\n",
    "- we can create Dataframe in different ways like below\n",
    "1. Empty dataframe\n",
    "2. by using single list\n",
    "3. by using nested list\n",
    "4. by using dictionary\n",
    "5. with another  dataframe\n",
    "6. loading files (Real time approach) "
   ]
  },
  {
   "cell_type": "markdown",
   "id": "0f48c034-f4ec-4e4c-b8b0-fca7ff87a15e",
   "metadata": {},
   "source": [
    "## Generally\n",
    "- In real time when we load existing file then it returns DataFrame"
   ]
  },
  {
   "cell_type": "markdown",
   "id": "c312f59b-1c1a-479a-bf6d-145799cdf29d",
   "metadata": {},
   "source": [
    "### 2.1 Create an empty Dataframe\n",
    "- we can create an empty DataFrame"
   ]
  },
  {
   "cell_type": "code",
   "execution_count": 6,
   "id": "b72442fa-e0d5-403c-8962-c677ef731cda",
   "metadata": {},
   "outputs": [
    {
     "name": "stdout",
     "output_type": "stream",
     "text": [
      "Empty DataFrame\n",
      "Columns: []\n",
      "Index: [] <class 'pandas.core.frame.DataFrame'>\n"
     ]
    }
   ],
   "source": [
    "import pandas as pd\n",
    "df=pd.DataFrame()\n",
    "print(df,type(df))"
   ]
  },
  {
   "cell_type": "markdown",
   "id": "b1837b0b-1fd0-4981-87c5-d9318dc4056c",
   "metadata": {},
   "source": [
    "### 2.2 Create a DataFrame by using list\n",
    "- we can create DataFrame by using single list\n",
    "-       a) if we are using list then its a single column DataFrame\n",
    "-       b) if we are using list of list(nested list ) then its multiple columns dataframe\n",
    "  \n",
    "  "
   ]
  },
  {
   "cell_type": "code",
   "execution_count": 9,
   "id": "1927a370-99b2-4552-8b55-552b0569c640",
   "metadata": {},
   "outputs": [
    {
     "name": "stdout",
     "output_type": "stream",
     "text": [
      "Single column DataFrame\n",
      "    0\n",
      "0  10\n",
      "1  20\n",
      "2  30\n",
      "3  40\n",
      "4  50\n"
     ]
    }
   ],
   "source": [
    "import pandas as pd \n",
    "marks = [10,20,30,40,50]\n",
    "df=pd.DataFrame(marks)\n",
    "print(\"Single column DataFrame\")\n",
    "print(df)"
   ]
  },
  {
   "cell_type": "markdown",
   "id": "e29c7cb5-a1f1-4847-9a57-33d899beacfb",
   "metadata": {},
   "source": [
    "#### =>Note \n",
    "- from the output DataFrame created with single column.\n",
    "- Here coloumn name is Zero we can customise this a well."
   ]
  },
  {
   "cell_type": "markdown",
   "id": "fd6e1ffb-60ea-4797-b8de-efa8216d3ea9",
   "metadata": {},
   "source": [
    "#### =>Note on index \n",
    "- if no index is passed then by default index will be range(n), where n is the array length"
   ]
  },
  {
   "cell_type": "code",
   "execution_count": 10,
   "id": "41a61f78-7710-43e8-979c-235320df4a27",
   "metadata": {},
   "outputs": [
    {
     "name": "stdout",
     "output_type": "stream",
     "text": [
      "        0\n",
      "0  kishan\n",
      "1   firoj\n",
      "2    pika\n",
      "3   romio\n",
      "4    didi\n"
     ]
    }
   ],
   "source": [
    "\"\"\" Creating DataFrame by using single list \"\"\"\n",
    "import pandas as pd \n",
    "name=[\"kishan\",\"firoj\",\"pika\",\"romio\",\"didi\"]\n",
    "df=pd.DataFrame(name)\n",
    "print(df)"
   ]
  },
  {
   "cell_type": "code",
   "execution_count": 12,
   "id": "d0e252ed-dfd1-4a76-8b9f-5a955f38084b",
   "metadata": {},
   "outputs": [
    {
     "name": "stdout",
     "output_type": "stream",
     "text": [
      "        0\n",
      "0  kishan\n",
      "1   firoj\n",
      "2    pika\n",
      "3   romio\n",
      "4    didi\n",
      "\n",
      "length\n",
      "5\n"
     ]
    }
   ],
   "source": [
    "\"\"\" Creating single column DataFrame and checking length\"\"\"\n",
    "import pandas as pd \n",
    "name=[\"kishan\",\"firoj\",\"pika\",\"romio\",\"didi\"]\n",
    "df=pd.DataFrame(name)\n",
    "print(df)\n",
    "print()\n",
    "print(\"length\")\n",
    "print(len(df))    # len is a pre defined function in python"
   ]
  },
  {
   "cell_type": "markdown",
   "id": "6ff3ac1b-470b-47c5-96d6-e1ae0ba82382",
   "metadata": {},
   "source": [
    "### 2.3 Creating a DataFrame by using list of list\n",
    "- we can create DataFrame with list of list(nested list)\n",
    "- If we are using list of list then it create a Dataframe with multiple columns"
   ]
  },
  {
   "cell_type": "code",
   "execution_count": 14,
   "id": "3d72fbf1-7280-4d4f-803f-09ef4abca28e",
   "metadata": {},
   "outputs": [
    {
     "name": "stdout",
     "output_type": "stream",
     "text": [
      "        0   1\n",
      "0  kishan  12\n",
      "1   firoj  13\n",
      "2    pika  14\n"
     ]
    }
   ],
   "source": [
    "\"\"\" Creating DataFrame by using list by list\"\"\"\n",
    "import pandas as pd \n",
    "details=[\n",
    "    [\"kishan\",12],\n",
    "    [\"firoj\",13],\n",
    "    [\"pika\",14]\n",
    "]\n",
    "df=pd.DataFrame(details)\n",
    "print(df)"
   ]
  },
  {
   "cell_type": "markdown",
   "id": "c7310d43-b5a7-48df-9d18-84e253ee16f8",
   "metadata": {},
   "source": [
    "#### => Note\n",
    "- From the output , DataFrame Created with two column\n",
    "- Here column name are 0,1 we can customise this as well\n"
   ]
  },
  {
   "cell_type": "markdown",
   "id": "040b312d-59c3-4675-bad2-12bbc27a7942",
   "metadata": {},
   "source": [
    "### 2.3.1 Giving coloumn name to DataFrame \n",
    "- we can give column name to DataFrame."
   ]
  },
  {
   "cell_type": "code",
   "execution_count": 31,
   "id": "b501dc01-cf5a-469c-8a77-0674b3a712a1",
   "metadata": {},
   "outputs": [
    {
     "name": "stdout",
     "output_type": "stream",
     "text": [
      "**************************************************\n",
      "     Name  Age\n",
      "0  kishan   12\n",
      "1   firoj   13\n",
      "2    pika   14\n",
      "3    raja   15\n"
     ]
    }
   ],
   "source": [
    "\"\"\"Giving column name to DataFrame\"\"\"\n",
    "import pandas as pd \n",
    "details=[\n",
    "    [\"kishan\",12],\n",
    "    [\"firoj\",13],\n",
    "    [\"pika\",14],\n",
    "    [\"raja\",15]\n",
    "]\n",
    "c=[\"Name\",\"Age\"] \n",
    "print(\"*\"*50)\n",
    "df=pd.DataFrame( details,columns=c)\n",
    "print(df)"
   ]
  },
  {
   "cell_type": "code",
   "execution_count": 32,
   "id": "0909f25a-327a-4bc4-80b1-bffa2c935a04",
   "metadata": {},
   "outputs": [
    {
     "name": "stdout",
     "output_type": "stream",
     "text": [
      "**************************************************\n",
      "     Name  Age    Location\n",
      "0  kishan   12    benglore\n",
      "1   firoj   13    benglore\n",
      "2    pika   14   Hyderabad\n",
      "3    raja   15      Odisha\n"
     ]
    }
   ],
   "source": [
    "import pandas as pd \n",
    "details=[\n",
    "    [\"kishan\",12,\"benglore\"],\n",
    "    [\"firoj\",13,\"benglore\"],\n",
    "    [\"pika\",14,\" Hyderabad\"],\n",
    "    [\"raja\",15,\" Odisha\"]\n",
    "]\n",
    "c=[\"Name\",\"Age\",\"Location\"] \n",
    "print(\"*\"*50)\n",
    "df=pd.DataFrame( details,columns=c)\n",
    "print(df)"
   ]
  },
  {
   "cell_type": "markdown",
   "id": "5d714e13-72d3-4065-8b1f-0ab6394cb510",
   "metadata": {},
   "source": [
    "### 2.4 Creating a DataFrame by using dictionary\n",
    "- We can create DatFrame by using dictionary\n",
    "- if we are using list of list then it create a DataFrame with multiple columns "
   ]
  },
  {
   "cell_type": "markdown",
   "id": "9907e2a4-b1b5-45fc-b49d-fb5a4a705dc4",
   "metadata": {},
   "source": [
    "## Pandas \n",
    "- By using pandas we can hande Structured Data\n",
    "- Structured data means , Row and colomns"
   ]
  },
  {
   "cell_type": "code",
   "execution_count": 9,
   "id": "3e003a3f-6a78-4ba2-b756-b54f2155946e",
   "metadata": {},
   "outputs": [
    {
     "name": "stdout",
     "output_type": "stream",
     "text": [
      "{'Name': ['kishan', 'firoj', 'pika'], 'Age': ['14', '13', '12']} <class 'dict'>\n"
     ]
    },
    {
     "data": {
      "text/plain": [
       "dict"
      ]
     },
     "execution_count": 9,
     "metadata": {},
     "output_type": "execute_result"
    }
   ],
   "source": [
    "\"\"\" dict\"\"\"\n",
    "details={\n",
    "    \"Name\":[\"kishan\",\"firoj\",\"pika\"],\n",
    "    \"Age\" :[\"14\",\"13\",\"12\"]\n",
    "}\n",
    "print(details,type(details))\n",
    "type(details)\n"
   ]
  },
  {
   "cell_type": "code",
   "execution_count": 13,
   "id": "b0cd9b20-e8d5-4b27-9feb-4bbbe0b2513e",
   "metadata": {},
   "outputs": [
    {
     "name": "stdout",
     "output_type": "stream",
     "text": [
      "     Name Age\n",
      "0  kishan  14\n",
      "1   firoj  13\n",
      "2    pika  12\n"
     ]
    }
   ],
   "source": [
    "import pandas as pd\n",
    "d={\n",
    "    \"Name\":[\"kishan\",\"firoj\",\"pika\"],\n",
    "    \"Age\" :[\"14\",\"13\",\"12\"]\n",
    "}\n",
    "df=pd.DataFrame(d)\n",
    "print(df)"
   ]
  },
  {
   "cell_type": "markdown",
   "id": "72647aab-83c0-4992-91ea-fa23f1ae6371",
   "metadata": {},
   "source": [
    "### => Note\n",
    "- In above example Name and age considered as column names"
   ]
  },
  {
   "cell_type": "markdown",
   "id": "1c2b4b18-c4f2-48f4-a240-720a337f39ad",
   "metadata": {},
   "source": [
    "### 2.4.1 We can Customize the index values\n",
    "- By default index value start from 0\n",
    "- we can customise the index values in DataFrame>\n",
    "- If index passed, then the length of the index should equal to the length of the DataFrame"
   ]
  },
  {
   "cell_type": "code",
   "execution_count": 17,
   "id": "2f7936b9-e4fb-4cc8-86a8-9c06c1b53428",
   "metadata": {},
   "outputs": [
    {
     "name": "stdout",
     "output_type": "stream",
     "text": [
      "       Name  salary\n",
      "100  kishan   11000\n",
      "101   firoj   15000\n",
      "99     pika   13000\n",
      "98    raja    14000\n"
     ]
    }
   ],
   "source": [
    "import pandas as pd \n",
    "d=[\n",
    "    [\"kishan\",11000],\n",
    "    [\"firoj\",15000],\n",
    "    [\"pika\",13000],\n",
    "    [\"raja \",14000]\n",
    "]\n",
    "c=[\"Name\",\"salary\"]\n",
    "i=[100,101,99,98]\n",
    "df=pd.DataFrame(d,columns=c,index=i)\n",
    "print(df)"
   ]
  },
  {
   "cell_type": "code",
   "execution_count": 18,
   "id": "a41a028c-e01b-4726-8cc9-e1591a014b83",
   "metadata": {},
   "outputs": [
    {
     "name": "stdout",
     "output_type": "stream",
     "text": [
      "        Name  salary\n",
      "row1  kishan   11000\n",
      "row2   firoj   15000\n",
      "row3    pika   13000\n",
      "row4   raja    14000\n"
     ]
    }
   ],
   "source": [
    "import pandas as pd \n",
    "d=[\n",
    "    [\"kishan\",11000],\n",
    "    [\"firoj\",15000],\n",
    "    [\"pika\",13000],\n",
    "    [\"raja \",14000]\n",
    "]\n",
    "c=[\"Name\",\"salary\"]\n",
    "i=[\"row1\",\"row2\",\"row3\",\"row4\"]\n",
    "df=pd.DataFrame(d,columns=c,index=i)\n",
    "print(df)"
   ]
  },
  {
   "cell_type": "markdown",
   "id": "dfee9690-b561-410b-9d82-a28705c3754a",
   "metadata": {},
   "source": [
    "### 2.5 Creating DataFrame by loading the files.\n",
    "- we can create DataFrame by loading files like csv,json etc\n",
    "- This we will learn more on 8th chapter"
   ]
  },
  {
   "cell_type": "markdown",
   "id": "227d40c6-649f-4b3c-ac42-8b6571f2ffa1",
   "metadata": {},
   "source": [
    "# SUMMARY"
   ]
  },
  {
   "cell_type": "markdown",
   "id": "8af2b787-b0d9-45fd-aced-772b660d12c7",
   "metadata": {},
   "source": [
    "# 2. Create DataFrame\n",
    "- DataFrame is predefined class in pandas\n",
    "- we can create Dataframe in different ways like below\n",
    "1. Empty dataframe\n",
    "2. by using single list\n",
    "3. by using nested list\n",
    "4. by using dictionary\n",
    "5. with another  dataframe\n",
    "6. loading files (Real time approach) "
   ]
  }
 ],
 "metadata": {
  "kernelspec": {
   "display_name": "Python [conda env:base] *",
   "language": "python",
   "name": "conda-base-py"
  },
  "language_info": {
   "codemirror_mode": {
    "name": "ipython",
    "version": 3
   },
   "file_extension": ".py",
   "mimetype": "text/x-python",
   "name": "python",
   "nbconvert_exporter": "python",
   "pygments_lexer": "ipython3",
   "version": "3.13.5"
  }
 },
 "nbformat": 4,
 "nbformat_minor": 5
}
