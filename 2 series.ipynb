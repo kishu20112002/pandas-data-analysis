{
 "cells": [
  {
   "cell_type": "markdown",
   "id": "a4d08079-7f42-457e-b134-83d9c598e58a",
   "metadata": {},
   "source": [
    "# Series"
   ]
  },
  {
   "cell_type": "markdown",
   "id": "04791f43-ddf6-4b59-aaa1-c16b19ff3d01",
   "metadata": {},
   "source": [
    "### 1. Series\n",
    "- The Pandas Series is one-dimensional labeled array ( store , single coulumns of data)\n",
    "- Series can store same and different types of data\n",
    "- Series stores data in sequential order\n",
    "- Series is like a, one column information\n",
    "\n",
    "\n",
    "### Series is a pre defined class\n",
    "- Techically speaking Series is a pre- defined class in pandas library\n",
    "\n",
    "\n",
    "### Creating \n"
   ]
  },
  {
   "cell_type": "markdown",
   "id": "7ba0281a-cb0b-4451-ac82-0efea03368d9",
   "metadata": {},
   "source": [
    "## class \n",
    "        - import class\n",
    "        - create an object\n",
    "        - call the method\n",
    "\n",
    "## Series class\n",
    "        - import Series class from pandas \n",
    "        - Create object to series class \n",
    "        - call the method by using Series object"
   ]
  },
  {
   "cell_type": "markdown",
   "id": "5f63a0ae-ae20-48e2-82e9-624b526a980f",
   "metadata": {},
   "source": [
    "## 2. creating Series '\n",
    "- We can create series in different  ways\n",
    "  1) Empty series\n",
    "  2) by using list\n",
    "  3) by using an array\n",
    "  4) by accessing single coloum from DataFrame\n",
    "\n",
    "\n",
    "1) Empty series\n",
    "        empty list  a=[]\n",
    "       Empty Series\n",
    "   1) import pandas\n",
    "   2) get Series class from pandas\n",
    "   3) create an object\n",
    "\n"
   ]
  },
  {
   "cell_type": "code",
   "execution_count": 2,
   "id": "12b7973f-f13e-42df-b9cc-c75475919411",
   "metadata": {},
   "outputs": [
    {
     "name": "stdout",
     "output_type": "stream",
     "text": [
      "['ArrowDtype', 'BooleanDtype', 'Categorical', 'CategoricalDtype', 'CategoricalIndex', 'DataFrame', 'DateOffset', 'DatetimeIndex', 'DatetimeTZDtype', 'ExcelFile', 'ExcelWriter', 'Flags', 'Float32Dtype', 'Float64Dtype', 'Grouper', 'HDFStore', 'Index', 'IndexSlice', 'Int16Dtype', 'Int32Dtype', 'Int64Dtype', 'Int8Dtype', 'Interval', 'IntervalDtype', 'IntervalIndex', 'MultiIndex', 'NA', 'NaT', 'NamedAgg', 'Period', 'PeriodDtype', 'PeriodIndex', 'RangeIndex', 'Series', 'SparseDtype', 'StringDtype', 'Timedelta', 'TimedeltaIndex', 'Timestamp', 'UInt16Dtype', 'UInt32Dtype', 'UInt64Dtype', 'UInt8Dtype', '__all__', '__builtins__', '__cached__', '__doc__', '__docformat__', '__file__', '__git_version__', '__loader__', '__name__', '__package__', '__path__', '__spec__', '__version__', '_built_with_meson', '_config', '_is_numpy_dev', '_libs', '_pandas_datetime_CAPI', '_pandas_parser_CAPI', '_testing', '_typing', '_version_meson', 'annotations', 'api', 'array', 'arrays', 'bdate_range', 'compat', 'concat', 'core', 'crosstab', 'cut', 'date_range', 'describe_option', 'errors', 'eval', 'factorize', 'from_dummies', 'get_dummies', 'get_option', 'infer_freq', 'interval_range', 'io', 'isna', 'isnull', 'json_normalize', 'lreshape', 'melt', 'merge', 'merge_asof', 'merge_ordered', 'notna', 'notnull', 'offsets', 'option_context', 'options', 'pandas', 'period_range', 'pivot', 'pivot_table', 'plotting', 'qcut', 'read_clipboard', 'read_csv', 'read_excel', 'read_feather', 'read_fwf', 'read_gbq', 'read_hdf', 'read_html', 'read_json', 'read_orc', 'read_parquet', 'read_pickle', 'read_sas', 'read_spss', 'read_sql', 'read_sql_query', 'read_sql_table', 'read_stata', 'read_table', 'read_xml', 'reset_option', 'set_eng_float_format', 'set_option', 'show_versions', 'test', 'testing', 'timedelta_range', 'to_datetime', 'to_numeric', 'to_pickle', 'to_timedelta', 'tseries', 'unique', 'util', 'value_counts', 'wide_to_long']\n"
     ]
    }
   ],
   "source": [
    "''' i can see all the pandas lib '''\n",
    "import pandas as pd \n",
    "print(dir(pd))\n"
   ]
  },
  {
   "cell_type": "code",
   "execution_count": 12,
   "id": "7990e83d-09d6-4c26-9bb3-d343d1345033",
   "metadata": {},
   "outputs": [
    {
     "name": "stdout",
     "output_type": "stream",
     "text": [
      "Series([], dtype: object) <class 'pandas.core.series.Series'>\n",
      "Series([], dtype: object) <class 'pandas.core.series.Series'>\n"
     ]
    }
   ],
   "source": [
    "''' empty series '''\n",
    "import pandas as pd \n",
    "s=pd.Series()\n",
    "print(s,type(s))\n",
    "\n",
    "import pandas \n",
    "s=pandas.Series()\n",
    "print(s,type(s))"
   ]
  },
  {
   "cell_type": "markdown",
   "id": "0f8c4663-0385-45b6-800c-1c3500c3a33e",
   "metadata": {},
   "source": [
    "## 2.2 Creating Series by using list \n",
    "- We can create Series by using list "
   ]
  },
  {
   "cell_type": "code",
   "execution_count": 26,
   "id": "3817298a-3907-4234-9924-3c53361ad6db",
   "metadata": {},
   "outputs": [
    {
     "name": "stdout",
     "output_type": "stream",
     "text": [
      "********************\n",
      "[10, 20, 30, 40] <class 'list'>\n",
      "********************\n",
      "0    10\n",
      "1    20\n",
      "2    30\n",
      "3    40\n",
      "dtype: int64\n",
      "********************\n",
      "0    10.1\n",
      "1    10.2\n",
      "2    10.3\n",
      "3    10.4\n",
      "dtype: float64\n",
      "********************\n",
      "0    kishan\n",
      "1     firoj\n",
      "2      pika\n",
      "3      raja\n",
      "dtype: object <class 'pandas.core.series.Series'>\n",
      "********************\n",
      "0    luffy\n",
      "1        5\n",
      "2    19.19\n",
      "dtype: object\n",
      "0    10\n",
      "1    20\n",
      "2    30\n",
      "3    40\n",
      "Name: number , dtype: int64\n"
     ]
    }
   ],
   "source": [
    "''' Create sseries object with data with list '''\n",
    "print(\"*\"*20)\n",
    "a=[10,20,30,40]\n",
    "print(a,type(a))\n",
    "print(\"*\"*20)\n",
    "\n",
    "'''int '''\n",
    "import pandas as pd\n",
    "a=[10,20,30,40]\n",
    "s=pd.Series(a)\n",
    "print(s)\n",
    "print(\"*\"*20)\n",
    "\n",
    "\n",
    "'''float '''\n",
    "import pandas as pd \n",
    "list=[10.1,10.2,10.3,10.4]\n",
    "s=pd.Series(list)\n",
    "print(s)\n",
    "print(\"*\"*20)\n",
    "\n",
    "\n",
    "''' string'''\n",
    "\n",
    "import pandas as pd \n",
    "list=[\"kishan\",\"firoj\",\"pika\",\"raja\"]\n",
    "s=pd.Series(list)\n",
    "print(s,type(s))\n",
    "print(\"*\"*20)\n",
    "\n",
    "import pandas as pd\n",
    "list=[\"luffy\",5,19.19]\n",
    "s=pd.Series(list)\n",
    "print(s)\n",
    "\n",
    "import pandas as pd \n",
    "list=[10,20,30,40]\n",
    "s=pd.Series(list,name=\"number \")\n",
    "print(s)"
   ]
  },
  {
   "cell_type": "code",
   "execution_count": 27,
   "id": "a6114bdf-d25c-4734-940e-8b0e4d88a7e2",
   "metadata": {},
   "outputs": [
    {
     "name": "stdout",
     "output_type": "stream",
     "text": [
      "0    0\n",
      "1    1\n",
      "2    2\n",
      "3    3\n",
      "4    4\n",
      "5    5\n",
      "6    6\n",
      "7    7\n",
      "8    8\n",
      "9    9\n",
      "dtype: int64 <class 'pandas.core.series.Series'>\n"
     ]
    }
   ],
   "source": [
    "''' Creating Series object by using range and list '''\n",
    "\n",
    "import pandas as pd\n",
    "\n",
    "r=range(10)\n",
    "s=pd.Series(r)\n",
    "print(s,type(s))"
   ]
  },
  {
   "cell_type": "code",
   "execution_count": 1,
   "id": "02f355b3-c1f3-43cf-bad4-fad6be3a475f",
   "metadata": {},
   "outputs": [
    {
     "name": "stdout",
     "output_type": "stream",
     "text": [
      "0      100\n",
      "1      101\n",
      "2      102\n",
      "3      103\n",
      "4      104\n",
      "      ... \n",
      "96     196\n",
      "97     197\n",
      "98     198\n",
      "99     199\n",
      "100    200\n",
      "Name: number, Length: 101, dtype: int64 <class 'pandas.core.series.Series'>\n"
     ]
    }
   ],
   "source": [
    "import pandas as pd\n",
    "\n",
    "r= range(100,201)\n",
    "s=pd.Series(r,name=\"number\")\n",
    "print(s,type(s))"
   ]
  },
  {
   "cell_type": "markdown",
   "id": "9caccb64-1ae7-44dd-8345-c3d653409554",
   "metadata": {},
   "source": [
    "#### 2.3 Create a Series from array\n",
    "- We can pass array as a argument to the series >\n",
    "- By default, index is assigned to every element "
   ]
  },
  {
   "cell_type": "markdown",
   "id": "a2f51146-9dc7-4fe2-b69c-a51632c920c7",
   "metadata": {},
   "source": [
    "### 2.4 Creating Series by column from DataFrame\n",
    "- If we select single column from DataFrame then it retures Series object\n",
    "- This point we will learn during DataFrame chapter , thanks for understanding "
   ]
  },
  {
   "cell_type": "code",
   "execution_count": 8,
   "id": "97fd8d52-8dcc-4f58-9bd6-258f609bc478",
   "metadata": {},
   "outputs": [
    {
     "name": "stdout",
     "output_type": "stream",
     "text": [
      "Index(['Store', 'Date', 'Weekly_Sales', 'Holiday_Flag', 'Temperature',\n",
      "       'Fuel_Price', 'CPI', 'Unemployment'],\n",
      "      dtype='object')\n",
      "\n",
      "0       05-02-2010\n",
      "1       12-02-2010\n",
      "2       19-02-2010\n",
      "3       26-02-2010\n",
      "4       05-03-2010\n",
      "           ...    \n",
      "6430    28-09-2012\n",
      "6431    05-10-2012\n",
      "6432    12-10-2012\n",
      "6433    19-10-2012\n",
      "6434    26-10-2012\n",
      "Name: Date, Length: 6435, dtype: object\n"
     ]
    }
   ],
   "source": [
    "\"\"\"case 1\"\"\" # not in realtime standard\n",
    "import pandas as pd\n",
    "df=pd.read_csv(\"/Users/apple/Downloads/Walmart_Sales.csv\")\n",
    "print(df.columns)\n",
    "print()\n",
    "print(df.Date)"
   ]
  },
  {
   "cell_type": "code",
   "execution_count": 10,
   "id": "764fc05d-08d3-49d2-ab5a-82ab8c54c721",
   "metadata": {},
   "outputs": [
    {
     "name": "stdout",
     "output_type": "stream",
     "text": [
      "Index(['product_id', 'product_name', 'category', 'discounted_price',\n",
      "       'actual_price', 'discount_percentage', 'rating', 'rating_count',\n",
      "       'about_product', 'user_id', 'user_name', 'review_id'],\n",
      "      dtype='object')\n",
      "\n",
      "0       B07JW9H4J1\n",
      "1       B098NS6PVG\n",
      "2       B096MSW6CT\n",
      "3       B08HDJ86NZ\n",
      "4       B08CF3B7N1\n",
      "           ...    \n",
      "1460    B08L7J3T31\n",
      "1461    B01M6453MB\n",
      "1462    B009P2LIL4\n",
      "1463    B00J5DYCCA\n",
      "1464    B01486F4G6\n",
      "Name: product_id, Length: 1465, dtype: object\n"
     ]
    }
   ],
   "source": [
    "\"\"\" case 2 \"\"\" # realtime standard\n",
    "import pandas as pd\n",
    "df=pd.read_csv('/Users/apple/Downloads/amazon.csv')\n",
    "print(df.columns)\n",
    "print()\n",
    "print(df[\"product_id\"])"
   ]
  },
  {
   "cell_type": "markdown",
   "id": "c7aa300f-5d7d-49cf-ac83-2363aa84d688",
   "metadata": {},
   "source": [
    "## 3. Index in Series "
   ]
  },
  {
   "cell_type": "markdown",
   "id": "575a49e4-d148-4c44-936c-a201e4ecdba5",
   "metadata": {},
   "source": [
    "### 3.1 What is index?\n",
    "- Index ,means the position of value where it store\n",
    "- The index is a core feature in pandas\n",
    "- By default, index is assigned to every value\n",
    "- from the output is assigned to every value\n",
    "- from the output the left most column is the index column\n",
    "- The generic name for an index is a axis\n",
    "\n",
    "### 3.2 Index default values \n",
    "- The default values for an index are integers\n",
    "- The index starts from 0,1,2,3 etcs\n",
    "- Based on requirement we can customise the index\n",
    "- These are  called as axis labels"
   ]
  },
  {
   "cell_type": "code",
   "execution_count": 3,
   "id": "9c4aef48-b0c8-4f04-9cb0-c19a90ba5776",
   "metadata": {},
   "outputs": [
    {
     "name": "stdout",
     "output_type": "stream",
     "text": [
      "0    10\n",
      "1    20\n",
      "2    30\n",
      "3    40\n",
      "dtype: int64 <class 'pandas.core.series.Series'>\n"
     ]
    }
   ],
   "source": [
    "import pandas as pd\n",
    "list=[10,20,30,40]\n",
    "s=pd.Series(list)\n",
    "print(s,type(s))\n"
   ]
  },
  {
   "cell_type": "code",
   "execution_count": 4,
   "id": "fa659eec-47d3-4e7b-aee9-9212d791786a",
   "metadata": {},
   "outputs": [
    {
     "name": "stdout",
     "output_type": "stream",
     "text": [
      "0    10\n",
      "1    20\n",
      "2    30\n",
      "3    40\n",
      "dtype: int64\n",
      "********************\n",
      "10    10\n",
      "20    20\n",
      "70    30\n",
      "99    40\n",
      "dtype: int64\n"
     ]
    }
   ],
   "source": [
    "# Based on requirement we can customise this index \n",
    "# we can change the index in pandas \n",
    "\n",
    "import pandas as pd\n",
    "list=[10,20,30,40]\n",
    "s=pd.Series(list)\n",
    "print(s)\n",
    "print(\"*\"*20)\n",
    "\n",
    "# we havae index here\n",
    "\n",
    "import pandas as pd\n",
    "a=[10,20,30,40]\n",
    "b=[10,20,70,99]\n",
    "s=pd.Series(a, index=b)\n",
    "print(s)"
   ]
  },
  {
   "cell_type": "code",
   "execution_count": 1,
   "id": "18a94bfe-46ab-4ddc-ac4d-b2539a099ea7",
   "metadata": {},
   "outputs": [
    {
     "name": "stdout",
     "output_type": "stream",
     "text": [
      "0    145\n",
      "1    142\n",
      "2     38\n",
      "3     13\n",
      "dtype: int64\n"
     ]
    }
   ],
   "source": [
    "import pandas as pd \n",
    "l=[145,142,38,13]\n",
    "s=pd.Series(l)\n",
    "print(s)"
   ]
  },
  {
   "cell_type": "code",
   "execution_count": 10,
   "id": "d740867f-ee0a-4025-85ab-7277d8c47839",
   "metadata": {},
   "outputs": [
    {
     "name": "stdout",
     "output_type": "stream",
     "text": [
      "0    145\n",
      "1    142\n",
      "2     38\n",
      "3     13\n",
      "Name: count, dtype: int64\n"
     ]
    }
   ],
   "source": [
    "# keyword arguments  name here\n",
    "import pandas as pd\n",
    "l=[145,142,38,13]\n",
    "s=pd.Series(l,name='count')\n",
    "print(s)"
   ]
  },
  {
   "cell_type": "code",
   "execution_count": 11,
   "id": "caaafc99-cfa7-4d45-be72-7f6f4b1a4cec",
   "metadata": {},
   "outputs": [
    {
     "name": "stdout",
     "output_type": "stream",
     "text": [
      "10    142\n",
      "20    125\n",
      "30     38\n",
      "40     13\n",
      "Name: counts, dtype: int64\n"
     ]
    }
   ],
   "source": [
    "# we using the index and name function \n",
    "import pandas as pd\n",
    "l=[142,125,38,13]\n",
    "i=[10,20,30,40]\n",
    "s=pd.Series(l,index=i,name='counts')\n",
    "print(s)"
   ]
  },
  {
   "cell_type": "code",
   "execution_count": 12,
   "id": "0453d1a8-6f83-42ca-bdab-60341b56302e",
   "metadata": {},
   "outputs": [
    {
     "name": "stdout",
     "output_type": "stream",
     "text": [
      "30\n",
      "None\n"
     ]
    }
   ],
   "source": [
    "#user function\n",
    "def add(a,b):\n",
    "    print(a+b)\n",
    "print (add(20,10))\n"
   ]
  },
  {
   "cell_type": "code",
   "execution_count": 13,
   "id": "67f51242-cbb8-432c-9057-f9ba591acda3",
   "metadata": {},
   "outputs": [
    {
     "name": "stdout",
     "output_type": "stream",
     "text": [
      "Nokia      1000\n",
      "Samsung    2000\n",
      "Oppo       3000\n",
      "iphone6    4000\n",
      "Name: phone name and cost, dtype: int64\n"
     ]
    }
   ],
   "source": [
    "import pandas as pd\n",
    "l=[1000,2000,3000,4000]\n",
    "n=[\"Nokia\",\"Samsung\",\"Oppo\",\"iphone6\"]\n",
    "s=pd.Series(l,index=n,name='phone name and cost')\n",
    "print(s)"
   ]
  },
  {
   "cell_type": "markdown",
   "id": "268ec88d-33ce-4fb5-98df-1bb5ac63dcc9",
   "metadata": {},
   "source": [
    "### 4. Accessing Values in Series "
   ]
  },
  {
   "cell_type": "code",
   "execution_count": 22,
   "id": "da3a9699-0c19-482a-8603-1b461bebe871",
   "metadata": {},
   "outputs": [
    {
     "name": "stdout",
     "output_type": "stream",
     "text": [
      "10\n",
      "********************\n",
      "\n",
      "0    10\n",
      "1    20\n",
      "2    30\n",
      "3    40\n",
      "dtype: int64\n",
      "10\n",
      "100    10\n",
      "201    20\n",
      "302    30\n",
      "401    40\n",
      "dtype: int64\n",
      "********************\n",
      "10\n",
      "********************\n",
      "401    40\n",
      "302    30\n",
      "201    20\n",
      "100    10\n",
      "dtype: int64\n",
      "********************\n"
     ]
    }
   ],
   "source": [
    "a=[10,20,30,40]\n",
    "print(a[0])\n",
    "print(\"*\"*20)\n",
    "print()\n",
    "\n",
    "import pandas as pd \n",
    "l=[10,20,30,40]\n",
    "s=pd.Series(l)\n",
    "print(s)\n",
    "print(s[0])\n",
    "\n",
    "# what if we chamge the index then we find it\n",
    "# changeing index silling \n",
    "\n",
    "import pandas as pd\n",
    "l=[10,20,30,40]\n",
    "i=[100,201,302,401]\n",
    "s=pd.Series(l,index=i)\n",
    "print(s)\n",
    "print(\"*\"*20)\n",
    "\n",
    "print(s[100])\n",
    "\n",
    "print(\"*\"*20)\n",
    "\n",
    "print(s[::-1])\n",
    "\n",
    "print(\"*\"*20)\n"
   ]
  },
  {
   "cell_type": "code",
   "execution_count": 27,
   "id": "5df9a8b6-aa04-4041-8d3c-2cd49d0d5103",
   "metadata": {},
   "outputs": [
    {
     "name": "stdout",
     "output_type": "stream",
     "text": [
      "Nokia      1000\n",
      "Samsung    2000\n",
      "Oppo       3000\n",
      "iphone6    4000\n",
      "Name: mobile name anf info, dtype: int64\n",
      "\n",
      "\n",
      "1000\n",
      "3000\n"
     ]
    }
   ],
   "source": [
    "# Creating Series and accessing values\n",
    "\n",
    "import pandas as pd \n",
    "l=[1000,2000,3000,4000]\n",
    "n=[\"Nokia\",\"Samsung\",\"Oppo\",\"iphone6\"]\n",
    "s=pd.Series(l, index=n ,name='mobile name anf info')\n",
    "print(s)\n",
    "print()\n",
    "print()\n",
    "\n",
    "print(s['Nokia'])\n",
    "print(s['Oppo'])\n"
   ]
  },
  {
   "cell_type": "markdown",
   "id": "0e4facdc-9101-4f29-8d20-765a6d835e82",
   "metadata": {},
   "source": [
    "# SUMMARY\n"
   ]
  },
  {
   "cell_type": "code",
   "execution_count": null,
   "id": "2868e4cc-02a0-4b0e-899c-85c8a0850d25",
   "metadata": {},
   "outputs": [],
   "source": []
  },
  {
   "cell_type": "markdown",
   "id": "10ac82db-4952-4775-a0ba-3056d838e1a2",
   "metadata": {},
   "source": [
    "## Creating Series\n",
    "- Empty Series object\n",
    "- creating Series by using list\n",
    "- Creating Series by using array\n",
    "- Creating Series by column from DataFrame\n"
   ]
  },
  {
   "cell_type": "markdown",
   "id": "c68a04f0-e9ff-40f8-a053-8e197c9f9f5b",
   "metadata": {},
   "source": [
    "- We can create series in different  ways\n",
    "  1) Empty series\n",
    "  2) by using list\n",
    "  3) by using an array\n",
    "  4) by accessing single coloum from DataFrame"
   ]
  }
 ],
 "metadata": {
  "kernelspec": {
   "display_name": "Python [conda env:base] *",
   "language": "python",
   "name": "conda-base-py"
  },
  "language_info": {
   "codemirror_mode": {
    "name": "ipython",
    "version": 3
   },
   "file_extension": ".py",
   "mimetype": "text/x-python",
   "name": "python",
   "nbconvert_exporter": "python",
   "pygments_lexer": "ipython3",
   "version": "3.13.5"
  }
 },
 "nbformat": 4,
 "nbformat_minor": 5
}
