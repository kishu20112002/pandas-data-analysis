{
 "cells": [
  {
   "cell_type": "markdown",
   "id": "63f56301-a5bd-4be3-9f6e-a80f50c272d6",
   "metadata": {},
   "source": [
    "# PANDAS - SELECTION-iLOC - LOC "
   ]
  },
  {
   "cell_type": "markdown",
   "id": "586ba24e-9144-4fc6-b481-a872ada7d18d",
   "metadata": {},
   "source": [
    "### 1. Selecting single \n",
    "- Based on requirement we can select column from the DataFrame.\n",
    "  1. if we select a single column then it returns the series"
   ]
  },
  {
   "cell_type": "code",
   "execution_count": 6,
   "id": "fdba6a11-fbea-472d-b8c6-a3a4a4cd54ae",
   "metadata": {},
   "outputs": [
    {
     "name": "stdout",
     "output_type": "stream",
     "text": [
      "0       Wayona Nylon Braided USB to Lightning Fast Cha...\n",
      "1       Ambrane Unbreakable 60W / 3A Fast Charging 1.5...\n",
      "2       Sounce Fast Phone Charging Cable & Data Sync U...\n",
      "3       boAt Deuce USB 300 2 in 1 Type-C & Micro USB S...\n",
      "4       Portronics Konnect L 1.2M Fast Charging 3A 8 P...\n",
      "                              ...                        \n",
      "1460    Noir Aqua - 5pcs PP Spun Filter + 1 Spanner | ...\n",
      "1461    Prestige Delight PRWO Electric Rice Cooker (1 ...\n",
      "1462    Bajaj Majesty RX10 2000 Watts Heat Convector R...\n",
      "1463    Havells Ventil Air DSP 230mm Exhaust Fan (Pist...\n",
      "1464    Borosil Jumbo 1000-Watt Grill Sandwich Maker (...\n",
      "Name: product_name, Length: 1465, dtype: object\n"
     ]
    }
   ],
   "source": [
    "# Selecting single column from the DataFrame\n",
    "import pandas as pd\n",
    "df=pd.read_csv(\"/Users/apple/Downloads/amazon.csv\")\n",
    "#print(df.columns)\n",
    "print(df.product_name)"
   ]
  },
  {
   "cell_type": "code",
   "execution_count": 8,
   "id": "136d9fec-4ef5-4d03-a1bc-5c7fe0b43760",
   "metadata": {},
   "outputs": [
    {
     "name": "stdout",
     "output_type": "stream",
     "text": [
      "Index(['product_id', 'product_name', 'category', 'discounted_price',\n",
      "       'actual_price', 'discount_percentage', 'rating', 'rating_count',\n",
      "       'about_product', 'user_id', 'user_name', 'review_id'],\n",
      "      dtype='object')\n",
      "0       Wayona Nylon Braided USB to Lightning Fast Cha...\n",
      "1       Ambrane Unbreakable 60W / 3A Fast Charging 1.5...\n",
      "2       Sounce Fast Phone Charging Cable & Data Sync U...\n",
      "3       boAt Deuce USB 300 2 in 1 Type-C & Micro USB S...\n",
      "4       Portronics Konnect L 1.2M Fast Charging 3A 8 P...\n",
      "                              ...                        \n",
      "1460    Noir Aqua - 5pcs PP Spun Filter + 1 Spanner | ...\n",
      "1461    Prestige Delight PRWO Electric Rice Cooker (1 ...\n",
      "1462    Bajaj Majesty RX10 2000 Watts Heat Convector R...\n",
      "1463    Havells Ventil Air DSP 230mm Exhaust Fan (Pist...\n",
      "1464    Borosil Jumbo 1000-Watt Grill Sandwich Maker (...\n",
      "Name: product_name, Length: 1465, dtype: object\n"
     ]
    }
   ],
   "source": [
    "# Selecting single column from the DataFrame\n",
    "import pandas as pd\n",
    "df=pd.read_csv(\"/Users/apple/Downloads/amazon.csv\")\n",
    "print(df.columns)\n",
    "print(df[\"product_name\"])"
   ]
  },
  {
   "cell_type": "markdown",
   "id": "a8466100-0696-4130-971f-ab51ef37f415",
   "metadata": {},
   "source": [
    "### 2 Selecting multiple columns\n",
    "- Based on requirement we can select columns from the DataFrame\n",
    "  1. if we select more than one column then it returns the DataFrame."
   ]
  },
  {
   "cell_type": "code",
   "execution_count": 10,
   "id": "9305e534-3393-47aa-bdf0-71a39e5d8e19",
   "metadata": {},
   "outputs": [
    {
     "name": "stdout",
     "output_type": "stream",
     "text": [
      "      product_id                                       product_name\n",
      "0     B07JW9H4J1  Wayona Nylon Braided USB to Lightning Fast Cha...\n",
      "1     B098NS6PVG  Ambrane Unbreakable 60W / 3A Fast Charging 1.5...\n",
      "2     B096MSW6CT  Sounce Fast Phone Charging Cable & Data Sync U...\n",
      "3     B08HDJ86NZ  boAt Deuce USB 300 2 in 1 Type-C & Micro USB S...\n",
      "4     B08CF3B7N1  Portronics Konnect L 1.2M Fast Charging 3A 8 P...\n",
      "...          ...                                                ...\n",
      "1460  B08L7J3T31  Noir Aqua - 5pcs PP Spun Filter + 1 Spanner | ...\n",
      "1461  B01M6453MB  Prestige Delight PRWO Electric Rice Cooker (1 ...\n",
      "1462  B009P2LIL4  Bajaj Majesty RX10 2000 Watts Heat Convector R...\n",
      "1463  B00J5DYCCA  Havells Ventil Air DSP 230mm Exhaust Fan (Pist...\n",
      "1464  B01486F4G6  Borosil Jumbo 1000-Watt Grill Sandwich Maker (...\n",
      "\n",
      "[1465 rows x 2 columns]\n"
     ]
    }
   ],
   "source": [
    "import pandas as pd\n",
    "df=pd.read_csv(\"/Users/apple/Downloads/amazon.csv\")\n",
    "print(df[['product_id', 'product_name']])"
   ]
  },
  {
   "cell_type": "code",
   "execution_count": 15,
   "id": "fe02ddd4-4fb8-4011-abc5-d25c47379d24",
   "metadata": {},
   "outputs": [
    {
     "name": "stdout",
     "output_type": "stream",
     "text": [
      "            Date  Weekly_Sales\n",
      "0     05-02-2010    1643690.90\n",
      "1     12-02-2010    1641957.44\n",
      "2     19-02-2010    1611968.17\n",
      "3     26-02-2010    1409727.59\n",
      "4     05-03-2010    1554806.68\n",
      "...          ...           ...\n",
      "6430  28-09-2012     713173.95\n",
      "6431  05-10-2012     733455.07\n",
      "6432  12-10-2012     734464.36\n",
      "6433  19-10-2012     718125.53\n",
      "6434  26-10-2012     760281.43\n",
      "\n",
      "[6435 rows x 2 columns]\n"
     ]
    }
   ],
   "source": [
    "import pandas as pd\n",
    "df=pd.read_csv(\"/Users/apple/Downloads/Walmart_Sales.csv\")\n",
    "#print(df.columns)\n",
    "c=[\"Date\",\"Weekly_Sales\"]\n",
    "print(df[c])"
   ]
  },
  {
   "cell_type": "code",
   "execution_count": 146,
   "id": "cc675e61-4b5a-4de5-bf66-6adea0ce6c41",
   "metadata": {},
   "outputs": [
    {
     "name": "stdout",
     "output_type": "stream",
     "text": [
      "Index(['Store', 'Date', 'Weekly_Sales', 'Holiday_Flag', 'Temperature',\n",
      "       'Fuel_Price', 'CPI', 'Unemployment'],\n",
      "      dtype='object')\n",
      "      Store        Date\n",
      "0         1  05-02-2010\n",
      "1         1  12-02-2010\n",
      "2         1  19-02-2010\n",
      "3         1  26-02-2010\n",
      "4         1  05-03-2010\n",
      "...     ...         ...\n",
      "6430     45  28-09-2012\n",
      "6431     45  05-10-2012\n",
      "6432     45  12-10-2012\n",
      "6433     45  19-10-2012\n",
      "6434     45  26-10-2012\n",
      "\n",
      "[6435 rows x 2 columns]\n"
     ]
    }
   ],
   "source": [
    "import pandas as pd\n",
    "df=pd.read_csv(\"/Users/apple/Downloads/Walmart_Sales.csv\")\n",
    "print(df.columns)\n",
    "print(df[[\"Store\",\"Date\"]])"
   ]
  },
  {
   "cell_type": "code",
   "execution_count": 147,
   "id": "f0b7f01f-4433-4377-8302-a2486c7bd3c6",
   "metadata": {},
   "outputs": [
    {
     "name": "stdout",
     "output_type": "stream",
     "text": [
      "Index(['Store', 'Date', 'Weekly_Sales', 'Holiday_Flag', 'Temperature',\n",
      "       'Fuel_Price', 'CPI', 'Unemployment'],\n",
      "      dtype='object')\n",
      "      Store        Date\n",
      "0         1  05-02-2010\n",
      "1         1  12-02-2010\n",
      "2         1  19-02-2010\n",
      "3         1  26-02-2010\n",
      "4         1  05-03-2010\n",
      "...     ...         ...\n",
      "6430     45  28-09-2012\n",
      "6431     45  05-10-2012\n",
      "6432     45  12-10-2012\n",
      "6433     45  19-10-2012\n",
      "6434     45  26-10-2012\n",
      "\n",
      "[6435 rows x 2 columns]\n"
     ]
    }
   ],
   "source": [
    "import pandas as pd\n",
    "df=pd.read_csv(\"/Users/apple/Downloads/Walmart_Sales.csv\")\n",
    "print(df.columns)\n",
    "c=[\"Store\",\"Date\"]\n",
    "print(df[c])"
   ]
  },
  {
   "cell_type": "code",
   "execution_count": 165,
   "id": "4736c344-a947-4c30-a8a1-da54544fdf23",
   "metadata": {},
   "outputs": [
    {
     "name": "stdout",
     "output_type": "stream",
     "text": [
      "   sepal_length  sepal_width  petal_length  petal_width species\n",
      "0           5.1          3.5           1.4          0.2  setosa\n",
      "1           4.9          3.0           1.4          0.2  setosa\n",
      "2           4.7          3.2           1.3          0.2  setosa\n",
      "3           4.6          3.1           1.5          0.2  setosa\n",
      "4           5.0          3.6           1.4          0.2  setosa\n",
      "Index(['sepal_length', 'sepal_width', 'petal_length', 'petal_width',\n",
      "       'species'],\n",
      "      dtype='object')\n",
      "**************************************************\n",
      "    sepal_length  sepal_width  petal_length  petal_width species\n",
      "0            5.1          3.5           1.4          0.2  setosa\n",
      "1            4.9          3.0           1.4          0.2  setosa\n",
      "2            4.7          3.2           1.3          0.2  setosa\n",
      "3            4.6          3.1           1.5          0.2  setosa\n",
      "4            5.0          3.6           1.4          0.2  setosa\n",
      "5            5.4          3.9           1.7          0.4  setosa\n",
      "6            4.6          3.4           1.4          0.3  setosa\n",
      "7            5.0          3.4           1.5          0.2  setosa\n",
      "8            4.4          2.9           1.4          0.2  setosa\n",
      "9            4.9          3.1           1.5          0.1  setosa\n",
      "10           5.4          3.7           1.5          0.2  setosa\n",
      "11           4.8          3.4           1.6          0.2  setosa\n",
      "12           4.8          3.0           1.4          0.1  setosa\n",
      "13           4.3          3.0           1.1          0.1  setosa\n",
      "14           5.8          4.0           1.2          0.2  setosa\n",
      "15           5.7          4.4           1.5          0.4  setosa\n",
      "16           5.4          3.9           1.3          0.4  setosa\n",
      "17           5.1          3.5           1.4          0.3  setosa\n",
      "18           5.7          3.8           1.7          0.3  setosa\n",
      "19           5.1          3.8           1.5          0.3  setosa\n",
      "20           5.4          3.4           1.7          0.2  setosa\n",
      "21           5.1          3.7           1.5          0.4  setosa\n",
      "22           4.6          3.6           1.0          0.2  setosa\n",
      "23           5.1          3.3           1.7          0.5  setosa\n",
      "24           4.8          3.4           1.9          0.2  setosa\n",
      "25           5.0          3.0           1.6          0.2  setosa\n",
      "26           5.0          3.4           1.6          0.4  setosa\n",
      "27           5.2          3.5           1.5          0.2  setosa\n",
      "28           5.2          3.4           1.4          0.2  setosa\n",
      "29           4.7          3.2           1.6          0.2  setosa\n",
      "30           4.8          3.1           1.6          0.2  setosa\n",
      "31           5.4          3.4           1.5          0.4  setosa\n",
      "32           5.2          4.1           1.5          0.1  setosa\n",
      "33           5.5          4.2           1.4          0.2  setosa\n",
      "34           4.9          3.1           1.5          0.1  setosa\n",
      "35           5.0          3.2           1.2          0.2  setosa\n",
      "36           5.5          3.5           1.3          0.2  setosa\n",
      "37           4.9          3.1           1.5          0.1  setosa\n",
      "38           4.4          3.0           1.3          0.2  setosa\n",
      "39           5.1          3.4           1.5          0.2  setosa\n",
      "40           5.0          3.5           1.3          0.3  setosa\n",
      "41           4.5          2.3           1.3          0.3  setosa\n",
      "42           4.4          3.2           1.3          0.2  setosa\n",
      "43           5.0          3.5           1.6          0.6  setosa\n",
      "44           5.1          3.8           1.9          0.4  setosa\n",
      "45           4.8          3.0           1.4          0.3  setosa\n",
      "46           5.1          3.8           1.6          0.2  setosa\n",
      "47           4.6          3.2           1.4          0.2  setosa\n",
      "48           5.3          3.7           1.5          0.2  setosa\n",
      "49           5.0          3.3           1.4          0.2  setosa\n"
     ]
    }
   ],
   "source": [
    "import pandas as pd\n",
    "df=pd.read_csv(\"/Users/apple/Downloads/iris.csv\")\n",
    "print(df.head())\n",
    "print(df.columns)\n",
    "print(\"*\"*50)\n",
    "c=df[\"species\"]==\"setosa\"\n",
    "print(df[c])"
   ]
  },
  {
   "cell_type": "code",
   "execution_count": 178,
   "id": "54731f94-827f-4518-9555-51662a1e1dee",
   "metadata": {},
   "outputs": [
    {
     "name": "stdout",
     "output_type": "stream",
     "text": [
      "   sepal_length  sepal_width  petal_length  petal_width species\n",
      "0           5.1          3.5           1.4          0.2  setosa\n",
      "1           4.9          3.0           1.4          0.2  setosa\n",
      "2           4.7          3.2           1.3          0.2  setosa\n",
      "3           4.6          3.1           1.5          0.2  setosa\n",
      "4           5.0          3.6           1.4          0.2  setosa\n",
      "**************************************************\n",
      "    sepal_length  sepal_width  petal_length  petal_width     species\n",
      "50           7.0          3.2           4.7          1.4  versicolor\n",
      "51           6.4          3.2           4.5          1.5  versicolor\n",
      "52           6.9          3.1           4.9          1.5  versicolor\n",
      "53           5.5          2.3           4.0          1.3  versicolor\n",
      "54           6.5          2.8           4.6          1.5  versicolor\n",
      "55           5.7          2.8           4.5          1.3  versicolor\n",
      "56           6.3          3.3           4.7          1.6  versicolor\n",
      "57           4.9          2.4           3.3          1.0  versicolor\n",
      "58           6.6          2.9           4.6          1.3  versicolor\n",
      "59           5.2          2.7           3.9          1.4  versicolor\n",
      "60           5.0          2.0           3.5          1.0  versicolor\n",
      "61           5.9          3.0           4.2          1.5  versicolor\n",
      "62           6.0          2.2           4.0          1.0  versicolor\n",
      "63           6.1          2.9           4.7          1.4  versicolor\n",
      "64           5.6          2.9           3.6          1.3  versicolor\n",
      "65           6.7          3.1           4.4          1.4  versicolor\n",
      "66           5.6          3.0           4.5          1.5  versicolor\n",
      "67           5.8          2.7           4.1          1.0  versicolor\n",
      "68           6.2          2.2           4.5          1.5  versicolor\n",
      "69           5.6          2.5           3.9          1.1  versicolor\n",
      "70           5.9          3.2           4.8          1.8  versicolor\n",
      "71           6.1          2.8           4.0          1.3  versicolor\n",
      "72           6.3          2.5           4.9          1.5  versicolor\n",
      "73           6.1          2.8           4.7          1.2  versicolor\n",
      "74           6.4          2.9           4.3          1.3  versicolor\n",
      "75           6.6          3.0           4.4          1.4  versicolor\n",
      "76           6.8          2.8           4.8          1.4  versicolor\n",
      "77           6.7          3.0           5.0          1.7  versicolor\n",
      "78           6.0          2.9           4.5          1.5  versicolor\n",
      "79           5.7          2.6           3.5          1.0  versicolor\n",
      "80           5.5          2.4           3.8          1.1  versicolor\n",
      "81           5.5          2.4           3.7          1.0  versicolor\n",
      "82           5.8          2.7           3.9          1.2  versicolor\n",
      "83           6.0          2.7           5.1          1.6  versicolor\n",
      "84           5.4          3.0           4.5          1.5  versicolor\n",
      "85           6.0          3.4           4.5          1.6  versicolor\n",
      "86           6.7          3.1           4.7          1.5  versicolor\n",
      "87           6.3          2.3           4.4          1.3  versicolor\n",
      "88           5.6          3.0           4.1          1.3  versicolor\n",
      "89           5.5          2.5           4.0          1.3  versicolor\n",
      "90           5.5          2.6           4.4          1.2  versicolor\n",
      "91           6.1          3.0           4.6          1.4  versicolor\n",
      "92           5.8          2.6           4.0          1.2  versicolor\n",
      "93           5.0          2.3           3.3          1.0  versicolor\n",
      "94           5.6          2.7           4.2          1.3  versicolor\n",
      "95           5.7          3.0           4.2          1.2  versicolor\n",
      "96           5.7          2.9           4.2          1.3  versicolor\n",
      "97           6.2          2.9           4.3          1.3  versicolor\n",
      "98           5.1          2.5           3.0          1.1  versicolor\n",
      "99           5.7          2.8           4.1          1.3  versicolor\n",
      "**************************************************\n",
      "50    3.2\n",
      "51    3.2\n",
      "52    3.1\n",
      "53    2.3\n",
      "54    2.8\n",
      "55    2.8\n",
      "56    3.3\n",
      "57    2.4\n",
      "58    2.9\n",
      "59    2.7\n",
      "60    2.0\n",
      "61    3.0\n",
      "62    2.2\n",
      "63    2.9\n",
      "64    2.9\n",
      "65    3.1\n",
      "66    3.0\n",
      "67    2.7\n",
      "68    2.2\n",
      "69    2.5\n",
      "70    3.2\n",
      "71    2.8\n",
      "72    2.5\n",
      "73    2.8\n",
      "74    2.9\n",
      "75    3.0\n",
      "76    2.8\n",
      "77    3.0\n",
      "78    2.9\n",
      "79    2.6\n",
      "80    2.4\n",
      "81    2.4\n",
      "82    2.7\n",
      "83    2.7\n",
      "84    3.0\n",
      "85    3.4\n",
      "86    3.1\n",
      "87    2.3\n",
      "88    3.0\n",
      "89    2.5\n",
      "90    2.6\n",
      "91    3.0\n",
      "92    2.6\n",
      "93    2.3\n",
      "94    2.7\n",
      "95    3.0\n",
      "96    2.9\n",
      "97    2.9\n",
      "98    2.5\n",
      "99    2.8\n",
      "Name: sepal_width, dtype: float64\n",
      "**************************************************\n",
      "total sum of sepal_width =>  138.50000000000003\n"
     ]
    }
   ],
   "source": [
    "import pandas as pd \n",
    "df=pd.read_csv(\"/Users/apple/Downloads/iris.csv\")\n",
    "print(df.head())\n",
    "print(\"*\"*50)\n",
    "con=df[\"species\"]==\"versicolor\"\n",
    "print(df[con])\n",
    "print(\"*\"*50)\n",
    "df1=df[con]\n",
    "print(df1[\"sepal_width\"])\n",
    "print(\"*\"*50)\n",
    "print(\"total sum of sepal_width => \",df1[\"sepal_width\"].sum())"
   ]
  },
  {
   "cell_type": "code",
   "execution_count": 189,
   "id": "5772cb52-d4b6-4807-9367-80751d21befb",
   "metadata": {},
   "outputs": [
    {
     "name": "stdout",
     "output_type": "stream",
     "text": [
      "   sepal_length  sepal_width  petal_length  petal_width species\n",
      "0           5.1          3.5           1.4          0.2  setosa\n",
      "1           4.9          3.0           1.4          0.2  setosa\n",
      "2           4.7          3.2           1.3          0.2  setosa\n",
      "3           4.6          3.1           1.5          0.2  setosa\n",
      "4           5.0          3.6           1.4          0.2  setosa\n",
      "**************************************************\n",
      "     sepal_length  sepal_width  petal_length  petal_width     species\n",
      "69            5.6          2.5           3.9          1.1  versicolor\n",
      "72            6.3          2.5           4.9          1.5  versicolor\n",
      "89            5.5          2.5           4.0          1.3  versicolor\n",
      "98            5.1          2.5           3.0          1.1  versicolor\n",
      "106           4.9          2.5           4.5          1.7   virginica\n",
      "108           6.7          2.5           5.8          1.8   virginica\n",
      "113           5.7          2.5           5.0          2.0   virginica\n",
      "146           6.3          2.5           5.0          1.9   virginica\n",
      "    sepal_length  sepal_width  petal_length  petal_width     species\n",
      "69           5.6          2.5           3.9          1.1  versicolor\n",
      "72           6.3          2.5           4.9          1.5  versicolor\n",
      "89           5.5          2.5           4.0          1.3  versicolor\n",
      "98           5.1          2.5           3.0          1.1  versicolor\n",
      "**************************************************\n",
      "sepal_length                                        22.5\n",
      "sepal_width                                         10.0\n",
      "petal_length                                        15.8\n",
      "petal_width                                          5.0\n",
      "species         versicolorversicolorversicolorversicolor\n",
      "dtype: object\n"
     ]
    }
   ],
   "source": [
    "import pandas as pd \n",
    "df=pd.read_csv(\"/Users/apple/Downloads/iris.csv\")\n",
    "print(df.head())\n",
    "con=df[\"sepal_width\"]==2.5\n",
    "print(\"*\"*50)\n",
    "print(df[con])\n",
    "df1=df[con]\n",
    "con2=df1[\"species\"]==\"versicolor\"\n",
    "print(df1[con2])\n",
    "print(\"*\"*50)\n",
    "print(df1[con2].sum())"
   ]
  },
  {
   "cell_type": "code",
   "execution_count": 202,
   "id": "0d8d0d53-f9bc-4d4b-ab35-a3bf192a341c",
   "metadata": {},
   "outputs": [
    {
     "name": "stdout",
     "output_type": "stream",
     "text": [
      "df=>    sepal_length  sepal_width  petal_length  petal_width species\n",
      "0           5.1          3.5           1.4          0.2  setosa\n",
      "1           4.9          3.0           1.4          0.2  setosa\n",
      "2           4.7          3.2           1.3          0.2  setosa\n",
      "3           4.6          3.1           1.5          0.2  setosa\n",
      "4           5.0          3.6           1.4          0.2  setosa\n",
      "**************************************************\n",
      "     sepal_length  sepal_width  petal_length  petal_width     species\n",
      "69            5.6          2.5           3.9          1.1  versicolor\n",
      "72            6.3          2.5           4.9          1.5  versicolor\n",
      "89            5.5          2.5           4.0          1.3  versicolor\n",
      "98            5.1          2.5           3.0          1.1  versicolor\n",
      "106           4.9          2.5           4.5          1.7   virginica\n",
      "108           6.7          2.5           5.8          1.8   virginica\n",
      "113           5.7          2.5           5.0          2.0   virginica\n",
      "146           6.3          2.5           5.0          1.9   virginica\n",
      "    sepal_length  sepal_width  petal_length  petal_width     species\n",
      "69           5.6          2.5           3.9          1.1  versicolor\n",
      "72           6.3          2.5           4.9          1.5  versicolor\n",
      "89           5.5          2.5           4.0          1.3  versicolor\n",
      "98           5.1          2.5           3.0          1.1  versicolor\n",
      "**************************************************\n",
      "=> total sum of 2.5 in versiclor 10.0\n"
     ]
    }
   ],
   "source": [
    "import pandas as pd \n",
    "df=pd.read_csv(\"/Users/apple/Downloads/iris.csv\")\n",
    "print(\"df=>\",df.head())\n",
    "con=df[\"sepal_width\"]==2.5\n",
    "print(\"*\"*50)\n",
    "print(df[con])\n",
    "df1=df[con]\n",
    "con2=df1[\"species\"]==\"versicolor\"\n",
    "print(df1[con2])\n",
    "print(\"*\"*50)\n",
    "df3=df1[con2]\n",
    "print(\"=> total sum of 2.5 in versiclor\",df3[\"sepal_width\"].sum())"
   ]
  },
  {
   "cell_type": "markdown",
   "id": "4ada1c08-d1e9-41c5-8aab-0edae17849af",
   "metadata": {},
   "source": [
    "### 3. Selecting specific column values \n",
    "- Based on requirement we can select specific column values from DataFrame\n",
    "  1. by using boolean condition we can select the data from DataFrame\n",
    "     "
   ]
  },
  {
   "cell_type": "code",
   "execution_count": 3,
   "id": "ae5d1358-952b-487a-91f6-a07c717dc4d8",
   "metadata": {},
   "outputs": [
    {
     "name": "stdout",
     "output_type": "stream",
     "text": [
      "Index(['sepal_length', 'sepal_width', 'petal_length', 'petal_width',\n",
      "       'species'],\n",
      "      dtype='object')\n",
      "    sepal_length  sepal_width  petal_length  petal_width     species\n",
      "50           7.0          3.2           4.7          1.4  versicolor\n",
      "51           6.4          3.2           4.5          1.5  versicolor\n",
      "52           6.9          3.1           4.9          1.5  versicolor\n",
      "53           5.5          2.3           4.0          1.3  versicolor\n",
      "54           6.5          2.8           4.6          1.5  versicolor\n",
      "55           5.7          2.8           4.5          1.3  versicolor\n",
      "56           6.3          3.3           4.7          1.6  versicolor\n",
      "57           4.9          2.4           3.3          1.0  versicolor\n",
      "58           6.6          2.9           4.6          1.3  versicolor\n",
      "59           5.2          2.7           3.9          1.4  versicolor\n",
      "60           5.0          2.0           3.5          1.0  versicolor\n",
      "61           5.9          3.0           4.2          1.5  versicolor\n",
      "62           6.0          2.2           4.0          1.0  versicolor\n",
      "63           6.1          2.9           4.7          1.4  versicolor\n",
      "64           5.6          2.9           3.6          1.3  versicolor\n",
      "65           6.7          3.1           4.4          1.4  versicolor\n",
      "66           5.6          3.0           4.5          1.5  versicolor\n",
      "67           5.8          2.7           4.1          1.0  versicolor\n",
      "68           6.2          2.2           4.5          1.5  versicolor\n",
      "69           5.6          2.5           3.9          1.1  versicolor\n",
      "70           5.9          3.2           4.8          1.8  versicolor\n",
      "71           6.1          2.8           4.0          1.3  versicolor\n",
      "72           6.3          2.5           4.9          1.5  versicolor\n",
      "73           6.1          2.8           4.7          1.2  versicolor\n",
      "74           6.4          2.9           4.3          1.3  versicolor\n",
      "75           6.6          3.0           4.4          1.4  versicolor\n",
      "76           6.8          2.8           4.8          1.4  versicolor\n",
      "77           6.7          3.0           5.0          1.7  versicolor\n",
      "78           6.0          2.9           4.5          1.5  versicolor\n",
      "79           5.7          2.6           3.5          1.0  versicolor\n",
      "80           5.5          2.4           3.8          1.1  versicolor\n",
      "81           5.5          2.4           3.7          1.0  versicolor\n",
      "82           5.8          2.7           3.9          1.2  versicolor\n",
      "83           6.0          2.7           5.1          1.6  versicolor\n",
      "84           5.4          3.0           4.5          1.5  versicolor\n",
      "85           6.0          3.4           4.5          1.6  versicolor\n",
      "86           6.7          3.1           4.7          1.5  versicolor\n",
      "87           6.3          2.3           4.4          1.3  versicolor\n",
      "88           5.6          3.0           4.1          1.3  versicolor\n",
      "89           5.5          2.5           4.0          1.3  versicolor\n",
      "90           5.5          2.6           4.4          1.2  versicolor\n",
      "91           6.1          3.0           4.6          1.4  versicolor\n",
      "92           5.8          2.6           4.0          1.2  versicolor\n",
      "93           5.0          2.3           3.3          1.0  versicolor\n",
      "94           5.6          2.7           4.2          1.3  versicolor\n",
      "95           5.7          3.0           4.2          1.2  versicolor\n",
      "96           5.7          2.9           4.2          1.3  versicolor\n",
      "97           6.2          2.9           4.3          1.3  versicolor\n",
      "98           5.1          2.5           3.0          1.1  versicolor\n",
      "99           5.7          2.8           4.1          1.3  versicolor\n"
     ]
    }
   ],
   "source": [
    "import pandas as pd \n",
    "df=pd.read_csv(\"/Users/apple/Downloads/iris.csv\")\n",
    "print(df.columns)\n",
    "con=df['species']==\"versicolor\"\n",
    "print(df[con])"
   ]
  },
  {
   "cell_type": "code",
   "execution_count": null,
   "id": "17d322f8-f4e0-4127-9905-3857c640afa7",
   "metadata": {},
   "outputs": [],
   "source": []
  },
  {
   "cell_type": "markdown",
   "id": "f3416c25-11c6-4ef0-9ce7-d30eea028e5f",
   "metadata": {},
   "source": [
    "### 4. iloc and indexers\n",
    "- We can select columns from the DataFrame by using iloc and loc\n",
    "- iloc and loc are called as indexers in DataFrame\n",
    "- By using these indexers we can get\n",
    "  1. Rows and columns of DataFrame\n",
    "  2. Slice of DataFrame"
   ]
  },
  {
   "cell_type": "markdown",
   "id": "3bf51f48-658f-4a68-815c-690055f4a7e5",
   "metadata": {},
   "source": [
    "## => Select the Data from DataFrame \n",
    "- Single column\n",
    "- multiple column\n",
    "- by using condition (filtering )   =====df[con]==\"\"\n",
    "- by using loc and iloc"
   ]
  },
  {
   "cell_type": "markdown",
   "id": "001c2f60-a369-4d42-a2e0-7de90e45b0ba",
   "metadata": {},
   "source": [
    "## => kick intro about loc and iloc\n",
    "- loc and iloc => having very special name\n",
    "  "
   ]
  },
  {
   "cell_type": "code",
   "execution_count": 204,
   "id": "36be7e51-3af5-4de0-bef2-f2af101fabc5",
   "metadata": {},
   "outputs": [
    {
     "name": "stdout",
     "output_type": "stream",
     "text": [
      "[10, 20, 30, 40]\n",
      "10\n",
      "20\n"
     ]
    }
   ],
   "source": [
    "values=[10,20,30,40]\n",
    "print(values)   #=> list data str\n",
    "print(values[0]) #=> list indexer\n",
    "print(values[1]) #=> list indexer"
   ]
  },
  {
   "cell_type": "markdown",
   "id": "f12b412b-4bf9-4af5-84c8-09a36c8bd9d6",
   "metadata": {},
   "source": [
    "- loc and iloc = also called as indexers"
   ]
  },
  {
   "cell_type": "markdown",
   "id": "dc9354e2-3481-42b6-85ec-5cc0f437588c",
   "metadata": {},
   "source": [
    "### 5 . iloc[]indexer\n",
    "- the iloc is used for indexed - based selection method\n",
    "- We have to pass only interger index to select specific row/cloumn.\n",
    "- by using this we can get rows or coloumn at particular positions in the index (so it only include the last element in DataFrame)\n",
    "- this does not include the last element in Dataframe"
   ]
  },
  {
   "cell_type": "code",
   "execution_count": 220,
   "id": "4c9302a8-96bf-4c36-a9eb-d9828cd45e92",
   "metadata": {},
   "outputs": [
    {
     "name": "stdout",
     "output_type": "stream",
     "text": [
      "**************************************************\n",
      "sepal_length       5.1\n",
      "sepal_width        3.5\n",
      "petal_length       1.4\n",
      "petal_width        0.2\n",
      "species         setosa\n",
      "Name: 0, dtype: object\n"
     ]
    }
   ],
   "source": [
    "import pandas as pd \n",
    "df=pd.read_csv(\"/Users/apple/Downloads/iris.csv\")\n",
    "print(\"*\"*50)\n",
    "\n",
    "print(df.iloc[0])"
   ]
  },
  {
   "cell_type": "markdown",
   "id": "14b90f30-a8c9-4b03-8db9-5ae75bc80734",
   "metadata": {},
   "source": [
    "### 5.1 iloc[]syntax\n",
    "- df.iloc[<row selction>]\n",
    "  1. dfiloc[single value]\n",
    "  2. df.iloc[0]\n",
    "  3. df.iloc[1]\n",
    "- df.iloc[<row selection>,<column selection>]"
   ]
  },
  {
   "cell_type": "markdown",
   "id": "6ef3c75d-b750-43d9-a280-9b5c859bd9c5",
   "metadata": {},
   "source": [
    "## => Note on syntax\n",
    "- so according the syntax there are two arguments\n",
    "  1. row selection\n",
    "  2. coloumn selection"
   ]
  },
  {
   "cell_type": "markdown",
   "id": "30872f4e-bff5-4805-bd48-c964c2fa00b2",
   "metadata": {},
   "source": [
    "### 5.2 Creating a DataFrame \n",
    "- whenever we load a csv file then pandas returns the DataFrame "
   ]
  },
  {
   "cell_type": "code",
   "execution_count": 207,
   "id": "651e2a49-f34c-442a-914d-aae2828338c4",
   "metadata": {},
   "outputs": [
    {
     "name": "stdout",
     "output_type": "stream",
     "text": [
      "df=>      sepal_length  sepal_width  petal_length  petal_width    species\n",
      "0             5.1          3.5           1.4          0.2     setosa\n",
      "1             4.9          3.0           1.4          0.2     setosa\n",
      "2             4.7          3.2           1.3          0.2     setosa\n",
      "3             4.6          3.1           1.5          0.2     setosa\n",
      "4             5.0          3.6           1.4          0.2     setosa\n",
      "..            ...          ...           ...          ...        ...\n",
      "145           6.7          3.0           5.2          2.3  virginica\n",
      "146           6.3          2.5           5.0          1.9  virginica\n",
      "147           6.5          3.0           5.2          2.0  virginica\n",
      "148           6.2          3.4           5.4          2.3  virginica\n",
      "149           5.9          3.0           5.1          1.8  virginica\n",
      "\n",
      "[150 rows x 5 columns]\n"
     ]
    }
   ],
   "source": [
    "import pandas as pd \n",
    "df=pd.read_csv(\"/Users/apple/Downloads/iris.csv\")\n",
    "print(\"df=>\",df)"
   ]
  },
  {
   "cell_type": "markdown",
   "id": "9c2dce9f-9c53-4fff-86c5-46fd804fb166",
   "metadata": {},
   "source": [
    "### 5.3 Selecting single column\n",
    "- We can select or multiple rows by using iloc indexer\n",
    "  1. if we select one row or column then it returns a Series.\n",
    "     "
   ]
  },
  {
   "cell_type": "code",
   "execution_count": 211,
   "id": "a7566872-1219-40ec-bf2f-158915e528de",
   "metadata": {},
   "outputs": [
    {
     "name": "stdout",
     "output_type": "stream",
     "text": [
      "df=>      sepal_length  sepal_width  petal_length  petal_width    species\n",
      "0             5.1          3.5           1.4          0.2     setosa\n",
      "1             4.9          3.0           1.4          0.2     setosa\n",
      "2             4.7          3.2           1.3          0.2     setosa\n",
      "3             4.6          3.1           1.5          0.2     setosa\n",
      "4             5.0          3.6           1.4          0.2     setosa\n",
      "..            ...          ...           ...          ...        ...\n",
      "145           6.7          3.0           5.2          2.3  virginica\n",
      "146           6.3          2.5           5.0          1.9  virginica\n",
      "147           6.5          3.0           5.2          2.0  virginica\n",
      "148           6.2          3.4           5.4          2.3  virginica\n",
      "149           5.9          3.0           5.1          1.8  virginica\n",
      "\n",
      "[150 rows x 5 columns]\n",
      "**************************************************\n",
      "0         setosa\n",
      "1         setosa\n",
      "2         setosa\n",
      "3         setosa\n",
      "4         setosa\n",
      "         ...    \n",
      "145    virginica\n",
      "146    virginica\n",
      "147    virginica\n",
      "148    virginica\n",
      "149    virginica\n",
      "Name: species, Length: 150, dtype: object\n",
      "**************************************************\n",
      "       species\n",
      "0       setosa\n",
      "1       setosa\n",
      "2       setosa\n",
      "3       setosa\n",
      "4       setosa\n",
      "..         ...\n",
      "145  virginica\n",
      "146  virginica\n",
      "147  virginica\n",
      "148  virginica\n",
      "149  virginica\n",
      "\n",
      "[150 rows x 1 columns]\n",
      "**************************************************\n",
      "0      3.5\n",
      "1      3.0\n",
      "2      3.2\n",
      "3      3.1\n",
      "4      3.6\n",
      "      ... \n",
      "145    3.0\n",
      "146    2.5\n",
      "147    3.0\n",
      "148    3.4\n",
      "149    3.0\n",
      "Name: sepal_width, Length: 150, dtype: float64\n"
     ]
    }
   ],
   "source": [
    "import pandas as pd \n",
    "df=pd.read_csv(\"/Users/apple/Downloads/iris.csv\")\n",
    "print(\"df=>\",df)\n",
    "print(\"*\"*50)\n",
    "print(df[\"species\"])\n",
    "print(\"*\"*50)\n",
    "c=[\"species\"]\n",
    "print(df[c])\n",
    "print(\"*\"*50)\n",
    "print(df.sepal_width)"
   ]
  },
  {
   "cell_type": "code",
   "execution_count": 222,
   "id": "310ee237-351e-4940-aec6-b100fc5b5447",
   "metadata": {},
   "outputs": [
    {
     "name": "stdout",
     "output_type": "stream",
     "text": [
      "df=>      sepal_length  sepal_width  petal_length  petal_width    species\n",
      "0             5.1          3.5           1.4          0.2     setosa\n",
      "1             4.9          3.0           1.4          0.2     setosa\n",
      "2             4.7          3.2           1.3          0.2     setosa\n",
      "3             4.6          3.1           1.5          0.2     setosa\n",
      "4             5.0          3.6           1.4          0.2     setosa\n",
      "..            ...          ...           ...          ...        ...\n",
      "145           6.7          3.0           5.2          2.3  virginica\n",
      "146           6.3          2.5           5.0          1.9  virginica\n",
      "147           6.5          3.0           5.2          2.0  virginica\n",
      "148           6.2          3.4           5.4          2.3  virginica\n",
      "149           5.9          3.0           5.1          1.8  virginica\n",
      "\n",
      "[150 rows x 5 columns]\n",
      "**************************************************\n",
      "sepal_length       5.1\n",
      "sepal_width        3.5\n",
      "petal_length       1.4\n",
      "petal_width        0.2\n",
      "species         setosa\n",
      "Name: 0, dtype: object\n",
      "\n",
      "sepal_length       5.0\n",
      "sepal_width        3.6\n",
      "petal_length       1.4\n",
      "petal_width        0.2\n",
      "species         setosa\n",
      "Name: 4, dtype: object\n"
     ]
    }
   ],
   "source": [
    "import pandas as pd \n",
    "df=pd.read_csv(\"/Users/apple/Downloads/iris.csv\")\n",
    "print(\"df=>\",df)\n",
    "print(\"*\"*50)\n",
    "\n",
    "print(df.iloc[0])\n",
    "print()\n",
    "print(df.iloc[4])"
   ]
  },
  {
   "cell_type": "code",
   "execution_count": 228,
   "id": "aed4d584-4adc-43e2-995f-ce0dd629cda2",
   "metadata": {},
   "outputs": [
    {
     "name": "stdout",
     "output_type": "stream",
     "text": [
      "df=>      sepal_length  sepal_width  petal_length  petal_width    species\n",
      "0             5.1          3.5           1.4          0.2     setosa\n",
      "1             4.9          3.0           1.4          0.2     setosa\n",
      "2             4.7          3.2           1.3          0.2     setosa\n",
      "3             4.6          3.1           1.5          0.2     setosa\n",
      "4             5.0          3.6           1.4          0.2     setosa\n",
      "..            ...          ...           ...          ...        ...\n",
      "145           6.7          3.0           5.2          2.3  virginica\n",
      "146           6.3          2.5           5.0          1.9  virginica\n",
      "147           6.5          3.0           5.2          2.0  virginica\n",
      "148           6.2          3.4           5.4          2.3  virginica\n",
      "149           5.9          3.0           5.1          1.8  virginica\n",
      "\n",
      "[150 rows x 5 columns]\n",
      "**************************************************\n",
      "sepal_length          5.9\n",
      "sepal_width           3.0\n",
      "petal_length          5.1\n",
      "petal_width           1.8\n",
      "species         virginica\n",
      "Name: 149, dtype: object\n"
     ]
    }
   ],
   "source": [
    "import pandas as pd \n",
    "df=pd.read_csv(\"/Users/apple/Downloads/iris.csv\")\n",
    "print(\"df=>\",df)\n",
    "print(\"*\"*50)\n",
    "print(df.iloc[-1]) # last of the index"
   ]
  },
  {
   "cell_type": "markdown",
   "id": "48232f92-34f8-4a98-a3b4-f4dd968118b5",
   "metadata": {},
   "source": [
    "# IMP interview questons\n",
    "- df.loc[0] => vaild\n",
    "- df.loc[1] => vaild\n",
    "- df.loc[-1] => vaild\n",
    "\n",
    "- df.iloc[\"order id \"] => "
   ]
  },
  {
   "cell_type": "code",
   "execution_count": 234,
   "id": "bf9e81c6-0c1a-4b02-8653-d7ee5a12376e",
   "metadata": {},
   "outputs": [
    {
     "name": "stdout",
     "output_type": "stream",
     "text": [
      "df=>      sepal_length  sepal_width  petal_length  petal_width    species\n",
      "0             5.1          3.5           1.4          0.2     setosa\n",
      "1             4.9          3.0           1.4          0.2     setosa\n",
      "2             4.7          3.2           1.3          0.2     setosa\n",
      "3             4.6          3.1           1.5          0.2     setosa\n",
      "4             5.0          3.6           1.4          0.2     setosa\n",
      "..            ...          ...           ...          ...        ...\n",
      "145           6.7          3.0           5.2          2.3  virginica\n",
      "146           6.3          2.5           5.0          1.9  virginica\n",
      "147           6.5          3.0           5.2          2.0  virginica\n",
      "148           6.2          3.4           5.4          2.3  virginica\n",
      "149           5.9          3.0           5.1          1.8  virginica\n",
      "\n",
      "[150 rows x 5 columns]\n",
      "**************************************************\n"
     ]
    },
    {
     "ename": "TypeError",
     "evalue": "Cannot index by location index with a non-integer key",
     "output_type": "error",
     "traceback": [
      "\u001b[0;31m---------------------------------------------------------------------------\u001b[0m",
      "\u001b[0;31mTypeError\u001b[0m                                 Traceback (most recent call last)",
      "Cell \u001b[0;32mIn[234], line 6\u001b[0m\n\u001b[1;32m      4\u001b[0m \u001b[38;5;28mprint\u001b[39m(\u001b[38;5;124m\"\u001b[39m\u001b[38;5;124mdf=>\u001b[39m\u001b[38;5;124m\"\u001b[39m,df)\n\u001b[1;32m      5\u001b[0m \u001b[38;5;28mprint\u001b[39m(\u001b[38;5;124m\"\u001b[39m\u001b[38;5;124m*\u001b[39m\u001b[38;5;124m\"\u001b[39m\u001b[38;5;241m*\u001b[39m\u001b[38;5;241m50\u001b[39m)\n\u001b[0;32m----> 6\u001b[0m s\u001b[38;5;241m=\u001b[39mdf\u001b[38;5;241m.\u001b[39miloc[\u001b[38;5;124m\"\u001b[39m\u001b[38;5;124msepal_length\u001b[39m\u001b[38;5;124m\"\u001b[39m]\n\u001b[1;32m      7\u001b[0m \u001b[38;5;28mprint\u001b[39m(s)\n",
      "File \u001b[0;32m/opt/anaconda3/lib/python3.13/site-packages/pandas/core/indexing.py:1191\u001b[0m, in \u001b[0;36m_LocationIndexer.__getitem__\u001b[0;34m(self, key)\u001b[0m\n\u001b[1;32m   1189\u001b[0m maybe_callable \u001b[38;5;241m=\u001b[39m com\u001b[38;5;241m.\u001b[39mapply_if_callable(key, \u001b[38;5;28mself\u001b[39m\u001b[38;5;241m.\u001b[39mobj)\n\u001b[1;32m   1190\u001b[0m maybe_callable \u001b[38;5;241m=\u001b[39m \u001b[38;5;28mself\u001b[39m\u001b[38;5;241m.\u001b[39m_check_deprecated_callable_usage(key, maybe_callable)\n\u001b[0;32m-> 1191\u001b[0m \u001b[38;5;28;01mreturn\u001b[39;00m \u001b[38;5;28mself\u001b[39m\u001b[38;5;241m.\u001b[39m_getitem_axis(maybe_callable, axis\u001b[38;5;241m=\u001b[39maxis)\n",
      "File \u001b[0;32m/opt/anaconda3/lib/python3.13/site-packages/pandas/core/indexing.py:1749\u001b[0m, in \u001b[0;36m_iLocIndexer._getitem_axis\u001b[0;34m(self, key, axis)\u001b[0m\n\u001b[1;32m   1747\u001b[0m key \u001b[38;5;241m=\u001b[39m item_from_zerodim(key)\n\u001b[1;32m   1748\u001b[0m \u001b[38;5;28;01mif\u001b[39;00m \u001b[38;5;129;01mnot\u001b[39;00m is_integer(key):\n\u001b[0;32m-> 1749\u001b[0m     \u001b[38;5;28;01mraise\u001b[39;00m \u001b[38;5;167;01mTypeError\u001b[39;00m(\u001b[38;5;124m\"\u001b[39m\u001b[38;5;124mCannot index by location index with a non-integer key\u001b[39m\u001b[38;5;124m\"\u001b[39m)\n\u001b[1;32m   1751\u001b[0m \u001b[38;5;66;03m# validate the location\u001b[39;00m\n\u001b[1;32m   1752\u001b[0m \u001b[38;5;28mself\u001b[39m\u001b[38;5;241m.\u001b[39m_validate_integer(key, axis)\n",
      "\u001b[0;31mTypeError\u001b[0m: Cannot index by location index with a non-integer key"
     ]
    }
   ],
   "source": [
    "# We have to pass only interger index to select specific row/cloumn.\n",
    "import pandas as pd \n",
    "df=pd.read_csv(\"/Users/apple/Downloads/iris.csv\")\n",
    "print(\"df=>\",df)\n",
    "print(\"*\"*50)\n",
    "s=df.iloc[\"sepal_length\"]\n",
    "print(s)"
   ]
  },
  {
   "cell_type": "code",
   "execution_count": 251,
   "id": "accd26b4-5a1f-491d-993f-86edcd818b4d",
   "metadata": {},
   "outputs": [
    {
     "name": "stdout",
     "output_type": "stream",
     "text": [
      "     sepal_length  sepal_width  petal_length  petal_width    species\n",
      "0             5.1          3.5           1.4          0.2     setosa\n",
      "1             4.9          3.0           1.4          0.2     setosa\n",
      "2             4.7          3.2           1.3          0.2     setosa\n",
      "3             4.6          3.1           1.5          0.2     setosa\n",
      "4             5.0          3.6           1.4          0.2     setosa\n",
      "..            ...          ...           ...          ...        ...\n",
      "145           6.7          3.0           5.2          2.3  virginica\n",
      "146           6.3          2.5           5.0          1.9  virginica\n",
      "147           6.5          3.0           5.2          2.0  virginica\n",
      "148           6.2          3.4           5.4          2.3  virginica\n",
      "149           5.9          3.0           5.1          1.8  virginica\n",
      "\n",
      "[150 rows x 5 columns]\n"
     ]
    }
   ],
   "source": [
    "# first column of the DataFrame\n",
    "import pandas as pd \n",
    "df=pd.read_csv(\"/Users/apple/Downloads/iris.csv\")\n",
    "#print(\"df=>\",df)\n",
    "print(df.iloc[ : , :])"
   ]
  },
  {
   "cell_type": "code",
   "execution_count": 257,
   "id": "1e64a4e1-1e6d-4025-9736-7a30caa84583",
   "metadata": {},
   "outputs": [
    {
     "name": "stdout",
     "output_type": "stream",
     "text": [
      "0         setosa\n",
      "1         setosa\n",
      "2         setosa\n",
      "3         setosa\n",
      "4         setosa\n",
      "         ...    \n",
      "145    virginica\n",
      "146    virginica\n",
      "147    virginica\n",
      "148    virginica\n",
      "149    virginica\n",
      "Name: species, Length: 150, dtype: object\n"
     ]
    }
   ],
   "source": [
    "# first column of the DataFrame\n",
    "import pandas as pd \n",
    "df=pd.read_csv(\"/Users/apple/Downloads/iris.csv\")\n",
    "#print(\"df=>\",df)\n",
    "print(df.iloc[ : , 4 ])  "
   ]
  },
  {
   "cell_type": "markdown",
   "id": "84015c30-db42-4090-8d24-a8c32ab621d8",
   "metadata": {},
   "source": [
    "# syntax 1:\n",
    "- df.iloc[sinagle values]\n",
    "- df.iloc[0]\n",
    "# syntax 2:\n",
    "- df.iloc[ LHS : RHS ]\n",
    "- df.iloc[ rows : column ]\n",
    "- df.iloc[:,0]"
   ]
  },
  {
   "cell_type": "code",
   "execution_count": 260,
   "id": "30ea1634-6419-446a-93db-7d6a20dd03e8",
   "metadata": {},
   "outputs": [
    {
     "name": "stdout",
     "output_type": "stream",
     "text": [
      "0      5.1\n",
      "1      4.9\n",
      "2      4.7\n",
      "3      4.6\n",
      "4      5.0\n",
      "      ... \n",
      "145    6.7\n",
      "146    6.3\n",
      "147    6.5\n",
      "148    6.2\n",
      "149    5.9\n",
      "Name: sepal_length, Length: 150, dtype: float64\n"
     ]
    }
   ],
   "source": [
    "# first column of the DataFrame\n",
    "import pandas as pd \n",
    "df=pd.read_csv(\"/Users/apple/Downloads/iris.csv\")\n",
    "#print(\"df=>\",df)\n",
    "print(df.iloc[ : , 0 ])  "
   ]
  },
  {
   "cell_type": "code",
   "execution_count": 261,
   "id": "30f7d072-2833-45ce-b519-9bd8c4afdf5d",
   "metadata": {},
   "outputs": [
    {
     "name": "stdout",
     "output_type": "stream",
     "text": [
      "0      3.5\n",
      "1      3.0\n",
      "2      3.2\n",
      "3      3.1\n",
      "4      3.6\n",
      "      ... \n",
      "145    3.0\n",
      "146    2.5\n",
      "147    3.0\n",
      "148    3.4\n",
      "149    3.0\n",
      "Name: sepal_width, Length: 150, dtype: float64\n"
     ]
    }
   ],
   "source": [
    "# Secound column of the dataFrame\n",
    "import pandas as pd \n",
    "df=pd.read_csv(\"/Users/apple/Downloads/iris.csv\")\n",
    "#print(\"df=>\",df)\n",
    "print(df.iloc[ : , 1 ])  "
   ]
  },
  {
   "cell_type": "code",
   "execution_count": 265,
   "id": "958feff3-b935-451d-bde8-5b1f8a4d5b17",
   "metadata": {},
   "outputs": [
    {
     "name": "stdout",
     "output_type": "stream",
     "text": [
      "0         setosa\n",
      "1         setosa\n",
      "2         setosa\n",
      "3         setosa\n",
      "4         setosa\n",
      "         ...    \n",
      "145    virginica\n",
      "146    virginica\n",
      "147    virginica\n",
      "148    virginica\n",
      "149    virginica\n",
      "Name: species, Length: 150, dtype: object\n"
     ]
    }
   ],
   "source": [
    "import pandas as pd \n",
    "df=pd.read_csv(\"/Users/apple/Downloads/iris.csv\")\n",
    "#print(\"df=>\",df)\n",
    "print(df.iloc[ : , -1 ])  "
   ]
  },
  {
   "cell_type": "code",
   "execution_count": 272,
   "id": "9d10d9b0-5d3e-4af6-b991-20deeee79da3",
   "metadata": {},
   "outputs": [
    {
     "name": "stdout",
     "output_type": "stream",
     "text": [
      "Index(['sepal_length', 'sepal_width', 'petal_length', 'petal_width',\n",
      "       'species'],\n",
      "      dtype='object')\n",
      "     sepal_length  sepal_width\n",
      "0             5.1          3.5\n",
      "1             4.9          3.0\n",
      "2             4.7          3.2\n",
      "3             4.6          3.1\n",
      "4             5.0          3.6\n",
      "..            ...          ...\n",
      "145           6.7          3.0\n",
      "146           6.3          2.5\n",
      "147           6.5          3.0\n",
      "148           6.2          3.4\n",
      "149           5.9          3.0\n",
      "\n",
      "[150 rows x 2 columns]\n"
     ]
    }
   ],
   "source": [
    "# multiples rows and  cloumns\n",
    "import pandas as pd \n",
    "df=pd.read_csv(\"/Users/apple/Downloads/iris.csv\")\n",
    "print(df.columns)\n",
    "c=['sepal_length', 'sepal_width']\n",
    "print(df[c])"
   ]
  },
  {
   "cell_type": "markdown",
   "id": "858a5756-f7ee-4e43-84f0-96666248c40f",
   "metadata": {},
   "source": [
    "# => Selecting multiple rows and column\n",
    "- by using iloc"
   ]
  },
  {
   "cell_type": "markdown",
   "id": "7e4a45d4-08a0-43d7-bbcd-ed821c0b0a32",
   "metadata": {},
   "source": [
    "# => Accessing multiple rows\n",
    "- df.head(5)=> top 5 records\n",
    "- df[0:5]=> top 5 records\n",
    "- df[5:10]=> values will be start from 5 to 10"
   ]
  },
  {
   "cell_type": "code",
   "execution_count": 280,
   "id": "200bb03e-cbd1-418a-ac10-218745e1c814",
   "metadata": {},
   "outputs": [
    {
     "name": "stdout",
     "output_type": "stream",
     "text": [
      "   sepal_length  sepal_width  petal_length  petal_width species\n",
      "0           5.1          3.5           1.4          0.2  setosa\n",
      "1           4.9          3.0           1.4          0.2  setosa\n",
      "2           4.7          3.2           1.3          0.2  setosa\n",
      "3           4.6          3.1           1.5          0.2  setosa\n",
      "4           5.0          3.6           1.4          0.2  setosa\n",
      "\n",
      "   sepal_length  sepal_width  petal_length  petal_width species\n",
      "0           5.1          3.5           1.4          0.2  setosa\n",
      "1           4.9          3.0           1.4          0.2  setosa\n",
      "2           4.7          3.2           1.3          0.2  setosa\n",
      "3           4.6          3.1           1.5          0.2  setosa\n",
      "4           5.0          3.6           1.4          0.2  setosa\n",
      "\n",
      "    sepal_length  sepal_width  petal_length  petal_width     species\n",
      "50           7.0          3.2           4.7          1.4  versicolor\n",
      "51           6.4          3.2           4.5          1.5  versicolor\n",
      "52           6.9          3.1           4.9          1.5  versicolor\n",
      "53           5.5          2.3           4.0          1.3  versicolor\n",
      "54           6.5          2.8           4.6          1.5  versicolor\n",
      "55           5.7          2.8           4.5          1.3  versicolor\n",
      "56           6.3          3.3           4.7          1.6  versicolor\n",
      "57           4.9          2.4           3.3          1.0  versicolor\n",
      "58           6.6          2.9           4.6          1.3  versicolor\n",
      "59           5.2          2.7           3.9          1.4  versicolor\n"
     ]
    }
   ],
   "source": [
    "import pandas as pd\n",
    "df=pd.read_csv(\"/Users/apple/Downloads/iris.csv\")\n",
    "print(df[0:5])\n",
    "print()\n",
    "print(df.head())\n",
    "print()\n",
    "print(df[50:60])"
   ]
  },
  {
   "cell_type": "markdown",
   "id": "bd0cf448-91d0-4451-9f85-36d2ac6831c6",
   "metadata": {},
   "source": [
    "### 5.4 Selecting multiple rows and columns\n",
    "- We can select single or multiple rows by using iloc indexer\n",
    "  1. if we select multiple rows and columns by using iloc indexer then resturns a DataFrame\n"
   ]
  },
  {
   "cell_type": "markdown",
   "id": "fbd83839-6747-44a9-9b4b-caeb8906ad55",
   "metadata": {},
   "source": [
    "# Accessing single row"
   ]
  },
  {
   "cell_type": "code",
   "execution_count": 4,
   "id": "102ee41e-dd30-4d1a-9035-e547eb51d373",
   "metadata": {},
   "outputs": [
    {
     "name": "stdout",
     "output_type": "stream",
     "text": [
      "sepal_length       5.1\n",
      "sepal_width        3.5\n",
      "petal_length       1.4\n",
      "petal_width        0.2\n",
      "species         setosa\n",
      "Name: 0, dtype: object\n"
     ]
    }
   ],
   "source": [
    "#syntax 1\n",
    "# Accessing single row\n",
    "import pandas as pd\n",
    "df=pd.read_csv(\"/Users/apple/Downloads/iris.csv\")\n",
    "print(df.iloc[0])"
   ]
  },
  {
   "cell_type": "markdown",
   "id": "3d78ae58-d992-4b8a-8a27-5c9a308e37bc",
   "metadata": {},
   "source": [
    "# Accessing single column "
   ]
  },
  {
   "cell_type": "code",
   "execution_count": 5,
   "id": "adf50fdf-d3cb-4d51-aede-78557addeba2",
   "metadata": {},
   "outputs": [
    {
     "name": "stdout",
     "output_type": "stream",
     "text": [
      "0      1.4\n",
      "1      1.4\n",
      "2      1.3\n",
      "3      1.5\n",
      "4      1.4\n",
      "      ... \n",
      "145    5.2\n",
      "146    5.0\n",
      "147    5.2\n",
      "148    5.4\n",
      "149    5.1\n",
      "Name: petal_length, Length: 150, dtype: float64\n"
     ]
    }
   ],
   "source": [
    "## Accessing single column\n",
    "import pandas as pd\n",
    "df=pd.read_csv(\"/Users/apple/Downloads/iris.csv\")\n",
    "print(df.iloc[:,2])"
   ]
  },
  {
   "cell_type": "markdown",
   "id": "7db7044f-4e4c-4a07-8a20-a8258497fbb7",
   "metadata": {},
   "source": [
    "# Acess mutliples columns "
   ]
  },
  {
   "cell_type": "code",
   "execution_count": 6,
   "id": "3cbc603f-ac29-4e8a-8b1c-29ff0dd138e2",
   "metadata": {},
   "outputs": [
    {
     "name": "stdout",
     "output_type": "stream",
     "text": [
      "     sepal_length  sepal_width\n",
      "0             5.1          3.5\n",
      "1             4.9          3.0\n",
      "2             4.7          3.2\n",
      "3             4.6          3.1\n",
      "4             5.0          3.6\n",
      "..            ...          ...\n",
      "145           6.7          3.0\n",
      "146           6.3          2.5\n",
      "147           6.5          3.0\n",
      "148           6.2          3.4\n",
      "149           5.9          3.0\n",
      "\n",
      "[150 rows x 2 columns]\n"
     ]
    }
   ],
   "source": [
    "# Acess mutliples columns \n",
    "import pandas as pd\n",
    "df=pd.read_csv(\"/Users/apple/Downloads/iris.csv\")\n",
    "print(df.iloc[:,0:2])"
   ]
  },
  {
   "cell_type": "markdown",
   "id": "4e9a65f9-b195-4e82-9512-f381676c0b8b",
   "metadata": {},
   "source": [
    "# Acess mutliples rows"
   ]
  },
  {
   "cell_type": "code",
   "execution_count": 10,
   "id": "1f152e13-386f-4fe3-b3d5-5cfb4aeb2490",
   "metadata": {},
   "outputs": [
    {
     "name": "stdout",
     "output_type": "stream",
     "text": [
      "   sepal_length  sepal_width  petal_length  petal_width species\n",
      "0           5.1          3.5           1.4          0.2  setosa\n",
      "1           4.9          3.0           1.4          0.2  setosa\n",
      "2           4.7          3.2           1.3          0.2  setosa\n",
      "3           4.6          3.1           1.5          0.2  setosa\n",
      "4           5.0          3.6           1.4          0.2  setosa\n",
      "5           5.4          3.9           1.7          0.4  setosa\n",
      "6           4.6          3.4           1.4          0.3  setosa\n",
      "7           5.0          3.4           1.5          0.2  setosa\n",
      "8           4.4          2.9           1.4          0.2  setosa\n",
      "9           4.9          3.1           1.5          0.1  setosa\n"
     ]
    }
   ],
   "source": [
    "# Acess mutliples rows\n",
    "import pandas as pd\n",
    "df=pd.read_csv(\"/Users/apple/Downloads/iris.csv\")\n",
    "print(df.iloc[0:10,])"
   ]
  },
  {
   "cell_type": "markdown",
   "id": "b632bfd8-2019-4b5c-8bb2-f45672678d26",
   "metadata": {},
   "source": [
    "- We can select single or multiple rows by using iloc indexer\n",
    "  1. if we select multiple rows and columns by using iloc indexer then resturns a DataFrameWe can select single or multiple rows by using iloc indexer\n",
    "  "
   ]
  },
  {
   "cell_type": "code",
   "execution_count": 11,
   "id": "5e37da21-5574-4d5d-bcbe-3f9afeb54c30",
   "metadata": {},
   "outputs": [
    {
     "name": "stdout",
     "output_type": "stream",
     "text": [
      "   sepal_length  sepal_width  petal_length  petal_width species\n",
      "0           5.1          3.5           1.4          0.2  setosa\n",
      "1           4.9          3.0           1.4          0.2  setosa\n",
      "2           4.7          3.2           1.3          0.2  setosa\n",
      "3           4.6          3.1           1.5          0.2  setosa\n",
      "4           5.0          3.6           1.4          0.2  setosa\n"
     ]
    }
   ],
   "source": [
    "# first five rows from DataFrame\n",
    "import pandas as pd\n",
    "df=pd.read_csv(\"/Users/apple/Downloads/iris.csv\")\n",
    "print(df.iloc[0:5])"
   ]
  },
  {
   "cell_type": "markdown",
   "id": "7cba25dd-8408-4a82-841f-1910042dada6",
   "metadata": {},
   "source": [
    "# HOW TO ACCESS MULTIPLE ROWS\n",
    "- df.head() => avg\n",
    "- df[0:5] => good\n",
    "- df.iloc[0:5] => super fast"
   ]
  },
  {
   "cell_type": "code",
   "execution_count": null,
   "id": "14d98428-1319-4bff-a012-dadde063676c",
   "metadata": {},
   "outputs": [],
   "source": [
    "import pandas as pd\n",
    "df=pd.read_csv(\"/Users/apple/Downloads/iris.csv\")"
   ]
  },
  {
   "cell_type": "code",
   "execution_count": null,
   "id": "b8a3fa5e-5fd5-4219-b48e-95710ee0bf51",
   "metadata": {},
   "outputs": [],
   "source": [
    "import p"
   ]
  },
  {
   "cell_type": "code",
   "execution_count": 15,
   "id": "23a52e30-ccc4-4d72-80cd-4625fc526cff",
   "metadata": {},
   "outputs": [
    {
     "name": "stdout",
     "output_type": "stream",
     "text": [
      "   sepal_length  sepal_width  petal_length  petal_width species\n",
      "0           5.1          3.5           1.4          0.2  setosa\n",
      "1           4.9          3.0           1.4          0.2  setosa\n",
      "2           4.7          3.2           1.3          0.2  setosa\n",
      "3           4.6          3.1           1.5          0.2  setosa\n",
      "4           5.0          3.6           1.4          0.2  setosa\n",
      "**************************************************\n",
      "   sepal_length  sepal_width  petal_length  petal_width species\n",
      "0           5.1          3.5           1.4          0.2  setosa\n",
      "1           4.9          3.0           1.4          0.2  setosa\n",
      "2           4.7          3.2           1.3          0.2  setosa\n",
      "3           4.6          3.1           1.5          0.2  setosa\n",
      "4           5.0          3.6           1.4          0.2  setosa\n",
      "**************************************************\n",
      "   sepal_length  sepal_width  petal_length  petal_width species\n",
      "0           5.1          3.5           1.4          0.2  setosa\n",
      "1           4.9          3.0           1.4          0.2  setosa\n",
      "2           4.7          3.2           1.3          0.2  setosa\n",
      "3           4.6          3.1           1.5          0.2  setosa\n",
      "4           5.0          3.6           1.4          0.2  setosa\n"
     ]
    }
   ],
   "source": [
    "import pandas as pd\n",
    "import numpy as np\n",
    "df=pd.read_csv(\"/Users/apple/Downloads/iris.csv\")\n",
    "print(df.head())\n",
    "print(\"*\"*50)\n",
    "print(df[0:5])\n",
    "print(\"*\"*50)\n",
    "print(df.iloc[0:5])"
   ]
  },
  {
   "cell_type": "code",
   "execution_count": 17,
   "id": "b0b5d6c0-f077-48fd-9175-4248011894c6",
   "metadata": {},
   "outputs": [
    {
     "name": "stdout",
     "output_type": "stream",
     "text": [
      "    sepal_length  petal_length species\n",
      "0            5.1           1.4  setosa\n",
      "2            4.7           1.3  setosa\n",
      "4            5.0           1.4  setosa\n",
      "6            4.6           1.4  setosa\n",
      "8            4.4           1.4  setosa\n",
      "10           5.4           1.5  setosa\n",
      "12           4.8           1.4  setosa\n",
      "14           5.8           1.2  setosa\n",
      "16           5.4           1.3  setosa\n",
      "18           5.7           1.7  setosa\n"
     ]
    }
   ],
   "source": [
    "import pandas as pd\n",
    "import numpy as np\n",
    "df=pd.read_csv(\"/Users/apple/Downloads/iris.csv\")\n",
    "print(df.iloc[0:20:2,0:5:2])"
   ]
  },
  {
   "cell_type": "code",
   "execution_count": 18,
   "id": "eea97b98-6218-4b9d-8b12-a9d282fee922",
   "metadata": {},
   "outputs": [
    {
     "name": "stdout",
     "output_type": "stream",
     "text": [
      "     sepal_length  sepal_width  petal_length\n",
      "0             5.1          3.5           1.4\n",
      "1             4.9          3.0           1.4\n",
      "2             4.7          3.2           1.3\n",
      "3             4.6          3.1           1.5\n",
      "4             5.0          3.6           1.4\n",
      "..            ...          ...           ...\n",
      "145           6.7          3.0           5.2\n",
      "146           6.3          2.5           5.0\n",
      "147           6.5          3.0           5.2\n",
      "148           6.2          3.4           5.4\n",
      "149           5.9          3.0           5.1\n",
      "\n",
      "[150 rows x 3 columns]\n"
     ]
    }
   ],
   "source": [
    "# first three column of the dataFrame with all rows\n",
    "import pandas as pd\n",
    "import numpy as np\n",
    "df=pd.read_csv(\"/Users/apple/Downloads/iris.csv\")\n",
    "print(df.iloc[:,0:3])"
   ]
  },
  {
   "cell_type": "code",
   "execution_count": 19,
   "id": "bb9b3baf-ca0c-40a3-ac6a-1d371c43c93c",
   "metadata": {},
   "outputs": [
    {
     "name": "stdout",
     "output_type": "stream",
     "text": [
      "   sepal_length  sepal_width\n",
      "0           5.1          3.5\n",
      "1           4.9          3.0\n",
      "2           4.7          3.2\n",
      "3           4.6          3.1\n",
      "4           5.0          3.6\n"
     ]
    }
   ],
   "source": [
    "# first 5 rows and first 2 columns of the DataFrame\n",
    "import pandas as pd\n",
    "import numpy as np\n",
    "df=pd.read_csv(\"/Users/apple/Downloads/iris.csv\")\n",
    "print(df.iloc[0:5,0:2])"
   ]
  },
  {
   "cell_type": "code",
   "execution_count": 20,
   "id": "4857715d-2de1-47d2-b81e-50be229ad104",
   "metadata": {},
   "outputs": [
    {
     "name": "stdout",
     "output_type": "stream",
     "text": [
      "   sepal_length  sepal_width  petal_length\n",
      "0           5.1          3.5           1.4\n",
      "1           4.9          3.0           1.4\n",
      "2           4.7          3.2           1.3\n",
      "3           4.6          3.1           1.5\n",
      "4           5.0          3.6           1.4\n"
     ]
    }
   ],
   "source": [
    "# first 5 rows and first 3 columns of the DataFrame\n",
    "import pandas as pd\n",
    "import numpy as np\n",
    "df=pd.read_csv(\"/Users/apple/Downloads/iris.csv\")\n",
    "print(df.iloc[0:5,0:3])"
   ]
  },
  {
   "cell_type": "markdown",
   "id": "97c9134c-7ad2-4dc0-88f3-a3833f45a56d",
   "metadata": {},
   "source": [
    "### 6. loc[] indexer\n",
    "- This indexer used to get rows or columns with particular lables from the index\n",
    "- The loc index is label based data selection means we have pass the name of the rows or columns which we want to select\n",
    "- The loc indexer can alse do boolean selection\n",
    "- This includes the last elements in DataFrame"
   ]
  },
  {
   "cell_type": "markdown",
   "id": "2e99e3ae-9dcc-4211-bd45-1043ee30c75f",
   "metadata": {},
   "source": [
    "### Usage\n",
    "- We can use loc[] indexer for two purpose\n",
    "  1. Selecting rows by label / index\n",
    "  2. Selecting rows with a boolean/conditional lookup"
   ]
  },
  {
   "cell_type": "markdown",
   "id": "30e7c31e-05d4-4332-b3a9-2c0735193234",
   "metadata": {},
   "source": [
    "### Syntax\n",
    "- df.loc[<row selection>,<column selection>]"
   ]
  },
  {
   "cell_type": "markdown",
   "id": "5881408a-7ce5-4434-951a-b2fbd62d4877",
   "metadata": {},
   "source": [
    "### 6.1 loc() - Selecting rows by label/index\n",
    "- We can set index for the DataFrame by using set_index(p)method.\n",
    "- The loc[] indexer directly selects based on index values of any rows.\n",
    "  1. for example, if we set index as product then we can select the specific prduct directly"
   ]
  },
  {
   "cell_type": "markdown",
   "id": "9180f58e-82ad-40f2-ba3a-38fbad7cf78f",
   "metadata": {},
   "source": [
    "### 6.2 Creating a DataFrame\n",
    "- if we load a csv file in pandas then it returns DataFrame"
   ]
  },
  {
   "cell_type": "code",
   "execution_count": 21,
   "id": "fd44fcb5-961f-47cd-b6f6-25f9ceb139da",
   "metadata": {},
   "outputs": [
    {
     "name": "stdout",
     "output_type": "stream",
     "text": [
      "     sepal_length  sepal_width  petal_length  petal_width    species\n",
      "0             5.1          3.5           1.4          0.2     setosa\n",
      "1             4.9          3.0           1.4          0.2     setosa\n",
      "2             4.7          3.2           1.3          0.2     setosa\n",
      "3             4.6          3.1           1.5          0.2     setosa\n",
      "4             5.0          3.6           1.4          0.2     setosa\n",
      "..            ...          ...           ...          ...        ...\n",
      "145           6.7          3.0           5.2          2.3  virginica\n",
      "146           6.3          2.5           5.0          1.9  virginica\n",
      "147           6.5          3.0           5.2          2.0  virginica\n",
      "148           6.2          3.4           5.4          2.3  virginica\n",
      "149           5.9          3.0           5.1          1.8  virginica\n",
      "\n",
      "[150 rows x 5 columns]\n"
     ]
    }
   ],
   "source": [
    "import pandas as pd\n",
    "import numpy as np\n",
    "df=pd.read_csv(\"/Users/apple/Downloads/iris.csv\")\n",
    "print(df)"
   ]
  },
  {
   "cell_type": "code",
   "execution_count": 36,
   "id": "23639c05-1d11-44ad-bcc4-e01a88e53aac",
   "metadata": {},
   "outputs": [
    {
     "name": "stdout",
     "output_type": "stream",
     "text": [
      "           sepal_length  sepal_width  petal_length  petal_width\n",
      "species                                                        \n",
      "setosa              5.1          3.5           1.4          0.2\n",
      "setosa              4.9          3.0           1.4          0.2\n",
      "setosa              4.7          3.2           1.3          0.2\n",
      "setosa              4.6          3.1           1.5          0.2\n",
      "setosa              5.0          3.6           1.4          0.2\n",
      "...                 ...          ...           ...          ...\n",
      "virginica           6.7          3.0           5.2          2.3\n",
      "virginica           6.3          2.5           5.0          1.9\n",
      "virginica           6.5          3.0           5.2          2.0\n",
      "virginica           6.2          3.4           5.4          2.3\n",
      "virginica           5.9          3.0           5.1          1.8\n",
      "\n",
      "[150 rows x 4 columns]\n"
     ]
    }
   ],
   "source": [
    "# changing column name to index values\n",
    "import pandas as pd\n",
    "df1=pd.read_csv(\"/Users/apple/Downloads/iris.csv\")\n",
    "df1=df1.set_index(\"species\")\n",
    "print(df1)              # 4 columns are there"
   ]
  },
  {
   "cell_type": "code",
   "execution_count": 38,
   "id": "2d088fa8-b250-4b70-9975-90667cd637cf",
   "metadata": {},
   "outputs": [
    {
     "name": "stdout",
     "output_type": "stream",
     "text": [
      "             sepal_length  sepal_width  petal_length    species\n",
      "petal_width                                                    \n",
      "0.2                   5.1          3.5           1.4     setosa\n",
      "0.2                   4.9          3.0           1.4     setosa\n",
      "0.2                   4.7          3.2           1.3     setosa\n",
      "0.2                   4.6          3.1           1.5     setosa\n",
      "0.2                   5.0          3.6           1.4     setosa\n",
      "...                   ...          ...           ...        ...\n",
      "2.3                   6.7          3.0           5.2  virginica\n",
      "1.9                   6.3          2.5           5.0  virginica\n",
      "2.0                   6.5          3.0           5.2  virginica\n",
      "2.3                   6.2          3.4           5.4  virginica\n",
      "1.8                   5.9          3.0           5.1  virginica\n",
      "\n",
      "[150 rows x 4 columns]\n"
     ]
    }
   ],
   "source": [
    "import pandas as pd\n",
    "df1=pd.read_csv(\"/Users/apple/Downloads/iris.csv\")\n",
    "print(df.set_index(\"petal_width\"))"
   ]
  },
  {
   "cell_type": "markdown",
   "id": "dba8109a-00b2-4795-9e5a-f21e17918659",
   "metadata": {},
   "source": [
    "# => conclusion = Index is not countable for total columns"
   ]
  },
  {
   "cell_type": "code",
   "execution_count": 52,
   "id": "5b033819-1d68-4e92-a4c3-61fa6b7c0940",
   "metadata": {},
   "outputs": [
    {
     "name": "stdout",
     "output_type": "stream",
     "text": [
      "           sepal_length  sepal_width  petal_length  petal_width\n",
      "species                                                        \n",
      "setosa              5.1          3.5           1.4          0.2\n",
      "setosa              4.9          3.0           1.4          0.2\n",
      "setosa              4.7          3.2           1.3          0.2\n",
      "setosa              4.6          3.1           1.5          0.2\n",
      "setosa              5.0          3.6           1.4          0.2\n",
      "...                 ...          ...           ...          ...\n",
      "virginica           6.7          3.0           5.2          2.3\n",
      "virginica           6.3          2.5           5.0          1.9\n",
      "virginica           6.5          3.0           5.2          2.0\n",
      "virginica           6.2          3.4           5.4          2.3\n",
      "virginica           5.9          3.0           5.1          1.8\n",
      "\n",
      "[150 rows x 4 columns]\n",
      "         sepal_length  sepal_width  petal_length  petal_width\n",
      "species                                                      \n",
      "setosa            5.1          3.5           1.4          0.2\n",
      "setosa            4.9          3.0           1.4          0.2\n",
      "setosa            4.7          3.2           1.3          0.2\n",
      "setosa            4.6          3.1           1.5          0.2\n",
      "setosa            5.0          3.6           1.4          0.2\n",
      "\n",
      "(50, 4)\n"
     ]
    }
   ],
   "source": [
    "import pandas as pd\n",
    "df1=pd.read_csv(\"/Users/apple/Downloads/iris.csv\")\n",
    "df1=df.set_index(\"species\")\n",
    "print(df1)\n",
    "a=\"setosa\"\n",
    "df2=df1.loc[a]\n",
    "print(df2.head() )\n",
    "print()\n",
    "print(df2.shape)"
   ]
  },
  {
   "cell_type": "code",
   "execution_count": 60,
   "id": "6cfda48b-6afd-431b-8483-4f361cc9f4dc",
   "metadata": {},
   "outputs": [
    {
     "name": "stdout",
     "output_type": "stream",
     "text": [
      "\n",
      "           sepal_length  sepal_width  petal_length  petal_width\n",
      "species                                                        \n",
      "virginica           6.3          3.3           6.0          2.5\n",
      "virginica           5.8          2.7           5.1          1.9\n",
      "virginica           7.1          3.0           5.9          2.1\n",
      "virginica           6.3          2.9           5.6          1.8\n",
      "virginica           6.5          3.0           5.8          2.2\n",
      "virginica           7.6          3.0           6.6          2.1\n",
      "virginica           4.9          2.5           4.5          1.7\n",
      "virginica           7.3          2.9           6.3          1.8\n",
      "virginica           6.7          2.5           5.8          1.8\n",
      "virginica           7.2          3.6           6.1          2.5\n",
      "virginica           6.5          3.2           5.1          2.0\n",
      "virginica           6.4          2.7           5.3          1.9\n",
      "virginica           6.8          3.0           5.5          2.1\n",
      "virginica           5.7          2.5           5.0          2.0\n",
      "virginica           5.8          2.8           5.1          2.4\n",
      "virginica           6.4          3.2           5.3          2.3\n",
      "virginica           6.5          3.0           5.5          1.8\n",
      "virginica           7.7          3.8           6.7          2.2\n",
      "virginica           7.7          2.6           6.9          2.3\n",
      "virginica           6.0          2.2           5.0          1.5\n",
      "virginica           6.9          3.2           5.7          2.3\n",
      "virginica           5.6          2.8           4.9          2.0\n",
      "virginica           7.7          2.8           6.7          2.0\n",
      "virginica           6.3          2.7           4.9          1.8\n",
      "virginica           6.7          3.3           5.7          2.1\n",
      "virginica           7.2          3.2           6.0          1.8\n",
      "virginica           6.2          2.8           4.8          1.8\n",
      "virginica           6.1          3.0           4.9          1.8\n",
      "virginica           6.4          2.8           5.6          2.1\n",
      "virginica           7.2          3.0           5.8          1.6\n",
      "virginica           7.4          2.8           6.1          1.9\n",
      "virginica           7.9          3.8           6.4          2.0\n",
      "virginica           6.4          2.8           5.6          2.2\n",
      "virginica           6.3          2.8           5.1          1.5\n",
      "virginica           6.1          2.6           5.6          1.4\n",
      "virginica           7.7          3.0           6.1          2.3\n",
      "virginica           6.3          3.4           5.6          2.4\n",
      "virginica           6.4          3.1           5.5          1.8\n",
      "virginica           6.0          3.0           4.8          1.8\n",
      "virginica           6.9          3.1           5.4          2.1\n",
      "virginica           6.7          3.1           5.6          2.4\n",
      "virginica           6.9          3.1           5.1          2.3\n",
      "virginica           5.8          2.7           5.1          1.9\n",
      "virginica           6.8          3.2           5.9          2.3\n",
      "virginica           6.7          3.3           5.7          2.5\n",
      "virginica           6.7          3.0           5.2          2.3\n",
      "virginica           6.3          2.5           5.0          1.9\n",
      "virginica           6.5          3.0           5.2          2.0\n",
      "virginica           6.2          3.4           5.4          2.3\n",
      "virginica           5.9          3.0           5.1          1.8\n",
      "(50, 4)\n",
      "     sepal_length  sepal_width  petal_length  petal_width    species\n",
      "145           6.7          3.0           5.2          2.3  virginica\n",
      "146           6.3          2.5           5.0          1.9  virginica\n",
      "147           6.5          3.0           5.2          2.0  virginica\n",
      "148           6.2          3.4           5.4          2.3  virginica\n",
      "149           5.9          3.0           5.1          1.8  virginica\n"
     ]
    }
   ],
   "source": [
    "# Setting index as a product name and selecting product\n",
    "import pandas as pd\n",
    "df=pd.read_csv(\"/Users/apple/Downloads/iris.csv\")\n",
    "df1=df.set_index(\"species\")\n",
    "print()\n",
    "a=\"virginica\"\n",
    "df2=df1.loc[a]\n",
    "print(df2)\n",
    "print(df2.shape)\n",
    "print(df.tail())"
   ]
  },
  {
   "cell_type": "code",
   "execution_count": 64,
   "id": "67b8d368-c826-4685-8bf6-feeebc6c7f49",
   "metadata": {},
   "outputs": [
    {
     "name": "stdout",
     "output_type": "stream",
     "text": [
      "         sepal_length  sepal_width  petal_length  petal_width\n",
      "species                                                      \n",
      "setosa            5.1          3.5           1.4          0.2\n",
      "setosa            4.9          3.0           1.4          0.2\n",
      "setosa            4.7          3.2           1.3          0.2\n",
      "setosa            4.6          3.1           1.5          0.2\n",
      "setosa            5.0          3.6           1.4          0.2\n",
      "setosa            5.4          3.9           1.7          0.4\n",
      "setosa            4.6          3.4           1.4          0.3\n",
      "setosa            5.0          3.4           1.5          0.2\n",
      "setosa            4.4          2.9           1.4          0.2\n",
      "setosa            4.9          3.1           1.5          0.1\n",
      "setosa            5.4          3.7           1.5          0.2\n",
      "setosa            4.8          3.4           1.6          0.2\n",
      "setosa            4.8          3.0           1.4          0.1\n",
      "setosa            4.3          3.0           1.1          0.1\n",
      "setosa            5.8          4.0           1.2          0.2\n",
      "setosa            5.7          4.4           1.5          0.4\n",
      "setosa            5.4          3.9           1.3          0.4\n",
      "setosa            5.1          3.5           1.4          0.3\n",
      "setosa            5.7          3.8           1.7          0.3\n",
      "setosa            5.1          3.8           1.5          0.3\n",
      "setosa            5.4          3.4           1.7          0.2\n",
      "setosa            5.1          3.7           1.5          0.4\n",
      "setosa            4.6          3.6           1.0          0.2\n",
      "setosa            5.1          3.3           1.7          0.5\n",
      "setosa            4.8          3.4           1.9          0.2\n",
      "setosa            5.0          3.0           1.6          0.2\n",
      "setosa            5.0          3.4           1.6          0.4\n",
      "setosa            5.2          3.5           1.5          0.2\n",
      "setosa            5.2          3.4           1.4          0.2\n",
      "setosa            4.7          3.2           1.6          0.2\n",
      "setosa            4.8          3.1           1.6          0.2\n",
      "setosa            5.4          3.4           1.5          0.4\n",
      "setosa            5.2          4.1           1.5          0.1\n",
      "setosa            5.5          4.2           1.4          0.2\n",
      "setosa            4.9          3.1           1.5          0.1\n",
      "setosa            5.0          3.2           1.2          0.2\n",
      "setosa            5.5          3.5           1.3          0.2\n",
      "setosa            4.9          3.1           1.5          0.1\n",
      "setosa            4.4          3.0           1.3          0.2\n",
      "setosa            5.1          3.4           1.5          0.2\n",
      "setosa            5.0          3.5           1.3          0.3\n",
      "setosa            4.5          2.3           1.3          0.3\n",
      "setosa            4.4          3.2           1.3          0.2\n",
      "setosa            5.0          3.5           1.6          0.6\n",
      "setosa            5.1          3.8           1.9          0.4\n",
      "setosa            4.8          3.0           1.4          0.3\n",
      "setosa            5.1          3.8           1.6          0.2\n",
      "setosa            4.6          3.2           1.4          0.2\n",
      "setosa            5.3          3.7           1.5          0.2\n",
      "setosa            5.0          3.3           1.4          0.2\n"
     ]
    }
   ],
   "source": [
    "## Setting index as a product name and selecting product\n",
    "import pandas as pd\n",
    "df=pd.read_csv(\"/Users/apple/Downloads/iris.csv\")\n",
    "df1=df.set_index(\"species\")\n",
    "a=\"setosa\"\n",
    "df2=df1.loc[a]\n",
    "print(df2)"
   ]
  },
  {
   "cell_type": "code",
   "execution_count": 70,
   "id": "70d9d47a-117c-41cc-b503-ed8cd0af20bf",
   "metadata": {},
   "outputs": [
    {
     "name": "stdout",
     "output_type": "stream",
     "text": [
      "             sepal_length  petal_length  petal_width     species\n",
      "sepal_width                                                     \n",
      "2.5                   5.6           3.9          1.1  versicolor\n",
      "2.5                   6.3           4.9          1.5  versicolor\n",
      "2.5                   5.5           4.0          1.3  versicolor\n",
      "2.5                   5.1           3.0          1.1  versicolor\n",
      "2.5                   4.9           4.5          1.7   virginica\n",
      "2.5                   6.7           5.8          1.8   virginica\n",
      "2.5                   5.7           5.0          2.0   virginica\n",
      "2.5                   6.3           5.0          1.9   virginica\n",
      "\n",
      "8\n"
     ]
    }
   ],
   "source": [
    "# Setting index as a product name and selecting product\n",
    "import pandas as pd\n",
    "df=pd.read_csv(\"/Users/apple/Downloads/iris.csv\")\n",
    "df1=df.set_index(\"sepal_width\")\n",
    "a=2.5\n",
    "df2=df1.loc[a]\n",
    "print(df2)\n",
    "print()\n",
    "print(len(df2))"
   ]
  },
  {
   "cell_type": "code",
   "execution_count": 75,
   "id": "d9d4788d-e1d7-4233-b4cf-0d90bea0cdd7",
   "metadata": {},
   "outputs": [
    {
     "name": "stdout",
     "output_type": "stream",
     "text": [
      "            sepal_length  sepal_width  petal_length  petal_width\n",
      "species                                                         \n",
      "versicolor           7.0          3.2           4.7          1.4\n",
      "versicolor           6.4          3.2           4.5          1.5\n",
      "versicolor           6.9          3.1           4.9          1.5\n",
      "versicolor           5.5          2.3           4.0          1.3\n",
      "versicolor           6.5          2.8           4.6          1.5\n",
      "...                  ...          ...           ...          ...\n",
      "virginica            6.7          3.0           5.2          2.3\n",
      "virginica            6.3          2.5           5.0          1.9\n",
      "virginica            6.5          3.0           5.2          2.0\n",
      "virginica            6.2          3.4           5.4          2.3\n",
      "virginica            5.9          3.0           5.1          1.8\n",
      "\n",
      "[100 rows x 4 columns]\n",
      "\n",
      "100\n"
     ]
    }
   ],
   "source": [
    "# Setting index as a product name and selecting two products\n",
    "import pandas as pd\n",
    "df=pd.read_csv(\"/Users/apple/Downloads/iris.csv\")\n",
    "df1=df.set_index(\"species\")\n",
    "a=[\"versicolor\",\"virginica\"]\n",
    "df2=df1.loc[a]\n",
    "print(df2)\n",
    "print()\n",
    "print(len(df2))\n"
   ]
  },
  {
   "cell_type": "code",
   "execution_count": 89,
   "id": "8af99979-671b-423b-ab96-3b8d6f765aab",
   "metadata": {},
   "outputs": [
    {
     "name": "stdout",
     "output_type": "stream",
     "text": [
      "                     product_id  \\\n",
      "discount_percentage               \n",
      "50%                  B008IFXQFU   \n",
      "50%                  B07232M876   \n",
      "50%                  B071SDRGWL   \n",
      "50%                  B09XJ1LM7R   \n",
      "50%                  B083GQGT3Z   \n",
      "\n",
      "                                                          product_name  \\\n",
      "discount_percentage                                                      \n",
      "50%                  TP-Link USB WiFi Adapter for PC(TL-WN725N), N1...   \n",
      "50%                  Amazonbasics Micro Usb Fast Charging Cable For...   \n",
      "50%                  boAt Type-c A400 Type-c to USB A Cable for All...   \n",
      "50%                  7SEVEN® Compatible for Tata Sky Remote Origina...   \n",
      "50%                  Caprigo Heavy Duty TV Wall Mount Stand for 12 ...   \n",
      "\n",
      "                                                              category  \\\n",
      "discount_percentage                                                      \n",
      "50%                  Computers&Accessories|NetworkingDevices|Networ...   \n",
      "50%                  Computers&Accessories|Accessories&Peripherals|...   \n",
      "50%                  Computers&Accessories|Accessories&Peripherals|...   \n",
      "50%                  Electronics|HomeTheater,TV&Video|Accessories|R...   \n",
      "50%                  Electronics|HomeTheater,TV&Video|Accessories|T...   \n",
      "\n",
      "                    discounted_price actual_price rating rating_count  \\\n",
      "discount_percentage                                                     \n",
      "50%                             ₹499         ₹999    4.2     1,79,691   \n",
      "50%                             ₹199         ₹395    4.2       92,595   \n",
      "50%                             ₹349         ₹699    4.3       20,850   \n",
      "50%                             ₹399         ₹799    4.3           12   \n",
      "50%                             ₹399         ₹799    4.1        1,161   \n",
      "\n",
      "                                                         about_product  \\\n",
      "discount_percentage                                                      \n",
      "50%                  USB WiFi Adapter —— Speedy wireless transmissi...   \n",
      "50%                  Cable Length: 6 Feet (1. 82 Meters)|Gold-Plate...   \n",
      "50%                  Support The Maximum 3A Fast Charging And The S...   \n",
      "50%                  [Compatible] All model of dth SD / HD / HD+ Pl...   \n",
      "50%                  TV & Monitor Wall Mount Compatibility : 12 To ...   \n",
      "\n",
      "                                                               user_id  \\\n",
      "discount_percentage                                                      \n",
      "50%                  AGV3IEFANZCKECFGUM42MRH5FNOA,AEBO7NWCNXKT4AESA...   \n",
      "50%                  AF7IXQKBUL6NEIQG4R53LMJJUGXQ,AFODI4XXHXHBFFUHK...   \n",
      "50%                  AFA332YHUPB6I7KMME7SOFX5RKQQ,AH3LHRL5P4YAVOQQC...   \n",
      "50%                                       AE242TR3GQ6TYC6W4SJ5UYYKBTYQ   \n",
      "50%                  AHKONLROYYEFMPWU5WN7NC5VZIEQ,AGACP7SH2Y22RU24I...   \n",
      "\n",
      "                                                             user_name  \\\n",
      "discount_percentage                                                      \n",
      "50%                  Azhar JuMan,Anirudh Sood,Hari Krishnan PS,Akas...   \n",
      "50%                  Neeraj Vishwakarma,Siddharth,SD1908,Mukundha2g...   \n",
      "50%                  GHOST,Amazon Customer,A Vase,Mani Jha,Anu B,Ga...   \n",
      "50%                                                        anurag jain   \n",
      "50%                  SNR,Aditya Digambar Pachghare,Harika,nkm,Loven...   \n",
      "\n",
      "                                                             review_id  \n",
      "discount_percentage                                                     \n",
      "50%                  R1LW6NWSVTVZ2H,R3VR5WFKUS15C5,R2F6GC79OYWUKQ,R...  \n",
      "50%                  R22EUJ1B1AM0OU,R2K89RVGN8N9MO,R177X9L6ND6OA7,R...  \n",
      "50%                  R1G4I5FLAHM16P,R1DXRMVWV2OVE8,R2BJFG3I9TAZ2P,R...  \n",
      "50%                                                     R38OAD16RVS9D4  \n",
      "50%                  R2CR72CAK85YA7,R1J7T1CF1601BH,R3IGDXE5UAOW8I,R...  \n",
      "\n",
      "(112, 11)\n",
      "\n",
      "product_id          102\n",
      "product_name        101\n",
      "category             50\n",
      "discounted_price     42\n",
      "actual_price         47\n",
      "rating               15\n",
      "rating_count         93\n",
      "about_product       101\n",
      "user_id              99\n",
      "user_name            99\n",
      "review_id            99\n",
      "dtype: int64\n"
     ]
    }
   ],
   "source": [
    "import pandas as pd\n",
    "df=pd.read_csv(\"/Users/apple/Downloads/amazon.csv\")\n",
    "df1=df.set_index(\"discount_percentage\")\n",
    "a=[\"50%\",\"60%\"]\n",
    "df2=df1.loc[a]\n",
    "print(df2.head())\n",
    "print()\n",
    "print(df2.shape)\n",
    "print()\n",
    "print(df2.nunique())"
   ]
  },
  {
   "cell_type": "code",
   "execution_count": 109,
   "id": "22ef0d8c-0058-48d6-a81a-bbe73f80eb49",
   "metadata": {},
   "outputs": [
    {
     "name": "stdout",
     "output_type": "stream",
     "text": [
      "            Store  Weekly_Sales  Holiday_Flag  Temperature  Fuel_Price  \\\n",
      "Date                                                                     \n",
      "05-02-2010      1    1643690.90             0        42.31       2.572   \n",
      "12-02-2010      1    1641957.44             1        38.51       2.548   \n",
      "19-02-2010      1    1611968.17             0        39.93       2.514   \n",
      "26-02-2010      1    1409727.59             0        46.63       2.561   \n",
      "05-03-2010      1    1554806.68             0        46.50       2.625   \n",
      "...           ...           ...           ...          ...         ...   \n",
      "28-09-2012     45     713173.95             0        64.88       3.997   \n",
      "05-10-2012     45     733455.07             0        64.89       3.985   \n",
      "12-10-2012     45     734464.36             0        54.47       4.000   \n",
      "19-10-2012     45     718125.53             0        56.47       3.969   \n",
      "26-10-2012     45     760281.43             0        58.85       3.882   \n",
      "\n",
      "                   CPI  Unemployment  \n",
      "Date                                  \n",
      "05-02-2010  211.096358         8.106  \n",
      "12-02-2010  211.242170         8.106  \n",
      "19-02-2010  211.289143         8.106  \n",
      "26-02-2010  211.319643         8.106  \n",
      "05-03-2010  211.350143         8.106  \n",
      "...                ...           ...  \n",
      "28-09-2012  192.013558         8.684  \n",
      "05-10-2012  192.170412         8.667  \n",
      "12-10-2012  192.327265         8.667  \n",
      "19-10-2012  192.330854         8.667  \n",
      "26-10-2012  192.308899         8.667  \n",
      "\n",
      "[6435 rows x 7 columns]\n"
     ]
    },
    {
     "ename": "KeyError",
     "evalue": "\"None of [Index(['05-02-2010', '19-02-2010'], dtype='object')] are in the [index]\"",
     "output_type": "error",
     "traceback": [
      "\u001b[0;31m---------------------------------------------------------------------------\u001b[0m",
      "\u001b[0;31mKeyError\u001b[0m                                  Traceback (most recent call last)",
      "Cell \u001b[0;32mIn[109], line 6\u001b[0m\n\u001b[1;32m      4\u001b[0m a\u001b[38;5;241m=\u001b[39m[\u001b[38;5;124m\"\u001b[39m\u001b[38;5;124m05-02-2010\u001b[39m\u001b[38;5;124m\"\u001b[39m,\u001b[38;5;124m\"\u001b[39m\u001b[38;5;124m19-02-2010\u001b[39m\u001b[38;5;124m\"\u001b[39m]\n\u001b[1;32m      5\u001b[0m b\u001b[38;5;241m=\u001b[39m[\u001b[38;5;124m\"\u001b[39m\u001b[38;5;124mTemperature\u001b[39m\u001b[38;5;124m\"\u001b[39m  ,\u001b[38;5;124m\"\u001b[39m\u001b[38;5;124mFuel_Price\u001b[39m\u001b[38;5;124m\"\u001b[39m]\n\u001b[0;32m----> 6\u001b[0m df1\u001b[38;5;241m=\u001b[39mdf\u001b[38;5;241m.\u001b[39mloc[a,b]\n\u001b[1;32m      7\u001b[0m \u001b[38;5;28mprint\u001b[39m(df1)\n",
      "File \u001b[0;32m/opt/anaconda3/lib/python3.13/site-packages/pandas/core/indexing.py:1184\u001b[0m, in \u001b[0;36m_LocationIndexer.__getitem__\u001b[0;34m(self, key)\u001b[0m\n\u001b[1;32m   1182\u001b[0m     \u001b[38;5;28;01mif\u001b[39;00m \u001b[38;5;28mself\u001b[39m\u001b[38;5;241m.\u001b[39m_is_scalar_access(key):\n\u001b[1;32m   1183\u001b[0m         \u001b[38;5;28;01mreturn\u001b[39;00m \u001b[38;5;28mself\u001b[39m\u001b[38;5;241m.\u001b[39mobj\u001b[38;5;241m.\u001b[39m_get_value(\u001b[38;5;241m*\u001b[39mkey, takeable\u001b[38;5;241m=\u001b[39m\u001b[38;5;28mself\u001b[39m\u001b[38;5;241m.\u001b[39m_takeable)\n\u001b[0;32m-> 1184\u001b[0m     \u001b[38;5;28;01mreturn\u001b[39;00m \u001b[38;5;28mself\u001b[39m\u001b[38;5;241m.\u001b[39m_getitem_tuple(key)\n\u001b[1;32m   1185\u001b[0m \u001b[38;5;28;01melse\u001b[39;00m:\n\u001b[1;32m   1186\u001b[0m     \u001b[38;5;66;03m# we by definition only have the 0th axis\u001b[39;00m\n\u001b[1;32m   1187\u001b[0m     axis \u001b[38;5;241m=\u001b[39m \u001b[38;5;28mself\u001b[39m\u001b[38;5;241m.\u001b[39maxis \u001b[38;5;129;01mor\u001b[39;00m \u001b[38;5;241m0\u001b[39m\n",
      "File \u001b[0;32m/opt/anaconda3/lib/python3.13/site-packages/pandas/core/indexing.py:1375\u001b[0m, in \u001b[0;36m_LocIndexer._getitem_tuple\u001b[0;34m(self, tup)\u001b[0m\n\u001b[1;32m   1373\u001b[0m \u001b[38;5;66;03m# ugly hack for GH #836\u001b[39;00m\n\u001b[1;32m   1374\u001b[0m \u001b[38;5;28;01mif\u001b[39;00m \u001b[38;5;28mself\u001b[39m\u001b[38;5;241m.\u001b[39m_multi_take_opportunity(tup):\n\u001b[0;32m-> 1375\u001b[0m     \u001b[38;5;28;01mreturn\u001b[39;00m \u001b[38;5;28mself\u001b[39m\u001b[38;5;241m.\u001b[39m_multi_take(tup)\n\u001b[1;32m   1377\u001b[0m \u001b[38;5;28;01mreturn\u001b[39;00m \u001b[38;5;28mself\u001b[39m\u001b[38;5;241m.\u001b[39m_getitem_tuple_same_dim(tup)\n",
      "File \u001b[0;32m/opt/anaconda3/lib/python3.13/site-packages/pandas/core/indexing.py:1327\u001b[0m, in \u001b[0;36m_LocIndexer._multi_take\u001b[0;34m(self, tup)\u001b[0m\n\u001b[1;32m   1310\u001b[0m \u001b[38;5;250m\u001b[39m\u001b[38;5;124;03m\"\"\"\u001b[39;00m\n\u001b[1;32m   1311\u001b[0m \u001b[38;5;124;03mCreate the indexers for the passed tuple of keys, and\u001b[39;00m\n\u001b[1;32m   1312\u001b[0m \u001b[38;5;124;03mexecutes the take operation. This allows the take operation to be\u001b[39;00m\n\u001b[0;32m   (...)\u001b[0m\n\u001b[1;32m   1323\u001b[0m \u001b[38;5;124;03mvalues: same type as the object being indexed\u001b[39;00m\n\u001b[1;32m   1324\u001b[0m \u001b[38;5;124;03m\"\"\"\u001b[39;00m\n\u001b[1;32m   1325\u001b[0m \u001b[38;5;66;03m# GH 836\u001b[39;00m\n\u001b[1;32m   1326\u001b[0m d \u001b[38;5;241m=\u001b[39m {\n\u001b[0;32m-> 1327\u001b[0m     axis: \u001b[38;5;28mself\u001b[39m\u001b[38;5;241m.\u001b[39m_get_listlike_indexer(key, axis)\n\u001b[1;32m   1328\u001b[0m     \u001b[38;5;28;01mfor\u001b[39;00m (key, axis) \u001b[38;5;129;01min\u001b[39;00m \u001b[38;5;28mzip\u001b[39m(tup, \u001b[38;5;28mself\u001b[39m\u001b[38;5;241m.\u001b[39mobj\u001b[38;5;241m.\u001b[39m_AXIS_ORDERS)\n\u001b[1;32m   1329\u001b[0m }\n\u001b[1;32m   1330\u001b[0m \u001b[38;5;28;01mreturn\u001b[39;00m \u001b[38;5;28mself\u001b[39m\u001b[38;5;241m.\u001b[39mobj\u001b[38;5;241m.\u001b[39m_reindex_with_indexers(d, copy\u001b[38;5;241m=\u001b[39m\u001b[38;5;28;01mTrue\u001b[39;00m, allow_dups\u001b[38;5;241m=\u001b[39m\u001b[38;5;28;01mTrue\u001b[39;00m)\n",
      "File \u001b[0;32m/opt/anaconda3/lib/python3.13/site-packages/pandas/core/indexing.py:1558\u001b[0m, in \u001b[0;36m_LocIndexer._get_listlike_indexer\u001b[0;34m(self, key, axis)\u001b[0m\n\u001b[1;32m   1555\u001b[0m ax \u001b[38;5;241m=\u001b[39m \u001b[38;5;28mself\u001b[39m\u001b[38;5;241m.\u001b[39mobj\u001b[38;5;241m.\u001b[39m_get_axis(axis)\n\u001b[1;32m   1556\u001b[0m axis_name \u001b[38;5;241m=\u001b[39m \u001b[38;5;28mself\u001b[39m\u001b[38;5;241m.\u001b[39mobj\u001b[38;5;241m.\u001b[39m_get_axis_name(axis)\n\u001b[0;32m-> 1558\u001b[0m keyarr, indexer \u001b[38;5;241m=\u001b[39m ax\u001b[38;5;241m.\u001b[39m_get_indexer_strict(key, axis_name)\n\u001b[1;32m   1560\u001b[0m \u001b[38;5;28;01mreturn\u001b[39;00m keyarr, indexer\n",
      "File \u001b[0;32m/opt/anaconda3/lib/python3.13/site-packages/pandas/core/indexes/base.py:6200\u001b[0m, in \u001b[0;36mIndex._get_indexer_strict\u001b[0;34m(self, key, axis_name)\u001b[0m\n\u001b[1;32m   6197\u001b[0m \u001b[38;5;28;01melse\u001b[39;00m:\n\u001b[1;32m   6198\u001b[0m     keyarr, indexer, new_indexer \u001b[38;5;241m=\u001b[39m \u001b[38;5;28mself\u001b[39m\u001b[38;5;241m.\u001b[39m_reindex_non_unique(keyarr)\n\u001b[0;32m-> 6200\u001b[0m \u001b[38;5;28mself\u001b[39m\u001b[38;5;241m.\u001b[39m_raise_if_missing(keyarr, indexer, axis_name)\n\u001b[1;32m   6202\u001b[0m keyarr \u001b[38;5;241m=\u001b[39m \u001b[38;5;28mself\u001b[39m\u001b[38;5;241m.\u001b[39mtake(indexer)\n\u001b[1;32m   6203\u001b[0m \u001b[38;5;28;01mif\u001b[39;00m \u001b[38;5;28misinstance\u001b[39m(key, Index):\n\u001b[1;32m   6204\u001b[0m     \u001b[38;5;66;03m# GH 42790 - Preserve name from an Index\u001b[39;00m\n",
      "File \u001b[0;32m/opt/anaconda3/lib/python3.13/site-packages/pandas/core/indexes/base.py:6249\u001b[0m, in \u001b[0;36mIndex._raise_if_missing\u001b[0;34m(self, key, indexer, axis_name)\u001b[0m\n\u001b[1;32m   6247\u001b[0m \u001b[38;5;28;01mif\u001b[39;00m nmissing:\n\u001b[1;32m   6248\u001b[0m     \u001b[38;5;28;01mif\u001b[39;00m nmissing \u001b[38;5;241m==\u001b[39m \u001b[38;5;28mlen\u001b[39m(indexer):\n\u001b[0;32m-> 6249\u001b[0m         \u001b[38;5;28;01mraise\u001b[39;00m \u001b[38;5;167;01mKeyError\u001b[39;00m(\u001b[38;5;124mf\u001b[39m\u001b[38;5;124m\"\u001b[39m\u001b[38;5;124mNone of [\u001b[39m\u001b[38;5;132;01m{\u001b[39;00mkey\u001b[38;5;132;01m}\u001b[39;00m\u001b[38;5;124m] are in the [\u001b[39m\u001b[38;5;132;01m{\u001b[39;00maxis_name\u001b[38;5;132;01m}\u001b[39;00m\u001b[38;5;124m]\u001b[39m\u001b[38;5;124m\"\u001b[39m)\n\u001b[1;32m   6251\u001b[0m     not_found \u001b[38;5;241m=\u001b[39m \u001b[38;5;28mlist\u001b[39m(ensure_index(key)[missing_mask\u001b[38;5;241m.\u001b[39mnonzero()[\u001b[38;5;241m0\u001b[39m]]\u001b[38;5;241m.\u001b[39munique())\n\u001b[1;32m   6252\u001b[0m     \u001b[38;5;28;01mraise\u001b[39;00m \u001b[38;5;167;01mKeyError\u001b[39;00m(\u001b[38;5;124mf\u001b[39m\u001b[38;5;124m\"\u001b[39m\u001b[38;5;132;01m{\u001b[39;00mnot_found\u001b[38;5;132;01m}\u001b[39;00m\u001b[38;5;124m not in index\u001b[39m\u001b[38;5;124m\"\u001b[39m)\n",
      "\u001b[0;31mKeyError\u001b[0m: \"None of [Index(['05-02-2010', '19-02-2010'], dtype='object')] are in the [index]\""
     ]
    }
   ],
   "source": [
    "import pandas as pd\n",
    "df=pd.read_csv(\"/Users/apple/Downloads/Walmart_Sales.csv\")\n",
    "print(df.set_index(\"Date\"))\n",
    "a=[\"05-02-2010\",\"19-02-2010\"]\n",
    "b=[\"Temperature\"  ,\"Fuel_Price\"]\n",
    "df1=df.loc[a,b]\n",
    "print(df1)"
   ]
  },
  {
   "cell_type": "code",
   "execution_count": 117,
   "id": "374ed97f-4b01-4ba6-bd11-d393481668e0",
   "metadata": {},
   "outputs": [
    {
     "name": "stdout",
     "output_type": "stream",
     "text": [
      "      Fuel type  Price  Year of manufacture\n",
      "Model                                      \n",
      "Prius    Hybrid  30297                 2015\n",
      "Prius    Hybrid   6512                 2003\n",
      "Prius    Hybrid    961                 1990\n",
      "Prius    Hybrid  38961                 2017\n",
      "Prius    Hybrid  29946                 2016\n",
      "...         ...    ...                  ...\n",
      "Polo     Petrol   1644                 2000\n",
      "Polo     Petrol   5287                 2006\n",
      "Polo     Petrol   1987                 2000\n",
      "Polo     Petrol    210                 1987\n",
      "Polo     Petrol  12703                 2012\n",
      "\n",
      "[9163 rows x 3 columns]\n",
      "(9163, 3)\n",
      "\n",
      "(50000, 7)\n"
     ]
    }
   ],
   "source": [
    "import pandas as pd\n",
    "df=pd.read_csv(\"/Users/apple/Downloads/car_sales_data.csv\")\n",
    "df1=df.set_index(\"Model\")\n",
    "a=[\"Prius\",\"Polo\"]\n",
    "b=[\"Fuel type\",\"Price\",\"Year of manufacture\"]\n",
    "df2=df1.loc[a,b]\n",
    "print(df2)\n",
    "print(df2.shape)\n",
    "print()\n",
    "print(df.shape)"
   ]
  },
  {
   "cell_type": "code",
   "execution_count": 121,
   "id": "53881f17-9f51-4b30-b414-1b3459b7b001",
   "metadata": {},
   "outputs": [
    {
     "name": "stdout",
     "output_type": "stream",
     "text": [
      "               Model  Year of manufacture   Price\n",
      "Manufacturer                                     \n",
      "Ford          Fiesta                 2002    3074\n",
      "Ford          Mondeo                 2014   24072\n",
      "Ford           Focus                 2018   29204\n",
      "Ford          Mondeo                 2010   14350\n",
      "Ford           Focus                 1992    1049\n",
      "...              ...                  ...     ...\n",
      "BMW               Z4                 2015   29466\n",
      "BMW               X3                 2006   14336\n",
      "BMW               Z4                 2013   28921\n",
      "BMW               M5                 1994    5106\n",
      "BMW               M5                 2018  113006\n",
      "\n",
      "[19924 rows x 3 columns]\n"
     ]
    }
   ],
   "source": [
    "import pandas as pd\n",
    "df=pd.read_csv(\"/Users/apple/Downloads/car_sales_data.csv\")\n",
    "df1=df.set_index(\"Manufacturer\")\n",
    "row=[\"Ford\",\"BMW\"]\n",
    "cols=[\"Model\",\"Year of manufacture\",\"Price\"]\n",
    "df2=df1.loc[row,cols]\n",
    "print(df2)"
   ]
  },
  {
   "cell_type": "code",
   "execution_count": 129,
   "id": "744a331f-d718-4764-a109-d6a1f092f165",
   "metadata": {},
   "outputs": [
    {
     "name": "stdout",
     "output_type": "stream",
     "text": [
      "               Model  Year of manufacture   Price Fuel type\n",
      "Manufacturer                                               \n",
      "Ford          Fiesta                 2002    3074    Petrol\n",
      "Ford          Mondeo                 2014   24072    Diesel\n",
      "Ford           Focus                 2018   29204    Petrol\n",
      "Ford          Mondeo                 2010   14350    Diesel\n",
      "Ford           Focus                 1992    1049    Diesel\n",
      "...              ...                  ...     ...       ...\n",
      "BMW               Z4                 2015   29466    Petrol\n",
      "BMW               X3                 2006   14336    Diesel\n",
      "BMW               Z4                 2013   28921    Petrol\n",
      "BMW               M5                 1994    5106    Petrol\n",
      "BMW               M5                 2018  113006    Petrol\n",
      "\n",
      "[19924 rows x 4 columns]\n"
     ]
    }
   ],
   "source": [
    "import pandas as pd\n",
    "df=pd.read_csv(\"/Users/apple/Downloads/car_sales_data.csv\")\n",
    "df1=df.set_index(\"Manufacturer\")\n",
    "a=[\"Ford\",\"BMW\"]\n",
    "b=[\"Model\",\"Year of manufacture\",\"Price\",\"Fuel type\"]\n",
    "df2=df1.loc[a,b]\n",
    "print(df2)"
   ]
  },
  {
   "cell_type": "markdown",
   "id": "9739fffb-cff6-4a99-a666-026fef4a3919",
   "metadata": {},
   "source": [
    "### 6.3 Boolen / loading indexing \n",
    "- Based on condition we can get rows and coloumns from DataFrame\n",
    "- This is the most commonly used data analysis\n",
    "- in most use cases you will make selections based on the values of differnt columns in your data set"
   ]
  },
  {
   "cell_type": "code",
   "execution_count": 130,
   "id": "f93f5774-9904-4125-bc8a-1bacb9406f11",
   "metadata": {},
   "outputs": [
    {
     "name": "stdout",
     "output_type": "stream",
     "text": [
      "      Manufacturer   Model  Engine size Fuel type  Year of manufacture  \\\n",
      "2             Ford  Mondeo          1.6    Diesel                 2014   \n",
      "6             Ford  Mondeo          1.8    Diesel                 2010   \n",
      "21            Ford  Mondeo          1.6    Diesel                 1996   \n",
      "73            Ford  Mondeo          1.8    Diesel                 1999   \n",
      "75            Ford  Mondeo          1.4    Diesel                 2000   \n",
      "...            ...     ...          ...       ...                  ...   \n",
      "49975         Ford  Mondeo          1.4    Diesel                 2007   \n",
      "49982         Ford  Mondeo          2.0    Hybrid                 2002   \n",
      "49988         Ford  Mondeo          1.6    Diesel                 1990   \n",
      "49993         Ford  Mondeo          1.8    Petrol                 2003   \n",
      "49997         Ford  Mondeo          1.6    Diesel                 2022   \n",
      "\n",
      "       Mileage  Price  \n",
      "2        39190  24072  \n",
      "6        86686  14350  \n",
      "21       77584   5667  \n",
      "73      104544   6058  \n",
      "75      128137   4771  \n",
      "...        ...    ...  \n",
      "49975    97727   9574  \n",
      "49982   146982   6407  \n",
      "49988   142328   2339  \n",
      "49993   120969   6654  \n",
      "49997     4030  49852  \n",
      "\n",
      "[5058 rows x 7 columns]\n"
     ]
    }
   ],
   "source": [
    "# Select rows with specific product with all columns between order id and product cost \n",
    "import pandas as pd\n",
    "df=pd.read_csv(\"/Users/apple/Downloads/car_sales_data.csv\")\n",
    "a=df[\"Model\"]==\"Mondeo\"\n",
    "print(df.loc[a])"
   ]
  },
  {
   "cell_type": "code",
   "execution_count": 137,
   "id": "fd3f7124-2d21-4e50-a27f-5e5228cebdc2",
   "metadata": {},
   "outputs": [
    {
     "name": "stdout",
     "output_type": "stream",
     "text": [
      "   Manufacturer   Model  Engine size Fuel type  Year of manufacture  Mileage  \\\n",
      "2          Ford  Mondeo          1.6    Diesel                 2014    39190   \n",
      "6          Ford  Mondeo          1.8    Diesel                 2010    86686   \n",
      "21         Ford  Mondeo          1.6    Diesel                 1996    77584   \n",
      "73         Ford  Mondeo          1.8    Diesel                 1999   104544   \n",
      "75         Ford  Mondeo          1.4    Diesel                 2000   128137   \n",
      "\n",
      "    Price  \n",
      "2   24072  \n",
      "6   14350  \n",
      "21   5667  \n",
      "73   6058  \n",
      "75   4771  \n"
     ]
    }
   ],
   "source": [
    "# Select rows with specific cae with all columns between model no and peice\n",
    "import pandas as pd\n",
    "df=pd.read_csv(\"/Users/apple/Downloads/car_sales_data.csv\")\n",
    "a=df[\"Model\"]==\"Mondeo\"\n",
    "df1=df.loc[a,\"Manufacturer\":\"Price\"]\n",
    "print(df1.head())"
   ]
  },
  {
   "cell_type": "code",
   "execution_count": 147,
   "id": "e25c0e10-af0d-4fbc-a5b5-a64c1f182339",
   "metadata": {},
   "outputs": [
    {
     "name": "stdout",
     "output_type": "stream",
     "text": [
      "      Manufacturer   Model  Engine size Fuel type  Year of manufacture  \\\n",
      "2             Ford  Mondeo          1.6    Diesel                 2014   \n",
      "6             Ford  Mondeo          1.8    Diesel                 2010   \n",
      "21            Ford  Mondeo          1.6    Diesel                 1996   \n",
      "73            Ford  Mondeo          1.8    Diesel                 1999   \n",
      "75            Ford  Mondeo          1.4    Diesel                 2000   \n",
      "...            ...     ...          ...       ...                  ...   \n",
      "49975         Ford  Mondeo          1.4    Diesel                 2007   \n",
      "49982         Ford  Mondeo          2.0    Hybrid                 2002   \n",
      "49988         Ford  Mondeo          1.6    Diesel                 1990   \n",
      "49993         Ford  Mondeo          1.8    Petrol                 2003   \n",
      "49997         Ford  Mondeo          1.6    Diesel                 2022   \n",
      "\n",
      "       Mileage  Price  \n",
      "2        39190  24072  \n",
      "6        86686  14350  \n",
      "21       77584   5667  \n",
      "73      104544   6058  \n",
      "75      128137   4771  \n",
      "...        ...    ...  \n",
      "49975    97727   9574  \n",
      "49982   146982   6407  \n",
      "49988   142328   2339  \n",
      "49993   120969   6654  \n",
      "49997     4030  49852  \n",
      "\n",
      "[5058 rows x 7 columns]\n"
     ]
    }
   ],
   "source": [
    "import pandas as pd \n",
    "df=pd.read_csv(\"/Users/apple/Downloads/car_sales_data.csv\")\n",
    "df1=df[\"Model\"]==\"Mondeo\"\n",
    "df2=df.loc[df1]\n",
    "print(df2)\n",
    "\n",
    "\n"
   ]
  },
  {
   "cell_type": "code",
   "execution_count": 154,
   "id": "bda89b76-64fb-429d-98a2-64a80d67dd26",
   "metadata": {},
   "outputs": [
    {
     "name": "stdout",
     "output_type": "stream",
     "text": [
      "      Manufacturer   Model  Engine size Fuel type  Year of manufacture  \\\n",
      "58             BMW      Z4          2.2    Petrol                 2004   \n",
      "182         Toyota   Yaris          1.2    Petrol                 2004   \n",
      "217           Ford  Fiesta          1.2    Petrol                 2004   \n",
      "255            BMW      M5          4.4    Petrol                 2004   \n",
      "280         Toyota   Yaris          1.4    Hybrid                 2004   \n",
      "...            ...     ...          ...       ...                  ...   \n",
      "49844         Ford  Mondeo          1.6    Diesel                 2004   \n",
      "49894       Toyota    RAV4          2.0    Hybrid                 2004   \n",
      "49918       Toyota    RAV4          1.8    Petrol                 2004   \n",
      "49985           VW  Passat          1.8    Diesel                 2004   \n",
      "49991       Toyota    RAV4          2.0    Hybrid                 2004   \n",
      "\n",
      "       Mileage  Price  \n",
      "58      126777   8373  \n",
      "182     179016   2914  \n",
      "217     160915   2933  \n",
      "255     108396  24571  \n",
      "280     100476   7076  \n",
      "...        ...    ...  \n",
      "49844   119614   7115  \n",
      "49894   162580   7928  \n",
      "49918    95297  10609  \n",
      "49985   145451   6501  \n",
      "49991   105792  12427  \n",
      "\n",
      "[1578 rows x 7 columns]\n"
     ]
    }
   ],
   "source": [
    "import pandas as pd\n",
    "df=pd.read_csv(\"/Users/apple/Downloads/car_sales_data.csv\")\n",
    "a=df[\"Year of manufacture\"]==2004\n",
    "df1=df.loc[a]\n",
    "print(df1)"
   ]
  },
  {
   "cell_type": "code",
   "execution_count": 155,
   "id": "7b598e7c-c60d-4734-9c5b-4a860d9848e7",
   "metadata": {},
   "outputs": [
    {
     "name": "stdout",
     "output_type": "stream",
     "text": [
      "Empty DataFrame\n",
      "Columns: [Manufacturer, Model, Engine size, Fuel type, Year of manufacture, Mileage, Price]\n",
      "Index: []\n"
     ]
    }
   ],
   "source": [
    "import pandas as pd\n",
    "df=pd.read_csv(\"/Users/apple/Downloads/car_sales_data.csv\")\n",
    "a=df[\"Year of manufacture\"]==2024\n",
    "df1=df.loc[a]\n",
    "print(df1)"
   ]
  },
  {
   "cell_type": "code",
   "execution_count": 156,
   "id": "33425ebc-237a-4f89-979e-34c2725a060c",
   "metadata": {},
   "outputs": [
    {
     "name": "stdout",
     "output_type": "stream",
     "text": [
      "      Manufacturer   Model  Engine size Fuel type  Year of manufacture  \\\n",
      "58             BMW      Z4          2.2    Petrol                 2004   \n",
      "182         Toyota   Yaris          1.2    Petrol                 2004   \n",
      "217           Ford  Fiesta          1.2    Petrol                 2004   \n",
      "255            BMW      M5          4.4    Petrol                 2004   \n",
      "280         Toyota   Yaris          1.4    Hybrid                 2004   \n",
      "...            ...     ...          ...       ...                  ...   \n",
      "49844         Ford  Mondeo          1.6    Diesel                 2004   \n",
      "49894       Toyota    RAV4          2.0    Hybrid                 2004   \n",
      "49918       Toyota    RAV4          1.8    Petrol                 2004   \n",
      "49985           VW  Passat          1.8    Diesel                 2004   \n",
      "49991       Toyota    RAV4          2.0    Hybrid                 2004   \n",
      "\n",
      "       Mileage  Price  \n",
      "58      126777   8373  \n",
      "182     179016   2914  \n",
      "217     160915   2933  \n",
      "255     108396  24571  \n",
      "280     100476   7076  \n",
      "...        ...    ...  \n",
      "49844   119614   7115  \n",
      "49894   162580   7928  \n",
      "49918    95297  10609  \n",
      "49985   145451   6501  \n",
      "49991   105792  12427  \n",
      "\n",
      "[1578 rows x 7 columns]\n"
     ]
    }
   ],
   "source": [
    "import pandas as pd\n",
    "df=pd.read_csv(\"/Users/apple/Downloads/car_sales_data.csv\")\n",
    "a=df[\"Year of manufacture\"]==2004\n",
    "print(df[a])"
   ]
  },
  {
   "cell_type": "code",
   "execution_count": null,
   "id": "04e291f8-6812-4850-99ea-5972286bf460",
   "metadata": {},
   "outputs": [],
   "source": []
  }
 ],
 "metadata": {
  "kernelspec": {
   "display_name": "Python [conda env:base] *",
   "language": "python",
   "name": "conda-base-py"
  },
  "language_info": {
   "codemirror_mode": {
    "name": "ipython",
    "version": 3
   },
   "file_extension": ".py",
   "mimetype": "text/x-python",
   "name": "python",
   "nbconvert_exporter": "python",
   "pygments_lexer": "ipython3",
   "version": "3.13.5"
  }
 },
 "nbformat": 4,
 "nbformat_minor": 5
}
