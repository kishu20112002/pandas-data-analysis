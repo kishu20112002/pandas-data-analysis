{
 "cells": [
  {
   "cell_type": "markdown",
   "id": "511292f4-9670-4f5a-ab75-234ee2483fa5",
   "metadata": {},
   "source": [
    "# DataFrame - Adding , drouping ,colomuns and rows"
   ]
  },
  {
   "cell_type": "markdown",
   "id": "39a996cf-3ec7-4165-9137-c94248010ab7",
   "metadata": {},
   "source": [
    "### 1. Adding column to DataFrame    => very imp\n",
    "- Based on requirement we can add column to existing DataFrame"
   ]
  },
  {
   "cell_type": "code",
   "execution_count": 5,
   "id": "4eae8e78-888c-4e53-ba67-0a457a7206bc",
   "metadata": {},
   "outputs": [
    {
     "name": "stdout",
     "output_type": "stream",
     "text": [
      "   hour_of_day cash_type  money    coffee_name Time_of_Day Weekday Month_name  \\\n",
      "0           10      card   38.7          Latte     Morning     Fri        Mar   \n",
      "1           12      card   38.7  Hot Chocolate   Afternoon     Fri        Mar   \n",
      "2           12      card   38.7  Hot Chocolate   Afternoon     Fri        Mar   \n",
      "3           13      card   28.9      Americano   Afternoon     Fri        Mar   \n",
      "4           13      card   38.7          Latte   Afternoon     Fri        Mar   \n",
      "\n",
      "   Weekdaysort  Monthsort        Date             Time  \n",
      "0            5          3  2024-03-01  10:15:50.520000  \n",
      "1            5          3  2024-03-01  12:19:22.539000  \n",
      "2            5          3  2024-03-01  12:20:18.089000  \n",
      "3            5          3  2024-03-01  13:46:33.006000  \n",
      "4            5          3  2024-03-01  13:48:14.626000  \n",
      "(3547, 11)\n"
     ]
    }
   ],
   "source": [
    "# Creatng a DataFrame\n",
    "import pandas as pd\n",
    "df=pd.read_csv('/Users/apple/Downloads/Coffe_sales (Before).csv.csv')\n",
    "print(df.head())\n",
    "print(df.shape)"
   ]
  },
  {
   "cell_type": "code",
   "execution_count": 8,
   "id": "a17301f9-d8f3-461c-83e4-9c735ff1625b",
   "metadata": {},
   "outputs": [
    {
     "name": "stdout",
     "output_type": "stream",
     "text": [
      "      hour_of_day cash_type  money    coffee_name Time_of_Day Weekday  \\\n",
      "0              10      card  38.70          Latte     Morning     Fri   \n",
      "1              12      card  38.70  Hot Chocolate   Afternoon     Fri   \n",
      "2              12      card  38.70  Hot Chocolate   Afternoon     Fri   \n",
      "3              13      card  28.90      Americano   Afternoon     Fri   \n",
      "4              13      card  38.70          Latte   Afternoon     Fri   \n",
      "...           ...       ...    ...            ...         ...     ...   \n",
      "3542           10      card  35.76     Cappuccino     Morning     Sun   \n",
      "3543           14      card  35.76          Cocoa   Afternoon     Sun   \n",
      "3544           14      card  35.76          Cocoa   Afternoon     Sun   \n",
      "3545           15      card  25.96      Americano   Afternoon     Sun   \n",
      "3546           18      card  35.76          Latte       Night     Sun   \n",
      "\n",
      "     Month_name  Weekdaysort  Monthsort        Date             Time  \n",
      "0           Mar            5          3  2024-03-01  10:15:50.520000  \n",
      "1           Mar            5          3  2024-03-01  12:19:22.539000  \n",
      "2           Mar            5          3  2024-03-01  12:20:18.089000  \n",
      "3           Mar            5          3  2024-03-01  13:46:33.006000  \n",
      "4           Mar            5          3  2024-03-01  13:48:14.626000  \n",
      "...         ...          ...        ...         ...              ...  \n",
      "3542        Mar            7          3  2025-03-23  10:34:54.894000  \n",
      "3543        Mar            7          3  2025-03-23  14:43:37.362000  \n",
      "3544        Mar            7          3  2025-03-23  14:44:16.864000  \n",
      "3545        Mar            7          3  2025-03-23  15:47:28.723000  \n",
      "3546        Mar            7          3  2025-03-23  18:11:38.635000  \n",
      "\n",
      "[3547 rows x 11 columns]\n",
      "\n",
      "****************************************************************************************************\n",
      "      hour_of_day cash_type  money    coffee_name Time_of_Day Weekday  \\\n",
      "0              10      card  38.70          Latte     Morning     Fri   \n",
      "1              12      card  38.70  Hot Chocolate   Afternoon     Fri   \n",
      "2              12      card  38.70  Hot Chocolate   Afternoon     Fri   \n",
      "3              13      card  28.90      Americano   Afternoon     Fri   \n",
      "4              13      card  38.70          Latte   Afternoon     Fri   \n",
      "...           ...       ...    ...            ...         ...     ...   \n",
      "3542           10      card  35.76     Cappuccino     Morning     Sun   \n",
      "3543           14      card  35.76          Cocoa   Afternoon     Sun   \n",
      "3544           14      card  35.76          Cocoa   Afternoon     Sun   \n",
      "3545           15      card  25.96      Americano   Afternoon     Sun   \n",
      "3546           18      card  35.76          Latte       Night     Sun   \n",
      "\n",
      "     Month_name  Weekdaysort  Monthsort        Date             Time Review  \n",
      "0           Mar            5          3  2024-03-01  10:15:50.520000  Goood  \n",
      "1           Mar            5          3  2024-03-01  12:19:22.539000  Goood  \n",
      "2           Mar            5          3  2024-03-01  12:20:18.089000  Goood  \n",
      "3           Mar            5          3  2024-03-01  13:46:33.006000  Goood  \n",
      "4           Mar            5          3  2024-03-01  13:48:14.626000  Goood  \n",
      "...         ...          ...        ...         ...              ...    ...  \n",
      "3542        Mar            7          3  2025-03-23  10:34:54.894000  Goood  \n",
      "3543        Mar            7          3  2025-03-23  14:43:37.362000  Goood  \n",
      "3544        Mar            7          3  2025-03-23  14:44:16.864000  Goood  \n",
      "3545        Mar            7          3  2025-03-23  15:47:28.723000  Goood  \n",
      "3546        Mar            7          3  2025-03-23  18:11:38.635000  Goood  \n",
      "\n",
      "[3547 rows x 12 columns]\n"
     ]
    }
   ],
   "source": [
    "import pandas as pd\n",
    "df=pd.read_csv('/Users/apple/Downloads/Coffe_sales (Before).csv.csv')\n",
    "print(df)\n",
    "print()\n",
    "df[\"Review\"]=\"Goood\"    # => realtime approach\n",
    "print(\"*\"*100)\n",
    "print(df)"
   ]
  },
  {
   "cell_type": "code",
   "execution_count": 20,
   "id": "ea5a6faf-52cc-41c6-ba4b-bbfdcb4097b5",
   "metadata": {},
   "outputs": [
    {
     "name": "stdout",
     "output_type": "stream",
     "text": [
      "        Order ID                     Product  Quantity Ordered  Cost price\n",
      "0         141234                      iPhone                 1    231.0000\n",
      "1         141235    Lightning Charging Cable                 1      7.4750\n",
      "2         141236            Wired Headphones                 2      5.9950\n",
      "3         141237            27in FHD Monitor                 1     97.4935\n",
      "4         141238            Wired Headphones                 1      5.9950\n",
      "...          ...                         ...               ...         ...\n",
      "185945    319666    Lightning Charging Cable                 1      7.4750\n",
      "185946    319667       AA Batteries (4-pack)                 2      1.9200\n",
      "185947    319668             Vareebadd Phone                 1    132.0000\n",
      "185948    319669            Wired Headphones                 1      5.9950\n",
      "185949    319670  Bose SoundSport Headphones                 1     49.9950\n",
      "\n",
      "[185950 rows x 4 columns]\n",
      "****************************************************************************************************\n",
      "        Order ID                     Product  Quantity Ordered  Cost price  \\\n",
      "0         141234                      iPhone                 1    231.0000   \n",
      "1         141235    Lightning Charging Cable                 1      7.4750   \n",
      "2         141236            Wired Headphones                 2      5.9950   \n",
      "3         141237            27in FHD Monitor                 1     97.4935   \n",
      "4         141238            Wired Headphones                 1      5.9950   \n",
      "...          ...                         ...               ...         ...   \n",
      "185945    319666    Lightning Charging Cable                 1      7.4750   \n",
      "185946    319667       AA Batteries (4-pack)                 2      1.9200   \n",
      "185947    319668             Vareebadd Phone                 1    132.0000   \n",
      "185948    319669            Wired Headphones                 1      5.9950   \n",
      "185949    319670  Bose SoundSport Headphones                 1     49.9950   \n",
      "\n",
      "           Total  \n",
      "0       231.0000  \n",
      "1         7.4750  \n",
      "2        11.9900  \n",
      "3        97.4935  \n",
      "4         5.9950  \n",
      "...          ...  \n",
      "185945    7.4750  \n",
      "185946    3.8400  \n",
      "185947  132.0000  \n",
      "185948    5.9950  \n",
      "185949   49.9950  \n",
      "\n",
      "[185950 rows x 5 columns]\n"
     ]
    }
   ],
   "source": [
    "import pandas as pd\n",
    "df=pd.read_csv(\"/Users/apple/Downloads/sales_data.csv\")\n",
    "print(df)\n",
    "print(\"*\"*100)\n",
    "print(df)\n",
    "df.to_csv(\"kishan.csv\")"
   ]
  },
  {
   "cell_type": "markdown",
   "id": "f18ee34c-ac54-4318-905e-b4a42a062678",
   "metadata": {},
   "source": [
    "### => by using apply method (not use in realtime)"
   ]
  },
  {
   "cell_type": "markdown",
   "id": "4620bcef-e0c1-400d-9d5b-095cd0379d72",
   "metadata": {},
   "source": [
    "- python =>\n",
    "-    functions are first class object\n",
    "-    Let me prove\n",
    "-    A function can take parameter as another function"
   ]
  },
  {
   "cell_type": "code",
   "execution_count": 21,
   "id": "b7da60ce-9b27-43ea-a7a8-5cab08c5989f",
   "metadata": {},
   "outputs": [
    {
     "name": "stdout",
     "output_type": "stream",
     "text": [
      "10\n"
     ]
    }
   ],
   "source": [
    "def kishan():\n",
    "    print(hii)\n",
    "def kumar(p):\n",
    "    print(p)\n",
    "\n",
    "kumar(10)     # number"
   ]
  },
  {
   "cell_type": "code",
   "execution_count": 22,
   "id": "4ae12fee-8ef3-40f3-9ed5-b43e8ddb512c",
   "metadata": {},
   "outputs": [
    {
     "name": "stdout",
     "output_type": "stream",
     "text": [
      "kishan\n"
     ]
    }
   ],
   "source": [
    "def kishan():\n",
    "    print(hii)\n",
    "def kumar(p):\n",
    "    print(p)\n",
    "\n",
    "kumar(\"kishan\") # string"
   ]
  },
  {
   "cell_type": "code",
   "execution_count": 23,
   "id": "bd4a3b16-6b47-4e20-a7f6-ff629cd62d1f",
   "metadata": {},
   "outputs": [
    {
     "name": "stdout",
     "output_type": "stream",
     "text": [
      "<function kishan at 0x13234c5e0>\n"
     ]
    }
   ],
   "source": [
    "# A function can take parameter as another function\n",
    "def kishan():\n",
    "    print(hii)\n",
    "def kumar(p):\n",
    "    print(p)\n",
    "\n",
    "kumar(kishan) # string"
   ]
  },
  {
   "cell_type": "code",
   "execution_count": 24,
   "id": "a6b9b6e6-866a-490b-8f36-cd42f881decb",
   "metadata": {},
   "outputs": [
    {
     "name": "stdout",
     "output_type": "stream",
     "text": [
      "   Order ID                   Product  Quantity Ordered  Cost price  \\\n",
      "0    141234                    iPhone                 1    231.0000   \n",
      "1    141235  Lightning Charging Cable                 1      7.4750   \n",
      "2    141236          Wired Headphones                 2      5.9950   \n",
      "3    141237          27in FHD Monitor                 1     97.4935   \n",
      "4    141238          Wired Headphones                 1      5.9950   \n",
      "\n",
      "   Total_cost  \n",
      "0    231.0000  \n",
      "1      7.4750  \n",
      "2     11.9900  \n",
      "3     97.4935  \n",
      "4      5.9950  \n"
     ]
    }
   ],
   "source": [
    "# by using apply method (not use in realtime)\n",
    "\n",
    "import pandas as pd\n",
    "df=pd.read_csv(\"/Users/apple/Downloads/sales_data.csv\")\n",
    "\n",
    "def total(df):\n",
    "    t=df[\"Cost price\"] * df[\"Quantity Ordered\"]\n",
    "    return t\n",
    "df[\"Total_cost\"]=df.apply(total,axis=1)\n",
    "print(df.head())"
   ]
  },
  {
   "cell_type": "code",
   "execution_count": 26,
   "id": "1e62964f-ed1d-4ecb-92d9-65842d107123",
   "metadata": {},
   "outputs": [
    {
     "name": "stdout",
     "output_type": "stream",
     "text": [
      "[10, 20, 30, 40]\n",
      "\n",
      "[10, 20, 30, 40, 50]\n"
     ]
    }
   ],
   "source": [
    "a=[10,20,30,40]\n",
    "print(a)\n",
    "a.append(50)   # it will store the value form the last \n",
    "print()\n",
    "print(a)"
   ]
  },
  {
   "cell_type": "code",
   "execution_count": 28,
   "id": "43979d67-5ab2-4674-bf96-c498ffc14e3e",
   "metadata": {},
   "outputs": [
    {
     "name": "stdout",
     "output_type": "stream",
     "text": [
      "[10, 20, 30, 40]\n",
      "\n",
      "[50, 10, 20, 30, 40]\n"
     ]
    }
   ],
   "source": [
    "a=[10,20,30,40]\n",
    "print(a)\n",
    "a.insert(0,50)   # it will store the value form the here we want to store \n",
    "print()\n",
    "print(a)"
   ]
  },
  {
   "cell_type": "markdown",
   "id": "ff245ea5-e5b2-4bd4-8600-3eb16e90bf08",
   "metadata": {},
   "source": [
    "# list\n",
    "- append() => add value at last position\n",
    "- insert() => add value at desired position\n",
    "# DataFrame\n",
    "- df[\"\"] = add column at last position\n",
    "- insert(1,2,3)"
   ]
  },
  {
   "cell_type": "code",
   "execution_count": 41,
   "id": "1962696f-41dd-4cc1-92ef-9d76056a1a7f",
   "metadata": {},
   "outputs": [
    {
     "name": "stdout",
     "output_type": "stream",
     "text": [
      "Index(['Order ID', 'Product', 'Quantity Ordered', 'Cost price'], dtype='object')\n",
      "Index(['Order ID', 'Product', 'Quantity Ordered', 'Cost price', 'name'], dtype='object')\n",
      "Index(['Order ID', 'Product', 'Hero', 'Quantity Ordered', 'Cost price',\n",
      "       'name'],\n",
      "      dtype='object')\n"
     ]
    }
   ],
   "source": [
    "# Adding total cost column to DataFrame in a Specific postion\n",
    "\n",
    "import pandas as pd\n",
    "df=pd.read_csv(\"/Users/apple/Downloads/sales_data.csv\")\n",
    "print(df.columns)\n",
    "a=df[\"Cost price\"]*df[\"Quantity Ordered\"]\n",
    "df.insert(2,\"Hero\",a)\n",
    "print(df.columns)"
   ]
  },
  {
   "cell_type": "code",
   "execution_count": 48,
   "id": "136472ca-4303-470b-b299-34707572517f",
   "metadata": {},
   "outputs": [
    {
     "name": "stdout",
     "output_type": "stream",
     "text": [
      "        Order ID                     Product     Total  Quantity Ordered  \\\n",
      "0         141234                      iPhone  231.0000                 1   \n",
      "1         141235    Lightning Charging Cable    7.4750                 1   \n",
      "2         141236            Wired Headphones   11.9900                 2   \n",
      "3         141237            27in FHD Monitor   97.4935                 1   \n",
      "4         141238            Wired Headphones    5.9950                 1   \n",
      "...          ...                         ...       ...               ...   \n",
      "185945    319666    Lightning Charging Cable    7.4750                 1   \n",
      "185946    319667       AA Batteries (4-pack)    3.8400                 2   \n",
      "185947    319668             Vareebadd Phone  132.0000                 1   \n",
      "185948    319669            Wired Headphones    5.9950                 1   \n",
      "185949    319670  Bose SoundSport Headphones   49.9950                 1   \n",
      "\n",
      "        Cost price  \n",
      "0         231.0000  \n",
      "1           7.4750  \n",
      "2           5.9950  \n",
      "3          97.4935  \n",
      "4           5.9950  \n",
      "...            ...  \n",
      "185945      7.4750  \n",
      "185946      1.9200  \n",
      "185947    132.0000  \n",
      "185948      5.9950  \n",
      "185949     49.9950  \n",
      "\n",
      "[185950 rows x 5 columns]\n"
     ]
    }
   ],
   "source": [
    "# insert(postions,colname,operation)\n",
    "# Adding total cost column to DataFrame in a Specific postion\n",
    "import pandas as pd\n",
    "df=pd.read_csv(\"/Users/apple/Downloads/sales_data.csv\")\n",
    "#print(df.head())\n",
    "a=df[\"Cost price\"] * df[\"Quantity Ordered\"]\n",
    "df.insert(2,\"Total\",a)\n",
    "print(df)"
   ]
  },
  {
   "cell_type": "code",
   "execution_count": 47,
   "id": "27a0d289-a0f5-485b-a146-bada77d5258d",
   "metadata": {},
   "outputs": [
    {
     "name": "stdout",
     "output_type": "stream",
     "text": [
      "        Order ID                     Product  Quantity Ordered  Cost price  \\\n",
      "0         141234                      iPhone                 1    231.0000   \n",
      "1         141235    Lightning Charging Cable                 1      7.4750   \n",
      "2         141236            Wired Headphones                 2      5.9950   \n",
      "3         141237            27in FHD Monitor                 1     97.4935   \n",
      "4         141238            Wired Headphones                 1      5.9950   \n",
      "...          ...                         ...               ...         ...   \n",
      "185945    319666    Lightning Charging Cable                 1      7.4750   \n",
      "185946    319667       AA Batteries (4-pack)                 2      1.9200   \n",
      "185947    319668             Vareebadd Phone                 1    132.0000   \n",
      "185948    319669            Wired Headphones                 1      5.9950   \n",
      "185949    319670  Bose SoundSport Headphones                 1     49.9950   \n",
      "\n",
      "       Totel  \n",
      "0       done  \n",
      "1       done  \n",
      "2       done  \n",
      "3       done  \n",
      "4       done  \n",
      "...      ...  \n",
      "185945  done  \n",
      "185946  done  \n",
      "185947  done  \n",
      "185948  done  \n",
      "185949  done  \n",
      "\n",
      "[185950 rows x 5 columns]\n"
     ]
    }
   ],
   "source": [
    "import pandas as pd\n",
    "df=pd.read_csv(\"/Users/apple/Downloads/sales_data.csv\")\n",
    "df[\"Totel\"]=\"done\"\n",
    "print(df)"
   ]
  },
  {
   "cell_type": "markdown",
   "id": "4f4e8721-ee74-473d-bdc1-27b58d8341d8",
   "metadata": {},
   "source": [
    "### 2 Dropping columns from DataFrame  => very imp\n",
    "- Based on requirements we can drop column from existing DataFrame"
   ]
  },
  {
   "cell_type": "code",
   "execution_count": 57,
   "id": "ec083ee8-a36f-4443-b803-4c0745c32e94",
   "metadata": {},
   "outputs": [
    {
     "name": "stdout",
     "output_type": "stream",
     "text": [
      "   Order ID                   Product  Quantity Ordered  Cost price\n",
      "0    141234                    iPhone                 1    231.0000\n",
      "1    141235  Lightning Charging Cable                 1      7.4750\n",
      "2    141236          Wired Headphones                 2      5.9950\n",
      "3    141237          27in FHD Monitor                 1     97.4935\n",
      "4    141238          Wired Headphones                 1      5.9950\n",
      "\n",
      "   Order ID  Quantity Ordered  Cost price\n",
      "0    141234                 1    231.0000\n",
      "1    141235                 1      7.4750\n",
      "2    141236                 2      5.9950\n",
      "3    141237                 1     97.4935\n",
      "4    141238                 1      5.9950\n"
     ]
    }
   ],
   "source": [
    "# Dropping single column\n",
    "import pandas as pd\n",
    "df=pd.read_csv(\"/Users/apple/Downloads/sales_data.csv\")\n",
    "print(df.head())\n",
    "df1=df.drop(columns=\"Product\")\n",
    "print()\n",
    "print(df1.head())"
   ]
  },
  {
   "cell_type": "code",
   "execution_count": 71,
   "id": "0a129fa7-27b0-41fd-897b-8b6b9c420008",
   "metadata": {},
   "outputs": [
    {
     "name": "stdout",
     "output_type": "stream",
     "text": [
      "   Order ID                   Product  Quantity Ordered  Cost price\n",
      "0    141234                    iPhone                 1    231.0000\n",
      "1    141235  Lightning Charging Cable                 1      7.4750\n",
      "2    141236          Wired Headphones                 2      5.9950\n",
      "3    141237          27in FHD Monitor                 1     97.4935\n",
      "4    141238          Wired Headphones                 1      5.9950\n",
      "\n",
      "        Order ID                     Product     Total  Quantity Ordered  \\\n",
      "0         141234                      iPhone  231.0000                 1   \n",
      "1         141235    Lightning Charging Cable    7.4750                 1   \n",
      "2         141236            Wired Headphones   11.9900                 2   \n",
      "3         141237            27in FHD Monitor   97.4935                 1   \n",
      "4         141238            Wired Headphones    5.9950                 1   \n",
      "...          ...                         ...       ...               ...   \n",
      "185945    319666    Lightning Charging Cable    7.4750                 1   \n",
      "185946    319667       AA Batteries (4-pack)    3.8400                 2   \n",
      "185947    319668             Vareebadd Phone  132.0000                 1   \n",
      "185948    319669            Wired Headphones    5.9950                 1   \n",
      "185949    319670  Bose SoundSport Headphones   49.9950                 1   \n",
      "\n",
      "        Cost price  \n",
      "0         231.0000  \n",
      "1           7.4750  \n",
      "2           5.9950  \n",
      "3          97.4935  \n",
      "4           5.9950  \n",
      "...            ...  \n",
      "185945      7.4750  \n",
      "185946      1.9200  \n",
      "185947    132.0000  \n",
      "185948      5.9950  \n",
      "185949     49.9950  \n",
      "\n",
      "[185950 rows x 5 columns]\n",
      "\n",
      "        Order ID                     Product  Quantity Ordered  Cost price\n",
      "0         141234                      iPhone                 1    231.0000\n",
      "1         141235    Lightning Charging Cable                 1      7.4750\n",
      "2         141236            Wired Headphones                 2      5.9950\n",
      "3         141237            27in FHD Monitor                 1     97.4935\n",
      "4         141238            Wired Headphones                 1      5.9950\n",
      "...          ...                         ...               ...         ...\n",
      "185945    319666    Lightning Charging Cable                 1      7.4750\n",
      "185946    319667       AA Batteries (4-pack)                 2      1.9200\n",
      "185947    319668             Vareebadd Phone                 1    132.0000\n",
      "185948    319669            Wired Headphones                 1      5.9950\n",
      "185949    319670  Bose SoundSport Headphones                 1     49.9950\n",
      "\n",
      "[185950 rows x 4 columns]\n"
     ]
    }
   ],
   "source": [
    "# adding column and then removing the column\n",
    "import pandas as pd\n",
    "df=pd.read_csv(\"/Users/apple/Downloads/sales_data.csv\")\n",
    "print(df.head())\n",
    "a=df[\"Quantity Ordered\"] * df[\"Cost price\"]\n",
    "df.insert(2,\"Total\",a)\n",
    "print()\n",
    "print(df)\n",
    "df1=df.drop(columns=\"Total\")\n",
    "print()\n",
    "print(df1)"
   ]
  },
  {
   "cell_type": "code",
   "execution_count": 72,
   "id": "06b5c403-d163-4798-875e-cbbc18505a93",
   "metadata": {},
   "outputs": [
    {
     "name": "stdout",
     "output_type": "stream",
     "text": [
      "   Order ID                   Product  Quantity Ordered  Cost price\n",
      "0    141234                    iPhone                 1    231.0000\n",
      "1    141235  Lightning Charging Cable                 1      7.4750\n",
      "2    141236          Wired Headphones                 2      5.9950\n",
      "3    141237          27in FHD Monitor                 1     97.4935\n",
      "4    141238          Wired Headphones                 1      5.9950\n",
      "**************************************************\n",
      "   Order ID                   Product  Quantity Ordered  Cost price      me\n",
      "0    141234                    iPhone                 1    231.0000  kishan\n",
      "1    141235  Lightning Charging Cable                 1      7.4750  kishan\n",
      "2    141236          Wired Headphones                 2      5.9950  kishan\n",
      "3    141237          27in FHD Monitor                 1     97.4935  kishan\n",
      "4    141238          Wired Headphones                 1      5.9950  kishan\n",
      "**************************************************\n",
      "   Order ID                   Product  Quantity Ordered  Cost price      me  \\\n",
      "0    141234                    iPhone                 1    231.0000  kishan   \n",
      "1    141235  Lightning Charging Cable                 1      7.4750  kishan   \n",
      "2    141236          Wired Headphones                 2      5.9950  kishan   \n",
      "3    141237          27in FHD Monitor                 1     97.4935  kishan   \n",
      "4    141238          Wired Headphones                 1      5.9950  kishan   \n",
      "\n",
      "     Totale  \n",
      "0  231.0000  \n",
      "1    7.4750  \n",
      "2   11.9900  \n",
      "3   97.4935  \n",
      "4    5.9950  \n",
      "**************************************************\n",
      "        Order ID                     Product  Quantity Ordered  Cost price  \\\n",
      "0         141234                      iPhone                 1    231.0000   \n",
      "1         141235    Lightning Charging Cable                 1      7.4750   \n",
      "2         141236            Wired Headphones                 2      5.9950   \n",
      "3         141237            27in FHD Monitor                 1     97.4935   \n",
      "4         141238            Wired Headphones                 1      5.9950   \n",
      "...          ...                         ...               ...         ...   \n",
      "185945    319666    Lightning Charging Cable                 1      7.4750   \n",
      "185946    319667       AA Batteries (4-pack)                 2      1.9200   \n",
      "185947    319668             Vareebadd Phone                 1    132.0000   \n",
      "185948    319669            Wired Headphones                 1      5.9950   \n",
      "185949    319670  Bose SoundSport Headphones                 1     49.9950   \n",
      "\n",
      "          Totale  \n",
      "0       231.0000  \n",
      "1         7.4750  \n",
      "2        11.9900  \n",
      "3        97.4935  \n",
      "4         5.9950  \n",
      "...          ...  \n",
      "185945    7.4750  \n",
      "185946    3.8400  \n",
      "185947  132.0000  \n",
      "185948    5.9950  \n",
      "185949   49.9950  \n",
      "\n",
      "[185950 rows x 5 columns]\n",
      "**************************************************\n",
      "        Order ID                     Product  Quantity Ordered  Cost price\n",
      "0         141234                      iPhone                 1    231.0000\n",
      "1         141235    Lightning Charging Cable                 1      7.4750\n",
      "2         141236            Wired Headphones                 2      5.9950\n",
      "3         141237            27in FHD Monitor                 1     97.4935\n",
      "4         141238            Wired Headphones                 1      5.9950\n",
      "...          ...                         ...               ...         ...\n",
      "185945    319666    Lightning Charging Cable                 1      7.4750\n",
      "185946    319667       AA Batteries (4-pack)                 2      1.9200\n",
      "185947    319668             Vareebadd Phone                 1    132.0000\n",
      "185948    319669            Wired Headphones                 1      5.9950\n",
      "185949    319670  Bose SoundSport Headphones                 1     49.9950\n",
      "\n",
      "[185950 rows x 4 columns]\n"
     ]
    }
   ],
   "source": [
    "# adding column and then removing the column\n",
    "import pandas as pd\n",
    "df=pd.read_csv(\"/Users/apple/Downloads/sales_data.csv\")\n",
    "print(df.head())\n",
    "print(\"*\"*50)\n",
    "df[\"me\"]=\"kishan\"\n",
    "print(df.head())\n",
    "print(\"*\"*50)\n",
    "df[\"Totale\"]=df[\"Cost price\"]  *  df[\"Quantity Ordered\"] \n",
    "print(df.head()) \n",
    "print(\"*\"*50)\n",
    "df1=df.drop(columns=\"me\")\n",
    "print(df1)\n",
    "print(\"*\"*50)\n",
    "df2=df1.drop(columns=\"Totale\")\n",
    "print(df2)"
   ]
  },
  {
   "cell_type": "code",
   "execution_count": 79,
   "id": "19242d0c-242d-4e4b-b17a-60c8b48711e4",
   "metadata": {},
   "outputs": [
    {
     "name": "stdout",
     "output_type": "stream",
     "text": [
      "   Order ID                   Product  Quantity Ordered  Cost price\n",
      "0    141234                    iPhone                 1    231.0000\n",
      "1    141235  Lightning Charging Cable                 1      7.4750\n",
      "2    141236          Wired Headphones                 2      5.9950\n",
      "3    141237          27in FHD Monitor                 1     97.4935\n",
      "4    141238          Wired Headphones                 1      5.9950\n",
      "\n",
      "        Order ID                     Product\n",
      "0         141234                      iPhone\n",
      "1         141235    Lightning Charging Cable\n",
      "2         141236            Wired Headphones\n",
      "3         141237            27in FHD Monitor\n",
      "4         141238            Wired Headphones\n",
      "...          ...                         ...\n",
      "185945    319666    Lightning Charging Cable\n",
      "185946    319667       AA Batteries (4-pack)\n",
      "185947    319668             Vareebadd Phone\n",
      "185948    319669            Wired Headphones\n",
      "185949    319670  Bose SoundSport Headphones\n",
      "\n",
      "[185950 rows x 2 columns]\n",
      "\n",
      "        Order ID                     Product\n",
      "0         141234                      iPhone\n",
      "1         141235    Lightning Charging Cable\n",
      "2         141236            Wired Headphones\n",
      "3         141237            27in FHD Monitor\n",
      "4         141238            Wired Headphones\n",
      "...          ...                         ...\n",
      "185945    319666    Lightning Charging Cable\n",
      "185946    319667       AA Batteries (4-pack)\n",
      "185947    319668             Vareebadd Phone\n",
      "185948    319669            Wired Headphones\n",
      "185949    319670  Bose SoundSport Headphones\n",
      "\n",
      "[185950 rows x 2 columns]\n"
     ]
    }
   ],
   "source": [
    "# Dropping multiple columns\n",
    "import pandas as pd\n",
    "df=pd.read_csv(\"/Users/apple/Downloads/sales_data.csv\")\n",
    "print(df.head())\n",
    "print()\n",
    "df1=df.drop(columns=[\"Quantity Ordered\",\"Cost price\"],axis=1)\n",
    "print(df1)\n"
   ]
  },
  {
   "cell_type": "code",
   "execution_count": 81,
   "id": "1e3b6f2d-6374-4cd5-846f-38098ace6c3e",
   "metadata": {},
   "outputs": [
    {
     "name": "stdout",
     "output_type": "stream",
     "text": [
      "   Order ID\n",
      "0    141234\n",
      "1    141235\n",
      "2    141236\n",
      "3    141237\n",
      "4    141238\n"
     ]
    }
   ],
   "source": [
    "# Dropping multiple columns\n",
    "import pandas as pd\n",
    "df=pd.read_csv(\"/Users/apple/Downloads/sales_data.csv\")\n",
    "cols=[\"Product\",\"Quantity Ordered\",\"Cost price\"]\n",
    "print(df.drop(cols,axis=1).head())"
   ]
  },
  {
   "cell_type": "markdown",
   "id": "43c74e86-b7b7-427a-b75c-4443746b4527",
   "metadata": {},
   "source": [
    "### 3. Dropping rows from DataFrame \n",
    "- We can Drop the rows from DataFrame by using Drop method\n"
   ]
  },
  {
   "cell_type": "code",
   "execution_count": 85,
   "id": "7b7d9fe4-5744-46e6-8293-fb92a38ab988",
   "metadata": {},
   "outputs": [
    {
     "name": "stdout",
     "output_type": "stream",
     "text": [
      "   Order ID                   Product  Quantity Ordered  Cost price\n",
      "0    141234                    iPhone                 1    231.0000\n",
      "1    141235  Lightning Charging Cable                 1      7.4750\n",
      "2    141236          Wired Headphones                 2      5.9950\n",
      "3    141237          27in FHD Monitor                 1     97.4935\n",
      "4    141238          Wired Headphones                 1      5.9950\n",
      "\n",
      "   Order ID                 Product  Quantity Ordered  Cost price\n",
      "0    141234                  iPhone                 1    231.0000\n",
      "2    141236        Wired Headphones                 2      5.9950\n",
      "3    141237        27in FHD Monitor                 1     97.4935\n",
      "4    141238        Wired Headphones                 1      5.9950\n",
      "5    141239  AAA Batteries (4-pack)                 1      1.4950\n"
     ]
    }
   ],
   "source": [
    "# Dropping single rows\n",
    "import pandas as pd\n",
    "df=pd.read_csv(\"/Users/apple/Downloads/sales_data.csv\")\n",
    "print(df.head())\n",
    "df1=df.drop(1,axis=0)    # => if it is columns wise then we have to axise=1\n",
    "print()\n",
    "print(df1.head())"
   ]
  },
  {
   "cell_type": "code",
   "execution_count": 87,
   "id": "de4e4b50-bedd-4ee4-8145-1083a912b9d2",
   "metadata": {},
   "outputs": [
    {
     "name": "stdout",
     "output_type": "stream",
     "text": [
      "   Order ID                 Product  Quantity Ordered  Cost price\n",
      "0    141234                  iPhone                 1    231.0000\n",
      "4    141238        Wired Headphones                 1      5.9950\n",
      "5    141239  AAA Batteries (4-pack)                 1      1.4950\n",
      "6    141240  27in 4K Gaming Monitor                 1    128.6967\n",
      "7    141241    USB-C Charging Cable                 1      5.9750\n"
     ]
    }
   ],
   "source": [
    "#Drooping multiple rows\n",
    "import pandas as pd\n",
    "df=pd.read_csv(\"/Users/apple/Downloads/sales_data.csv\")\n",
    "row=[1,2,3]\n",
    "df1=df.drop(row,axis=0)\n",
    "print(df1.head())"
   ]
  },
  {
   "cell_type": "code",
   "execution_count": 88,
   "id": "212de07c-109a-4cc1-a27c-a2d57c492de2",
   "metadata": {},
   "outputs": [
    {
     "name": "stdout",
     "output_type": "stream",
     "text": [
      "   Order ID                 Product  Quantity Ordered  Cost price\n",
      "0    141234                  iPhone                 1    231.0000\n",
      "4    141238        Wired Headphones                 1      5.9950\n",
      "5    141239  AAA Batteries (4-pack)                 1      1.4950\n",
      "6    141240  27in 4K Gaming Monitor                 1    128.6967\n",
      "7    141241    USB-C Charging Cable                 1      5.9750\n"
     ]
    }
   ],
   "source": [
    "#Drooping multiple rows\n",
    "import pandas as pd\n",
    "df=pd.read_csv(\"/Users/apple/Downloads/sales_data.csv\")\n",
    "df1=df.drop([1,2,3],axis=0)\n",
    "print(df1.head())"
   ]
  },
  {
   "cell_type": "code",
   "execution_count": null,
   "id": "6c75f3a3-91bf-403a-baad-fd0177f9f7e7",
   "metadata": {},
   "outputs": [],
   "source": []
  }
 ],
 "metadata": {
  "kernelspec": {
   "display_name": "Python [conda env:base] *",
   "language": "python",
   "name": "conda-base-py"
  },
  "language_info": {
   "codemirror_mode": {
    "name": "ipython",
    "version": 3
   },
   "file_extension": ".py",
   "mimetype": "text/x-python",
   "name": "python",
   "nbconvert_exporter": "python",
   "pygments_lexer": "ipython3",
   "version": "3.13.5"
  }
 },
 "nbformat": 4,
 "nbformat_minor": 5
}
