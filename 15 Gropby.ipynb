{
 "cells": [
  {
   "cell_type": "markdown",
   "id": "e4e0be3d-609c-41c8-874b-c290cc65bbd4",
   "metadata": {},
   "source": [
    "# Pandas - DataFrame - GROUPBY     very very imp\n",
    "- Data => splitting the data => apply operations => combile result\n",
    "- step 1 => Data\n",
    "- step 2 => splitting the data\n",
    "- step 3 => apply operations\n",
    "- step 4 => combile result "
   ]
  },
  {
   "cell_type": "markdown",
   "id": "7cc538f0-6dd9-426d-9f6f-e37cb5b83499",
   "metadata": {},
   "source": [
    "pandas - DataFrame - Groupby\n",
    "===============================\n",
    "pandas \n",
    "- df.groupby() => method\n",
    "- GroupBy      => class"
   ]
  },
  {
   "cell_type": "markdown",
   "id": "39a6d684-cbb4-4c9c-9069-bc510d68b4aa",
   "metadata": {},
   "source": [
    "example\n",
    "- Student => 100 members\n",
    "- ## one type of groping the data\n",
    "- 100 member => two group on gender\n",
    "-              - boys = 60\n",
    "-              - girls = 40"
   ]
  },
  {
   "cell_type": "markdown",
   "id": "b5e63f94-d21d-4537-84c0-5093f05e7a50",
   "metadata": {},
   "source": [
    "example\n",
    "- Student => 100 members\n",
    "- ## Another type  of groping the data \n",
    "- 100 member => two group on gender and edu\n",
    "-              - boys = 60\n",
    "-                            - betch=40\n",
    "-                            - bsc=20\n",
    "\n",
    "-              - girls = 40\n",
    "-                            - betch = 39\n",
    "-                            - bsc = 1"
   ]
  },
  {
   "cell_type": "markdown",
   "id": "d933969b-677c-4ba8-b0cc-c49cfb6b4e89",
   "metadata": {},
   "source": [
    "example\n",
    "- Student => 100 members\n",
    "- ## Another type  of groping the data and edu\n",
    "- 100 member => two group on gender and location\n",
    "-              - boys = 60\n",
    "-                            - hyd=10\n",
    "-                            - non hyd=20\n",
    "\n",
    "-              - girls = 40\n",
    "-                            - hyd= 10\n",
    "-                            - non hyd = 30"
   ]
  },
  {
   "cell_type": "markdown",
   "id": "4e993af6-0145-4828-b937-7ed25a335585",
   "metadata": {},
   "source": [
    "- df.head() => single result => top 5 rows dataFrame\n",
    "- df.tail() => single result => last 5 rows dataFrame\n",
    "- df.rename() =>  single result => update DataFrame\n",
    "- df.sort_values => single result => update DataFrame\n",
    "- df.groupby => Groupby object\n",
    "-                               - apply operations\n",
    "-                                                  - get the result\n",
    "-                                              \n",
    "- groupby() methord retuns GroupBy object"
   ]
  },
  {
   "cell_type": "markdown",
   "id": "c7e24639-1765-4878-b2c7-a99e57df4754",
   "metadata": {},
   "source": [
    "### Very Very IMP point\n",
    "- df.head() => returns => DataFrame \n",
    "- df.tail() => returns => DataFrame \n",
    "- df.groupby() => returns GroupBy object => apply operations => final result\n"
   ]
  },
  {
   "cell_type": "markdown",
   "id": "f7a7d2e6-3fa8-49d1-95ec-09770a46c929",
   "metadata": {},
   "source": [
    "### 1 . Groupby introduction\n",
    "- Groupby is very common and important operation in Data analysis\n",
    "- There are mainly 3 steps in Groupby operation\n",
    "  1. Splitting the data into Group based on some criteria\n",
    "  2. Appling operations to eash group independently\n",
    "  3. combining the result"
   ]
  },
  {
   "cell_type": "markdown",
   "id": "b38d9ce3-f691-425b-a3cb-5b4f4a4c0f74",
   "metadata": {},
   "source": [
    "### - for example \n",
    "1. if we apply groupby on Product_name then it group the data into based on name of the product\n",
    "2. The group(p) method returns a GroupBy object "
   ]
  },
  {
   "cell_type": "markdown",
   "id": "487ad7f4-0642-4def-b680-ac131a3b6cc4",
   "metadata": {},
   "source": [
    "### 2 Group(p)\n",
    "- groupby(p) is predefined in a DataFrame\n",
    "- We should access this method by using Dataframe object\n",
    "- This method returns Groupby object"
   ]
  },
  {
   "cell_type": "code",
   "execution_count": 2,
   "id": "187d1ac7-5f51-4a75-b060-85df6bc778dd",
   "metadata": {},
   "outputs": [
    {
     "name": "stdout",
     "output_type": "stream",
     "text": [
      "    Product  Orders\n",
      "0   Samsung       2\n",
      "1     Nokia       4\n",
      "2   Samsung       3\n",
      "3  Motorola       4\n",
      "4     Nokia       6\n",
      "5   Samsung       7\n",
      "6   Samsung       3\n"
     ]
    }
   ],
   "source": [
    "# Creating product DataFrame\n",
    "import pandas as pd \n",
    "df=pd.DataFrame\n",
    "d={\n",
    "    \"Product\":[\"Samsung\",\"Nokia\",\"Samsung\",\"Motorola\",\"Nokia\",\"Samsung\",\"Samsung\"],\n",
    "    \"Orders\":[2,4,3,4,6,7,3]\n",
    "}\n",
    "print(df(d))"
   ]
  },
  {
   "cell_type": "markdown",
   "id": "ae0fbd7f-de7d-4d7d-b097-951416119fa6",
   "metadata": {},
   "source": [
    "## DataFrame \n",
    "- header - is not countable for rows\n",
    "- index - is not countable for columns"
   ]
  },
  {
   "cell_type": "code",
   "execution_count": 10,
   "id": "d9f85aaa-350a-40cb-9804-637437f9239e",
   "metadata": {},
   "outputs": [
    {
     "name": "stdout",
     "output_type": "stream",
     "text": [
      "    Product  Orders\n",
      "0   Samsung       2\n",
      "1     Nokia       4\n",
      "2   Samsung       3\n",
      "3  Motorola       4\n",
      "4     Nokia       6\n",
      "5   Samsung       7\n",
      "6   Samsung       3\n",
      "\n",
      "          Orders\n",
      "Product         \n",
      "Motorola       4\n",
      "Nokia         10\n",
      "Samsung       15\n"
     ]
    }
   ],
   "source": [
    "import pandas as pd \n",
    "df=pd.DataFrame\n",
    "d={\n",
    "    \"Product\":[\"Samsung\",\"Nokia\",\"Samsung\",\"Motorola\",\"Nokia\",\"Samsung\",\"Samsung\"],\n",
    "    \"Orders\":[2,4,3,4,6,7,3]\n",
    "}\n",
    "df=pd.DataFrame(d)\n",
    "group=df.groupby([\"Product\"])\n",
    "result=group.sum()\n",
    "print(df)\n",
    "print()\n",
    "print(result)"
   ]
  },
  {
   "cell_type": "code",
   "execution_count": 23,
   "id": "b207e6c0-711a-41d0-afc4-45f2ea088d21",
   "metadata": {},
   "outputs": [
    {
     "name": "stdout",
     "output_type": "stream",
     "text": [
      "<pandas.core.groupby.generic.DataFrameGroupBy object at 0x1239aed70>\n"
     ]
    }
   ],
   "source": [
    "import pandas as pd \n",
    "df=pd.DataFrame\n",
    "p=[\"Samsung\",\"Nokia\",\"Samsung\",\"Motorola\",\"Nokia\",\"Samsung\",\"Samsung\"]\n",
    "o=[2,4,3,4,6,7,3]\n",
    "d={\n",
    "    \n",
    "    \"Product\":p,\n",
    "    \"Orders\":o\n",
    "}\n",
    "df=pd.DataFrame(d)\n",
    "a=df.groupby([\"Product\"])\n",
    "\n",
    "print(a)"
   ]
  },
  {
   "cell_type": "code",
   "execution_count": 25,
   "id": "1f55b55f-2862-4a8f-993d-39a3a2e9d667",
   "metadata": {},
   "outputs": [
    {
     "name": "stdout",
     "output_type": "stream",
     "text": [
      "          Orders\n",
      "Product         \n",
      "Motorola       4\n",
      "Nokia         10\n",
      "Samsung       15\n"
     ]
    }
   ],
   "source": [
    "import pandas as pd \n",
    "df=pd.DataFrame\n",
    "d={\n",
    "    \n",
    "    \"Product\":[\"Samsung\",\"Nokia\",\"Samsung\",\"Motorola\",\"Nokia\",\"Samsung\",\"Samsung\"],\n",
    "    \"Orders\":[2,4,3,4,6,7,3]\n",
    "}\n",
    "df=pd.DataFrame(d)\n",
    "a=df.groupby([\"Product\"])\n",
    "r=a.sum()\n",
    "print(r)"
   ]
  },
  {
   "cell_type": "code",
   "execution_count": 33,
   "id": "a0ff7b11-38c5-4f71-ab74-1173141e76d1",
   "metadata": {},
   "outputs": [
    {
     "name": "stdout",
     "output_type": "stream",
     "text": [
      "          Orders\n",
      "Product         \n",
      "Motorola       4\n",
      "Nokia         10\n",
      "Samsung       15\n",
      "\n",
      "29\n"
     ]
    }
   ],
   "source": [
    "import pandas as pd \n",
    "df=pd.DataFrame\n",
    "d={\n",
    "    \n",
    "    \"Product\":[\"Samsung\",\"Nokia\",\"Samsung\",\"Motorola\",\"Nokia\",\"Samsung\",\"Samsung\"],\n",
    "    \"Orders\":[2,4,3,4,6,7,3]\n",
    "}\n",
    "df=pd.DataFrame(d)\n",
    "a=df.groupby([\"Product\"])\n",
    "r=a.sum()\n",
    "print(r)\n",
    "print()\n",
    "print(df.Orders.sum())"
   ]
  },
  {
   "cell_type": "code",
   "execution_count": 36,
   "id": "526e74df-edd1-4c99-9419-e3827d6b667b",
   "metadata": {},
   "outputs": [
    {
     "name": "stdout",
     "output_type": "stream",
     "text": [
      "                             match_id  inning  \\\n",
      "bowling_team                                    \n",
      "Chennai Super Kings          43491694   29907   \n",
      "Deccan Chargers               1910322   14094   \n",
      "Delhi Capitals               22146728    2695   \n",
      "Delhi Daredevils             18203547   26531   \n",
      "Gujarat Lions                 1203688    5125   \n",
      "Kings XI Punjab              38199408   31151   \n",
      "Kochi Tuskers Kerala           431373    2388   \n",
      "Kolkata Knight Riders        39061195   30244   \n",
      "Mumbai Indians               41374011   34419   \n",
      "Pune Warriors                 1889413    7768   \n",
      "Rajasthan Royals             35627825   24996   \n",
      "Rising Pune Supergiant          60050    2894   \n",
      "Rising Pune Supergiants        973138    2358   \n",
      "Royal Challengers Bangalore  37346622   30972   \n",
      "Sunrisers Hyderabad          40824841   20022   \n",
      "\n",
      "                                                                  batting_team  \\\n",
      "bowling_team                                                                     \n",
      "Chennai Super Kings          Kings XI PunjabKings XI PunjabKings XI PunjabK...   \n",
      "Deccan Chargers              Kolkata Knight RidersKolkata Knight RidersKolk...   \n",
      "Delhi Capitals               Mumbai IndiansMumbai IndiansMumbai IndiansMumb...   \n",
      "Delhi Daredevils             Royal Challengers BangaloreRoyal Challengers B...   \n",
      "Gujarat Lions                Kolkata Knight RidersKolkata Knight RidersKolk...   \n",
      "Kings XI Punjab              Rising Pune SupergiantRising Pune SupergiantRi...   \n",
      "Kochi Tuskers Kerala         Royal Challengers BangaloreRoyal Challengers B...   \n",
      "Kolkata Knight Riders        Gujarat LionsGujarat LionsGujarat LionsGujarat...   \n",
      "Mumbai Indians               Rising Pune SupergiantRising Pune SupergiantRi...   \n",
      "Pune Warriors                Kings XI PunjabKings XI PunjabKings XI PunjabK...   \n",
      "Rajasthan Royals             Delhi DaredevilsDelhi DaredevilsDelhi Daredevi...   \n",
      "Rising Pune Supergiant       Mumbai IndiansMumbai IndiansMumbai IndiansMumb...   \n",
      "Rising Pune Supergiants      Mumbai IndiansMumbai IndiansMumbai IndiansMumb...   \n",
      "Royal Challengers Bangalore  Sunrisers HyderabadSunrisers HyderabadSunriser...   \n",
      "Sunrisers Hyderabad          Royal Challengers BangaloreRoyal Challengers B...   \n",
      "\n",
      "                               over   ball  \\\n",
      "bowling_team                                 \n",
      "Chennai Super Kings          199141  70567   \n",
      "Deccan Chargers               92374  32738   \n",
      "Delhi Capitals                20487   7097   \n",
      "Delhi Daredevils             189436  67677   \n",
      "Gujarat Lions                 35824  12711   \n",
      "Kings XI Punjab              210348  75284   \n",
      "Kochi Tuskers Kerala          15883   5847   \n",
      "Kolkata Knight Riders        211788  75522   \n",
      "Mumbai Indians               230274  81698   \n",
      "Pune Warriors                 55674  19587   \n",
      "Rajasthan Royals             176140  63020   \n",
      "Rising Pune Supergiant        19788   6973   \n",
      "Rising Pune Supergiants       16386   5851   \n",
      "Royal Challengers Bangalore  215534  77058   \n",
      "Sunrisers Hyderabad          130801  45842   \n",
      "\n",
      "                                                                       batsman  \\\n",
      "bowling_team                                                                     \n",
      "Chennai Super Kings          K GoelK GoelK GoelK GoelJR HopesJR HopesK Goel...   \n",
      "Deccan Chargers              WP SahaBB McCullumBB McCullumBB McCullumWP Sah...   \n",
      "Delhi Capitals               RG SharmaQ de KockRG SharmaRG SharmaRG SharmaR...   \n",
      "Delhi Daredevils             CH GayleSR WatsonSR WatsonSR WatsonSR WatsonSR...   \n",
      "Gujarat Lions                G GambhirCA LynnCA LynnG GambhirG GambhirCA Ly...   \n",
      "Kings XI Punjab              AM RahaneMA AgarwalMA AgarwalMA AgarwalMA Agar...   \n",
      "Kochi Tuskers Kerala         MA AgarwalTM DilshanTM DilshanTM DilshanMA Aga...   \n",
      "Kolkata Knight Riders        JJ RoyJJ RoyJJ RoyJJ RoyJJ RoyJJ RoyBB McCullu...   \n",
      "Mumbai Indians               AM RahaneMA AgarwalMA AgarwalMA AgarwalAM Raha...   \n",
      "Pune Warriors                AC GilchristAC GilchristSE MarshAC GilchristPC...   \n",
      "Rajasthan Royals             G GambhirG GambhirG GambhirG GambhirG GambhirG...   \n",
      "Rising Pune Supergiant       PA PatelPA PatelPA PatelJC ButtlerPA PatelPA P...   \n",
      "Rising Pune Supergiants      LMP SimmonsRG SharmaRG SharmaRG SharmaRG Sharm...   \n",
      "Royal Challengers Bangalore  DA WarnerDA WarnerDA WarnerDA WarnerDA WarnerS...   \n",
      "Sunrisers Hyderabad          CH GayleMandeep SinghMandeep SinghMandeep Sing...   \n",
      "\n",
      "                                                                   non_striker  \\\n",
      "bowling_team                                                                     \n",
      "Chennai Super Kings          JR HopesJR HopesJR HopesJR HopesK GoelK GoelJR...   \n",
      "Deccan Chargers              BB McCullumWP SahaWP SahaWP SahaBB McCullumBB ...   \n",
      "Delhi Capitals               Q de KockRG SharmaQ de KockQ de KockQ de KockQ...   \n",
      "Delhi Daredevils             SR WatsonCH GayleCH GayleCH GayleCH GayleCH Ga...   \n",
      "Gujarat Lions                CA LynnG GambhirG GambhirCA LynnCA LynnG Gambh...   \n",
      "Kings XI Punjab              MA AgarwalAM RahaneAM RahaneAM RahaneAM Rahane...   \n",
      "Kochi Tuskers Kerala         TM DilshanMA AgarwalMA AgarwalMA AgarwalTM Dil...   \n",
      "Kolkata Knight Riders        BB McCullumBB McCullumBB McCullumBB McCullumBB...   \n",
      "Mumbai Indians               MA AgarwalAM RahaneAM RahaneAM RahaneMA Agarwa...   \n",
      "Pune Warriors                SE MarshSE MarshAC GilchristSE MarshSE MarshSE...   \n",
      "Rajasthan Royals             V SehwagV SehwagV SehwagV SehwagV SehwagV Sehw...   \n",
      "Rising Pune Supergiant       JC ButtlerJC ButtlerJC ButtlerPA PatelJC Buttl...   \n",
      "Rising Pune Supergiants      RG SharmaLMP SimmonsLMP SimmonsLMP SimmonsLMP ...   \n",
      "Royal Challengers Bangalore  S DhawanS DhawanS DhawanS DhawanS DhawanDA War...   \n",
      "Sunrisers Hyderabad          Mandeep SinghCH GayleCH GayleCH GayleCH GayleC...   \n",
      "\n",
      "                                                                        bowler  \\\n",
      "bowling_team                                                                     \n",
      "Chennai Super Kings          JDP OramJDP OramJDP OramJDP OramJDP OramJDP Or...   \n",
      "Deccan Chargers              WPUJC VaasWPUJC VaasWPUJC VaasWPUJC VaasWPUJC ...   \n",
      "Delhi Capitals               TA BoultTA BoultTA BoultTA BoultTA BoultTA Bou...   \n",
      "Delhi Daredevils             Z KhanZ KhanZ KhanZ KhanZ KhanZ KhanCH MorrisC...   \n",
      "Gujarat Lions                P KumarP KumarP KumarP KumarP KumarP KumarDS K...   \n",
      "Kings XI Punjab              Sandeep SharmaSandeep SharmaSandeep SharmaSand...   \n",
      "Kochi Tuskers Kerala         RP SinghRP SinghRP SinghRP SinghRP SinghRP Sin...   \n",
      "Kolkata Knight Riders        TA BoultTA BoultTA BoultTA BoultTA BoultTA Bou...   \n",
      "Mumbai Indians               TG SoutheeTG SoutheeTG SoutheeTG SoutheeTG Sou...   \n",
      "Pune Warriors                AC ThomasAC ThomasAC ThomasAC ThomasAC ThomasA...   \n",
      "Rajasthan Royals             MM PatelMM PatelMM PatelMM PatelMM PatelMM Pat...   \n",
      "Rising Pune Supergiant       AB DindaAB DindaAB DindaAB DindaAB DindaAB Din...   \n",
      "Rising Pune Supergiants      RP SinghRP SinghRP SinghRP SinghRP SinghRP Sin...   \n",
      "Royal Challengers Bangalore  TS MillsTS MillsTS MillsTS MillsTS MillsTS Mil...   \n",
      "Sunrisers Hyderabad          A NehraA NehraA NehraA NehraA NehraA NehraB Ku...   \n",
      "\n",
      "                             is_super_over  wide_runs  bye_runs  legbye_runs  \\\n",
      "bowling_team                                                                   \n",
      "Chennai Super Kings                      4        667        73          409   \n",
      "Deccan Chargers                          0        328        62          215   \n",
      "Delhi Capitals                           0         69         8           31   \n",
      "Delhi Daredevils                         6        659        82          436   \n",
      "Gujarat Lions                            5        107        10           64   \n",
      "Kings XI Punjab                          9        807        98          445   \n",
      "Kochi Tuskers Kerala                     0         56         5           41   \n",
      "Kolkata Knight Riders                   10        761       115          419   \n",
      "Mumbai Indians                           8        892       121          482   \n",
      "Pune Warriors                            0        174        38           97   \n",
      "Rajasthan Royals                        20        675       100          393   \n",
      "Rising Pune Supergiant                   0         69         3           38   \n",
      "Rising Pune Supergiants                  0         77         3           24   \n",
      "Royal Challengers Bangalore             13        877       124          465   \n",
      "Sunrisers Hyderabad                      6        358        42          226   \n",
      "\n",
      "                             noball_runs  penalty_runs  batsman_runs  \\\n",
      "bowling_team                                                           \n",
      "Chennai Super Kings                   64             0         23981   \n",
      "Deccan Chargers                       49             5         10959   \n",
      "Delhi Capitals                         8             0          2558   \n",
      "Delhi Daredevils                      91             0         23543   \n",
      "Gujarat Lions                          7             0          4902   \n",
      "Kings XI Punjab                      103             0         26873   \n",
      "Kochi Tuskers Kerala                   8             0          1876   \n",
      "Kolkata Knight Riders                 77             0         26003   \n",
      "Mumbai Indians                       112             5         27289   \n",
      "Pune Warriors                         26             0          6522   \n",
      "Rajasthan Royals                      77             0         21412   \n",
      "Rising Pune Supergiant                 1             0          2325   \n",
      "Rising Pune Supergiants                4             0          2005   \n",
      "Royal Challengers Bangalore           92             0         27011   \n",
      "Sunrisers Hyderabad                   30             0         16027   \n",
      "\n",
      "                             extra_runs  total_runs  \\\n",
      "bowling_team                                          \n",
      "Chennai Super Kings                1213       25194   \n",
      "Deccan Chargers                     659       11618   \n",
      "Delhi Capitals                      116        2674   \n",
      "Delhi Daredevils                   1268       24811   \n",
      "Gujarat Lions                       188        5090   \n",
      "Kings XI Punjab                    1453       28326   \n",
      "Kochi Tuskers Kerala                110        1986   \n",
      "Kolkata Knight Riders              1372       27375   \n",
      "Mumbai Indians                     1612       28901   \n",
      "Pune Warriors                       335        6857   \n",
      "Rajasthan Royals                   1245       22657   \n",
      "Rising Pune Supergiant              111        2436   \n",
      "Rising Pune Supergiants             108        2113   \n",
      "Royal Challengers Bangalore        1558       28569   \n",
      "Sunrisers Hyderabad                 656       16683   \n",
      "\n",
      "                                                              player_dismissed  \\\n",
      "bowling_team                                                                     \n",
      "Chennai Super Kings          K GoelJR HopesYuvraj SinghKC SangakkaraL Ronch...   \n",
      "Deccan Chargers              BB McCullumRT PontingWP SahaSC GangulyMohammad...   \n",
      "Delhi Capitals               RG SharmaAS YadavQ de KockKA PollardHH PandyaK...   \n",
      "Delhi Daredevils             CH GayleMandeep SinghSR WatsonSTR BinnyVishnu ...   \n",
      "Gujarat Lions                S DhawanAM RahaneRA TripathiSPD SmithBA Stokes...   \n",
      "Kings XI Punjab              MA AgarwalAM RahaneSPD SmithMS DhoniBA StokesD...   \n",
      "Kochi Tuskers Kerala         TM DilshanV KohliMA AgarwalSS TiwaryJD RyderGC...   \n",
      "Kolkata Knight Riders        JJ RoyBB McCullumAJ FinchKD KarthikPA PatelJC ...   \n",
      "Mumbai Indians               MA AgarwalAM RahaneBA StokesG GambhirRV Uthapp...   \n",
      "Pune Warriors                AC GilchristSE MarshPC ValthatyKD KarthikSunny...   \n",
      "Rajasthan Royals             V SehwagK GoelKC SangakkaraDPMD JayawardeneJR ...   \n",
      "Rising Pune Supergiant       PA PatelRG SharmaJC ButtlerAT RayuduKH PandyaN...   \n",
      "Rising Pune Supergiants      RG SharmaLMP SimmonsHH PandyaJC ButtlerKA Poll...   \n",
      "Royal Challengers Bangalore  DA WarnerS DhawanMC HenriquesYuvraj SinghAP Ta...   \n",
      "Sunrisers Hyderabad          Mandeep SinghCH GayleKM JadhavTM HeadSachin Ba...   \n",
      "\n",
      "                                                                dismissal_kind  \\\n",
      "bowling_team                                                                     \n",
      "Chennai Super Kings          caughtcaughtcaughtcaughtrun outcaughtbowledbow...   \n",
      "Deccan Chargers              caughtlbwcaughtbowledcaughtcaughtcaughtcaughtb...   \n",
      "Delhi Capitals               caughtrun outcaughtcaughtcaughtcaughtcaughtcau...   \n",
      "Delhi Daredevils             caughtbowledstumpedcaughtrun outcaughtbowledbo...   \n",
      "Gujarat Lions                caughtcaughtcaughtcaughtbowledlbwcaughtcaughtb...   \n",
      "Kings XI Punjab              bowledcaughtcaughtcaught and bowledcaught and ...   \n",
      "Kochi Tuskers Kerala         caughtlbwcaughtcaughtcaught and bowledcaughtca...   \n",
      "Kolkata Knight Riders        caughtlbwcaughtcaughtlbwlbwlbwcaughtcaughtcaug...   \n",
      "Mumbai Indians               caughtcaughtcaughtcaughtcaughtlbwcaughtcaughtc...   \n",
      "Pune Warriors                caughtcaughtcaughtcaughtrun outcaughtcaughtcau...   \n",
      "Rajasthan Royals             bowledbowledcaught and bowledstumpedlbwlbwbowl...   \n",
      "Rising Pune Supergiant       bowledbowledlbwcaught and bowledcaughtcaughtca...   \n",
      "Rising Pune Supergiants      lbwbowledcaughtcaughtlbwcaughtcaughtcaughtcaug...   \n",
      "Royal Challengers Bangalore  caughtcaughtcaughtbowledbowledbowledcaughtcaug...   \n",
      "Sunrisers Hyderabad          bowledcaughtrun outcaughtcaughtcaughtcaughtbow...   \n",
      "\n",
      "                                                                       fielder  \n",
      "bowling_team                                                                    \n",
      "Chennai Super Kings          PA PatelJoginder SharmaP AmarnathJoginder Shar...  \n",
      "Deccan Chargers              RG SharmaSB StyrisA SymondsAC GilchristSB Bang...  \n",
      "Delhi Capitals               R TewatiaSS IyerTA BoultR TewatiaAR PatelR Tew...  \n",
      "Delhi Daredevils             SV SamsonRR PantSW BillingsS NadeemCH MorrisSV...  \n",
      "Gujarat Lions                BB McCullumSK RainaAJ FinchAJ FinchBB McCullum...  \n",
      "Kings XI Punjab              MP StoinisM VohraGJ MaxwellGJ MaxwellWP SahaAR...  \n",
      "Kochi Tuskers Kerala         BB McCullumR Vinay KumarDPMD JayawardeneRP Sin...  \n",
      "Kolkata Knight Riders        YK PathanKuldeep YadavKuldeep YadavRV UthappaR...  \n",
      "Mumbai Indians               RG SharmaN RanaTG SoutheeMJ McClenaghanHH Pand...  \n",
      "Pune Warriors                RV UthappaR SharmaJD RyderR SharmaYuvraj Singh...  \n",
      "Rajasthan Royals             Kamran AkmalKamran AkmalRA JadejaKamran AkmalR...  \n",
      "Rising Pune Supergiant       MS DhoniR BhatiaMA AgarwalMS DhoniMK TiwaryBA ...  \n",
      "Rising Pune Supergiants      MS DhoniR AshwinAM RahaneF du PlessisSPD Smith...  \n",
      "Royal Challengers Bangalore  Mandeep SinghSachin BabySachin BabyB StanlakeS...  \n",
      "Sunrisers Hyderabad          DA WarnerBCJ CuttingYuvraj SinghMC HenriquesYu...  \n"
     ]
    }
   ],
   "source": [
    "import pandas as pd\n",
    "df=pd.read_csv(\"/Users/apple/Downloads/deliveries.csv\")\n",
    "#print(df)\n",
    "a=df.groupby([\"bowling_team\"])\n",
    "r=a.sum()\n",
    "print(r)"
   ]
  },
  {
   "cell_type": "code",
   "execution_count": 41,
   "id": "841d4126-fd27-4b84-b72a-883a22d3aa20",
   "metadata": {},
   "outputs": [
    {
     "name": "stdout",
     "output_type": "stream",
     "text": [
      "batsman\n",
      "A Ashish Reddy     196\n",
      "A Chandila           7\n",
      "A Chopra            75\n",
      "A Choudhary         20\n",
      "A Dananjaya          5\n",
      "                  ... \n",
      "YV Takawale        183\n",
      "Yashpal Singh       67\n",
      "Younis Khan          7\n",
      "Yuvraj Singh      2207\n",
      "Z Khan             141\n",
      "Length: 516, dtype: int64\n",
      "(516,)\n"
     ]
    }
   ],
   "source": [
    "import pandas as pd\n",
    "df=pd.read_csv(\"/Users/apple/Downloads/deliveries.csv\")\n",
    "a=df.groupby([\"batsman\"])\n",
    "r=a.size()\n",
    "print(r)\n",
    "print(r.shape)"
   ]
  },
  {
   "cell_type": "code",
   "execution_count": 51,
   "id": "d853140e-5e80-492e-8305-5aa317a85081",
   "metadata": {},
   "outputs": [
    {
     "name": "stdout",
     "output_type": "stream",
     "text": [
      "batting_team\n",
      "Chennai Super Kings            19762\n",
      "Deccan Chargers                 9034\n",
      "Delhi Capitals                  1909\n",
      "Delhi Daredevils               18786\n",
      "Gujarat Lions                   3566\n",
      "Kings XI Punjab                20931\n",
      "Kochi Tuskers Kerala            1582\n",
      "Kolkata Knight Riders          20858\n",
      "Mumbai Indians                 22619\n",
      "Pune Warriors                   5443\n",
      "Rajasthan Royals               17292\n",
      "Rising Pune Supergiant          1900\n",
      "Rising Pune Supergiants         1580\n",
      "Royal Challengers Bangalore    20908\n",
      "Sunrisers Hyderabad            12908\n",
      "dtype: int64\n",
      "\n",
      "(15,)\n",
      "\n",
      "batting_team\n",
      "Rising Pune Supergiants         1580\n",
      "Kochi Tuskers Kerala            1582\n",
      "Rising Pune Supergiant          1900\n",
      "Delhi Capitals                  1909\n",
      "Gujarat Lions                   3566\n",
      "Pune Warriors                   5443\n",
      "Deccan Chargers                 9034\n",
      "Sunrisers Hyderabad            12908\n",
      "Rajasthan Royals               17292\n",
      "Delhi Daredevils               18786\n",
      "Chennai Super Kings            19762\n",
      "Kolkata Knight Riders          20858\n",
      "Royal Challengers Bangalore    20908\n",
      "Kings XI Punjab                20931\n",
      "Mumbai Indians                 22619\n",
      "dtype: int64\n"
     ]
    }
   ],
   "source": [
    "import pandas as pd\n",
    "df=pd.read_csv(\"/Users/apple/Downloads/deliveries.csv\")\n",
    "a=df.groupby([\"batting_team\"])\n",
    "r=a.size()\n",
    "print(r)\n",
    "print()\n",
    "print(r.shape)\n",
    "print()\n",
    "s=r.sort_values()\n",
    "print(s)"
   ]
  },
  {
   "cell_type": "code",
   "execution_count": 12,
   "id": "1dad914b-b2c4-40bf-8c3c-931d7c85de8e",
   "metadata": {},
   "outputs": [
    {
     "name": "stdout",
     "output_type": "stream",
     "text": [
      "non_striker\n",
      "A Ashish Reddy     145\n",
      "A Chandila          13\n",
      "A Chopra            99\n",
      "A Choudhary         21\n",
      "A Dananjaya          4\n",
      "                  ... \n",
      "YV Takawale        142\n",
      "Yashpal Singh       42\n",
      "Younis Khan         14\n",
      "Yuvraj Singh      1985\n",
      "Z Khan             141\n",
      "Length: 511, dtype: int64\n"
     ]
    }
   ],
   "source": [
    "# Get the number of product on count \n",
    "import pandas as pd\n",
    "df=pd.read_csv(\"/Users/apple/Downloads/deliveries.csv\")\n",
    "a=df.groupby([\"non_striker\"])\n",
    "r=a.size()\n",
    "print(r)"
   ]
  },
  {
   "cell_type": "code",
   "execution_count": 55,
   "id": "456e2c68-7e4b-4dd4-b518-09dd171adfbe",
   "metadata": {},
   "outputs": [
    {
     "name": "stdout",
     "output_type": "stream",
     "text": [
      "        TransactionID CustomerID CustomerDOB CustGender   CustLocation  \\\n",
      "0                  T1   C5841053     10/1/94          F     JAMSHEDPUR   \n",
      "1                  T2   C2142763      4/4/57          M        JHAJJAR   \n",
      "2                  T3   C4417068    26/11/96          F         MUMBAI   \n",
      "3                  T4   C5342380     14/9/73          F         MUMBAI   \n",
      "4                  T5   C9031234     24/3/88          F    NAVI MUMBAI   \n",
      "...               ...        ...         ...        ...            ...   \n",
      "1048562      T1048563   C8020229      8/4/90          M      NEW DELHI   \n",
      "1048563      T1048564   C6459278     20/2/92          M         NASHIK   \n",
      "1048564      T1048565   C6412354     18/5/89          M      HYDERABAD   \n",
      "1048565      T1048566   C6420483     30/8/78          M  VISAKHAPATNAM   \n",
      "1048566      T1048567   C8337524      5/3/84          M           PUNE   \n",
      "\n",
      "         CustAccountBalance TransactionDate  TransactionTime  \\\n",
      "0                  17819.05          2/8/16           143207   \n",
      "1                   2270.69          2/8/16           141858   \n",
      "2                  17874.44          2/8/16           142712   \n",
      "3                 866503.21          2/8/16           142714   \n",
      "4                   6714.43          2/8/16           181156   \n",
      "...                     ...             ...              ...   \n",
      "1048562             7635.19         18/9/16           184824   \n",
      "1048563            27311.42         18/9/16           183734   \n",
      "1048564           221757.06         18/9/16           183313   \n",
      "1048565            10117.87         18/9/16           184706   \n",
      "1048566            75734.42         18/9/16           181222   \n",
      "\n",
      "         TransactionAmount (INR)  \n",
      "0                           25.0  \n",
      "1                        27999.0  \n",
      "2                          459.0  \n",
      "3                         2060.0  \n",
      "4                         1762.5  \n",
      "...                          ...  \n",
      "1048562                    799.0  \n",
      "1048563                    460.0  \n",
      "1048564                    770.0  \n",
      "1048565                   1000.0  \n",
      "1048566                   1166.0  \n",
      "\n",
      "[1048567 rows x 9 columns]\n"
     ]
    }
   ],
   "source": [
    "import pandas as pd \n",
    "df=pd.read_csv(\"/Users/apple/Downloads/bank_transactions.csv\")\n",
    "print(df)"
   ]
  },
  {
   "cell_type": "code",
   "execution_count": 58,
   "id": "c95c6044-0776-45e8-8664-e91a6025d7da",
   "metadata": {},
   "outputs": [
    {
     "name": "stdout",
     "output_type": "stream",
     "text": [
      "<pandas.core.groupby.generic.DataFrameGroupBy object at 0x15575cb90>\n"
     ]
    }
   ],
   "source": [
    "import pandas as pd \n",
    "df=pd.read_csv(\"/Users/apple/Downloads/bank_transactions.csv\")\n",
    "cols=[\"TransactionDate\",\"CustLocation\"]\n",
    "group=df.groupby(cols)\n",
    "print(group)"
   ]
  },
  {
   "cell_type": "code",
   "execution_count": 1,
   "id": "837b19f9-3b50-4b8a-8731-6a31d830ee7f",
   "metadata": {},
   "outputs": [
    {
     "name": "stdout",
     "output_type": "stream",
     "text": [
      "TransactionDate  CustLocation                     \n",
      "1/8/16           (E) MUMBAI                            2\n",
      "                 (EAST) MUMBAI                         1\n",
      "                 (MCORP) 1/C NR HOTEL GRANT MUMBAI     1\n",
      "                 (RLY) NAGPUR                          1\n",
      "                 (SUBURBAN) MUMBAI                     1\n",
      "                                                      ..\n",
      "9/9/16           YAMUNANAGAR                          25\n",
      "                 YASHRAJ FILMS STUDIO MUMBAI           1\n",
      "                 YESHWANTHPURA BANGALORE               1\n",
      "                 ZIRAKPUR                             47\n",
      "                 ZIRAKPUR ZIRAKPUR                     1\n",
      "Name: TransactionDate, Length: 86319, dtype: int64\n"
     ]
    }
   ],
   "source": [
    "import pandas as pd \n",
    "df=pd.read_csv(\"/Users/apple/Downloads/bank_transactions.csv\")\n",
    "cols=[\"TransactionDate\",\"CustLocation\"]\n",
    "group=df.groupby(cols)[\"TransactionDate\"]\n",
    "r=group.count()\n",
    "print(r)\n",
    "\n"
   ]
  },
  {
   "cell_type": "code",
   "execution_count": 16,
   "id": "a6e56d01-b6eb-4b68-9e9f-10f76dfbde0e",
   "metadata": {},
   "outputs": [
    {
     "name": "stdout",
     "output_type": "stream",
     "text": [
      "batting_team         batsman             \n",
      "Chennai Super Kings  A Flintoff               57\n",
      "                     A Mukund                  1\n",
      "                     A Nehra                   7\n",
      "                     AS Rajpoot                6\n",
      "                     AT Rayudu               717\n",
      "                                            ... \n",
      "Sunrisers Hyderabad  WP Saha                 163\n",
      "                     X Thalaivan Sargunam     17\n",
      "                     Y Venugopal Rao          65\n",
      "                     YK Pathan               258\n",
      "                     Yuvraj Singh            371\n",
      "Name: batting_team, Length: 935, dtype: int64\n"
     ]
    }
   ],
   "source": [
    "import pandas as pd\n",
    "df=pd.read_csv(\"/Users/apple/Downloads/deliveries.csv\")\n",
    "#print(df)\n",
    "cols=[\"batting_team\",\"batsman\"]\n",
    "r=df.groupby(cols)[\"batting_team\"]\n",
    "rr=r.count()\n",
    "print(rr) "
   ]
  },
  {
   "cell_type": "code",
   "execution_count": 20,
   "id": "fbac6e8a-77a7-4774-a18d-567b07b0ae94",
   "metadata": {},
   "outputs": [
    {
     "name": "stdout",
     "output_type": "stream",
     "text": [
      "batsman         batting_team               \n",
      "A Ashish Reddy  Deccan Chargers                 30\n",
      "                Sunrisers Hyderabad            166\n",
      "A Chandila      Rajasthan Royals                 7\n",
      "A Chopra        Kolkata Knight Riders           75\n",
      "A Choudhary     Royal Challengers Bangalore     20\n",
      "                                              ... \n",
      "Yuvraj Singh    Royal Challengers Bangalore    288\n",
      "                Sunrisers Hyderabad            371\n",
      "Z Khan          Delhi Daredevils                26\n",
      "                Mumbai Indians                  31\n",
      "                Royal Challengers Bangalore     84\n",
      "Name: batsman, Length: 935, dtype: int64\n"
     ]
    }
   ],
   "source": [
    "import pandas as pd\n",
    "df=pd.read_csv(\"/Users/apple/Downloads/deliveries.csv\")\n",
    "#print(df)\n",
    "cols=[\"batsman\",\"batting_team\"]\n",
    "r=df.groupby(cols)[\"batsman\"]\n",
    "a=r.count()\n",
    "print(a) "
   ]
  },
  {
   "cell_type": "code",
   "execution_count": 24,
   "id": "09731026-0318-43b9-98ea-107aae089977",
   "metadata": {},
   "outputs": [
    {
     "name": "stdout",
     "output_type": "stream",
     "text": [
      "batting_team         batsman             \n",
      "Chennai Super Kings  A Flintoff               670\n",
      "                     A Mukund                  20\n",
      "                     A Nehra                  138\n",
      "                     AS Rajpoot               118\n",
      "                     AT Rayudu               7196\n",
      "                                             ... \n",
      "Sunrisers Hyderabad  WP Saha                  880\n",
      "                     X Thalaivan Sargunam     222\n",
      "                     Y Venugopal Rao          821\n",
      "                     YK Pathan               3855\n",
      "                     Yuvraj Singh            5156\n",
      "Name: over, Length: 935, dtype: int64\n"
     ]
    }
   ],
   "source": [
    "import pandas as pd\n",
    "df=pd.read_csv(\"/Users/apple/Downloads/deliveries.csv\")\n",
    "#print(df)\n",
    "cols=[\"batting_team\",\"batsman\"]\n",
    "r=df.groupby(cols)[\"over\"]\n",
    "print(r.sum())\n"
   ]
  },
  {
   "cell_type": "code",
   "execution_count": 30,
   "id": "44efa8fc-142d-430d-b595-888563cfe2bb",
   "metadata": {},
   "outputs": [
    {
     "name": "stdout",
     "output_type": "stream",
     "text": [
      "            batting_team               batsman  over\n",
      "0    Chennai Super Kings            A Flintoff   670\n",
      "1    Chennai Super Kings              A Mukund    20\n",
      "2    Chennai Super Kings               A Nehra   138\n",
      "3    Chennai Super Kings            AS Rajpoot   118\n",
      "4    Chennai Super Kings             AT Rayudu  7196\n",
      "..                   ...                   ...   ...\n",
      "930  Sunrisers Hyderabad               WP Saha   880\n",
      "931  Sunrisers Hyderabad  X Thalaivan Sargunam   222\n",
      "932  Sunrisers Hyderabad       Y Venugopal Rao   821\n",
      "933  Sunrisers Hyderabad             YK Pathan  3855\n",
      "934  Sunrisers Hyderabad          Yuvraj Singh  5156\n",
      "\n",
      "[935 rows x 3 columns]\n",
      "            batting_team               batsman  over\n",
      "0    Chennai Super Kings            A Flintoff    57\n",
      "1    Chennai Super Kings              A Mukund     1\n",
      "2    Chennai Super Kings               A Nehra     7\n",
      "3    Chennai Super Kings            AS Rajpoot     6\n",
      "4    Chennai Super Kings             AT Rayudu   717\n",
      "..                   ...                   ...   ...\n",
      "930  Sunrisers Hyderabad               WP Saha   163\n",
      "931  Sunrisers Hyderabad  X Thalaivan Sargunam    17\n",
      "932  Sunrisers Hyderabad       Y Venugopal Rao    65\n",
      "933  Sunrisers Hyderabad             YK Pathan   258\n",
      "934  Sunrisers Hyderabad          Yuvraj Singh   371\n",
      "\n",
      "[935 rows x 3 columns]\n"
     ]
    }
   ],
   "source": [
    "import pandas as pd\n",
    "df=pd.read_csv(\"/Users/apple/Downloads/deliveries.csv\")\n",
    "#print(df)\n",
    "cols=[\"batting_team\",\"batsman\"]\n",
    "r=df.groupby(cols,as_index=False)[\"over\"]\n",
    "print(r.sum())\n",
    "print(r.count())"
   ]
  },
  {
   "cell_type": "code",
   "execution_count": 39,
   "id": "36836e08-a8af-41d9-9ff5-56af73f67d99",
   "metadata": {},
   "outputs": [
    {
     "name": "stdout",
     "output_type": "stream",
     "text": [
      "            batsman  batsman_runs\n",
      "0    A Ashish Reddy           280\n",
      "1        A Chandila             4\n",
      "2          A Chopra            53\n",
      "3       A Choudhary            25\n",
      "4       A Dananjaya             4\n",
      "..              ...           ...\n",
      "511     YV Takawale           192\n",
      "512   Yashpal Singh            47\n",
      "513     Younis Khan             3\n",
      "514    Yuvraj Singh          2765\n",
      "515          Z Khan           117\n",
      "\n",
      "[516 rows x 2 columns]\n"
     ]
    }
   ],
   "source": [
    "import pandas as pd\n",
    "df=pd.read_csv(\"/Users/apple/Downloads/deliveries.csv\")\n",
    "#print(df)\n",
    "cols=[\"batsman\"]\n",
    "r=df.groupby(cols ,as_index=False)[\"batsman_runs\"]\n",
    "print(r.sum())\n",
    "\n"
   ]
  },
  {
   "cell_type": "code",
   "execution_count": 52,
   "id": "4070185a-e557-4bd0-b3ca-c5015f0708d9",
   "metadata": {},
   "outputs": [
    {
     "name": "stdout",
     "output_type": "stream",
     "text": [
      "count    179078.000000\n",
      "mean          1.246864\n",
      "std           1.608270\n",
      "min           0.000000\n",
      "25%           0.000000\n",
      "50%           1.000000\n",
      "75%           1.000000\n",
      "max           7.000000\n",
      "Name: batsman_runs, dtype: float64\n"
     ]
    }
   ],
   "source": [
    "# describe method\n",
    "import pandas as pd\n",
    "df=pd.read_csv(\"/Users/apple/Downloads/deliveries.csv\")\n",
    "df1=df[\"batsman_runs\"]\n",
    "a=df1.describe()\n",
    "\n",
    "print(a)"
   ]
  },
  {
   "cell_type": "code",
   "execution_count": 57,
   "id": "647652e2-5dc1-47e5-a4f2-1a11226ce417",
   "metadata": {},
   "outputs": [
    {
     "name": "stdout",
     "output_type": "stream",
     "text": [
      "<class 'pandas.core.frame.DataFrame'>\n",
      "RangeIndex: 3547 entries, 0 to 3546\n",
      "Data columns (total 11 columns):\n",
      " #   Column       Non-Null Count  Dtype  \n",
      "---  ------       --------------  -----  \n",
      " 0   hour_of_day  3547 non-null   int64  \n",
      " 1   cash_type    3547 non-null   object \n",
      " 2   money        3547 non-null   float64\n",
      " 3   coffee_name  3547 non-null   object \n",
      " 4   Time_of_Day  3547 non-null   object \n",
      " 5   Weekday      3547 non-null   object \n",
      " 6   Month_name   3547 non-null   object \n",
      " 7   Weekdaysort  3547 non-null   int64  \n",
      " 8   Monthsort    3547 non-null   int64  \n",
      " 9   Date         3547 non-null   object \n",
      " 10  Time         3547 non-null   object \n",
      "dtypes: float64(1), int64(3), object(7)\n",
      "memory usage: 304.9+ KB\n",
      "None\n",
      "   hour_of_day cash_type  money    coffee_name Time_of_Day Weekday Month_name  \\\n",
      "0           10      card   38.7          Latte     Morning     Fri        Mar   \n",
      "1           12      card   38.7  Hot Chocolate   Afternoon     Fri        Mar   \n",
      "2           12      card   38.7  Hot Chocolate   Afternoon     Fri        Mar   \n",
      "3           13      card   28.9      Americano   Afternoon     Fri        Mar   \n",
      "4           13      card   38.7          Latte   Afternoon     Fri        Mar   \n",
      "\n",
      "   Weekdaysort  Monthsort        Date             Time  \n",
      "0            5          3  2024-03-01  10:15:50.520000  \n",
      "1            5          3  2024-03-01  12:19:22.539000  \n",
      "2            5          3  2024-03-01  12:20:18.089000  \n",
      "3            5          3  2024-03-01  13:46:33.006000  \n",
      "4            5          3  2024-03-01  13:48:14.626000  \n"
     ]
    }
   ],
   "source": [
    "import pandas as pd\n",
    "df=pd.read_csv('/Users/apple/Downloads/Coffe_sales (Before).csv.csv')\n",
    "print(df.info())\n",
    "print(df.head())"
   ]
  },
  {
   "cell_type": "code",
   "execution_count": 60,
   "id": "5022ae21-8c41-410b-a40a-e14e164c1f16",
   "metadata": {},
   "outputs": [
    {
     "name": "stdout",
     "output_type": "stream",
     "text": [
      "{'coffee_name': ['Latte'], 'money': <built-in function sum>}\n"
     ]
    }
   ],
   "source": [
    "# Applying a single function to columns in group\n",
    "# sum  => predefined function in python \n",
    "import pandas as pd\n",
    "df=pd.read_csv('/Users/apple/Downloads/Coffe_sales (Before).csv.csv')\n",
    "d={\n",
    "    \"coffee_name\":[\"Latte\"],\n",
    "    \"money\":sum    \n",
    "}\n",
    "print(d)"
   ]
  },
  {
   "cell_type": "code",
   "execution_count": 69,
   "id": "1f5e2934-6316-4431-8be5-d97d1600f8c7",
   "metadata": {},
   "outputs": [
    {
     "name": "stdout",
     "output_type": "stream",
     "text": [
      "                                 money\n",
      "Date       coffee_name                \n",
      "2024-03-01 Americano             28.90\n",
      "           Americano with Milk  135.20\n",
      "           Cocoa                 38.70\n",
      "           Hot Chocolate        116.10\n",
      "           Latte                 77.40\n",
      "...                                ...\n",
      "2025-03-22 Latte                 35.76\n",
      "2025-03-23 Americano             25.96\n",
      "           Cappuccino            35.76\n",
      "           Cocoa                 71.52\n",
      "           Latte                 71.52\n",
      "\n",
      "[1676 rows x 1 columns]\n"
     ]
    }
   ],
   "source": [
    "# Applying a single function to columns in group\n",
    "# sum  => predefined function in python \n",
    "import pandas as pd\n",
    "df=pd.read_csv('/Users/apple/Downloads/Coffe_sales (Before).csv.csv')\n",
    "d={\n",
    "    \"money\":\"sum\"\n",
    "}\n",
    "cols=[\"Date\",\"coffee_name\"]\n",
    "g=df.groupby(cols)\n",
    "r=g.agg(d)\n",
    "print(r)"
   ]
  },
  {
   "cell_type": "code",
   "execution_count": 78,
   "id": "9b108757-7f24-4329-bec9-bd88463c476a",
   "metadata": {},
   "outputs": [
    {
     "name": "stdout",
     "output_type": "stream",
     "text": [
      "                                money  coffee_name\n",
      "Date       coffee_name                            \n",
      "2024-03-01 Americano             28.9            1\n",
      "           Americano with Milk  135.2            4\n",
      "           Cocoa                 38.7            1\n",
      "           Hot Chocolate        116.1            3\n",
      "           Latte                 77.4            2\n",
      "2024-03-02 Americano             86.7            3\n",
      "           Americano with Milk  101.4            3\n",
      "2024-03-03 Americano             28.9            1\n",
      "           Americano with Milk   67.6            2\n",
      "           Cocoa                 38.7            1\n",
      "           Cortado               57.8            2\n",
      "           Hot Chocolate         77.4            2\n",
      "           Latte                 38.7            1\n",
      "2024-03-04 Americano with Milk   33.8            1\n",
      "           Espresso              24.0            1\n",
      "           Latte                 77.4            2\n",
      "2024-03-05 Cocoa                 38.7            1\n",
      "           Cortado               28.9            1\n",
      "           Hot Chocolate        154.8            4\n",
      "           Latte                116.1            3\n"
     ]
    },
    {
     "name": "stderr",
     "output_type": "stream",
     "text": [
      "/var/folders/49/yg3wsvdd3f58h2tww9p8yrn80000gn/T/ipykernel_1775/3400643833.py:11: FutureWarning: The provided callable <built-in function sum> is currently using SeriesGroupBy.sum. In a future version of pandas, the provided callable will be used directly. To keep current behavior pass the string \"sum\" instead.\n",
      "  r=g.agg(d)\n"
     ]
    }
   ],
   "source": [
    "#\n",
    "import pandas as pd\n",
    "df=pd.read_csv('/Users/apple/Downloads/Coffe_sales (Before).csv.csv')\n",
    "d={\n",
    "    \"money\":sum,           # this is predefined by python \n",
    "    \"coffee_name\":\"count\"  # this is predefined by pandas  by using double column \n",
    "}\n",
    "#print(df)\n",
    "cols=[\"Date\",\"coffee_name\"]\n",
    "g=df.groupby(cols)\n",
    "r=g.agg(d)\n",
    "print(r.head(20))"
   ]
  },
  {
   "cell_type": "code",
   "execution_count": null,
   "id": "e1841fce-0933-4aaf-af44-4baaeace508c",
   "metadata": {},
   "outputs": [],
   "source": []
  }
 ],
 "metadata": {
  "kernelspec": {
   "display_name": "Python [conda env:base] *",
   "language": "python",
   "name": "conda-base-py"
  },
  "language_info": {
   "codemirror_mode": {
    "name": "ipython",
    "version": 3
   },
   "file_extension": ".py",
   "mimetype": "text/x-python",
   "name": "python",
   "nbconvert_exporter": "python",
   "pygments_lexer": "ipython3",
   "version": "3.13.5"
  }
 },
 "nbformat": 4,
 "nbformat_minor": 5
}
