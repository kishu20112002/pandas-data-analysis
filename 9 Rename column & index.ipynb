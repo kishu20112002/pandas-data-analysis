{
 "cells": [
  {
   "cell_type": "markdown",
   "id": "8099338b-25aa-406a-ae47-13730cb31551",
   "metadata": {},
   "source": [
    "# DataFrame-Rename column & index\n",
    "- Sometimes we need to process column names and index\n",
    "- Based on Requirement we can rename/change/modify/updatecolumn"
   ]
  },
  {
   "cell_type": "markdown",
   "id": "79669e50-0822-42ad-8ef9-2f981d44a189",
   "metadata": {},
   "source": [
    "### 1. rename(p) method- changing single column name\n",
    "- rename(p) is predefined method in DataFrame\n",
    "- We can access rename() method by using DataFrame object\n",
    "- By using this method We can change single column name in DataFrame."
   ]
  },
  {
   "cell_type": "code",
   "execution_count": 6,
   "id": "dd48cbcc-4c5f-4329-9436-9f7e2ec95f54",
   "metadata": {},
   "outputs": [
    {
     "name": "stdout",
     "output_type": "stream",
     "text": [
      "(1465, 8)\n",
      "\n",
      "Index(['pdt_id', 'pdt_name', 'category', 'dstcount_price', 'actual_price',\n",
      "       'discount_percentage', 'rating', 'rating_count'],\n",
      "      dtype='object')\n",
      "\n",
      "['pdt_id', 'pdt_name', 'category', 'dstcount_price', 'actual_price', 'discount_percentage', 'rating', 'rating_count']\n",
      "\n",
      "<class 'pandas.core.frame.DataFrame'>\n",
      "RangeIndex: 1465 entries, 0 to 1464\n",
      "Data columns (total 8 columns):\n",
      " #   Column               Non-Null Count  Dtype \n",
      "---  ------               --------------  ----- \n",
      " 0   pdt_id               1465 non-null   object\n",
      " 1   pdt_name             1465 non-null   object\n",
      " 2   category             1465 non-null   object\n",
      " 3   dstcount_price       1465 non-null   object\n",
      " 4   actual_price         1465 non-null   object\n",
      " 5   discount_percentage  1465 non-null   object\n",
      " 6   rating               1465 non-null   object\n",
      " 7   rating_count         1463 non-null   object\n",
      "dtypes: object(8)\n",
      "memory usage: 91.7+ KB\n"
     ]
    }
   ],
   "source": [
    "import pandas as pd\n",
    "df=pd.read_csv('/Users/apple/Downloads/amazon copy.csv')\n",
    "print(df.shape)\n",
    "print()\n",
    "print(df.columns)\n",
    "print()\n",
    "print(list(df.columns))\n",
    "print()\n",
    "df.info()"
   ]
  },
  {
   "cell_type": "code",
   "execution_count": 14,
   "id": "ea124c09-e7a5-450c-aa6f-70de22d10396",
   "metadata": {},
   "outputs": [
    {
     "name": "stdout",
     "output_type": "stream",
     "text": [
      "         Dt   Weekly Sl  Temperature  Fl_Price\n",
      "0  05/02/10  1223434.45        42.31     2.572\n",
      "1  12/02/10  1641957.44        38.51     2.548\n",
      "2  19/02/10  1611968.17        39.93     2.514\n",
      "3  26/02/10  1409727.59        46.63     2.561\n",
      "4  05/03/10  1554806.68        46.50     2.625\n",
      "****************************************************************************************************\n",
      "Index(['Dt', 'Weekly Sl', 'Temperature', 'Fl_Price'], dtype='object')\n",
      "****************************************************************************************************\n",
      "      Fl_Price        Dt\n",
      "0        2.572  05/02/10\n",
      "1        2.548  12/02/10\n",
      "2        2.514  19/02/10\n",
      "3        2.561  26/02/10\n",
      "4        2.625  05/03/10\n",
      "...        ...       ...\n",
      "6430     3.997  28/09/12\n",
      "6431     3.985  05/10/12\n",
      "6432     4.000  12/10/12\n",
      "6433     3.969  19/10/12\n",
      "6434     3.882  26/10/12\n",
      "\n",
      "[6435 rows x 2 columns]\n"
     ]
    }
   ],
   "source": [
    "import pandas as pd\n",
    "df=pd.read_csv('/Users/apple/Downloads/Walmart_Sales copy.csv')\n",
    "print(df.head())\n",
    "print(\"*\"*100)\n",
    "print(df.columns)\n",
    "print(\"*\"*100)\n",
    "c=[\"Fl_Price\",\"Dt\"]\n",
    "print(df[c])"
   ]
  },
  {
   "cell_type": "markdown",
   "id": "3d0ff87a-9c05-4982-bb8f-b490772b9f16",
   "metadata": {},
   "source": [
    "# Note\n",
    "- We need to use python dictionary to specify old column as key and new column as value\n",
    "- whenever chaning column then key should be match with column name in DataFrame otherwise changes will not reflects.\n",
    "  "
   ]
  },
  {
   "cell_type": "code",
   "execution_count": 17,
   "id": "d92b4272-242f-4a71-bee5-9541f576b7c2",
   "metadata": {},
   "outputs": [
    {
     "name": "stdout",
     "output_type": "stream",
     "text": [
      "         Dt   Weekly Sl  Temperature  Fl_Price\n",
      "0  05/02/10  1223434.45        42.31     2.572\n",
      "1  12/02/10  1641957.44        38.51     2.548\n",
      "2  19/02/10  1611968.17        39.93     2.514\n",
      "3  26/02/10  1409727.59        46.63     2.561\n",
      "4  05/03/10  1554806.68        46.50     2.625\n",
      "****************************************************************************************************\n",
      "          Date   Weekly Sl  Temperature  Fl_Price\n",
      "0     05/02/10  1223434.45        42.31     2.572\n",
      "1     12/02/10  1641957.44        38.51     2.548\n",
      "2     19/02/10  1611968.17        39.93     2.514\n",
      "3     26/02/10  1409727.59        46.63     2.561\n",
      "4     05/03/10  1554806.68        46.50     2.625\n",
      "...        ...         ...          ...       ...\n",
      "6430  28/09/12   713173.95        64.88     3.997\n",
      "6431  05/10/12   733455.07        64.89     3.985\n",
      "6432  12/10/12   734464.36        54.47     4.000\n",
      "6433  19/10/12   718125.53        56.47     3.969\n",
      "6434  26/10/12   760281.43        58.85     3.882\n",
      "\n",
      "[6435 rows x 4 columns]\n"
     ]
    }
   ],
   "source": [
    "import pandas as pd\n",
    "df=pd.read_csv('/Users/apple/Downloads/Walmart_Sales copy.csv')\n",
    "print(df.head())\n",
    "d={\n",
    "    \"Dt\":\"Date\"\n",
    "}\n",
    "print(\"*\"*100)\n",
    "print(df.rename(columns=d))"
   ]
  },
  {
   "cell_type": "code",
   "execution_count": 20,
   "id": "f5598334-63e8-4da3-91ed-431a3fea4ba1",
   "metadata": {},
   "outputs": [
    {
     "name": "stdout",
     "output_type": "stream",
     "text": [
      "['Store', 'Date', 'Weekly_Sales', 'Holiday_Flag', 'Temperature', 'Fuel_Price', 'CPI', 'Unemployment']\n"
     ]
    }
   ],
   "source": [
    "import pandas as pd\n",
    "df=pd.read_csv(\"/Users/apple/Downloads/Walmart_Sales.csv\")\n",
    "print(list(df.columns))"
   ]
  },
  {
   "cell_type": "code",
   "execution_count": 23,
   "id": "0af1a111-6245-405b-aa28-41d7c65dbb14",
   "metadata": {},
   "outputs": [
    {
     "name": "stdout",
     "output_type": "stream",
     "text": [
      "Index(['Dt', 'Weekly Sl', 'Temperature', 'Fl_Price'], dtype='object')\n",
      "          Date   Weekly Sl  Temperature  Fl_Price\n",
      "0     05/02/10  1223434.45        42.31     2.572\n",
      "1     12/02/10  1641957.44        38.51     2.548\n",
      "2     19/02/10  1611968.17        39.93     2.514\n",
      "3     26/02/10  1409727.59        46.63     2.561\n",
      "4     05/03/10  1554806.68        46.50     2.625\n",
      "...        ...         ...          ...       ...\n",
      "6430  28/09/12   713173.95        64.88     3.997\n",
      "6431  05/10/12   733455.07        64.89     3.985\n",
      "6432  12/10/12   734464.36        54.47     4.000\n",
      "6433  19/10/12   718125.53        56.47     3.969\n",
      "6434  26/10/12   760281.43        58.85     3.882\n",
      "\n",
      "[6435 rows x 4 columns]\n"
     ]
    }
   ],
   "source": [
    "# changeing \n",
    "import pandas as pd\n",
    "df1=pd.read_csv('/Users/apple/Downloads/Walmart_Sales copy.csv')\n",
    "d={\n",
    "    \"Dt\":\"Date\"\n",
    "}\n",
    "print(df.columns)\n",
    "df2=df1.rename(columns=d)"
   ]
  },
  {
   "cell_type": "markdown",
   "id": "0adb815c-2146-4233-a554-370330575843",
   "metadata": {},
   "source": [
    "### 2.rename(p) method-changeing multiple column name\n",
    "- rename(p) is a predefind method in DataFrame\n",
    "- We can access rename() method by using DataFrame object.\n",
    "- We can even change multiple column names by using rename(p) method.\n",
    "- we need to use python dictionary to specify old column ass key and new column as value.\n",
    "  "
   ]
  },
  {
   "cell_type": "code",
   "execution_count": 1,
   "id": "856a965a-0fa6-4a05-bf3b-49c246e4d86d",
   "metadata": {},
   "outputs": [
    {
     "name": "stdout",
     "output_type": "stream",
     "text": [
      "        ddt  weekly_sales  tempercher  fule_price\n",
      "0  05/02/10    1223434.45       42.31       2.572\n",
      "1  12/02/10    1641957.44       38.51       2.548\n",
      "2  19/02/10    1611968.17       39.93       2.514\n",
      "3  26/02/10    1409727.59       46.63       2.561\n",
      "4  05/03/10    1554806.68       46.50       2.625\n",
      "\n",
      "**************************************************\n",
      "\n",
      "        ddt  weekly_sales  tempercher  fule_price\n",
      "0  05/02/10    1223434.45       42.31       2.572\n",
      "1  12/02/10    1641957.44       38.51       2.548\n",
      "2  19/02/10    1611968.17       39.93       2.514\n",
      "3  26/02/10    1409727.59       46.63       2.561\n",
      "4  05/03/10    1554806.68       46.50       2.625\n"
     ]
    }
   ],
   "source": [
    "import pandas as pd    # use in realtime very very imp\n",
    "df1=pd.read_csv('/Users/apple/Downloads/Walmart_Sales copy.csv')\n",
    "d={\n",
    "    \"Weekly Sl\":\"Weekly_Sales\",\n",
    "    \"Fl_Price\":\"Fuel_Price\",\n",
    "    \"Dt\":\"Date\"\n",
    "}\n",
    "print(df1.head())\n",
    "print()\n",
    "print(\"*\"*50)\n",
    "print()\n",
    "df2=df1.rename(columns=d)\n",
    "print(df2.head())"
   ]
  },
  {
   "cell_type": "markdown",
   "id": "601d8aac-66d2-46c0-b3e4-e3f96ec3d2c9",
   "metadata": {},
   "source": [
    "### 3. column attribute - changing multiple column name\n",
    "- columns is predefined attribute in DataFrame class.\n",
    "- we can access column attributes by using DataFrame object.\n",
    "- By using columns attribute we can even change multiple column names.\n",
    "  "
   ]
  },
  {
   "cell_type": "code",
   "execution_count": 44,
   "id": "1d0393f9-1a15-4ede-8260-cfdfaae7b572",
   "metadata": {},
   "outputs": [
    {
     "name": "stdout",
     "output_type": "stream",
     "text": [
      "         Dt   Weekly Sl  Temperature  Fl_Price\n",
      "0  05/02/10  1223434.45        42.31     2.572\n",
      "1  12/02/10  1641957.44        38.51     2.548\n",
      "2  19/02/10  1611968.17        39.93     2.514\n",
      "3  26/02/10  1409727.59        46.63     2.561\n",
      "4  05/03/10  1554806.68        46.50     2.625\n",
      "************************************************************\n",
      "       Date  Weekly_Sales  Temperature  Fuel_Price\n",
      "0  05/02/10    1223434.45        42.31       2.572\n",
      "1  12/02/10    1641957.44        38.51       2.548\n",
      "2  19/02/10    1611968.17        39.93       2.514\n",
      "3  26/02/10    1409727.59        46.63       2.561\n",
      "4  05/03/10    1554806.68        46.50       2.625\n"
     ]
    }
   ],
   "source": [
    "import pandas as pd\n",
    "df=pd.read_csv('/Users/apple/Downloads/Walmart_Sales copy.csv')\n",
    "print(df.head())\n",
    "print(\"*\"*60)\n",
    "df.columns=[\"Date\",\"Weekly_Sales\",\"Temperature\",\"Fuel_Price\"]\n",
    "print(df.head())"
   ]
  },
  {
   "cell_type": "markdown",
   "id": "9698bbfb-e498-4f15-a1c6-0c1b346a68f6",
   "metadata": {},
   "source": [
    "### Note\n",
    "- While using column attributes to change column names then Number of DataFrame column names should be match with existing columns otherwise we will get an error "
   ]
  },
  {
   "cell_type": "code",
   "execution_count": 36,
   "id": "6e67b938-fc80-494a-924c-5e0b274a09d8",
   "metadata": {},
   "outputs": [
    {
     "name": "stdout",
     "output_type": "stream",
     "text": [
      "         Dt   Weekly Sl  Temperature  Fl_Price\n",
      "0  05/02/10  1223434.45        42.31     2.572\n",
      "1  12/02/10  1641957.44        38.51     2.548\n",
      "2  19/02/10  1611968.17        39.93     2.514\n",
      "3  26/02/10  1409727.59        46.63     2.561\n",
      "4  05/03/10  1554806.68        46.50     2.625\n",
      "************************************************************\n",
      "       Date  Weekly_Sales  Temperature  Furl_price\n",
      "0  05/02/10    1223434.45        42.31       2.572\n",
      "1  12/02/10    1641957.44        38.51       2.548\n",
      "2  19/02/10    1611968.17        39.93       2.514\n",
      "3  26/02/10    1409727.59        46.63       2.561\n",
      "4  05/03/10    1554806.68        46.50       2.625\n"
     ]
    }
   ],
   "source": [
    "import pandas as pd\n",
    "df=pd.read_csv('/Users/apple/Downloads/Walmart_Sales copy.csv')\n",
    "print(df.head())\n",
    "print(\"*\"*60)\n",
    "df.columns=[\"Date\",\"Weekly_Sales\",\"Temperature\",\"Furl_price\"]\n",
    "print(df.head())"
   ]
  },
  {
   "cell_type": "markdown",
   "id": "b4dbd556-7298-4c80-8fdc-f6fc1a280064",
   "metadata": {},
   "source": [
    "### 4. rename(p) method - changing index in DataFrame\n",
    "- rename(p) is predefined method in DataFrame\n",
    "- we can access rename() method by using DataFrame object\n",
    "- Based on requirements we can change the DataFrame\n",
    "- by using rename(p) we can change the DataFrame index"
   ]
  },
  {
   "cell_type": "code",
   "execution_count": 54,
   "id": "c12abf8b-281d-4aee-b76f-645f7a0fa8c1",
   "metadata": {},
   "outputs": [
    {
     "name": "stdout",
     "output_type": "stream",
     "text": [
      "   order_id customers_name   product\n",
      "0         1         kishan  iphone11\n",
      "1         3          firoj  iphone12\n",
      "2         4           pika  iphone13\n",
      "3         6           raja  iphone14\n",
      "\n",
      "RangeIndex(start=0, stop=4, step=1)\n"
     ]
    }
   ],
   "source": [
    "import pandas as pd\n",
    "d={\n",
    "    \"order_id\":[1,3,4,6],\n",
    "    \"customers_name\":[\"kishan\",\"firoj\",\"pika\",\"raja\"],\n",
    "    \"product\":[\"iphone11\",\"iphone12\",\"iphone13\",\"iphone14\"]\n",
    "}\n",
    "df1=pd.DataFrame(d)\n",
    "print(df1)\n",
    "print()\n",
    "print(df1.index)\n",
    "\n"
   ]
  },
  {
   "cell_type": "code",
   "execution_count": 16,
   "id": "3b10a935-5d40-4b05-bd9f-e11c1b05789d",
   "metadata": {},
   "outputs": [
    {
     "name": "stdout",
     "output_type": "stream",
     "text": [
      "   order_id customers_name   product\n",
      "0         1         kishan  iphone11\n",
      "1         3          firoj  iphone12\n",
      "2         4           pika  iphone13\n",
      "3         6           raja  iphone14\n",
      "**************************************************\n",
      "     order_id customers_name   product\n",
      "0           1         kishan  iphone11\n",
      "100         3          firoj  iphone12\n",
      "2           4           pika  iphone13\n",
      "300         6           raja  iphone14\n"
     ]
    }
   ],
   "source": [
    "# changing index in DataFrame\n",
    "import pandas as pd\n",
    "d={\n",
    "    \"order_id\":[1,3,4,6],\n",
    "    \"customers_name\":[\"kishan\",\"firoj\",\"pika\",\"raja\"],\n",
    "    \"product\":[\"iphone11\",\"iphone12\",\"iphone13\",\"iphone14\"]\n",
    "}\n",
    "\n",
    "i={\n",
    "    1:100,\n",
    "    3:300,\n",
    "    4:400,\n",
    "    6:600\n",
    "}\n",
    "\n",
    "df1=pd.DataFrame(d)\n",
    "df2=df1.rename(index=i)\n",
    "print(df1)\n",
    "print(\"*\"*50)\n",
    "print(df2)"
   ]
  },
  {
   "cell_type": "code",
   "execution_count": 12,
   "id": "b2278aa4-dddc-4f10-8f25-c9cec29d7453",
   "metadata": {},
   "outputs": [
    {
     "name": "stdout",
     "output_type": "stream",
     "text": [
      "          Date  Weekly_Sales  Temperature  Fuel_Price\n",
      "0     05/02/10    1223434.45        42.31       2.572\n",
      "100   12/02/10    1641957.44        38.51       2.548\n",
      "2     19/02/10    1611968.17        39.93       2.514\n",
      "300   26/02/10    1409727.59        46.63       2.561\n",
      "400   05/03/10    1554806.68        46.50       2.625\n",
      "...        ...           ...          ...         ...\n",
      "6430  28/09/12     713173.95        64.88       3.997\n",
      "6431  05/10/12     733455.07        64.89       3.985\n",
      "6432  12/10/12     734464.36        54.47       4.000\n",
      "6433  19/10/12     718125.53        56.47       3.969\n",
      "6434  26/10/12     760281.43        58.85       3.882\n",
      "\n",
      "[6435 rows x 4 columns]\n"
     ]
    }
   ],
   "source": [
    "import pandas as pd\n",
    "d={\n",
    "    \"order_id\":[1,3,4,6],\n",
    "    \"customers_name\":[\"kishan\",\"firoj\",\"pika\",\"raja\"],\n",
    "    \"product\":[\"iphone11\",\"iphone12\",\"iphone13\",\"iphone14\"]\n",
    "}\n",
    "\n",
    "i={\n",
    "    1:100,\n",
    "    3:300,\n",
    "    4:400,\n",
    "    6:600\n",
    "}\n",
    "df=pd.DataFrame(d)\n",
    "df1=df\n",
    "df1=df2.rename(index=i)\n",
    "print(df1)"
   ]
  },
  {
   "cell_type": "markdown",
   "id": "405ee703-392a-49fb-9cf7-0130294b5465",
   "metadata": {},
   "source": [
    "### 5.Index attribute - changeing multiple column names\n",
    "- index is predefined attribute in DataFrame class\n",
    "- We can access index attributes by using DataFrame object\n",
    "- by using index attribute we can even change in DataFrame"
   ]
  },
  {
   "cell_type": "code",
   "execution_count": 75,
   "id": "6229e20f-d8b7-4856-9d31-b92ad80a7204",
   "metadata": {},
   "outputs": [
    {
     "name": "stdout",
     "output_type": "stream",
     "text": [
      "   order_id customers_name   product\n",
      "0         1         kishan  iphone11\n",
      "1         3          firoj  iphone12\n",
      "2         4           pika  iphone13\n",
      "3         6           raja  iphone14\n",
      "**************************************************\n",
      "     order_id customers_name   product\n",
      "100         1         kishan  iphone11\n",
      "200         3          firoj  iphone12\n",
      "300         4           pika  iphone13\n",
      "400         6           raja  iphone14\n"
     ]
    }
   ],
   "source": [
    "import pandas as pd\n",
    "d={\n",
    "    \"order_id\":[1,3,4,6],\n",
    "    \"customers_name\":[\"kishan\",\"firoj\",\"pika\",\"raja\"],\n",
    "    \"product\":[\"iphone11\",\"iphone12\",\"iphone13\",\"iphone14\"]\n",
    "}\n",
    "df=pd.DataFrame(d)\n",
    "print(df)\n",
    "print(\"*\"*50)\n",
    "df.index=[100,200,300,400]\n",
    "print(df)"
   ]
  },
  {
   "cell_type": "code",
   "execution_count": 22,
   "id": "571fe5c8-6acd-4bf3-8808-f84aacf11455",
   "metadata": {},
   "outputs": [
    {
     "name": "stdout",
     "output_type": "stream",
     "text": [
      "Kishan\n",
      "KISHAN\n",
      "kishan\n"
     ]
    }
   ],
   "source": [
    "s1=\"Kishan\"\n",
    "print(s1)\n",
    "s2=s1.upper()\n",
    "print(s2)\n",
    "s3=s2.lower()\n",
    "print(s3)"
   ]
  },
  {
   "cell_type": "code",
   "execution_count": 86,
   "id": "c3b1bf18-94ee-43fe-a4a3-36e60ea27cd5",
   "metadata": {},
   "outputs": [
    {
     "name": "stdout",
     "output_type": "stream",
     "text": [
      "        ddt  weekly_sales  tempercher  fule_price\n",
      "0  05/02/10    1223434.45       42.31       2.572\n",
      "1  12/02/10    1641957.44       38.51       2.548\n",
      "2  19/02/10    1611968.17       39.93       2.514\n",
      "3  26/02/10    1409727.59       46.63       2.561\n",
      "4  05/03/10    1554806.68       46.50       2.625\n",
      "**************************************************\n"
     ]
    },
    {
     "ename": "ValueError",
     "evalue": "Length mismatch: Expected axis has 6435 elements, new values have 0 elements",
     "output_type": "error",
     "traceback": [
      "\u001b[0;31m---------------------------------------------------------------------------\u001b[0m",
      "\u001b[0;31mValueError\u001b[0m                                Traceback (most recent call last)",
      "Cell \u001b[0;32mIn[86], line 5\u001b[0m\n\u001b[1;32m      3\u001b[0m \u001b[38;5;28mprint\u001b[39m(df1\u001b[38;5;241m.\u001b[39mhead())\n\u001b[1;32m      4\u001b[0m \u001b[38;5;28mprint\u001b[39m(\u001b[38;5;124m\"\u001b[39m\u001b[38;5;124m*\u001b[39m\u001b[38;5;124m\"\u001b[39m\u001b[38;5;241m*\u001b[39m\u001b[38;5;241m50\u001b[39m)\n\u001b[0;32m----> 5\u001b[0m df1\u001b[38;5;241m.\u001b[39mindex\u001b[38;5;241m=\u001b[39m\u001b[38;5;28mrange\u001b[39m(\u001b[38;5;241m1\u001b[39m,\u001b[38;5;241m6434\u001b[39m,\u001b[38;5;241m-\u001b[39m\u001b[38;5;241m1\u001b[39m)\n\u001b[1;32m      6\u001b[0m \u001b[38;5;28mprint\u001b[39m(df\u001b[38;5;241m.\u001b[39mhead(\u001b[38;5;241m10\u001b[39m))\n",
      "File \u001b[0;32m/opt/anaconda3/lib/python3.13/site-packages/pandas/core/generic.py:6313\u001b[0m, in \u001b[0;36mNDFrame.__setattr__\u001b[0;34m(self, name, value)\u001b[0m\n\u001b[1;32m   6311\u001b[0m \u001b[38;5;28;01mtry\u001b[39;00m:\n\u001b[1;32m   6312\u001b[0m     \u001b[38;5;28mobject\u001b[39m\u001b[38;5;241m.\u001b[39m\u001b[38;5;21m__getattribute__\u001b[39m(\u001b[38;5;28mself\u001b[39m, name)\n\u001b[0;32m-> 6313\u001b[0m     \u001b[38;5;28;01mreturn\u001b[39;00m \u001b[38;5;28mobject\u001b[39m\u001b[38;5;241m.\u001b[39m\u001b[38;5;21m__setattr__\u001b[39m(\u001b[38;5;28mself\u001b[39m, name, value)\n\u001b[1;32m   6314\u001b[0m \u001b[38;5;28;01mexcept\u001b[39;00m \u001b[38;5;167;01mAttributeError\u001b[39;00m:\n\u001b[1;32m   6315\u001b[0m     \u001b[38;5;28;01mpass\u001b[39;00m\n",
      "File \u001b[0;32mproperties.pyx:69\u001b[0m, in \u001b[0;36mpandas._libs.properties.AxisProperty.__set__\u001b[0;34m()\u001b[0m\n",
      "File \u001b[0;32m/opt/anaconda3/lib/python3.13/site-packages/pandas/core/generic.py:814\u001b[0m, in \u001b[0;36mNDFrame._set_axis\u001b[0;34m(self, axis, labels)\u001b[0m\n\u001b[1;32m    809\u001b[0m \u001b[38;5;250m\u001b[39m\u001b[38;5;124;03m\"\"\"\u001b[39;00m\n\u001b[1;32m    810\u001b[0m \u001b[38;5;124;03mThis is called from the cython code when we set the `index` attribute\u001b[39;00m\n\u001b[1;32m    811\u001b[0m \u001b[38;5;124;03mdirectly, e.g. `series.index = [1, 2, 3]`.\u001b[39;00m\n\u001b[1;32m    812\u001b[0m \u001b[38;5;124;03m\"\"\"\u001b[39;00m\n\u001b[1;32m    813\u001b[0m labels \u001b[38;5;241m=\u001b[39m ensure_index(labels)\n\u001b[0;32m--> 814\u001b[0m \u001b[38;5;28mself\u001b[39m\u001b[38;5;241m.\u001b[39m_mgr\u001b[38;5;241m.\u001b[39mset_axis(axis, labels)\n\u001b[1;32m    815\u001b[0m \u001b[38;5;28mself\u001b[39m\u001b[38;5;241m.\u001b[39m_clear_item_cache()\n",
      "File \u001b[0;32m/opt/anaconda3/lib/python3.13/site-packages/pandas/core/internals/managers.py:238\u001b[0m, in \u001b[0;36mBaseBlockManager.set_axis\u001b[0;34m(self, axis, new_labels)\u001b[0m\n\u001b[1;32m    236\u001b[0m \u001b[38;5;28;01mdef\u001b[39;00m\u001b[38;5;250m \u001b[39m\u001b[38;5;21mset_axis\u001b[39m(\u001b[38;5;28mself\u001b[39m, axis: AxisInt, new_labels: Index) \u001b[38;5;241m-\u001b[39m\u001b[38;5;241m>\u001b[39m \u001b[38;5;28;01mNone\u001b[39;00m:\n\u001b[1;32m    237\u001b[0m     \u001b[38;5;66;03m# Caller is responsible for ensuring we have an Index object.\u001b[39;00m\n\u001b[0;32m--> 238\u001b[0m     \u001b[38;5;28mself\u001b[39m\u001b[38;5;241m.\u001b[39m_validate_set_axis(axis, new_labels)\n\u001b[1;32m    239\u001b[0m     \u001b[38;5;28mself\u001b[39m\u001b[38;5;241m.\u001b[39maxes[axis] \u001b[38;5;241m=\u001b[39m new_labels\n",
      "File \u001b[0;32m/opt/anaconda3/lib/python3.13/site-packages/pandas/core/internals/base.py:98\u001b[0m, in \u001b[0;36mDataManager._validate_set_axis\u001b[0;34m(self, axis, new_labels)\u001b[0m\n\u001b[1;32m     95\u001b[0m     \u001b[38;5;28;01mpass\u001b[39;00m\n\u001b[1;32m     97\u001b[0m \u001b[38;5;28;01melif\u001b[39;00m new_len \u001b[38;5;241m!=\u001b[39m old_len:\n\u001b[0;32m---> 98\u001b[0m     \u001b[38;5;28;01mraise\u001b[39;00m \u001b[38;5;167;01mValueError\u001b[39;00m(\n\u001b[1;32m     99\u001b[0m         \u001b[38;5;124mf\u001b[39m\u001b[38;5;124m\"\u001b[39m\u001b[38;5;124mLength mismatch: Expected axis has \u001b[39m\u001b[38;5;132;01m{\u001b[39;00mold_len\u001b[38;5;132;01m}\u001b[39;00m\u001b[38;5;124m elements, new \u001b[39m\u001b[38;5;124m\"\u001b[39m\n\u001b[1;32m    100\u001b[0m         \u001b[38;5;124mf\u001b[39m\u001b[38;5;124m\"\u001b[39m\u001b[38;5;124mvalues have \u001b[39m\u001b[38;5;132;01m{\u001b[39;00mnew_len\u001b[38;5;132;01m}\u001b[39;00m\u001b[38;5;124m elements\u001b[39m\u001b[38;5;124m\"\u001b[39m\n\u001b[1;32m    101\u001b[0m     )\n",
      "\u001b[0;31mValueError\u001b[0m: Length mismatch: Expected axis has 6435 elements, new values have 0 elements"
     ]
    }
   ],
   "source": [
    "import pandas as pd\n",
    "df1=pd.read_csv('/Users/apple/Downloads/Walmart_Sales copy.csv')\n",
    "print(df1.head())\n",
    "print(\"*\"*50)\n",
    "df1.index=range(1,6434,-1)\n",
    "print(df.head(10))"
   ]
  },
  {
   "cell_type": "markdown",
   "id": "d43e8dd1-3c8e-4cba-866e-3fa044ba1404",
   "metadata": {},
   "source": [
    "### changing columns and index in DataFrame "
   ]
  },
  {
   "cell_type": "code",
   "execution_count": 51,
   "id": "70fdbe3d-8877-462f-8af5-4587ef778b49",
   "metadata": {},
   "outputs": [
    {
     "name": "stdout",
     "output_type": "stream",
     "text": [
      "         Dt   Weekly Sl  Temperature  Fl_Price\n",
      "0  05/02/10  1223434.45        42.31     2.572\n",
      "1  12/02/10  1641957.44        38.51     2.548\n",
      "2  19/02/10  1611968.17        39.93     2.514\n",
      "3  26/02/10  1409727.59        46.63     2.561\n",
      "4  05/03/10  1554806.68        46.50     2.625\n",
      "\n",
      "        Date  Weekly_Sales  Temperature_id  Fule_price\n",
      "A   05/02/10    1223434.45           42.31       2.572\n",
      "11  12/02/10    1641957.44           38.51       2.548\n",
      "22  19/02/10    1611968.17           39.93       2.514\n",
      "33  26/02/10    1409727.59           46.63       2.561\n",
      "4   05/03/10    1554806.68           46.50       2.625\n"
     ]
    }
   ],
   "source": [
    "import pandas as pd\n",
    "df=pd.read_csv('/Users/apple/Downloads/Walmart_Sales copy.csv')\n",
    "print(df.head())\n",
    "d={\n",
    "    \"Dt\":\"Date\",\n",
    "    \"Weekly Sl\":\"Weekly_Sales\",\n",
    "    \"Temperature\":\"Temperature_id\",\n",
    "    \"Fl_Price\":\"Fule_price\"\n",
    "}\n",
    "\n",
    "i={\n",
    "    0:\"A\",\n",
    "    1:11,\n",
    "    2:22,\n",
    "    3:33\n",
    "}\n",
    "df1=df.rename(columns=d,index=i)\n",
    "print()\n",
    "\n",
    "print(df1.head())"
   ]
  },
  {
   "cell_type": "markdown",
   "id": "f1f2b360-d711-4930-bd3c-e5e2157e9e5a",
   "metadata": {},
   "source": [
    "### 6. Converting column names from lower case to upper case\n",
    "- Based on Requirment we can convert DataFrame column name from lower case to upper case "
   ]
  },
  {
   "cell_type": "code",
   "execution_count": 67,
   "id": "aa8eb107-7430-4d8a-91bd-5063e3c2b4d5",
   "metadata": {},
   "outputs": [
    {
     "name": "stdout",
     "output_type": "stream",
     "text": [
      "        ddt  weekly_sales  tempercher  fule_price\n",
      "0  05/02/10    1223434.45       42.31       2.572\n",
      "1  12/02/10    1641957.44       38.51       2.548\n",
      "2  19/02/10    1611968.17       39.93       2.514\n",
      "3  26/02/10    1409727.59       46.63       2.561\n",
      "4  05/03/10    1554806.68       46.50       2.625\n",
      "**************************************************\n",
      "\n",
      "        DDT  WEEKLY_SALES  TEMPERCHER  FULE_PRICE\n",
      "0  05/02/10    1223434.45       42.31       2.572\n",
      "1  12/02/10    1641957.44       38.51       2.548\n",
      "2  19/02/10    1611968.17       39.93       2.514\n",
      "3  26/02/10    1409727.59       46.63       2.561\n",
      "4  05/03/10    1554806.68       46.50       2.625\n"
     ]
    }
   ],
   "source": [
    "import pandas as pd\n",
    "df=pd.read_csv('/Users/apple/Downloads/Walmart_Sales copy.csv')\n",
    "print(df.head())\n",
    "print(\"*\"*50)\n",
    "print()\n",
    "df.columns=df.columns.str.upper()\n",
    "print(df.head())"
   ]
  },
  {
   "cell_type": "code",
   "execution_count": 70,
   "id": "6c54c743-0eba-4840-bec4-8e55a739b72e",
   "metadata": {},
   "outputs": [
    {
     "name": "stdout",
     "output_type": "stream",
     "text": [
      "['T', '__abs__', '__add__', '__and__', '__annotations__', '__array__', '__array_priority__', '__array_ufunc__', '__array_wrap__', '__bool__', '__class__', '__contains__', '__copy__', '__deepcopy__', '__delattr__', '__dict__', '__dir__', '__divmod__', '__doc__', '__eq__', '__firstlineno__', '__floordiv__', '__format__', '__ge__', '__getattribute__', '__getitem__', '__getstate__', '__gt__', '__hash__', '__iadd__', '__init__', '__init_subclass__', '__invert__', '__iter__', '__le__', '__len__', '__lt__', '__mod__', '__module__', '__mul__', '__ne__', '__neg__', '__new__', '__nonzero__', '__or__', '__pandas_priority__', '__pos__', '__pow__', '__radd__', '__rand__', '__rdivmod__', '__reduce__', '__reduce_ex__', '__repr__', '__rfloordiv__', '__rmod__', '__rmul__', '__ror__', '__rpow__', '__rsub__', '__rtruediv__', '__rxor__', '__setattr__', '__setitem__', '__sizeof__', '__static_attributes__', '__str__', '__sub__', '__subclasshook__', '__truediv__', '__weakref__', '__xor__', '_accessors', '_arith_method', '_assert_can_do_setop', '_attributes', '_cache', '_can_hold_identifiers_and_holds_name', '_can_hold_na', '_can_hold_strings', '_can_use_libjoin', '_check_indexing_error', '_check_indexing_method', '_cleanup', '_cmp_method', '_comparables', '_concat', '_construct_result', '_constructor', '_convert_can_do_setop', '_convert_slice_indexer', '_convert_tolerance', '_data', '_data_cls', '_default_na_rep', '_difference', '_difference_compat', '_dir_additions', '_dir_additions_for_owner', '_dir_deletions', '_drop_level_numbers', '_dti_setop_align_tzs', '_dtype_to_subclass', '_duplicated', '_engine', '_engine_type', '_engine_types', '_ensure_array', '_filter_indexer_tolerance', '_find_common_type_compat', '_format_attrs', '_format_data', '_format_duplicate_message', '_format_flat', '_format_with_header', '_formatter_func', '_from_join_target', '_get_default_index_names', '_get_engine_target', '_get_fill_indexer', '_get_fill_indexer_searchsorted', '_get_indexer', '_get_indexer_non_comparable', '_get_indexer_strict', '_get_join_target', '_get_level_names', '_get_level_number', '_get_level_values', '_get_names', '_get_nearest_indexer', '_get_reconciled_name_object', '_get_string_slice', '_get_values_for_csv', '_getitem_slice', '_hidden_attrs', '_holds_integer', '_id', '_index_as_unique', '_inner_indexer', '_intersection', '_intersection_via_get_indexer', '_is_all_dates', '_is_comparable_dtype', '_is_memory_usage_qualified', '_is_multi', '_is_strictly_monotonic_decreasing', '_is_strictly_monotonic_increasing', '_isnan', '_join_empty', '_join_level', '_join_monotonic', '_join_multi', '_join_non_unique', '_join_via_get_indexer', '_left_indexer', '_left_indexer_unique', '_logical_method', '_map_values', '_maybe_cast_indexer', '_maybe_cast_listlike_indexer', '_maybe_cast_slice_bound', '_maybe_check_unique', '_maybe_disable_logical_methods', '_maybe_disallow_fill', '_maybe_downcast_for_indexing', '_maybe_preserve_names', '_memory_usage', '_mpl_repr', '_na_value', '_name', '_no_setting_name', '_outer_indexer', '_raise_if_missing', '_raise_invalid_indexer', '_raise_scalar_data_error', '_references', '_reindex_non_unique', '_rename', '_requires_unique_msg', '_reset_cache', '_reset_identity', '_searchsorted_monotonic', '_set_names', '_shallow_copy', '_should_compare', '_should_fallback_to_positional', '_should_partial_index', '_simple_new', '_sort_levels_monotonic', '_summary', '_supports_partial_string_indexing', '_transform_index', '_typ', '_unary_method', '_union', '_validate_can_reindex', '_validate_fill_value', '_validate_index_level', '_validate_indexer', '_validate_names', '_validate_positional_slice', '_validate_sort_keyword', '_values', '_view', '_with_infer', '_wrap_difference_result', '_wrap_intersection_result', '_wrap_joined_index', '_wrap_reindex_result', '_wrap_setop_result', 'all', 'any', 'append', 'argmax', 'argmin', 'argsort', 'array', 'asof', 'asof_locs', 'astype', 'copy', 'delete', 'diff', 'difference', 'drop', 'drop_duplicates', 'droplevel', 'dropna', 'dtype', 'duplicated', 'empty', 'equals', 'factorize', 'fillna', 'format', 'get_indexer', 'get_indexer_for', 'get_indexer_non_unique', 'get_level_values', 'get_loc', 'get_slice_bound', 'groupby', 'has_duplicates', 'hasnans', 'holds_integer', 'identical', 'infer_objects', 'inferred_type', 'insert', 'intersection', 'is_', 'is_boolean', 'is_categorical', 'is_floating', 'is_integer', 'is_interval', 'is_monotonic_decreasing', 'is_monotonic_increasing', 'is_numeric', 'is_object', 'is_unique', 'isin', 'isna', 'isnull', 'item', 'join', 'map', 'max', 'memory_usage', 'min', 'name', 'names', 'nbytes', 'ndim', 'nlevels', 'notna', 'notnull', 'nunique', 'putmask', 'ravel', 'reindex', 'rename', 'repeat', 'round', 'searchsorted', 'set_names', 'shape', 'shift', 'size', 'slice_indexer', 'slice_locs', 'sort', 'sort_values', 'sortlevel', 'str', 'symmetric_difference', 'take', 'to_flat_index', 'to_frame', 'to_list', 'to_numpy', 'to_series', 'transpose', 'union', 'unique', 'value_counts', 'values', 'view', 'where']\n"
     ]
    }
   ],
   "source": [
    "print(dir(df.columns))"
   ]
  },
  {
   "cell_type": "code",
   "execution_count": null,
   "id": "28fb159f-fab6-4f59-a31a-b592ca65fc0e",
   "metadata": {},
   "outputs": [],
   "source": []
  },
  {
   "cell_type": "code",
   "execution_count": null,
   "id": "c4d5a1aa-be4e-4fe6-a053-2d84689a1dfa",
   "metadata": {},
   "outputs": [],
   "source": []
  },
  {
   "cell_type": "markdown",
   "id": "310791dd-1dee-4778-bc68-2c0a7e5c0e37",
   "metadata": {},
   "source": [
    "# summary\n"
   ]
  },
  {
   "cell_type": "markdown",
   "id": "0481679a-982b-428e-a4c9-121a49493ce4",
   "metadata": {},
   "source": [
    "- columns =\n",
    "          1. df.rename()method\n",
    "          2. df.columns attribute\n",
    "- index = \n",
    "        1. df.rename() method\n",
    "        2. df.index attribute\n",
    "        "
   ]
  },
  {
   "cell_type": "code",
   "execution_count": null,
   "id": "e017c3bd-bec7-46db-b9a5-0b5acf3b97cf",
   "metadata": {},
   "outputs": [],
   "source": []
  }
 ],
 "metadata": {
  "kernelspec": {
   "display_name": "Python [conda env:base] *",
   "language": "python",
   "name": "conda-base-py"
  },
  "language_info": {
   "codemirror_mode": {
    "name": "ipython",
    "version": 3
   },
   "file_extension": ".py",
   "mimetype": "text/x-python",
   "name": "python",
   "nbconvert_exporter": "python",
   "pygments_lexer": "ipython3",
   "version": "3.13.5"
  }
 },
 "nbformat": 4,
 "nbformat_minor": 5
}
